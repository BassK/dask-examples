{
 "cells": [
  {
   "cell_type": "markdown",
   "metadata": {},
   "source": [
    "# Dask Bags\n",
    "\n",
    "\n",
    "Dask Bag implements operations like `map`, `filter`, `groupby` and aggregations on collections of Python objects. It does this in parallel and in small memory using Python iterators. It is similar to a parallel version of itertools or a Pythonic version of the PySpark RDD.\n",
    "\n",
    "Dask Bags are often used to do simple preprocessing on log files, JSON records, or other user defined Python objects.\n",
    "\n",
    "Full API documentation is available here: http://docs.dask.org/en/latest/bag-api.html"
   ]
  },
  {
   "cell_type": "markdown",
   "metadata": {},
   "source": [
    "## Start Dask Client for Dashboard\n",
    "\n",
    "Starting the Dask Client is optional.  It will provide a dashboard which \n",
    "is useful to gain insight on the computation.  \n",
    "\n",
    "The link to the dashboard will become visible when you create the client below.  We recommend having it open on one side of your screen while using your notebook on the other side.  This can take some effort to arrange your windows, but seeing them both at the same is very useful when learning."
   ]
  },
  {
   "cell_type": "code",
   "execution_count": 1,
   "metadata": {},
   "outputs": [
    {
     "data": {
      "text/html": [
       "<table style=\"border: 2px solid white;\">\n",
       "<tr>\n",
       "<td style=\"vertical-align: top; border: 0px solid white\">\n",
       "<h3 style=\"text-align: left;\">Client</h3>\n",
       "<ul style=\"text-align: left; list-style: none; margin: 0; padding: 0;\">\n",
       "  <li><b>Scheduler: </b>tcp://127.0.0.1:43933</li>\n",
       "  <li><b>Dashboard: </b><a href='http://127.0.0.1:8787/status' target='_blank'>http://127.0.0.1:8787/status</a></li>\n",
       "</ul>\n",
       "</td>\n",
       "<td style=\"vertical-align: top; border: 0px solid white\">\n",
       "<h3 style=\"text-align: left;\">Cluster</h3>\n",
       "<ul style=\"text-align: left; list-style:none; margin: 0; padding: 0;\">\n",
       "  <li><b>Workers: </b>4</li>\n",
       "  <li><b>Cores: </b>4</li>\n",
       "  <li><b>Memory: </b>8.36 GB</li>\n",
       "</ul>\n",
       "</td>\n",
       "</tr>\n",
       "</table>"
      ],
      "text/plain": [
       "<Client: 'tcp://127.0.0.1:43933' processes=4 threads=4, memory=8.36 GB>"
      ]
     },
     "execution_count": 1,
     "metadata": {},
     "output_type": "execute_result"
    }
   ],
   "source": [
    "from dask.distributed import Client, progress\n",
    "client = Client(n_workers=4, threads_per_worker=1)\n",
    "client"
   ]
  },
  {
   "cell_type": "markdown",
   "metadata": {},
   "source": [
    "## Create Random Data\n",
    "\n",
    "We create a random set of record data and store it to disk as many JSON files.  This will serve as our data for this notebook."
   ]
  },
  {
   "cell_type": "code",
   "execution_count": 2,
   "metadata": {},
   "outputs": [
    {
     "data": {
      "text/plain": [
       "['/home/travis/build/dask/dask-examples/data/0.json',\n",
       " '/home/travis/build/dask/dask-examples/data/1.json',\n",
       " '/home/travis/build/dask/dask-examples/data/2.json',\n",
       " '/home/travis/build/dask/dask-examples/data/3.json',\n",
       " '/home/travis/build/dask/dask-examples/data/4.json',\n",
       " '/home/travis/build/dask/dask-examples/data/5.json',\n",
       " '/home/travis/build/dask/dask-examples/data/6.json',\n",
       " '/home/travis/build/dask/dask-examples/data/7.json',\n",
       " '/home/travis/build/dask/dask-examples/data/8.json',\n",
       " '/home/travis/build/dask/dask-examples/data/9.json']"
      ]
     },
     "execution_count": 2,
     "metadata": {},
     "output_type": "execute_result"
    }
   ],
   "source": [
    "import dask\n",
    "import json\n",
    "import os\n",
    "\n",
    "os.makedirs('data', exist_ok=True)              # Create data/ directory\n",
    "\n",
    "b = dask.datasets.make_people()                 # Make records of people\n",
    "b.map(json.dumps).to_textfiles('data/*.json')   # Encode as JSON, write to disk"
   ]
  },
  {
   "cell_type": "markdown",
   "metadata": {},
   "source": [
    "## Read JSON data\n",
    "\n",
    "Now that we have some JSON data in a file lets take a look at it with Dask Bag and Python JSON module."
   ]
  },
  {
   "cell_type": "code",
   "execution_count": 3,
   "metadata": {},
   "outputs": [
    {
     "name": "stdout",
     "output_type": "stream",
     "text": [
      "{\"age\": 39, \"name\": [\"Wilfredo\", \"Silva\"], \"occupation\": \"Farmer\", \"telephone\": \"(489) 718-1463\", \"address\": {\"address\": \"760 Russia Drive\", \"city\": \"Allen Park\"}, \"credit-card\": {\"number\": \"4890 7910 1700 3335\", \"expiration-date\": \"05/23\"}}\r\n",
      "{\"age\": 25, \"name\": [\"Erline\", \"Sloan\"], \"occupation\": \"Chandler\", \"telephone\": \"+1-(404)-661-5342\", \"address\": {\"address\": \"234 Shaw Brae\", \"city\": \"Wyoming\"}, \"credit-card\": {\"number\": \"3452 021586 06729\", \"expiration-date\": \"07/25\"}}\r\n"
     ]
    }
   ],
   "source": [
    "!head -n 2 data/0.json"
   ]
  },
  {
   "cell_type": "code",
   "execution_count": 4,
   "metadata": {},
   "outputs": [
    {
     "data": {
      "text/plain": [
       "dask.bag<loads, npartitions=10>"
      ]
     },
     "execution_count": 4,
     "metadata": {},
     "output_type": "execute_result"
    }
   ],
   "source": [
    "import dask.bag as db\n",
    "import json\n",
    "\n",
    "b = db.read_text('data/*.json').map(json.loads)\n",
    "b"
   ]
  },
  {
   "cell_type": "code",
   "execution_count": 5,
   "metadata": {},
   "outputs": [
    {
     "data": {
      "text/plain": [
       "({'age': 39,\n",
       "  'name': ['Wilfredo', 'Silva'],\n",
       "  'occupation': 'Farmer',\n",
       "  'telephone': '(489) 718-1463',\n",
       "  'address': {'address': '760 Russia Drive', 'city': 'Allen Park'},\n",
       "  'credit-card': {'number': '4890 7910 1700 3335',\n",
       "   'expiration-date': '05/23'}},\n",
       " {'age': 25,\n",
       "  'name': ['Erline', 'Sloan'],\n",
       "  'occupation': 'Chandler',\n",
       "  'telephone': '+1-(404)-661-5342',\n",
       "  'address': {'address': '234 Shaw Brae', 'city': 'Wyoming'},\n",
       "  'credit-card': {'number': '3452 021586 06729', 'expiration-date': '07/25'}})"
      ]
     },
     "execution_count": 5,
     "metadata": {},
     "output_type": "execute_result"
    }
   ],
   "source": [
    "b.take(2)"
   ]
  },
  {
   "cell_type": "markdown",
   "metadata": {},
   "source": [
    "## Map, Filter, Aggregate\n",
    "\n",
    "We can process this data by filtering out only certain records of interest, mapping functions over it to process our data, and aggregating those results to a total value."
   ]
  },
  {
   "cell_type": "code",
   "execution_count": 6,
   "metadata": {},
   "outputs": [
    {
     "data": {
      "text/plain": [
       "({'age': 39,\n",
       "  'name': ['Wilfredo', 'Silva'],\n",
       "  'occupation': 'Farmer',\n",
       "  'telephone': '(489) 718-1463',\n",
       "  'address': {'address': '760 Russia Drive', 'city': 'Allen Park'},\n",
       "  'credit-card': {'number': '4890 7910 1700 3335',\n",
       "   'expiration-date': '05/23'}},\n",
       " {'age': 50,\n",
       "  'name': ['Spencer', 'Wood'],\n",
       "  'occupation': 'Research Director',\n",
       "  'telephone': '(431) 111-2477',\n",
       "  'address': {'address': '1375 Eldridge Park', 'city': 'Coachella'},\n",
       "  'credit-card': {'number': '4142 6029 2679 1462',\n",
       "   'expiration-date': '07/17'}})"
      ]
     },
     "execution_count": 6,
     "metadata": {},
     "output_type": "execute_result"
    }
   ],
   "source": [
    "b.filter(lambda record: record['age'] > 30).take(2)  # Select only people over 30"
   ]
  },
  {
   "cell_type": "code",
   "execution_count": 7,
   "metadata": {},
   "outputs": [
    {
     "data": {
      "text/plain": [
       "('Farmer', 'Chandler')"
      ]
     },
     "execution_count": 7,
     "metadata": {},
     "output_type": "execute_result"
    }
   ],
   "source": [
    "b.map(lambda record: record['occupation']).take(2)  # Select the occupation field"
   ]
  },
  {
   "cell_type": "code",
   "execution_count": 8,
   "metadata": {},
   "outputs": [
    {
     "data": {
      "text/plain": [
       "10000"
      ]
     },
     "execution_count": 8,
     "metadata": {},
     "output_type": "execute_result"
    }
   ],
   "source": [
    "b.count().compute()  # Count total number of records"
   ]
  },
  {
   "cell_type": "markdown",
   "metadata": {},
   "source": [
    "## Chain computations\n",
    "\n",
    "It is common to do many of these steps in one pipeline, only calling `compute` or `take` at the end."
   ]
  },
  {
   "cell_type": "code",
   "execution_count": 9,
   "metadata": {},
   "outputs": [
    {
     "data": {
      "text/plain": [
       "dask.bag<topk-aggregate, npartitions=1>"
      ]
     },
     "execution_count": 9,
     "metadata": {},
     "output_type": "execute_result"
    }
   ],
   "source": [
    "result = (b.filter(lambda record: record['age'] > 30)\n",
    "           .map(lambda record: record['occupation'])\n",
    "           .frequencies(sort=True)\n",
    "           .topk(10, key=1))\n",
    "result"
   ]
  },
  {
   "cell_type": "markdown",
   "metadata": {},
   "source": [
    "As with all lazy Dask collections, we need to call `compute` to actually evaluate our result.  The `take` method used in earlier examples is also like `compute` and will also trigger computation."
   ]
  },
  {
   "cell_type": "code",
   "execution_count": 10,
   "metadata": {},
   "outputs": [
    {
     "data": {
      "text/plain": [
       "[('Hairdresser', 18),\n",
       " ('Kennel Hand', 15),\n",
       " ('Psychoanalyst', 15),\n",
       " ('Plant Manager', 14),\n",
       " ('Marketing Coordinator', 14),\n",
       " ('Undertaker', 14),\n",
       " ('Bank Messenger', 14),\n",
       " ('Technical Instructor', 14),\n",
       " ('Licensed Premises', 13),\n",
       " ('Beauty Therapist', 13)]"
      ]
     },
     "execution_count": 10,
     "metadata": {},
     "output_type": "execute_result"
    }
   ],
   "source": [
    "result.compute()"
   ]
  },
  {
   "cell_type": "markdown",
   "metadata": {},
   "source": [
    "## Transform and Store\n",
    "\n",
    "Sometimes we want to compute aggregations as above, but sometimes we want to store results to disk for future analyses.  For that we can use methods like `to_textfiles` and `json.dumps`, or we can convert to Dask Dataframes and use their storage systems, which we'll see more of in the next section."
   ]
  },
  {
   "cell_type": "code",
   "execution_count": 11,
   "metadata": {},
   "outputs": [
    {
     "data": {
      "text/plain": [
       "['/home/travis/build/dask/dask-examples/data/processed.0.json',\n",
       " '/home/travis/build/dask/dask-examples/data/processed.1.json',\n",
       " '/home/travis/build/dask/dask-examples/data/processed.2.json',\n",
       " '/home/travis/build/dask/dask-examples/data/processed.3.json',\n",
       " '/home/travis/build/dask/dask-examples/data/processed.4.json',\n",
       " '/home/travis/build/dask/dask-examples/data/processed.5.json',\n",
       " '/home/travis/build/dask/dask-examples/data/processed.6.json',\n",
       " '/home/travis/build/dask/dask-examples/data/processed.7.json',\n",
       " '/home/travis/build/dask/dask-examples/data/processed.8.json',\n",
       " '/home/travis/build/dask/dask-examples/data/processed.9.json']"
      ]
     },
     "execution_count": 11,
     "metadata": {},
     "output_type": "execute_result"
    }
   ],
   "source": [
    "(b.filter(lambda record: record['age'] > 30)  # Select records of interest\n",
    "  .map(json.dumps)                            # Convert Python objects to text\n",
    "  .to_textfiles('data/processed.*.json'))     # Write to local disk"
   ]
  },
  {
   "cell_type": "markdown",
   "metadata": {},
   "source": [
    "## Convert to Dask Dataframes\n",
    "\n",
    "Dask Bags are good for reading in initial data, doing a bit of pre-processing, and then handing off to some other more efficient form like Dask Dataframes.  Dask Dataframes use Pandas internally, and so can be much faster on numeric data and also have more complex algorithms.  \n",
    "\n",
    "However, Dask Dataframes also expect data that is organized as flat columns.  It does not support nested JSON data very well (Bag is better for this).\n",
    "\n",
    "Here we make a function to flatten down our nested data structure, map that across our records, and then convert that to a Dask Dataframe."
   ]
  },
  {
   "cell_type": "code",
   "execution_count": 12,
   "metadata": {},
   "outputs": [
    {
     "data": {
      "text/plain": [
       "({'age': 39,\n",
       "  'name': ['Wilfredo', 'Silva'],\n",
       "  'occupation': 'Farmer',\n",
       "  'telephone': '(489) 718-1463',\n",
       "  'address': {'address': '760 Russia Drive', 'city': 'Allen Park'},\n",
       "  'credit-card': {'number': '4890 7910 1700 3335',\n",
       "   'expiration-date': '05/23'}},)"
      ]
     },
     "execution_count": 12,
     "metadata": {},
     "output_type": "execute_result"
    }
   ],
   "source": [
    "b.take(1)"
   ]
  },
  {
   "cell_type": "code",
   "execution_count": 13,
   "metadata": {},
   "outputs": [
    {
     "data": {
      "text/plain": [
       "({'age': 39,\n",
       "  'occupation': 'Farmer',\n",
       "  'telephone': '(489) 718-1463',\n",
       "  'credit-card-number': '4890 7910 1700 3335',\n",
       "  'credit-card-expiration': '05/23',\n",
       "  'name': 'Wilfredo Silva',\n",
       "  'street-address': '760 Russia Drive',\n",
       "  'city': 'Allen Park'},)"
      ]
     },
     "execution_count": 13,
     "metadata": {},
     "output_type": "execute_result"
    }
   ],
   "source": [
    "def flatten(record):\n",
    "    return {\n",
    "        'age': record['age'],\n",
    "        'occupation': record['occupation'],\n",
    "        'telephone': record['telephone'],\n",
    "        'credit-card-number': record['credit-card']['number'],\n",
    "        'credit-card-expiration': record['credit-card']['expiration-date'],\n",
    "        'name': ' '.join(record['name']),\n",
    "        'street-address': record['address']['address'],\n",
    "        'city': record['address']['city']   \n",
    "    }\n",
    "\n",
    "b.map(flatten).take(1)"
   ]
  },
  {
   "cell_type": "code",
   "execution_count": 14,
   "metadata": {},
   "outputs": [
    {
     "data": {
      "text/html": [
       "<div>\n",
       "<style scoped>\n",
       "    .dataframe tbody tr th:only-of-type {\n",
       "        vertical-align: middle;\n",
       "    }\n",
       "\n",
       "    .dataframe tbody tr th {\n",
       "        vertical-align: top;\n",
       "    }\n",
       "\n",
       "    .dataframe thead th {\n",
       "        text-align: right;\n",
       "    }\n",
       "</style>\n",
       "<table border=\"1\" class=\"dataframe\">\n",
       "  <thead>\n",
       "    <tr style=\"text-align: right;\">\n",
       "      <th></th>\n",
       "      <th>age</th>\n",
       "      <th>occupation</th>\n",
       "      <th>telephone</th>\n",
       "      <th>credit-card-number</th>\n",
       "      <th>credit-card-expiration</th>\n",
       "      <th>name</th>\n",
       "      <th>street-address</th>\n",
       "      <th>city</th>\n",
       "    </tr>\n",
       "  </thead>\n",
       "  <tbody>\n",
       "    <tr>\n",
       "      <th>0</th>\n",
       "      <td>39</td>\n",
       "      <td>Farmer</td>\n",
       "      <td>(489) 718-1463</td>\n",
       "      <td>4890 7910 1700 3335</td>\n",
       "      <td>05/23</td>\n",
       "      <td>Wilfredo Silva</td>\n",
       "      <td>760 Russia Drive</td>\n",
       "      <td>Allen Park</td>\n",
       "    </tr>\n",
       "    <tr>\n",
       "      <th>1</th>\n",
       "      <td>25</td>\n",
       "      <td>Chandler</td>\n",
       "      <td>+1-(404)-661-5342</td>\n",
       "      <td>3452 021586 06729</td>\n",
       "      <td>07/25</td>\n",
       "      <td>Erline Sloan</td>\n",
       "      <td>234 Shaw Brae</td>\n",
       "      <td>Wyoming</td>\n",
       "    </tr>\n",
       "    <tr>\n",
       "      <th>2</th>\n",
       "      <td>27</td>\n",
       "      <td>Lumberjack</td>\n",
       "      <td>(793) 041-7129</td>\n",
       "      <td>4001 7633 2769 3515</td>\n",
       "      <td>12/25</td>\n",
       "      <td>Marcel Morgan</td>\n",
       "      <td>92 Forest Hill Gate</td>\n",
       "      <td>Santa Monica</td>\n",
       "    </tr>\n",
       "    <tr>\n",
       "      <th>3</th>\n",
       "      <td>22</td>\n",
       "      <td>Legal Assistant</td>\n",
       "      <td>431-149-6381</td>\n",
       "      <td>2413 7521 1311 8833</td>\n",
       "      <td>03/20</td>\n",
       "      <td>Verlene Marquez</td>\n",
       "      <td>386 Latona Terrace</td>\n",
       "      <td>Tucson</td>\n",
       "    </tr>\n",
       "    <tr>\n",
       "      <th>4</th>\n",
       "      <td>50</td>\n",
       "      <td>Research Director</td>\n",
       "      <td>(431) 111-2477</td>\n",
       "      <td>4142 6029 2679 1462</td>\n",
       "      <td>07/17</td>\n",
       "      <td>Spencer Wood</td>\n",
       "      <td>1375 Eldridge Park</td>\n",
       "      <td>Coachella</td>\n",
       "    </tr>\n",
       "  </tbody>\n",
       "</table>\n",
       "</div>"
      ],
      "text/plain": [
       "   age         occupation          telephone   credit-card-number  \\\n",
       "0   39             Farmer     (489) 718-1463  4890 7910 1700 3335   \n",
       "1   25           Chandler  +1-(404)-661-5342    3452 021586 06729   \n",
       "2   27         Lumberjack     (793) 041-7129  4001 7633 2769 3515   \n",
       "3   22    Legal Assistant       431-149-6381  2413 7521 1311 8833   \n",
       "4   50  Research Director     (431) 111-2477  4142 6029 2679 1462   \n",
       "\n",
       "  credit-card-expiration             name       street-address          city  \n",
       "0                  05/23   Wilfredo Silva     760 Russia Drive    Allen Park  \n",
       "1                  07/25     Erline Sloan        234 Shaw Brae       Wyoming  \n",
       "2                  12/25    Marcel Morgan  92 Forest Hill Gate  Santa Monica  \n",
       "3                  03/20  Verlene Marquez   386 Latona Terrace        Tucson  \n",
       "4                  07/17     Spencer Wood   1375 Eldridge Park     Coachella  "
      ]
     },
     "execution_count": 14,
     "metadata": {},
     "output_type": "execute_result"
    }
   ],
   "source": [
    "df = b.map(flatten).to_dataframe()\n",
    "df.head()"
   ]
  },
  {
   "cell_type": "markdown",
   "metadata": {},
   "source": [
    "We can now perform the same computation as before, but now using Pandas and Dask dataframe."
   ]
  },
  {
   "cell_type": "code",
   "execution_count": 15,
   "metadata": {},
   "outputs": [
    {
     "data": {
      "text/plain": [
       "Hairdresser              18\n",
       "Psychoanalyst            15\n",
       "Kennel Hand              15\n",
       "Marketing Coordinator    14\n",
       "Undertaker               14\n",
       "Plant Manager            14\n",
       "Technical Instructor     14\n",
       "Bank Messenger           14\n",
       "Travel Clerk             13\n",
       "Training Co-ordinator    13\n",
       "Name: occupation, dtype: int64"
      ]
     },
     "execution_count": 15,
     "metadata": {},
     "output_type": "execute_result"
    }
   ],
   "source": [
    "df[df.age > 30].occupation.value_counts().nlargest(10).compute()"
   ]
  },
  {
   "cell_type": "markdown",
   "metadata": {},
   "source": [
    "## Learn More\n",
    "\n",
    "You may be interested in the following links:\n",
    "\n",
    "-  [Dask Bag Documentation](https://docs.dask.org/en/latest/bag.html)\n",
    "-  [API Documentation](http://docs.dask.org/en/latest/bag-api.html)\n",
    "-  [dask tutorial](https://github.com/dask/dask-tutorial), notebook 02, for a more in-depth introduction."
   ]
  }
 ],
 "metadata": {
  "kernelspec": {
   "display_name": "Python 3",
   "language": "python",
   "name": "python3"
  },
  "language_info": {
   "codemirror_mode": {
    "name": "ipython",
    "version": 3
   },
   "file_extension": ".py",
   "mimetype": "text/x-python",
   "name": "python",
   "nbconvert_exporter": "python",
   "pygments_lexer": "ipython3",
   "version": "3.8.5"
  }
 },
 "nbformat": 4,
 "nbformat_minor": 2
}
