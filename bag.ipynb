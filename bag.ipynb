{
 "cells": [
  {
   "cell_type": "markdown",
   "metadata": {},
   "source": [
    "# Dask Bags\n",
    "\n",
    "\n",
    "Dask Bag implements operations like `map`, `filter`, `groupby` and aggregations on collections of Python objects. It does this in parallel and in small memory using Python iterators. It is similar to a parallel version of itertools or a Pythonic version of the PySpark RDD.\n",
    "\n",
    "Dask Bags are often used to do simple preprocessing on log files, JSON records, or other user defined Python objects.\n",
    "\n",
    "Full API documentation is available here: http://docs.dask.org/en/latest/bag-api.html"
   ]
  },
  {
   "cell_type": "markdown",
   "metadata": {},
   "source": [
    "## Start Dask Client for Dashboard\n",
    "\n",
    "Starting the Dask Client is optional.  It will provide a dashboard which \n",
    "is useful to gain insight on the computation.  \n",
    "\n",
    "The link to the dashboard will become visible when you create the client below.  We recommend having it open on one side of your screen while using your notebook on the other side.  This can take some effort to arrange your windows, but seeing them both at the same is very useful when learning."
   ]
  },
  {
   "cell_type": "code",
   "execution_count": 1,
   "metadata": {
    "execution": {
     "iopub.execute_input": "2021-01-02T05:58:25.341985Z",
     "iopub.status.busy": "2021-01-02T05:58:25.341554Z",
     "iopub.status.idle": "2021-01-02T05:58:27.202410Z",
     "shell.execute_reply": "2021-01-02T05:58:27.202789Z"
    }
   },
   "outputs": [
    {
     "data": {
      "text/html": [
       "<table style=\"border: 2px solid white;\">\n",
       "<tr>\n",
       "<td style=\"vertical-align: top; border: 0px solid white\">\n",
       "<h3 style=\"text-align: left;\">Client</h3>\n",
       "<ul style=\"text-align: left; list-style: none; margin: 0; padding: 0;\">\n",
       "  <li><b>Scheduler: </b>tcp://127.0.0.1:44513</li>\n",
       "  <li><b>Dashboard: </b><a href='http://127.0.0.1:8787/status' target='_blank'>http://127.0.0.1:8787/status</a></li>\n",
       "</ul>\n",
       "</td>\n",
       "<td style=\"vertical-align: top; border: 0px solid white\">\n",
       "<h3 style=\"text-align: left;\">Cluster</h3>\n",
       "<ul style=\"text-align: left; list-style:none; margin: 0; padding: 0;\">\n",
       "  <li><b>Workers: </b>4</li>\n",
       "  <li><b>Cores: </b>4</li>\n",
       "  <li><b>Memory: </b>7.29 GB</li>\n",
       "</ul>\n",
       "</td>\n",
       "</tr>\n",
       "</table>"
      ],
      "text/plain": [
       "<Client: 'tcp://127.0.0.1:44513' processes=4 threads=4, memory=7.29 GB>"
      ]
     },
     "execution_count": 1,
     "metadata": {},
     "output_type": "execute_result"
    }
   ],
   "source": [
    "from dask.distributed import Client, progress\n",
    "client = Client(n_workers=4, threads_per_worker=1)\n",
    "client"
   ]
  },
  {
   "cell_type": "markdown",
   "metadata": {},
   "source": [
    "## Create Random Data\n",
    "\n",
    "We create a random set of record data and store it to disk as many JSON files.  This will serve as our data for this notebook."
   ]
  },
  {
   "cell_type": "code",
   "execution_count": 2,
   "metadata": {
    "execution": {
     "iopub.execute_input": "2021-01-02T05:58:27.207435Z",
     "iopub.status.busy": "2021-01-02T05:58:27.206659Z",
     "iopub.status.idle": "2021-01-02T05:58:28.006199Z",
     "shell.execute_reply": "2021-01-02T05:58:28.005406Z"
    }
   },
   "outputs": [
    {
     "data": {
      "text/plain": [
       "['/home/runner/work/dask-examples/dask-examples/data/0.json',\n",
       " '/home/runner/work/dask-examples/dask-examples/data/1.json',\n",
       " '/home/runner/work/dask-examples/dask-examples/data/2.json',\n",
       " '/home/runner/work/dask-examples/dask-examples/data/3.json',\n",
       " '/home/runner/work/dask-examples/dask-examples/data/4.json',\n",
       " '/home/runner/work/dask-examples/dask-examples/data/5.json',\n",
       " '/home/runner/work/dask-examples/dask-examples/data/6.json',\n",
       " '/home/runner/work/dask-examples/dask-examples/data/7.json',\n",
       " '/home/runner/work/dask-examples/dask-examples/data/8.json',\n",
       " '/home/runner/work/dask-examples/dask-examples/data/9.json']"
      ]
     },
     "execution_count": 1,
     "metadata": {},
     "output_type": "execute_result"
    }
   ],
   "source": [
    "import dask\n",
    "import json\n",
    "import os\n",
    "\n",
    "os.makedirs('data', exist_ok=True)              # Create data/ directory\n",
    "\n",
    "b = dask.datasets.make_people()                 # Make records of people\n",
    "b.map(json.dumps).to_textfiles('data/*.json')   # Encode as JSON, write to disk"
   ]
  },
  {
   "cell_type": "markdown",
   "metadata": {},
   "source": [
    "## Read JSON data\n",
    "\n",
    "Now that we have some JSON data in a file lets take a look at it with Dask Bag and Python JSON module."
   ]
  },
  {
   "cell_type": "code",
   "execution_count": 3,
   "metadata": {
    "execution": {
     "iopub.execute_input": "2021-01-02T05:58:28.010295Z",
     "iopub.status.busy": "2021-01-02T05:58:28.009859Z",
     "iopub.status.idle": "2021-01-02T05:58:28.170886Z",
     "shell.execute_reply": "2021-01-02T05:58:28.169947Z"
    }
   },
   "outputs": [
    {
     "name": "stdout",
     "output_type": "stream",
     "text": [
      "{\"age\": 37, \"name\": [\"Jacquelynn\", \"Phelps\"], \"occupation\": \"Security Consultant\", \"telephone\": \"503.139.9992\", \"address\": {\"address\": \"689 Garden Green\", \"city\": \"Shakopee\"}, \"credit-card\": {\"number\": \"4208 3697 3820 5427\", \"expiration-date\": \"01/21\"}}\r\n",
      "{\"age\": 56, \"name\": [\"Kurt\", \"Cantu\"], \"occupation\": \"Car Dealer\", \"telephone\": \"299-641-1333\", \"address\": {\"address\": \"874 Robert Kirk Gate\", \"city\": \"Natchez\"}, \"credit-card\": {\"number\": \"3783 955212 03420\", \"expiration-date\": \"10/23\"}}\r\n"
     ]
    }
   ],
   "source": [
    "!head -n 2 data/0.json"
   ]
  },
  {
   "cell_type": "code",
   "execution_count": 4,
   "metadata": {
    "execution": {
     "iopub.execute_input": "2021-01-02T05:58:28.175321Z",
     "iopub.status.busy": "2021-01-02T05:58:28.174796Z",
     "iopub.status.idle": "2021-01-02T05:58:28.182485Z",
     "shell.execute_reply": "2021-01-02T05:58:28.183121Z"
    }
   },
   "outputs": [
    {
     "data": {
      "text/plain": [
       "dask.bag<loads, npartitions=10>"
      ]
     },
     "execution_count": 1,
     "metadata": {},
     "output_type": "execute_result"
    }
   ],
   "source": [
    "import dask.bag as db\n",
    "import json\n",
    "\n",
    "b = db.read_text('data/*.json').map(json.loads)\n",
    "b"
   ]
  },
  {
   "cell_type": "code",
   "execution_count": 5,
   "metadata": {
    "execution": {
     "iopub.execute_input": "2021-01-02T05:58:28.187701Z",
     "iopub.status.busy": "2021-01-02T05:58:28.185912Z",
     "iopub.status.idle": "2021-01-02T05:58:28.208259Z",
     "shell.execute_reply": "2021-01-02T05:58:28.207751Z"
    }
   },
   "outputs": [
    {
     "data": {
      "text/plain": [
       "({'age': 37,\n",
       "  'name': ['Jacquelynn', 'Phelps'],\n",
       "  'occupation': 'Security Consultant',\n",
       "  'telephone': '503.139.9992',\n",
       "  'address': {'address': '689 Garden Green', 'city': 'Shakopee'},\n",
       "  'credit-card': {'number': '4208 3697 3820 5427',\n",
       "   'expiration-date': '01/21'}},\n",
       " {'age': 56,\n",
       "  'name': ['Kurt', 'Cantu'],\n",
       "  'occupation': 'Car Dealer',\n",
       "  'telephone': '299-641-1333',\n",
       "  'address': {'address': '874 Robert Kirk Gate', 'city': 'Natchez'},\n",
       "  'credit-card': {'number': '3783 955212 03420', 'expiration-date': '10/23'}})"
      ]
     },
     "execution_count": 1,
     "metadata": {},
     "output_type": "execute_result"
    }
   ],
   "source": [
    "b.take(2)"
   ]
  },
  {
   "cell_type": "markdown",
   "metadata": {},
   "source": [
    "## Map, Filter, Aggregate\n",
    "\n",
    "We can process this data by filtering out only certain records of interest, mapping functions over it to process our data, and aggregating those results to a total value."
   ]
  },
  {
   "cell_type": "code",
   "execution_count": 6,
   "metadata": {
    "execution": {
     "iopub.execute_input": "2021-01-02T05:58:28.212993Z",
     "iopub.status.busy": "2021-01-02T05:58:28.212553Z",
     "iopub.status.idle": "2021-01-02T05:58:28.228184Z",
     "shell.execute_reply": "2021-01-02T05:58:28.227793Z"
    }
   },
   "outputs": [
    {
     "data": {
      "text/plain": [
       "({'age': 37,\n",
       "  'name': ['Jacquelynn', 'Phelps'],\n",
       "  'occupation': 'Security Consultant',\n",
       "  'telephone': '503.139.9992',\n",
       "  'address': {'address': '689 Garden Green', 'city': 'Shakopee'},\n",
       "  'credit-card': {'number': '4208 3697 3820 5427',\n",
       "   'expiration-date': '01/21'}},\n",
       " {'age': 56,\n",
       "  'name': ['Kurt', 'Cantu'],\n",
       "  'occupation': 'Car Dealer',\n",
       "  'telephone': '299-641-1333',\n",
       "  'address': {'address': '874 Robert Kirk Gate', 'city': 'Natchez'},\n",
       "  'credit-card': {'number': '3783 955212 03420', 'expiration-date': '10/23'}})"
      ]
     },
     "execution_count": 1,
     "metadata": {},
     "output_type": "execute_result"
    }
   ],
   "source": [
    "b.filter(lambda record: record['age'] > 30).take(2)  # Select only people over 30"
   ]
  },
  {
   "cell_type": "code",
   "execution_count": 7,
   "metadata": {
    "execution": {
     "iopub.execute_input": "2021-01-02T05:58:28.232030Z",
     "iopub.status.busy": "2021-01-02T05:58:28.231583Z",
     "iopub.status.idle": "2021-01-02T05:58:28.250548Z",
     "shell.execute_reply": "2021-01-02T05:58:28.250008Z"
    }
   },
   "outputs": [
    {
     "data": {
      "text/plain": [
       "('Security Consultant', 'Car Dealer')"
      ]
     },
     "execution_count": 1,
     "metadata": {},
     "output_type": "execute_result"
    }
   ],
   "source": [
    "b.map(lambda record: record['occupation']).take(2)  # Select the occupation field"
   ]
  },
  {
   "cell_type": "code",
   "execution_count": 8,
   "metadata": {
    "execution": {
     "iopub.execute_input": "2021-01-02T05:58:28.256604Z",
     "iopub.status.busy": "2021-01-02T05:58:28.256078Z",
     "iopub.status.idle": "2021-01-02T05:58:28.356819Z",
     "shell.execute_reply": "2021-01-02T05:58:28.356356Z"
    }
   },
   "outputs": [
    {
     "data": {
      "text/plain": [
       "10000"
      ]
     },
     "execution_count": 1,
     "metadata": {},
     "output_type": "execute_result"
    }
   ],
   "source": [
    "b.count().compute()  # Count total number of records"
   ]
  },
  {
   "cell_type": "markdown",
   "metadata": {},
   "source": [
    "## Chain computations\n",
    "\n",
    "It is common to do many of these steps in one pipeline, only calling `compute` or `take` at the end."
   ]
  },
  {
   "cell_type": "code",
   "execution_count": 9,
   "metadata": {
    "execution": {
     "iopub.execute_input": "2021-01-02T05:58:28.362466Z",
     "iopub.status.busy": "2021-01-02T05:58:28.361981Z",
     "iopub.status.idle": "2021-01-02T05:58:28.363976Z",
     "shell.execute_reply": "2021-01-02T05:58:28.364481Z"
    }
   },
   "outputs": [
    {
     "data": {
      "text/plain": [
       "dask.bag<topk-aggregate, npartitions=1>"
      ]
     },
     "execution_count": 1,
     "metadata": {},
     "output_type": "execute_result"
    }
   ],
   "source": [
    "result = (b.filter(lambda record: record['age'] > 30)\n",
    "           .map(lambda record: record['occupation'])\n",
    "           .frequencies(sort=True)\n",
    "           .topk(10, key=1))\n",
    "result"
   ]
  },
  {
   "cell_type": "markdown",
   "metadata": {},
   "source": [
    "As with all lazy Dask collections, we need to call `compute` to actually evaluate our result.  The `take` method used in earlier examples is also like `compute` and will also trigger computation."
   ]
  },
  {
   "cell_type": "code",
   "execution_count": 10,
   "metadata": {
    "execution": {
     "iopub.execute_input": "2021-01-02T05:58:28.372860Z",
     "iopub.status.busy": "2021-01-02T05:58:28.367103Z",
     "iopub.status.idle": "2021-01-02T05:58:28.471017Z",
     "shell.execute_reply": "2021-01-02T05:58:28.470600Z"
    }
   },
   "outputs": [
    {
     "data": {
      "text/plain": [
       "[('Writer', 14),\n",
       " ('Technician', 14),\n",
       " ('Outdoor Pursuits', 14),\n",
       " ('Off Shore', 14),\n",
       " ('Business Consultant', 13),\n",
       " ('Labourer', 13),\n",
       " ('Pig Man', 13),\n",
       " ('Travel Guide Writer', 13),\n",
       " ('Messenger', 13),\n",
       " ('Cargo Operator', 13)]"
      ]
     },
     "execution_count": 1,
     "metadata": {},
     "output_type": "execute_result"
    }
   ],
   "source": [
    "result.compute()"
   ]
  },
  {
   "cell_type": "markdown",
   "metadata": {},
   "source": [
    "## Transform and Store\n",
    "\n",
    "Sometimes we want to compute aggregations as above, but sometimes we want to store results to disk for future analyses.  For that we can use methods like `to_textfiles` and `json.dumps`, or we can convert to Dask Dataframes and use their storage systems, which we'll see more of in the next section."
   ]
  },
  {
   "cell_type": "code",
   "execution_count": 11,
   "metadata": {
    "execution": {
     "iopub.execute_input": "2021-01-02T05:58:28.477895Z",
     "iopub.status.busy": "2021-01-02T05:58:28.477412Z",
     "iopub.status.idle": "2021-01-02T05:58:28.594225Z",
     "shell.execute_reply": "2021-01-02T05:58:28.593560Z"
    }
   },
   "outputs": [
    {
     "data": {
      "text/plain": [
       "['/home/runner/work/dask-examples/dask-examples/data/processed.0.json',\n",
       " '/home/runner/work/dask-examples/dask-examples/data/processed.1.json',\n",
       " '/home/runner/work/dask-examples/dask-examples/data/processed.2.json',\n",
       " '/home/runner/work/dask-examples/dask-examples/data/processed.3.json',\n",
       " '/home/runner/work/dask-examples/dask-examples/data/processed.4.json',\n",
       " '/home/runner/work/dask-examples/dask-examples/data/processed.5.json',\n",
       " '/home/runner/work/dask-examples/dask-examples/data/processed.6.json',\n",
       " '/home/runner/work/dask-examples/dask-examples/data/processed.7.json',\n",
       " '/home/runner/work/dask-examples/dask-examples/data/processed.8.json',\n",
       " '/home/runner/work/dask-examples/dask-examples/data/processed.9.json']"
      ]
     },
     "execution_count": 1,
     "metadata": {},
     "output_type": "execute_result"
    }
   ],
   "source": [
    "(b.filter(lambda record: record['age'] > 30)  # Select records of interest\n",
    "  .map(json.dumps)                            # Convert Python objects to text\n",
    "  .to_textfiles('data/processed.*.json'))     # Write to local disk"
   ]
  },
  {
   "cell_type": "markdown",
   "metadata": {},
   "source": [
    "## Convert to Dask Dataframes\n",
    "\n",
    "Dask Bags are good for reading in initial data, doing a bit of pre-processing, and then handing off to some other more efficient form like Dask Dataframes.  Dask Dataframes use Pandas internally, and so can be much faster on numeric data and also have more complex algorithms.  \n",
    "\n",
    "However, Dask Dataframes also expect data that is organized as flat columns.  It does not support nested JSON data very well (Bag is better for this).\n",
    "\n",
    "Here we make a function to flatten down our nested data structure, map that across our records, and then convert that to a Dask Dataframe."
   ]
  },
  {
   "cell_type": "code",
   "execution_count": 12,
   "metadata": {
    "execution": {
     "iopub.execute_input": "2021-01-02T05:58:28.597554Z",
     "iopub.status.busy": "2021-01-02T05:58:28.597085Z",
     "iopub.status.idle": "2021-01-02T05:58:28.616596Z",
     "shell.execute_reply": "2021-01-02T05:58:28.617324Z"
    }
   },
   "outputs": [
    {
     "data": {
      "text/plain": [
       "({'age': 37,\n",
       "  'name': ['Jacquelynn', 'Phelps'],\n",
       "  'occupation': 'Security Consultant',\n",
       "  'telephone': '503.139.9992',\n",
       "  'address': {'address': '689 Garden Green', 'city': 'Shakopee'},\n",
       "  'credit-card': {'number': '4208 3697 3820 5427',\n",
       "   'expiration-date': '01/21'}},)"
      ]
     },
     "execution_count": 1,
     "metadata": {},
     "output_type": "execute_result"
    }
   ],
   "source": [
    "b.take(1)"
   ]
  },
  {
   "cell_type": "code",
   "execution_count": 13,
   "metadata": {
    "execution": {
     "iopub.execute_input": "2021-01-02T05:58:28.622906Z",
     "iopub.status.busy": "2021-01-02T05:58:28.622469Z",
     "iopub.status.idle": "2021-01-02T05:58:28.640500Z",
     "shell.execute_reply": "2021-01-02T05:58:28.639941Z"
    }
   },
   "outputs": [
    {
     "data": {
      "text/plain": [
       "({'age': 37,\n",
       "  'occupation': 'Security Consultant',\n",
       "  'telephone': '503.139.9992',\n",
       "  'credit-card-number': '4208 3697 3820 5427',\n",
       "  'credit-card-expiration': '01/21',\n",
       "  'name': 'Jacquelynn Phelps',\n",
       "  'street-address': '689 Garden Green',\n",
       "  'city': 'Shakopee'},)"
      ]
     },
     "execution_count": 1,
     "metadata": {},
     "output_type": "execute_result"
    }
   ],
   "source": [
    "def flatten(record):\n",
    "    return {\n",
    "        'age': record['age'],\n",
    "        'occupation': record['occupation'],\n",
    "        'telephone': record['telephone'],\n",
    "        'credit-card-number': record['credit-card']['number'],\n",
    "        'credit-card-expiration': record['credit-card']['expiration-date'],\n",
    "        'name': ' '.join(record['name']),\n",
    "        'street-address': record['address']['address'],\n",
    "        'city': record['address']['city']   \n",
    "    }\n",
    "\n",
    "b.map(flatten).take(1)"
   ]
  },
  {
   "cell_type": "code",
   "execution_count": 14,
   "metadata": {
    "execution": {
     "iopub.execute_input": "2021-01-02T05:58:28.643979Z",
     "iopub.status.busy": "2021-01-02T05:58:28.642628Z",
     "iopub.status.idle": "2021-01-02T05:58:29.186480Z",
     "shell.execute_reply": "2021-01-02T05:58:29.185819Z"
    }
   },
   "outputs": [
    {
     "data": {
      "text/html": [
       "<div>\n",
       "<style scoped>\n",
       "    .dataframe tbody tr th:only-of-type {\n",
       "        vertical-align: middle;\n",
       "    }\n",
       "\n",
       "    .dataframe tbody tr th {\n",
       "        vertical-align: top;\n",
       "    }\n",
       "\n",
       "    .dataframe thead th {\n",
       "        text-align: right;\n",
       "    }\n",
       "</style>\n",
       "<table border=\"1\" class=\"dataframe\">\n",
       "  <thead>\n",
       "    <tr style=\"text-align: right;\">\n",
       "      <th></th>\n",
       "      <th>age</th>\n",
       "      <th>occupation</th>\n",
       "      <th>telephone</th>\n",
       "      <th>credit-card-number</th>\n",
       "      <th>credit-card-expiration</th>\n",
       "      <th>name</th>\n",
       "      <th>street-address</th>\n",
       "      <th>city</th>\n",
       "    </tr>\n",
       "  </thead>\n",
       "  <tbody>\n",
       "    <tr>\n",
       "      <th>0</th>\n",
       "      <td>37</td>\n",
       "      <td>Security Consultant</td>\n",
       "      <td>503.139.9992</td>\n",
       "      <td>4208 3697 3820 5427</td>\n",
       "      <td>01/21</td>\n",
       "      <td>Jacquelynn Phelps</td>\n",
       "      <td>689 Garden Green</td>\n",
       "      <td>Shakopee</td>\n",
       "    </tr>\n",
       "    <tr>\n",
       "      <th>1</th>\n",
       "      <td>56</td>\n",
       "      <td>Car Dealer</td>\n",
       "      <td>299-641-1333</td>\n",
       "      <td>3783 955212 03420</td>\n",
       "      <td>10/23</td>\n",
       "      <td>Kurt Cantu</td>\n",
       "      <td>874 Robert Kirk Gate</td>\n",
       "      <td>Natchez</td>\n",
       "    </tr>\n",
       "    <tr>\n",
       "      <th>2</th>\n",
       "      <td>60</td>\n",
       "      <td>Radio Operator</td>\n",
       "      <td>162.389.8745</td>\n",
       "      <td>5166 5665 3320 6578</td>\n",
       "      <td>03/20</td>\n",
       "      <td>Exie Anderson</td>\n",
       "      <td>294 Apollo Parade</td>\n",
       "      <td>Forest Grove</td>\n",
       "    </tr>\n",
       "    <tr>\n",
       "      <th>3</th>\n",
       "      <td>17</td>\n",
       "      <td>Planning Engineer</td>\n",
       "      <td>863-052-3855</td>\n",
       "      <td>3725 736778 80052</td>\n",
       "      <td>01/25</td>\n",
       "      <td>Booker Mullen</td>\n",
       "      <td>350 Battery Crosby Parkway</td>\n",
       "      <td>Pasco</td>\n",
       "    </tr>\n",
       "    <tr>\n",
       "      <th>4</th>\n",
       "      <td>36</td>\n",
       "      <td>Air Traffic Controller</td>\n",
       "      <td>052.430.1264</td>\n",
       "      <td>4993 1464 1813 6604</td>\n",
       "      <td>09/25</td>\n",
       "      <td>Ricky Levine</td>\n",
       "      <td>812 Sumner Glen</td>\n",
       "      <td>Orem</td>\n",
       "    </tr>\n",
       "  </tbody>\n",
       "</table>\n",
       "</div>"
      ],
      "text/plain": [
       "   age              occupation     telephone   credit-card-number  \\\n",
       "0   37     Security Consultant  503.139.9992  4208 3697 3820 5427   \n",
       "1   56              Car Dealer  299-641-1333    3783 955212 03420   \n",
       "2   60          Radio Operator  162.389.8745  5166 5665 3320 6578   \n",
       "3   17       Planning Engineer  863-052-3855    3725 736778 80052   \n",
       "4   36  Air Traffic Controller  052.430.1264  4993 1464 1813 6604   \n",
       "\n",
       "  credit-card-expiration               name              street-address  \\\n",
       "0                  01/21  Jacquelynn Phelps            689 Garden Green   \n",
       "1                  10/23         Kurt Cantu        874 Robert Kirk Gate   \n",
       "2                  03/20      Exie Anderson           294 Apollo Parade   \n",
       "3                  01/25      Booker Mullen  350 Battery Crosby Parkway   \n",
       "4                  09/25       Ricky Levine             812 Sumner Glen   \n",
       "\n",
       "           city  \n",
       "0      Shakopee  \n",
       "1       Natchez  \n",
       "2  Forest Grove  \n",
       "3         Pasco  \n",
       "4          Orem  "
      ]
     },
     "execution_count": 1,
     "metadata": {},
     "output_type": "execute_result"
    }
   ],
   "source": [
    "df = b.map(flatten).to_dataframe()\n",
    "df.head()"
   ]
  },
  {
   "cell_type": "markdown",
   "metadata": {},
   "source": [
    "We can now perform the same computation as before, but now using Pandas and Dask dataframe."
   ]
  },
  {
   "cell_type": "code",
   "execution_count": 15,
   "metadata": {
    "execution": {
     "iopub.execute_input": "2021-01-02T05:58:29.194823Z",
     "iopub.status.busy": "2021-01-02T05:58:29.192363Z",
     "iopub.status.idle": "2021-01-02T05:58:29.808156Z",
     "shell.execute_reply": "2021-01-02T05:58:29.807516Z"
    }
   },
   "outputs": [
    {
     "data": {
      "text/plain": [
       "Technician             14\n",
       "Writer                 14\n",
       "Off Shore              14\n",
       "Outdoor Pursuits       14\n",
       "Business Consultant    13\n",
       "Travel Guide Writer    13\n",
       "Cargo Operator         13\n",
       "Messenger              13\n",
       "Pig Man                13\n",
       "Labourer               13\n",
       "Name: occupation, dtype: int64"
      ]
     },
     "execution_count": 1,
     "metadata": {},
     "output_type": "execute_result"
    }
   ],
   "source": [
    "df[df.age > 30].occupation.value_counts().nlargest(10).compute()"
   ]
  },
  {
   "cell_type": "markdown",
   "metadata": {},
   "source": [
    "## Learn More\n",
    "\n",
    "You may be interested in the following links:\n",
    "\n",
    "-  [Dask Bag Documentation](https://docs.dask.org/en/latest/bag.html)\n",
    "-  [API Documentation](http://docs.dask.org/en/latest/bag-api.html)\n",
    "-  [dask tutorial](https://github.com/dask/dask-tutorial), notebook 02, for a more in-depth introduction."
   ]
  }
 ],
 "metadata": {
  "kernelspec": {
   "display_name": "Python 3",
   "language": "python",
   "name": "python3"
  },
  "language_info": {
   "codemirror_mode": {
    "name": "ipython",
    "version": 3
   },
   "file_extension": ".py",
   "mimetype": "text/x-python",
   "name": "python",
   "nbconvert_exporter": "python",
   "pygments_lexer": "ipython3",
   "version": "3.8.6"
  }
 },
 "nbformat": 4,
 "nbformat_minor": 2
}
