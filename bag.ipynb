{
 "cells": [
  {
   "cell_type": "markdown",
   "metadata": {},
   "source": [
    "# Dask Bags\n",
    "\n",
    "\n",
    "Dask Bag implements operations like `map`, `filter`, `groupby` and aggregations on collections of Python objects. It does this in parallel and in small memory using Python iterators. It is similar to a parallel version of itertools or a Pythonic version of the PySpark RDD.\n",
    "\n",
    "Dask Bags are often used to do simple preprocessing on log files, JSON records, or other user defined Python objects.\n",
    "\n",
    "Full API documentation is available here: http://docs.dask.org/en/latest/bag-api.html"
   ]
  },
  {
   "cell_type": "markdown",
   "metadata": {},
   "source": [
    "## Start Dask Client for Dashboard\n",
    "\n",
    "Starting the Dask Client is optional.  It will provide a dashboard which \n",
    "is useful to gain insight on the computation.  \n",
    "\n",
    "The link to the dashboard will become visible when you create the client below.  We recommend having it open on one side of your screen while using your notebook on the other side.  This can take some effort to arrange your windows, but seeing them both at the same is very useful when learning."
   ]
  },
  {
   "cell_type": "code",
   "execution_count": 1,
   "metadata": {
    "execution": {
     "iopub.execute_input": "2020-11-05T10:41:08.767819Z",
     "iopub.status.busy": "2020-11-05T10:41:08.767239Z",
     "iopub.status.idle": "2020-11-05T10:41:10.814063Z",
     "shell.execute_reply": "2020-11-05T10:41:10.813209Z"
    }
   },
   "outputs": [
    {
     "data": {
      "text/html": [
       "<table style=\"border: 2px solid white;\">\n",
       "<tr>\n",
       "<td style=\"vertical-align: top; border: 0px solid white\">\n",
       "<h3 style=\"text-align: left;\">Client</h3>\n",
       "<ul style=\"text-align: left; list-style: none; margin: 0; padding: 0;\">\n",
       "  <li><b>Scheduler: </b>tcp://127.0.0.1:37133</li>\n",
       "  <li><b>Dashboard: </b><a href='http://127.0.0.1:8787/status' target='_blank'>http://127.0.0.1:8787/status</a></li>\n",
       "</ul>\n",
       "</td>\n",
       "<td style=\"vertical-align: top; border: 0px solid white\">\n",
       "<h3 style=\"text-align: left;\">Cluster</h3>\n",
       "<ul style=\"text-align: left; list-style:none; margin: 0; padding: 0;\">\n",
       "  <li><b>Workers: </b>4</li>\n",
       "  <li><b>Cores: </b>4</li>\n",
       "  <li><b>Memory: </b>7.29 GB</li>\n",
       "</ul>\n",
       "</td>\n",
       "</tr>\n",
       "</table>"
      ],
      "text/plain": [
       "<Client: 'tcp://127.0.0.1:37133' processes=4 threads=4, memory=7.29 GB>"
      ]
     },
     "execution_count": 1,
     "metadata": {},
     "output_type": "execute_result"
    }
   ],
   "source": [
    "from dask.distributed import Client, progress\n",
    "client = Client(n_workers=4, threads_per_worker=1)\n",
    "client"
   ]
  },
  {
   "cell_type": "markdown",
   "metadata": {},
   "source": [
    "## Create Random Data\n",
    "\n",
    "We create a random set of record data and store it to disk as many JSON files.  This will serve as our data for this notebook."
   ]
  },
  {
   "cell_type": "code",
   "execution_count": 2,
   "metadata": {
    "execution": {
     "iopub.execute_input": "2020-11-05T10:41:10.822675Z",
     "iopub.status.busy": "2020-11-05T10:41:10.822054Z",
     "iopub.status.idle": "2020-11-05T10:41:11.731928Z",
     "shell.execute_reply": "2020-11-05T10:41:11.732366Z"
    }
   },
   "outputs": [
    {
     "data": {
      "text/plain": [
       "['/home/runner/work/dask-examples/dask-examples/data/0.json',\n",
       " '/home/runner/work/dask-examples/dask-examples/data/1.json',\n",
       " '/home/runner/work/dask-examples/dask-examples/data/2.json',\n",
       " '/home/runner/work/dask-examples/dask-examples/data/3.json',\n",
       " '/home/runner/work/dask-examples/dask-examples/data/4.json',\n",
       " '/home/runner/work/dask-examples/dask-examples/data/5.json',\n",
       " '/home/runner/work/dask-examples/dask-examples/data/6.json',\n",
       " '/home/runner/work/dask-examples/dask-examples/data/7.json',\n",
       " '/home/runner/work/dask-examples/dask-examples/data/8.json',\n",
       " '/home/runner/work/dask-examples/dask-examples/data/9.json']"
      ]
     },
     "execution_count": 1,
     "metadata": {},
     "output_type": "execute_result"
    }
   ],
   "source": [
    "import dask\n",
    "import json\n",
    "import os\n",
    "\n",
    "os.makedirs('data', exist_ok=True)              # Create data/ directory\n",
    "\n",
    "b = dask.datasets.make_people()                 # Make records of people\n",
    "b.map(json.dumps).to_textfiles('data/*.json')   # Encode as JSON, write to disk"
   ]
  },
  {
   "cell_type": "markdown",
   "metadata": {},
   "source": [
    "## Read JSON data\n",
    "\n",
    "Now that we have some JSON data in a file lets take a look at it with Dask Bag and Python JSON module."
   ]
  },
  {
   "cell_type": "code",
   "execution_count": 3,
   "metadata": {
    "execution": {
     "iopub.execute_input": "2020-11-05T10:41:11.737661Z",
     "iopub.status.busy": "2020-11-05T10:41:11.735195Z",
     "iopub.status.idle": "2020-11-05T10:41:11.900381Z",
     "shell.execute_reply": "2020-11-05T10:41:11.899726Z"
    }
   },
   "outputs": [
    {
     "name": "stdout",
     "output_type": "stream",
     "text": [
      "{\"age\": 46, \"name\": [\"Arletta\", \"Rasmussen\"], \"occupation\": \"Licensing\", \"telephone\": \"433-287-8681\", \"address\": {\"address\": \"962 Alton Bend\", \"city\": \"Springboro\"}, \"credit-card\": {\"number\": \"4860 0093 3074 8544\", \"expiration-date\": \"05/22\"}}\r\n",
      "{\"age\": 19, \"name\": [\"Elliot\", \"Boyer\"], \"occupation\": \"Recruitment Consultant\", \"telephone\": \"405-293-3268\", \"address\": {\"address\": \"1183 Grove Heights\", \"city\": \"Tustin\"}, \"credit-card\": {\"number\": \"3430 721674 70199\", \"expiration-date\": \"04/25\"}}\r\n"
     ]
    }
   ],
   "source": [
    "!head -n 2 data/0.json"
   ]
  },
  {
   "cell_type": "code",
   "execution_count": 4,
   "metadata": {
    "execution": {
     "iopub.execute_input": "2020-11-05T10:41:11.905393Z",
     "iopub.status.busy": "2020-11-05T10:41:11.904167Z",
     "iopub.status.idle": "2020-11-05T10:41:11.910947Z",
     "shell.execute_reply": "2020-11-05T10:41:11.911340Z"
    }
   },
   "outputs": [
    {
     "data": {
      "text/plain": [
       "dask.bag<loads, npartitions=10>"
      ]
     },
     "execution_count": 1,
     "metadata": {},
     "output_type": "execute_result"
    }
   ],
   "source": [
    "import dask.bag as db\n",
    "import json\n",
    "\n",
    "b = db.read_text('data/*.json').map(json.loads)\n",
    "b"
   ]
  },
  {
   "cell_type": "code",
   "execution_count": 5,
   "metadata": {
    "execution": {
     "iopub.execute_input": "2020-11-05T10:41:11.919561Z",
     "iopub.status.busy": "2020-11-05T10:41:11.916201Z",
     "iopub.status.idle": "2020-11-05T10:41:11.933674Z",
     "shell.execute_reply": "2020-11-05T10:41:11.933245Z"
    }
   },
   "outputs": [
    {
     "data": {
      "text/plain": [
       "({'age': 46,\n",
       "  'name': ['Arletta', 'Rasmussen'],\n",
       "  'occupation': 'Licensing',\n",
       "  'telephone': '433-287-8681',\n",
       "  'address': {'address': '962 Alton Bend', 'city': 'Springboro'},\n",
       "  'credit-card': {'number': '4860 0093 3074 8544',\n",
       "   'expiration-date': '05/22'}},\n",
       " {'age': 19,\n",
       "  'name': ['Elliot', 'Boyer'],\n",
       "  'occupation': 'Recruitment Consultant',\n",
       "  'telephone': '405-293-3268',\n",
       "  'address': {'address': '1183 Grove Heights', 'city': 'Tustin'},\n",
       "  'credit-card': {'number': '3430 721674 70199', 'expiration-date': '04/25'}})"
      ]
     },
     "execution_count": 1,
     "metadata": {},
     "output_type": "execute_result"
    }
   ],
   "source": [
    "b.take(2)"
   ]
  },
  {
   "cell_type": "markdown",
   "metadata": {},
   "source": [
    "## Map, Filter, Aggregate\n",
    "\n",
    "We can process this data by filtering out only certain records of interest, mapping functions over it to process our data, and aggregating those results to a total value."
   ]
  },
  {
   "cell_type": "code",
   "execution_count": 6,
   "metadata": {
    "execution": {
     "iopub.execute_input": "2020-11-05T10:41:11.938883Z",
     "iopub.status.busy": "2020-11-05T10:41:11.938401Z",
     "iopub.status.idle": "2020-11-05T10:41:11.957393Z",
     "shell.execute_reply": "2020-11-05T10:41:11.956941Z"
    }
   },
   "outputs": [
    {
     "data": {
      "text/plain": [
       "({'age': 46,\n",
       "  'name': ['Arletta', 'Rasmussen'],\n",
       "  'occupation': 'Licensing',\n",
       "  'telephone': '433-287-8681',\n",
       "  'address': {'address': '962 Alton Bend', 'city': 'Springboro'},\n",
       "  'credit-card': {'number': '4860 0093 3074 8544',\n",
       "   'expiration-date': '05/22'}},\n",
       " {'age': 35,\n",
       "  'name': ['Hollis', 'Molina'],\n",
       "  'occupation': 'Nutritionist',\n",
       "  'telephone': '1-792-483-0039',\n",
       "  'address': {'address': '843 Friendship Gardens', 'city': 'Belton'},\n",
       "  'credit-card': {'number': '5469 6720 6779 8669',\n",
       "   'expiration-date': '04/23'}})"
      ]
     },
     "execution_count": 1,
     "metadata": {},
     "output_type": "execute_result"
    }
   ],
   "source": [
    "b.filter(lambda record: record['age'] > 30).take(2)  # Select only people over 30"
   ]
  },
  {
   "cell_type": "code",
   "execution_count": 7,
   "metadata": {
    "execution": {
     "iopub.execute_input": "2020-11-05T10:41:11.962300Z",
     "iopub.status.busy": "2020-11-05T10:41:11.961806Z",
     "iopub.status.idle": "2020-11-05T10:41:11.979729Z",
     "shell.execute_reply": "2020-11-05T10:41:11.979138Z"
    }
   },
   "outputs": [
    {
     "data": {
      "text/plain": [
       "('Licensing', 'Recruitment Consultant')"
      ]
     },
     "execution_count": 1,
     "metadata": {},
     "output_type": "execute_result"
    }
   ],
   "source": [
    "b.map(lambda record: record['occupation']).take(2)  # Select the occupation field"
   ]
  },
  {
   "cell_type": "code",
   "execution_count": 8,
   "metadata": {
    "execution": {
     "iopub.execute_input": "2020-11-05T10:41:11.983151Z",
     "iopub.status.busy": "2020-11-05T10:41:11.982663Z",
     "iopub.status.idle": "2020-11-05T10:41:12.090591Z",
     "shell.execute_reply": "2020-11-05T10:41:12.090044Z"
    }
   },
   "outputs": [
    {
     "data": {
      "text/plain": [
       "10000"
      ]
     },
     "execution_count": 1,
     "metadata": {},
     "output_type": "execute_result"
    }
   ],
   "source": [
    "b.count().compute()  # Count total number of records"
   ]
  },
  {
   "cell_type": "markdown",
   "metadata": {},
   "source": [
    "## Chain computations\n",
    "\n",
    "It is common to do many of these steps in one pipeline, only calling `compute` or `take` at the end."
   ]
  },
  {
   "cell_type": "code",
   "execution_count": 9,
   "metadata": {
    "execution": {
     "iopub.execute_input": "2020-11-05T10:41:12.096428Z",
     "iopub.status.busy": "2020-11-05T10:41:12.095582Z",
     "iopub.status.idle": "2020-11-05T10:41:12.100314Z",
     "shell.execute_reply": "2020-11-05T10:41:12.099792Z"
    }
   },
   "outputs": [
    {
     "data": {
      "text/plain": [
       "dask.bag<topk-aggregate, npartitions=1>"
      ]
     },
     "execution_count": 1,
     "metadata": {},
     "output_type": "execute_result"
    }
   ],
   "source": [
    "result = (b.filter(lambda record: record['age'] > 30)\n",
    "           .map(lambda record: record['occupation'])\n",
    "           .frequencies(sort=True)\n",
    "           .topk(10, key=1))\n",
    "result"
   ]
  },
  {
   "cell_type": "markdown",
   "metadata": {},
   "source": [
    "As with all lazy Dask collections, we need to call `compute` to actually evaluate our result.  The `take` method used in earlier examples is also like `compute` and will also trigger computation."
   ]
  },
  {
   "cell_type": "code",
   "execution_count": 10,
   "metadata": {
    "execution": {
     "iopub.execute_input": "2020-11-05T10:41:12.110021Z",
     "iopub.status.busy": "2020-11-05T10:41:12.106201Z",
     "iopub.status.idle": "2020-11-05T10:41:12.221431Z",
     "shell.execute_reply": "2020-11-05T10:41:12.220863Z"
    }
   },
   "outputs": [
    {
     "data": {
      "text/plain": [
       "[('Minicab Driver', 15),\n",
       " ('Illustrator', 15),\n",
       " ('Carpenter', 13),\n",
       " ('Blinds Installer', 13),\n",
       " ('Gun Smith', 13),\n",
       " ('Payroll Clerk', 13),\n",
       " ('Calibration Manager', 13),\n",
       " ('Hosiery Mechanic', 13),\n",
       " ('Scrap Dealer', 13),\n",
       " ('Stock Manager', 13)]"
      ]
     },
     "execution_count": 1,
     "metadata": {},
     "output_type": "execute_result"
    }
   ],
   "source": [
    "result.compute()"
   ]
  },
  {
   "cell_type": "markdown",
   "metadata": {},
   "source": [
    "## Transform and Store\n",
    "\n",
    "Sometimes we want to compute aggregations as above, but sometimes we want to store results to disk for future analyses.  For that we can use methods like `to_textfiles` and `json.dumps`, or we can convert to Dask Dataframes and use their storage systems, which we'll see more of in the next section."
   ]
  },
  {
   "cell_type": "code",
   "execution_count": 11,
   "metadata": {
    "execution": {
     "iopub.execute_input": "2020-11-05T10:41:12.226545Z",
     "iopub.status.busy": "2020-11-05T10:41:12.225307Z",
     "iopub.status.idle": "2020-11-05T10:41:12.357958Z",
     "shell.execute_reply": "2020-11-05T10:41:12.357227Z"
    }
   },
   "outputs": [
    {
     "data": {
      "text/plain": [
       "['/home/runner/work/dask-examples/dask-examples/data/processed.0.json',\n",
       " '/home/runner/work/dask-examples/dask-examples/data/processed.1.json',\n",
       " '/home/runner/work/dask-examples/dask-examples/data/processed.2.json',\n",
       " '/home/runner/work/dask-examples/dask-examples/data/processed.3.json',\n",
       " '/home/runner/work/dask-examples/dask-examples/data/processed.4.json',\n",
       " '/home/runner/work/dask-examples/dask-examples/data/processed.5.json',\n",
       " '/home/runner/work/dask-examples/dask-examples/data/processed.6.json',\n",
       " '/home/runner/work/dask-examples/dask-examples/data/processed.7.json',\n",
       " '/home/runner/work/dask-examples/dask-examples/data/processed.8.json',\n",
       " '/home/runner/work/dask-examples/dask-examples/data/processed.9.json']"
      ]
     },
     "execution_count": 1,
     "metadata": {},
     "output_type": "execute_result"
    }
   ],
   "source": [
    "(b.filter(lambda record: record['age'] > 30)  # Select records of interest\n",
    "  .map(json.dumps)                            # Convert Python objects to text\n",
    "  .to_textfiles('data/processed.*.json'))     # Write to local disk"
   ]
  },
  {
   "cell_type": "markdown",
   "metadata": {},
   "source": [
    "## Convert to Dask Dataframes\n",
    "\n",
    "Dask Bags are good for reading in initial data, doing a bit of pre-processing, and then handing off to some other more efficient form like Dask Dataframes.  Dask Dataframes use Pandas internally, and so can be much faster on numeric data and also have more complex algorithms.  \n",
    "\n",
    "However, Dask Dataframes also expect data that is organized as flat columns.  It does not support nested JSON data very well (Bag is better for this).\n",
    "\n",
    "Here we make a function to flatten down our nested data structure, map that across our records, and then convert that to a Dask Dataframe."
   ]
  },
  {
   "cell_type": "code",
   "execution_count": 12,
   "metadata": {
    "execution": {
     "iopub.execute_input": "2020-11-05T10:41:12.364247Z",
     "iopub.status.busy": "2020-11-05T10:41:12.362559Z",
     "iopub.status.idle": "2020-11-05T10:41:12.379183Z",
     "shell.execute_reply": "2020-11-05T10:41:12.378631Z"
    }
   },
   "outputs": [
    {
     "data": {
      "text/plain": [
       "({'age': 46,\n",
       "  'name': ['Arletta', 'Rasmussen'],\n",
       "  'occupation': 'Licensing',\n",
       "  'telephone': '433-287-8681',\n",
       "  'address': {'address': '962 Alton Bend', 'city': 'Springboro'},\n",
       "  'credit-card': {'number': '4860 0093 3074 8544',\n",
       "   'expiration-date': '05/22'}},)"
      ]
     },
     "execution_count": 1,
     "metadata": {},
     "output_type": "execute_result"
    }
   ],
   "source": [
    "b.take(1)"
   ]
  },
  {
   "cell_type": "code",
   "execution_count": 13,
   "metadata": {
    "execution": {
     "iopub.execute_input": "2020-11-05T10:41:12.385406Z",
     "iopub.status.busy": "2020-11-05T10:41:12.384429Z",
     "iopub.status.idle": "2020-11-05T10:41:12.401376Z",
     "shell.execute_reply": "2020-11-05T10:41:12.402022Z"
    }
   },
   "outputs": [
    {
     "data": {
      "text/plain": [
       "({'age': 46,\n",
       "  'occupation': 'Licensing',\n",
       "  'telephone': '433-287-8681',\n",
       "  'credit-card-number': '4860 0093 3074 8544',\n",
       "  'credit-card-expiration': '05/22',\n",
       "  'name': 'Arletta Rasmussen',\n",
       "  'street-address': '962 Alton Bend',\n",
       "  'city': 'Springboro'},)"
      ]
     },
     "execution_count": 1,
     "metadata": {},
     "output_type": "execute_result"
    }
   ],
   "source": [
    "def flatten(record):\n",
    "    return {\n",
    "        'age': record['age'],\n",
    "        'occupation': record['occupation'],\n",
    "        'telephone': record['telephone'],\n",
    "        'credit-card-number': record['credit-card']['number'],\n",
    "        'credit-card-expiration': record['credit-card']['expiration-date'],\n",
    "        'name': ' '.join(record['name']),\n",
    "        'street-address': record['address']['address'],\n",
    "        'city': record['address']['city']   \n",
    "    }\n",
    "\n",
    "b.map(flatten).take(1)"
   ]
  },
  {
   "cell_type": "code",
   "execution_count": 14,
   "metadata": {
    "execution": {
     "iopub.execute_input": "2020-11-05T10:41:12.405916Z",
     "iopub.status.busy": "2020-11-05T10:41:12.405366Z",
     "iopub.status.idle": "2020-11-05T10:41:13.022507Z",
     "shell.execute_reply": "2020-11-05T10:41:13.022912Z"
    }
   },
   "outputs": [
    {
     "data": {
      "text/html": [
       "<div>\n",
       "<style scoped>\n",
       "    .dataframe tbody tr th:only-of-type {\n",
       "        vertical-align: middle;\n",
       "    }\n",
       "\n",
       "    .dataframe tbody tr th {\n",
       "        vertical-align: top;\n",
       "    }\n",
       "\n",
       "    .dataframe thead th {\n",
       "        text-align: right;\n",
       "    }\n",
       "</style>\n",
       "<table border=\"1\" class=\"dataframe\">\n",
       "  <thead>\n",
       "    <tr style=\"text-align: right;\">\n",
       "      <th></th>\n",
       "      <th>age</th>\n",
       "      <th>occupation</th>\n",
       "      <th>telephone</th>\n",
       "      <th>credit-card-number</th>\n",
       "      <th>credit-card-expiration</th>\n",
       "      <th>name</th>\n",
       "      <th>street-address</th>\n",
       "      <th>city</th>\n",
       "    </tr>\n",
       "  </thead>\n",
       "  <tbody>\n",
       "    <tr>\n",
       "      <th>0</th>\n",
       "      <td>46</td>\n",
       "      <td>Licensing</td>\n",
       "      <td>433-287-8681</td>\n",
       "      <td>4860 0093 3074 8544</td>\n",
       "      <td>05/22</td>\n",
       "      <td>Arletta Rasmussen</td>\n",
       "      <td>962 Alton Bend</td>\n",
       "      <td>Springboro</td>\n",
       "    </tr>\n",
       "    <tr>\n",
       "      <th>1</th>\n",
       "      <td>19</td>\n",
       "      <td>Recruitment Consultant</td>\n",
       "      <td>405-293-3268</td>\n",
       "      <td>3430 721674 70199</td>\n",
       "      <td>04/25</td>\n",
       "      <td>Elliot Boyer</td>\n",
       "      <td>1183 Grove Heights</td>\n",
       "      <td>Tustin</td>\n",
       "    </tr>\n",
       "    <tr>\n",
       "      <th>2</th>\n",
       "      <td>19</td>\n",
       "      <td>Transport Controller</td>\n",
       "      <td>194-158-0044</td>\n",
       "      <td>3759 319509 24988</td>\n",
       "      <td>10/25</td>\n",
       "      <td>Leonarda Mcdonald</td>\n",
       "      <td>76 Stern Grove Nene</td>\n",
       "      <td>Oakland</td>\n",
       "    </tr>\n",
       "    <tr>\n",
       "      <th>3</th>\n",
       "      <td>16</td>\n",
       "      <td>Technical Manager</td>\n",
       "      <td>994-857-4267</td>\n",
       "      <td>3742 206286 01876</td>\n",
       "      <td>08/24</td>\n",
       "      <td>Leland Horton</td>\n",
       "      <td>762 Keith Loop</td>\n",
       "      <td>Zanesville</td>\n",
       "    </tr>\n",
       "    <tr>\n",
       "      <th>4</th>\n",
       "      <td>35</td>\n",
       "      <td>Nutritionist</td>\n",
       "      <td>1-792-483-0039</td>\n",
       "      <td>5469 6720 6779 8669</td>\n",
       "      <td>04/23</td>\n",
       "      <td>Hollis Molina</td>\n",
       "      <td>843 Friendship Gardens</td>\n",
       "      <td>Belton</td>\n",
       "    </tr>\n",
       "  </tbody>\n",
       "</table>\n",
       "</div>"
      ],
      "text/plain": [
       "   age              occupation       telephone   credit-card-number  \\\n",
       "0   46               Licensing    433-287-8681  4860 0093 3074 8544   \n",
       "1   19  Recruitment Consultant    405-293-3268    3430 721674 70199   \n",
       "2   19    Transport Controller    194-158-0044    3759 319509 24988   \n",
       "3   16       Technical Manager    994-857-4267    3742 206286 01876   \n",
       "4   35            Nutritionist  1-792-483-0039  5469 6720 6779 8669   \n",
       "\n",
       "  credit-card-expiration               name          street-address  \\\n",
       "0                  05/22  Arletta Rasmussen          962 Alton Bend   \n",
       "1                  04/25       Elliot Boyer      1183 Grove Heights   \n",
       "2                  10/25  Leonarda Mcdonald     76 Stern Grove Nene   \n",
       "3                  08/24      Leland Horton          762 Keith Loop   \n",
       "4                  04/23      Hollis Molina  843 Friendship Gardens   \n",
       "\n",
       "         city  \n",
       "0  Springboro  \n",
       "1      Tustin  \n",
       "2     Oakland  \n",
       "3  Zanesville  \n",
       "4      Belton  "
      ]
     },
     "execution_count": 1,
     "metadata": {},
     "output_type": "execute_result"
    }
   ],
   "source": [
    "df = b.map(flatten).to_dataframe()\n",
    "df.head()"
   ]
  },
  {
   "cell_type": "markdown",
   "metadata": {},
   "source": [
    "We can now perform the same computation as before, but now using Pandas and Dask dataframe."
   ]
  },
  {
   "cell_type": "code",
   "execution_count": 15,
   "metadata": {
    "execution": {
     "iopub.execute_input": "2020-11-05T10:41:13.047869Z",
     "iopub.status.busy": "2020-11-05T10:41:13.046071Z",
     "iopub.status.idle": "2020-11-05T10:41:13.726616Z",
     "shell.execute_reply": "2020-11-05T10:41:13.726164Z"
    }
   },
   "outputs": [
    {
     "data": {
      "text/plain": [
       "Illustrator            15\n",
       "Minicab Driver         15\n",
       "Carpenter              13\n",
       "Payroll Clerk          13\n",
       "Blinds Installer       13\n",
       "Stock Manager          13\n",
       "Gun Smith              13\n",
       "Calibration Manager    13\n",
       "Scrap Dealer           13\n",
       "Hosiery Mechanic       13\n",
       "Name: occupation, dtype: int64"
      ]
     },
     "execution_count": 1,
     "metadata": {},
     "output_type": "execute_result"
    }
   ],
   "source": [
    "df[df.age > 30].occupation.value_counts().nlargest(10).compute()"
   ]
  },
  {
   "cell_type": "markdown",
   "metadata": {},
   "source": [
    "## Learn More\n",
    "\n",
    "You may be interested in the following links:\n",
    "\n",
    "-  [Dask Bag Documentation](https://docs.dask.org/en/latest/bag.html)\n",
    "-  [API Documentation](http://docs.dask.org/en/latest/bag-api.html)\n",
    "-  [dask tutorial](https://github.com/dask/dask-tutorial), notebook 02, for a more in-depth introduction."
   ]
  }
 ],
 "metadata": {
  "kernelspec": {
   "display_name": "Python 3",
   "language": "python",
   "name": "python3"
  },
  "language_info": {
   "codemirror_mode": {
    "name": "ipython",
    "version": 3
   },
   "file_extension": ".py",
   "mimetype": "text/x-python",
   "name": "python",
   "nbconvert_exporter": "python",
   "pygments_lexer": "ipython3",
   "version": "3.8.6"
  }
 },
 "nbformat": 4,
 "nbformat_minor": 2
}
