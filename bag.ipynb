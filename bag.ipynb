{
 "cells": [
  {
   "cell_type": "markdown",
   "metadata": {},
   "source": [
    "# Dask Bags\n",
    "\n",
    "\n",
    "Dask Bag implements operations like `map`, `filter`, `groupby` and aggregations on collections of Python objects. It does this in parallel and in small memory using Python iterators. It is similar to a parallel version of itertools or a Pythonic version of the PySpark RDD.\n",
    "\n",
    "Dask Bags are often used to do simple preprocessing on log files, JSON records, or other user defined Python objects.\n",
    "\n",
    "Full API documentation is available here: http://docs.dask.org/en/latest/bag-api.html"
   ]
  },
  {
   "cell_type": "markdown",
   "metadata": {},
   "source": [
    "## Start Dask Client for Dashboard\n",
    "\n",
    "Starting the Dask Client is optional.  It will provide a dashboard which \n",
    "is useful to gain insight on the computation.  \n",
    "\n",
    "The link to the dashboard will become visible when you create the client below.  We recommend having it open on one side of your screen while using your notebook on the other side.  This can take some effort to arrange your windows, but seeing them both at the same is very useful when learning."
   ]
  },
  {
   "cell_type": "code",
   "execution_count": 1,
   "metadata": {
    "execution": {
     "iopub.execute_input": "2020-11-05T11:13:32.153955Z",
     "iopub.status.busy": "2020-11-05T11:13:32.153509Z",
     "iopub.status.idle": "2020-11-05T11:13:34.056335Z",
     "shell.execute_reply": "2020-11-05T11:13:34.057098Z"
    }
   },
   "outputs": [
    {
     "data": {
      "text/html": [
       "<table style=\"border: 2px solid white;\">\n",
       "<tr>\n",
       "<td style=\"vertical-align: top; border: 0px solid white\">\n",
       "<h3 style=\"text-align: left;\">Client</h3>\n",
       "<ul style=\"text-align: left; list-style: none; margin: 0; padding: 0;\">\n",
       "  <li><b>Scheduler: </b>tcp://127.0.0.1:40165</li>\n",
       "  <li><b>Dashboard: </b><a href='http://127.0.0.1:8787/status' target='_blank'>http://127.0.0.1:8787/status</a></li>\n",
       "</ul>\n",
       "</td>\n",
       "<td style=\"vertical-align: top; border: 0px solid white\">\n",
       "<h3 style=\"text-align: left;\">Cluster</h3>\n",
       "<ul style=\"text-align: left; list-style:none; margin: 0; padding: 0;\">\n",
       "  <li><b>Workers: </b>4</li>\n",
       "  <li><b>Cores: </b>4</li>\n",
       "  <li><b>Memory: </b>7.29 GB</li>\n",
       "</ul>\n",
       "</td>\n",
       "</tr>\n",
       "</table>"
      ],
      "text/plain": [
       "<Client: 'tcp://127.0.0.1:40165' processes=4 threads=4, memory=7.29 GB>"
      ]
     },
     "execution_count": 1,
     "metadata": {},
     "output_type": "execute_result"
    }
   ],
   "source": [
    "from dask.distributed import Client, progress\n",
    "client = Client(n_workers=4, threads_per_worker=1)\n",
    "client"
   ]
  },
  {
   "cell_type": "markdown",
   "metadata": {},
   "source": [
    "## Create Random Data\n",
    "\n",
    "We create a random set of record data and store it to disk as many JSON files.  This will serve as our data for this notebook."
   ]
  },
  {
   "cell_type": "code",
   "execution_count": 2,
   "metadata": {
    "execution": {
     "iopub.execute_input": "2020-11-05T11:13:34.062545Z",
     "iopub.status.busy": "2020-11-05T11:13:34.062075Z",
     "iopub.status.idle": "2020-11-05T11:13:34.889750Z",
     "shell.execute_reply": "2020-11-05T11:13:34.889316Z"
    }
   },
   "outputs": [
    {
     "data": {
      "text/plain": [
       "['/home/runner/work/dask-examples/dask-examples/data/0.json',\n",
       " '/home/runner/work/dask-examples/dask-examples/data/1.json',\n",
       " '/home/runner/work/dask-examples/dask-examples/data/2.json',\n",
       " '/home/runner/work/dask-examples/dask-examples/data/3.json',\n",
       " '/home/runner/work/dask-examples/dask-examples/data/4.json',\n",
       " '/home/runner/work/dask-examples/dask-examples/data/5.json',\n",
       " '/home/runner/work/dask-examples/dask-examples/data/6.json',\n",
       " '/home/runner/work/dask-examples/dask-examples/data/7.json',\n",
       " '/home/runner/work/dask-examples/dask-examples/data/8.json',\n",
       " '/home/runner/work/dask-examples/dask-examples/data/9.json']"
      ]
     },
     "execution_count": 1,
     "metadata": {},
     "output_type": "execute_result"
    }
   ],
   "source": [
    "import dask\n",
    "import json\n",
    "import os\n",
    "\n",
    "os.makedirs('data', exist_ok=True)              # Create data/ directory\n",
    "\n",
    "b = dask.datasets.make_people()                 # Make records of people\n",
    "b.map(json.dumps).to_textfiles('data/*.json')   # Encode as JSON, write to disk"
   ]
  },
  {
   "cell_type": "markdown",
   "metadata": {},
   "source": [
    "## Read JSON data\n",
    "\n",
    "Now that we have some JSON data in a file lets take a look at it with Dask Bag and Python JSON module."
   ]
  },
  {
   "cell_type": "code",
   "execution_count": 3,
   "metadata": {
    "execution": {
     "iopub.execute_input": "2020-11-05T11:13:34.893239Z",
     "iopub.status.busy": "2020-11-05T11:13:34.892832Z",
     "iopub.status.idle": "2020-11-05T11:13:35.046480Z",
     "shell.execute_reply": "2020-11-05T11:13:35.045949Z"
    }
   },
   "outputs": [
    {
     "name": "stdout",
     "output_type": "stream",
     "text": [
      "{\"age\": 20, \"name\": [\"Margherita\", \"Mercer\"], \"occupation\": \"Bursar\", \"telephone\": \"256-774-6658\", \"address\": {\"address\": \"142 Elmwood Path\", \"city\": \"Pittsfield\"}, \"credit-card\": {\"number\": \"2307 2439 9160 7963\", \"expiration-date\": \"10/22\"}}\r\n",
      "{\"age\": 27, \"name\": [\"Laurence\", \"Fields\"], \"occupation\": \"Instrument Supervisor\", \"telephone\": \"221.414.0040\", \"address\": {\"address\": \"141 Eldridge Mall\", \"city\": \"Dublin\"}, \"credit-card\": {\"number\": \"3472 244347 44445\", \"expiration-date\": \"03/21\"}}\r\n"
     ]
    }
   ],
   "source": [
    "!head -n 2 data/0.json"
   ]
  },
  {
   "cell_type": "code",
   "execution_count": 4,
   "metadata": {
    "execution": {
     "iopub.execute_input": "2020-11-05T11:13:35.050845Z",
     "iopub.status.busy": "2020-11-05T11:13:35.050395Z",
     "iopub.status.idle": "2020-11-05T11:13:35.060775Z",
     "shell.execute_reply": "2020-11-05T11:13:35.060323Z"
    }
   },
   "outputs": [
    {
     "data": {
      "text/plain": [
       "dask.bag<loads, npartitions=10>"
      ]
     },
     "execution_count": 1,
     "metadata": {},
     "output_type": "execute_result"
    }
   ],
   "source": [
    "import dask.bag as db\n",
    "import json\n",
    "\n",
    "b = db.read_text('data/*.json').map(json.loads)\n",
    "b"
   ]
  },
  {
   "cell_type": "code",
   "execution_count": 5,
   "metadata": {
    "execution": {
     "iopub.execute_input": "2020-11-05T11:13:35.065476Z",
     "iopub.status.busy": "2020-11-05T11:13:35.064984Z",
     "iopub.status.idle": "2020-11-05T11:13:35.082744Z",
     "shell.execute_reply": "2020-11-05T11:13:35.083375Z"
    }
   },
   "outputs": [
    {
     "data": {
      "text/plain": [
       "({'age': 20,\n",
       "  'name': ['Margherita', 'Mercer'],\n",
       "  'occupation': 'Bursar',\n",
       "  'telephone': '256-774-6658',\n",
       "  'address': {'address': '142 Elmwood Path', 'city': 'Pittsfield'},\n",
       "  'credit-card': {'number': '2307 2439 9160 7963',\n",
       "   'expiration-date': '10/22'}},\n",
       " {'age': 27,\n",
       "  'name': ['Laurence', 'Fields'],\n",
       "  'occupation': 'Instrument Supervisor',\n",
       "  'telephone': '221.414.0040',\n",
       "  'address': {'address': '141 Eldridge Mall', 'city': 'Dublin'},\n",
       "  'credit-card': {'number': '3472 244347 44445', 'expiration-date': '03/21'}})"
      ]
     },
     "execution_count": 1,
     "metadata": {},
     "output_type": "execute_result"
    }
   ],
   "source": [
    "b.take(2)"
   ]
  },
  {
   "cell_type": "markdown",
   "metadata": {},
   "source": [
    "## Map, Filter, Aggregate\n",
    "\n",
    "We can process this data by filtering out only certain records of interest, mapping functions over it to process our data, and aggregating those results to a total value."
   ]
  },
  {
   "cell_type": "code",
   "execution_count": 6,
   "metadata": {
    "execution": {
     "iopub.execute_input": "2020-11-05T11:13:35.087052Z",
     "iopub.status.busy": "2020-11-05T11:13:35.086583Z",
     "iopub.status.idle": "2020-11-05T11:13:35.107954Z",
     "shell.execute_reply": "2020-11-05T11:13:35.107474Z"
    }
   },
   "outputs": [
    {
     "data": {
      "text/plain": [
       "({'age': 32,\n",
       "  'name': ['Elin', 'Cross'],\n",
       "  'occupation': 'Brewery Worker',\n",
       "  'telephone': '844.943.5015',\n",
       "  'address': {'address': '1210 Burnside Row', 'city': 'South Portland'},\n",
       "  'credit-card': {'number': '4447 2464 0097 6041',\n",
       "   'expiration-date': '03/18'}},\n",
       " {'age': 38,\n",
       "  'name': ['Miquel', 'Nash'],\n",
       "  'occupation': 'Travel Guide Writer',\n",
       "  'telephone': '448-956-0375',\n",
       "  'address': {'address': '13 Russian Hill Promenade', 'city': 'Pompano Beach'},\n",
       "  'credit-card': {'number': '2252 7770 5755 8128',\n",
       "   'expiration-date': '02/25'}})"
      ]
     },
     "execution_count": 1,
     "metadata": {},
     "output_type": "execute_result"
    }
   ],
   "source": [
    "b.filter(lambda record: record['age'] > 30).take(2)  # Select only people over 30"
   ]
  },
  {
   "cell_type": "code",
   "execution_count": 7,
   "metadata": {
    "execution": {
     "iopub.execute_input": "2020-11-05T11:13:35.111156Z",
     "iopub.status.busy": "2020-11-05T11:13:35.110673Z",
     "iopub.status.idle": "2020-11-05T11:13:35.131141Z",
     "shell.execute_reply": "2020-11-05T11:13:35.130243Z"
    }
   },
   "outputs": [
    {
     "data": {
      "text/plain": [
       "('Bursar', 'Instrument Supervisor')"
      ]
     },
     "execution_count": 1,
     "metadata": {},
     "output_type": "execute_result"
    }
   ],
   "source": [
    "b.map(lambda record: record['occupation']).take(2)  # Select the occupation field"
   ]
  },
  {
   "cell_type": "code",
   "execution_count": 8,
   "metadata": {
    "execution": {
     "iopub.execute_input": "2020-11-05T11:13:35.140121Z",
     "iopub.status.busy": "2020-11-05T11:13:35.139655Z",
     "iopub.status.idle": "2020-11-05T11:13:35.239710Z",
     "shell.execute_reply": "2020-11-05T11:13:35.240428Z"
    }
   },
   "outputs": [
    {
     "data": {
      "text/plain": [
       "10000"
      ]
     },
     "execution_count": 1,
     "metadata": {},
     "output_type": "execute_result"
    }
   ],
   "source": [
    "b.count().compute()  # Count total number of records"
   ]
  },
  {
   "cell_type": "markdown",
   "metadata": {},
   "source": [
    "## Chain computations\n",
    "\n",
    "It is common to do many of these steps in one pipeline, only calling `compute` or `take` at the end."
   ]
  },
  {
   "cell_type": "code",
   "execution_count": 9,
   "metadata": {
    "execution": {
     "iopub.execute_input": "2020-11-05T11:13:35.246209Z",
     "iopub.status.busy": "2020-11-05T11:13:35.245720Z",
     "iopub.status.idle": "2020-11-05T11:13:35.248395Z",
     "shell.execute_reply": "2020-11-05T11:13:35.248912Z"
    }
   },
   "outputs": [
    {
     "data": {
      "text/plain": [
       "dask.bag<topk-aggregate, npartitions=1>"
      ]
     },
     "execution_count": 1,
     "metadata": {},
     "output_type": "execute_result"
    }
   ],
   "source": [
    "result = (b.filter(lambda record: record['age'] > 30)\n",
    "           .map(lambda record: record['occupation'])\n",
    "           .frequencies(sort=True)\n",
    "           .topk(10, key=1))\n",
    "result"
   ]
  },
  {
   "cell_type": "markdown",
   "metadata": {},
   "source": [
    "As with all lazy Dask collections, we need to call `compute` to actually evaluate our result.  The `take` method used in earlier examples is also like `compute` and will also trigger computation."
   ]
  },
  {
   "cell_type": "code",
   "execution_count": 10,
   "metadata": {
    "execution": {
     "iopub.execute_input": "2020-11-05T11:13:35.261056Z",
     "iopub.status.busy": "2020-11-05T11:13:35.257446Z",
     "iopub.status.idle": "2020-11-05T11:13:35.371397Z",
     "shell.execute_reply": "2020-11-05T11:13:35.371828Z"
    }
   },
   "outputs": [
    {
     "data": {
      "text/plain": [
       "[('Insurance Inspector', 14),\n",
       " ('Priest', 14),\n",
       " ('Auto Electrician', 14),\n",
       " ('Tree Feller', 14),\n",
       " ('Astronomer', 13),\n",
       " ('Racehorse Groom', 13),\n",
       " ('School Crossing', 13),\n",
       " ('Gambler', 13),\n",
       " ('Works Manager', 13),\n",
       " ('Recruitment Consultant', 12)]"
      ]
     },
     "execution_count": 1,
     "metadata": {},
     "output_type": "execute_result"
    }
   ],
   "source": [
    "result.compute()"
   ]
  },
  {
   "cell_type": "markdown",
   "metadata": {},
   "source": [
    "## Transform and Store\n",
    "\n",
    "Sometimes we want to compute aggregations as above, but sometimes we want to store results to disk for future analyses.  For that we can use methods like `to_textfiles` and `json.dumps`, or we can convert to Dask Dataframes and use their storage systems, which we'll see more of in the next section."
   ]
  },
  {
   "cell_type": "code",
   "execution_count": 11,
   "metadata": {
    "execution": {
     "iopub.execute_input": "2020-11-05T11:13:35.375812Z",
     "iopub.status.busy": "2020-11-05T11:13:35.375406Z",
     "iopub.status.idle": "2020-11-05T11:13:35.489782Z",
     "shell.execute_reply": "2020-11-05T11:13:35.489350Z"
    }
   },
   "outputs": [
    {
     "data": {
      "text/plain": [
       "['/home/runner/work/dask-examples/dask-examples/data/processed.0.json',\n",
       " '/home/runner/work/dask-examples/dask-examples/data/processed.1.json',\n",
       " '/home/runner/work/dask-examples/dask-examples/data/processed.2.json',\n",
       " '/home/runner/work/dask-examples/dask-examples/data/processed.3.json',\n",
       " '/home/runner/work/dask-examples/dask-examples/data/processed.4.json',\n",
       " '/home/runner/work/dask-examples/dask-examples/data/processed.5.json',\n",
       " '/home/runner/work/dask-examples/dask-examples/data/processed.6.json',\n",
       " '/home/runner/work/dask-examples/dask-examples/data/processed.7.json',\n",
       " '/home/runner/work/dask-examples/dask-examples/data/processed.8.json',\n",
       " '/home/runner/work/dask-examples/dask-examples/data/processed.9.json']"
      ]
     },
     "execution_count": 1,
     "metadata": {},
     "output_type": "execute_result"
    }
   ],
   "source": [
    "(b.filter(lambda record: record['age'] > 30)  # Select records of interest\n",
    "  .map(json.dumps)                            # Convert Python objects to text\n",
    "  .to_textfiles('data/processed.*.json'))     # Write to local disk"
   ]
  },
  {
   "cell_type": "markdown",
   "metadata": {},
   "source": [
    "## Convert to Dask Dataframes\n",
    "\n",
    "Dask Bags are good for reading in initial data, doing a bit of pre-processing, and then handing off to some other more efficient form like Dask Dataframes.  Dask Dataframes use Pandas internally, and so can be much faster on numeric data and also have more complex algorithms.  \n",
    "\n",
    "However, Dask Dataframes also expect data that is organized as flat columns.  It does not support nested JSON data very well (Bag is better for this).\n",
    "\n",
    "Here we make a function to flatten down our nested data structure, map that across our records, and then convert that to a Dask Dataframe."
   ]
  },
  {
   "cell_type": "code",
   "execution_count": 12,
   "metadata": {
    "execution": {
     "iopub.execute_input": "2020-11-05T11:13:35.493285Z",
     "iopub.status.busy": "2020-11-05T11:13:35.492845Z",
     "iopub.status.idle": "2020-11-05T11:13:35.511605Z",
     "shell.execute_reply": "2020-11-05T11:13:35.511063Z"
    }
   },
   "outputs": [
    {
     "data": {
      "text/plain": [
       "({'age': 20,\n",
       "  'name': ['Margherita', 'Mercer'],\n",
       "  'occupation': 'Bursar',\n",
       "  'telephone': '256-774-6658',\n",
       "  'address': {'address': '142 Elmwood Path', 'city': 'Pittsfield'},\n",
       "  'credit-card': {'number': '2307 2439 9160 7963',\n",
       "   'expiration-date': '10/22'}},)"
      ]
     },
     "execution_count": 1,
     "metadata": {},
     "output_type": "execute_result"
    }
   ],
   "source": [
    "b.take(1)"
   ]
  },
  {
   "cell_type": "code",
   "execution_count": 13,
   "metadata": {
    "execution": {
     "iopub.execute_input": "2020-11-05T11:13:35.516272Z",
     "iopub.status.busy": "2020-11-05T11:13:35.513353Z",
     "iopub.status.idle": "2020-11-05T11:13:35.535115Z",
     "shell.execute_reply": "2020-11-05T11:13:35.534614Z"
    }
   },
   "outputs": [
    {
     "data": {
      "text/plain": [
       "({'age': 20,\n",
       "  'occupation': 'Bursar',\n",
       "  'telephone': '256-774-6658',\n",
       "  'credit-card-number': '2307 2439 9160 7963',\n",
       "  'credit-card-expiration': '10/22',\n",
       "  'name': 'Margherita Mercer',\n",
       "  'street-address': '142 Elmwood Path',\n",
       "  'city': 'Pittsfield'},)"
      ]
     },
     "execution_count": 1,
     "metadata": {},
     "output_type": "execute_result"
    }
   ],
   "source": [
    "def flatten(record):\n",
    "    return {\n",
    "        'age': record['age'],\n",
    "        'occupation': record['occupation'],\n",
    "        'telephone': record['telephone'],\n",
    "        'credit-card-number': record['credit-card']['number'],\n",
    "        'credit-card-expiration': record['credit-card']['expiration-date'],\n",
    "        'name': ' '.join(record['name']),\n",
    "        'street-address': record['address']['address'],\n",
    "        'city': record['address']['city']   \n",
    "    }\n",
    "\n",
    "b.map(flatten).take(1)"
   ]
  },
  {
   "cell_type": "code",
   "execution_count": 14,
   "metadata": {
    "execution": {
     "iopub.execute_input": "2020-11-05T11:13:35.538461Z",
     "iopub.status.busy": "2020-11-05T11:13:35.537977Z",
     "iopub.status.idle": "2020-11-05T11:13:36.074125Z",
     "shell.execute_reply": "2020-11-05T11:13:36.074810Z"
    }
   },
   "outputs": [
    {
     "data": {
      "text/html": [
       "<div>\n",
       "<style scoped>\n",
       "    .dataframe tbody tr th:only-of-type {\n",
       "        vertical-align: middle;\n",
       "    }\n",
       "\n",
       "    .dataframe tbody tr th {\n",
       "        vertical-align: top;\n",
       "    }\n",
       "\n",
       "    .dataframe thead th {\n",
       "        text-align: right;\n",
       "    }\n",
       "</style>\n",
       "<table border=\"1\" class=\"dataframe\">\n",
       "  <thead>\n",
       "    <tr style=\"text-align: right;\">\n",
       "      <th></th>\n",
       "      <th>age</th>\n",
       "      <th>occupation</th>\n",
       "      <th>telephone</th>\n",
       "      <th>credit-card-number</th>\n",
       "      <th>credit-card-expiration</th>\n",
       "      <th>name</th>\n",
       "      <th>street-address</th>\n",
       "      <th>city</th>\n",
       "    </tr>\n",
       "  </thead>\n",
       "  <tbody>\n",
       "    <tr>\n",
       "      <th>0</th>\n",
       "      <td>20</td>\n",
       "      <td>Bursar</td>\n",
       "      <td>256-774-6658</td>\n",
       "      <td>2307 2439 9160 7963</td>\n",
       "      <td>10/22</td>\n",
       "      <td>Margherita Mercer</td>\n",
       "      <td>142 Elmwood Path</td>\n",
       "      <td>Pittsfield</td>\n",
       "    </tr>\n",
       "    <tr>\n",
       "      <th>1</th>\n",
       "      <td>27</td>\n",
       "      <td>Instrument Supervisor</td>\n",
       "      <td>221.414.0040</td>\n",
       "      <td>3472 244347 44445</td>\n",
       "      <td>03/21</td>\n",
       "      <td>Laurence Fields</td>\n",
       "      <td>141 Eldridge Mall</td>\n",
       "      <td>Dublin</td>\n",
       "    </tr>\n",
       "    <tr>\n",
       "      <th>2</th>\n",
       "      <td>32</td>\n",
       "      <td>Brewery Worker</td>\n",
       "      <td>844.943.5015</td>\n",
       "      <td>4447 2464 0097 6041</td>\n",
       "      <td>03/18</td>\n",
       "      <td>Elin Cross</td>\n",
       "      <td>1210 Burnside Row</td>\n",
       "      <td>South Portland</td>\n",
       "    </tr>\n",
       "    <tr>\n",
       "      <th>3</th>\n",
       "      <td>38</td>\n",
       "      <td>Travel Guide Writer</td>\n",
       "      <td>448-956-0375</td>\n",
       "      <td>2252 7770 5755 8128</td>\n",
       "      <td>02/25</td>\n",
       "      <td>Miquel Nash</td>\n",
       "      <td>13 Russian Hill Promenade</td>\n",
       "      <td>Pompano Beach</td>\n",
       "    </tr>\n",
       "    <tr>\n",
       "      <th>4</th>\n",
       "      <td>22</td>\n",
       "      <td>Ambulance Crew</td>\n",
       "      <td>+1-(626)-336-8803</td>\n",
       "      <td>4826 6698 6060 6785</td>\n",
       "      <td>10/17</td>\n",
       "      <td>Anya Rivers</td>\n",
       "      <td>834 Brighton Square</td>\n",
       "      <td>Davis</td>\n",
       "    </tr>\n",
       "  </tbody>\n",
       "</table>\n",
       "</div>"
      ],
      "text/plain": [
       "   age             occupation          telephone   credit-card-number  \\\n",
       "0   20                 Bursar       256-774-6658  2307 2439 9160 7963   \n",
       "1   27  Instrument Supervisor       221.414.0040    3472 244347 44445   \n",
       "2   32         Brewery Worker       844.943.5015  4447 2464 0097 6041   \n",
       "3   38    Travel Guide Writer       448-956-0375  2252 7770 5755 8128   \n",
       "4   22         Ambulance Crew  +1-(626)-336-8803  4826 6698 6060 6785   \n",
       "\n",
       "  credit-card-expiration               name             street-address  \\\n",
       "0                  10/22  Margherita Mercer           142 Elmwood Path   \n",
       "1                  03/21    Laurence Fields          141 Eldridge Mall   \n",
       "2                  03/18         Elin Cross          1210 Burnside Row   \n",
       "3                  02/25        Miquel Nash  13 Russian Hill Promenade   \n",
       "4                  10/17        Anya Rivers        834 Brighton Square   \n",
       "\n",
       "             city  \n",
       "0      Pittsfield  \n",
       "1          Dublin  \n",
       "2  South Portland  \n",
       "3   Pompano Beach  \n",
       "4           Davis  "
      ]
     },
     "execution_count": 1,
     "metadata": {},
     "output_type": "execute_result"
    }
   ],
   "source": [
    "df = b.map(flatten).to_dataframe()\n",
    "df.head()"
   ]
  },
  {
   "cell_type": "markdown",
   "metadata": {},
   "source": [
    "We can now perform the same computation as before, but now using Pandas and Dask dataframe."
   ]
  },
  {
   "cell_type": "code",
   "execution_count": 15,
   "metadata": {
    "execution": {
     "iopub.execute_input": "2020-11-05T11:13:36.082872Z",
     "iopub.status.busy": "2020-11-05T11:13:36.082111Z",
     "iopub.status.idle": "2020-11-05T11:13:36.715268Z",
     "shell.execute_reply": "2020-11-05T11:13:36.716255Z"
    }
   },
   "outputs": [
    {
     "data": {
      "text/plain": [
       "Auto Electrician       14\n",
       "Priest                 14\n",
       "Insurance Inspector    14\n",
       "Tree Feller            14\n",
       "Works Manager          13\n",
       "Astronomer             13\n",
       "School Crossing        13\n",
       "Racehorse Groom        13\n",
       "Gambler                13\n",
       "Turner                 12\n",
       "Name: occupation, dtype: int64"
      ]
     },
     "execution_count": 1,
     "metadata": {},
     "output_type": "execute_result"
    }
   ],
   "source": [
    "df[df.age > 30].occupation.value_counts().nlargest(10).compute()"
   ]
  },
  {
   "cell_type": "markdown",
   "metadata": {},
   "source": [
    "## Learn More\n",
    "\n",
    "You may be interested in the following links:\n",
    "\n",
    "-  [Dask Bag Documentation](https://docs.dask.org/en/latest/bag.html)\n",
    "-  [API Documentation](http://docs.dask.org/en/latest/bag-api.html)\n",
    "-  [dask tutorial](https://github.com/dask/dask-tutorial), notebook 02, for a more in-depth introduction."
   ]
  }
 ],
 "metadata": {
  "kernelspec": {
   "display_name": "Python 3",
   "language": "python",
   "name": "python3"
  },
  "language_info": {
   "codemirror_mode": {
    "name": "ipython",
    "version": 3
   },
   "file_extension": ".py",
   "mimetype": "text/x-python",
   "name": "python",
   "nbconvert_exporter": "python",
   "pygments_lexer": "ipython3",
   "version": "3.8.6"
  }
 },
 "nbformat": 4,
 "nbformat_minor": 2
}
