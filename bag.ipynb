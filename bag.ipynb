{
 "cells": [
  {
   "cell_type": "markdown",
   "metadata": {},
   "source": [
    "# Dask Bags\n",
    "\n",
    "\n",
    "Dask Bag implements operations like `map`, `filter`, `groupby` and aggregations on collections of Python objects. It does this in parallel and in small memory using Python iterators. It is similar to a parallel version of itertools or a Pythonic version of the PySpark RDD.\n",
    "\n",
    "Dask Bags are often used to do simple preprocessing on log files, JSON records, or other user defined Python objects.\n",
    "\n",
    "Full API documentation is available here: http://docs.dask.org/en/latest/bag-api.html"
   ]
  },
  {
   "cell_type": "markdown",
   "metadata": {},
   "source": [
    "## Start Dask Client for Dashboard\n",
    "\n",
    "Starting the Dask Client is optional.  It will provide a dashboard which \n",
    "is useful to gain insight on the computation.  \n",
    "\n",
    "The link to the dashboard will become visible when you create the client below.  We recommend having it open on one side of your screen while using your notebook on the other side.  This can take some effort to arrange your windows, but seeing them both at the same is very useful when learning."
   ]
  },
  {
   "cell_type": "code",
   "execution_count": 1,
   "metadata": {
    "execution": {
     "iopub.execute_input": "2021-01-23T03:33:34.642592Z",
     "iopub.status.busy": "2021-01-23T03:33:34.642044Z",
     "iopub.status.idle": "2021-01-23T03:33:37.272529Z",
     "shell.execute_reply": "2021-01-23T03:33:37.273154Z"
    }
   },
   "outputs": [
    {
     "name": "stderr",
     "output_type": "stream",
     "text": [
      "/usr/share/miniconda3/envs/dask-examples/lib/python3.8/site-packages/distributed/node.py:151: UserWarning: Port 8787 is already in use.\n",
      "Perhaps you already have a cluster running?\n",
      "Hosting the HTTP server on port 35695 instead\n",
      "  warnings.warn(\n"
     ]
    },
    {
     "data": {
      "text/html": [
       "<table style=\"border: 2px solid white;\">\n",
       "<tr>\n",
       "<td style=\"vertical-align: top; border: 0px solid white\">\n",
       "<h3 style=\"text-align: left;\">Client</h3>\n",
       "<ul style=\"text-align: left; list-style: none; margin: 0; padding: 0;\">\n",
       "  <li><b>Scheduler: </b>tcp://127.0.0.1:37667</li>\n",
       "  <li><b>Dashboard: </b><a href='http://127.0.0.1:35695/status' target='_blank'>http://127.0.0.1:35695/status</a></li>\n",
       "</ul>\n",
       "</td>\n",
       "<td style=\"vertical-align: top; border: 0px solid white\">\n",
       "<h3 style=\"text-align: left;\">Cluster</h3>\n",
       "<ul style=\"text-align: left; list-style:none; margin: 0; padding: 0;\">\n",
       "  <li><b>Workers: </b>4</li>\n",
       "  <li><b>Cores: </b>4</li>\n",
       "  <li><b>Memory: </b>7.29 GB</li>\n",
       "</ul>\n",
       "</td>\n",
       "</tr>\n",
       "</table>"
      ],
      "text/plain": [
       "<Client: 'tcp://127.0.0.1:37667' processes=4 threads=4, memory=7.29 GB>"
      ]
     },
     "execution_count": 1,
     "metadata": {},
     "output_type": "execute_result"
    }
   ],
   "source": [
    "from dask.distributed import Client, progress\n",
    "client = Client(n_workers=4, threads_per_worker=1)\n",
    "client"
   ]
  },
  {
   "cell_type": "markdown",
   "metadata": {},
   "source": [
    "## Create Random Data\n",
    "\n",
    "We create a random set of record data and store it to disk as many JSON files.  This will serve as our data for this notebook."
   ]
  },
  {
   "cell_type": "code",
   "execution_count": 2,
   "metadata": {
    "execution": {
     "iopub.execute_input": "2021-01-23T03:33:37.278417Z",
     "iopub.status.busy": "2021-01-23T03:33:37.277538Z",
     "iopub.status.idle": "2021-01-23T03:33:38.636909Z",
     "shell.execute_reply": "2021-01-23T03:33:38.636529Z"
    }
   },
   "outputs": [
    {
     "data": {
      "text/plain": [
       "['/home/runner/work/dask-examples/dask-examples/data/0.json',\n",
       " '/home/runner/work/dask-examples/dask-examples/data/1.json',\n",
       " '/home/runner/work/dask-examples/dask-examples/data/2.json',\n",
       " '/home/runner/work/dask-examples/dask-examples/data/3.json',\n",
       " '/home/runner/work/dask-examples/dask-examples/data/4.json',\n",
       " '/home/runner/work/dask-examples/dask-examples/data/5.json',\n",
       " '/home/runner/work/dask-examples/dask-examples/data/6.json',\n",
       " '/home/runner/work/dask-examples/dask-examples/data/7.json',\n",
       " '/home/runner/work/dask-examples/dask-examples/data/8.json',\n",
       " '/home/runner/work/dask-examples/dask-examples/data/9.json']"
      ]
     },
     "execution_count": 2,
     "metadata": {},
     "output_type": "execute_result"
    }
   ],
   "source": [
    "import dask\n",
    "import json\n",
    "import os\n",
    "\n",
    "os.makedirs('data', exist_ok=True)              # Create data/ directory\n",
    "\n",
    "b = dask.datasets.make_people()                 # Make records of people\n",
    "b.map(json.dumps).to_textfiles('data/*.json')   # Encode as JSON, write to disk"
   ]
  },
  {
   "cell_type": "markdown",
   "metadata": {},
   "source": [
    "## Read JSON data\n",
    "\n",
    "Now that we have some JSON data in a file lets take a look at it with Dask Bag and Python JSON module."
   ]
  },
  {
   "cell_type": "code",
   "execution_count": 3,
   "metadata": {
    "execution": {
     "iopub.execute_input": "2021-01-23T03:33:38.648868Z",
     "iopub.status.busy": "2021-01-23T03:33:38.648450Z",
     "iopub.status.idle": "2021-01-23T03:33:38.794615Z",
     "shell.execute_reply": "2021-01-23T03:33:38.794949Z"
    }
   },
   "outputs": [
    {
     "name": "stdout",
     "output_type": "stream",
     "text": [
      "{\"age\": 22, \"name\": [\"Debbra\", \"Hansen\"], \"occupation\": \"Television Producer\", \"telephone\": \"(095) 526-0370\", \"address\": {\"address\": \"207 Yorba Drive\", \"city\": \"Carpentersville\"}, \"credit-card\": {\"number\": \"2511 1577 1028 9865\", \"expiration-date\": \"05/25\"}}\r\n",
      "{\"age\": 16, \"name\": [\"Eldridge\", \"Bird\"], \"occupation\": \"Auctioneer\", \"telephone\": \"1-014-828-3605\", \"address\": {\"address\": \"768 Stonecrest Spur\", \"city\": \"Calumet City\"}, \"credit-card\": {\"number\": \"3435 702062 19097\", \"expiration-date\": \"10/25\"}}\r\n"
     ]
    }
   ],
   "source": [
    "!head -n 2 data/0.json"
   ]
  },
  {
   "cell_type": "code",
   "execution_count": 4,
   "metadata": {
    "execution": {
     "iopub.execute_input": "2021-01-23T03:33:38.800015Z",
     "iopub.status.busy": "2021-01-23T03:33:38.799168Z",
     "iopub.status.idle": "2021-01-23T03:33:38.806466Z",
     "shell.execute_reply": "2021-01-23T03:33:38.807215Z"
    }
   },
   "outputs": [
    {
     "data": {
      "text/plain": [
       "dask.bag<loads, npartitions=10>"
      ]
     },
     "execution_count": 4,
     "metadata": {},
     "output_type": "execute_result"
    }
   ],
   "source": [
    "import dask.bag as db\n",
    "import json\n",
    "\n",
    "b = db.read_text('data/*.json').map(json.loads)\n",
    "b"
   ]
  },
  {
   "cell_type": "code",
   "execution_count": 5,
   "metadata": {
    "execution": {
     "iopub.execute_input": "2021-01-23T03:33:38.810042Z",
     "iopub.status.busy": "2021-01-23T03:33:38.809170Z",
     "iopub.status.idle": "2021-01-23T03:33:38.829331Z",
     "shell.execute_reply": "2021-01-23T03:33:38.830507Z"
    }
   },
   "outputs": [
    {
     "data": {
      "text/plain": [
       "({'age': 22,\n",
       "  'name': ['Debbra', 'Hansen'],\n",
       "  'occupation': 'Television Producer',\n",
       "  'telephone': '(095) 526-0370',\n",
       "  'address': {'address': '207 Yorba Drive', 'city': 'Carpentersville'},\n",
       "  'credit-card': {'number': '2511 1577 1028 9865',\n",
       "   'expiration-date': '05/25'}},\n",
       " {'age': 16,\n",
       "  'name': ['Eldridge', 'Bird'],\n",
       "  'occupation': 'Auctioneer',\n",
       "  'telephone': '1-014-828-3605',\n",
       "  'address': {'address': '768 Stonecrest Spur', 'city': 'Calumet City'},\n",
       "  'credit-card': {'number': '3435 702062 19097', 'expiration-date': '10/25'}})"
      ]
     },
     "execution_count": 5,
     "metadata": {},
     "output_type": "execute_result"
    }
   ],
   "source": [
    "b.take(2)"
   ]
  },
  {
   "cell_type": "markdown",
   "metadata": {},
   "source": [
    "## Map, Filter, Aggregate\n",
    "\n",
    "We can process this data by filtering out only certain records of interest, mapping functions over it to process our data, and aggregating those results to a total value."
   ]
  },
  {
   "cell_type": "code",
   "execution_count": 6,
   "metadata": {
    "execution": {
     "iopub.execute_input": "2021-01-23T03:33:38.833108Z",
     "iopub.status.busy": "2021-01-23T03:33:38.832306Z",
     "iopub.status.idle": "2021-01-23T03:33:38.853392Z",
     "shell.execute_reply": "2021-01-23T03:33:38.853976Z"
    }
   },
   "outputs": [
    {
     "data": {
      "text/plain": [
       "({'age': 64,\n",
       "  'name': ['Simon', 'Webster'],\n",
       "  'occupation': 'Store Detective',\n",
       "  'telephone': '708.565.8035',\n",
       "  'address': {'address': '18 Dunsmuir Turnpike', 'city': 'Parkland'},\n",
       "  'credit-card': {'number': '3421 922734 35695', 'expiration-date': '11/17'}},\n",
       " {'age': 57,\n",
       "  'name': ['Rosann', 'Booker'],\n",
       "  'occupation': 'Minicab Driver',\n",
       "  'telephone': '320.488.5550',\n",
       "  'address': {'address': '127 Fuente Path', 'city': 'Moorpark'},\n",
       "  'credit-card': {'number': '4080 9509 6116 2584',\n",
       "   'expiration-date': '03/19'}})"
      ]
     },
     "execution_count": 6,
     "metadata": {},
     "output_type": "execute_result"
    }
   ],
   "source": [
    "b.filter(lambda record: record['age'] > 30).take(2)  # Select only people over 30"
   ]
  },
  {
   "cell_type": "code",
   "execution_count": 7,
   "metadata": {
    "execution": {
     "iopub.execute_input": "2021-01-23T03:33:38.858052Z",
     "iopub.status.busy": "2021-01-23T03:33:38.855652Z",
     "iopub.status.idle": "2021-01-23T03:33:38.875415Z",
     "shell.execute_reply": "2021-01-23T03:33:38.875981Z"
    }
   },
   "outputs": [
    {
     "data": {
      "text/plain": [
       "('Television Producer', 'Auctioneer')"
      ]
     },
     "execution_count": 7,
     "metadata": {},
     "output_type": "execute_result"
    }
   ],
   "source": [
    "b.map(lambda record: record['occupation']).take(2)  # Select the occupation field"
   ]
  },
  {
   "cell_type": "code",
   "execution_count": 8,
   "metadata": {
    "execution": {
     "iopub.execute_input": "2021-01-23T03:33:38.878700Z",
     "iopub.status.busy": "2021-01-23T03:33:38.877896Z",
     "iopub.status.idle": "2021-01-23T03:33:38.980979Z",
     "shell.execute_reply": "2021-01-23T03:33:38.981553Z"
    }
   },
   "outputs": [
    {
     "data": {
      "text/plain": [
       "10000"
      ]
     },
     "execution_count": 8,
     "metadata": {},
     "output_type": "execute_result"
    }
   ],
   "source": [
    "b.count().compute()  # Count total number of records"
   ]
  },
  {
   "cell_type": "markdown",
   "metadata": {},
   "source": [
    "## Chain computations\n",
    "\n",
    "It is common to do many of these steps in one pipeline, only calling `compute` or `take` at the end."
   ]
  },
  {
   "cell_type": "code",
   "execution_count": 9,
   "metadata": {
    "execution": {
     "iopub.execute_input": "2021-01-23T03:33:38.986650Z",
     "iopub.status.busy": "2021-01-23T03:33:38.985997Z",
     "iopub.status.idle": "2021-01-23T03:33:38.991098Z",
     "shell.execute_reply": "2021-01-23T03:33:38.990758Z"
    }
   },
   "outputs": [
    {
     "data": {
      "text/plain": [
       "dask.bag<topk-aggregate, npartitions=1>"
      ]
     },
     "execution_count": 9,
     "metadata": {},
     "output_type": "execute_result"
    }
   ],
   "source": [
    "result = (b.filter(lambda record: record['age'] > 30)\n",
    "           .map(lambda record: record['occupation'])\n",
    "           .frequencies(sort=True)\n",
    "           .topk(10, key=1))\n",
    "result"
   ]
  },
  {
   "cell_type": "markdown",
   "metadata": {},
   "source": [
    "As with all lazy Dask collections, we need to call `compute` to actually evaluate our result.  The `take` method used in earlier examples is also like `compute` and will also trigger computation."
   ]
  },
  {
   "cell_type": "code",
   "execution_count": 10,
   "metadata": {
    "execution": {
     "iopub.execute_input": "2021-01-23T03:33:39.001712Z",
     "iopub.status.busy": "2021-01-23T03:33:38.995850Z",
     "iopub.status.idle": "2021-01-23T03:33:39.109152Z",
     "shell.execute_reply": "2021-01-23T03:33:39.108783Z"
    }
   },
   "outputs": [
    {
     "data": {
      "text/plain": [
       "[('Airport Controller', 15),\n",
       " ('Sound Engineer', 14),\n",
       " ('Lecturer', 14),\n",
       " ('Transport Officer', 14),\n",
       " ('Panel Beater', 14),\n",
       " ('Airman', 14),\n",
       " ('Sail Maker', 13),\n",
       " ('Bursar', 13),\n",
       " ('Pools Collector', 13),\n",
       " ('Gas Mechanic', 13)]"
      ]
     },
     "execution_count": 10,
     "metadata": {},
     "output_type": "execute_result"
    }
   ],
   "source": [
    "result.compute()"
   ]
  },
  {
   "cell_type": "markdown",
   "metadata": {},
   "source": [
    "## Transform and Store\n",
    "\n",
    "Sometimes we want to compute aggregations as above, but sometimes we want to store results to disk for future analyses.  For that we can use methods like `to_textfiles` and `json.dumps`, or we can convert to Dask Dataframes and use their storage systems, which we'll see more of in the next section."
   ]
  },
  {
   "cell_type": "code",
   "execution_count": 11,
   "metadata": {
    "execution": {
     "iopub.execute_input": "2021-01-23T03:33:39.111702Z",
     "iopub.status.busy": "2021-01-23T03:33:39.110811Z",
     "iopub.status.idle": "2021-01-23T03:33:39.254771Z",
     "shell.execute_reply": "2021-01-23T03:33:39.254411Z"
    }
   },
   "outputs": [
    {
     "data": {
      "text/plain": [
       "['/home/runner/work/dask-examples/dask-examples/data/processed.0.json',\n",
       " '/home/runner/work/dask-examples/dask-examples/data/processed.1.json',\n",
       " '/home/runner/work/dask-examples/dask-examples/data/processed.2.json',\n",
       " '/home/runner/work/dask-examples/dask-examples/data/processed.3.json',\n",
       " '/home/runner/work/dask-examples/dask-examples/data/processed.4.json',\n",
       " '/home/runner/work/dask-examples/dask-examples/data/processed.5.json',\n",
       " '/home/runner/work/dask-examples/dask-examples/data/processed.6.json',\n",
       " '/home/runner/work/dask-examples/dask-examples/data/processed.7.json',\n",
       " '/home/runner/work/dask-examples/dask-examples/data/processed.8.json',\n",
       " '/home/runner/work/dask-examples/dask-examples/data/processed.9.json']"
      ]
     },
     "execution_count": 11,
     "metadata": {},
     "output_type": "execute_result"
    }
   ],
   "source": [
    "(b.filter(lambda record: record['age'] > 30)  # Select records of interest\n",
    "  .map(json.dumps)                            # Convert Python objects to text\n",
    "  .to_textfiles('data/processed.*.json'))     # Write to local disk"
   ]
  },
  {
   "cell_type": "markdown",
   "metadata": {},
   "source": [
    "## Convert to Dask Dataframes\n",
    "\n",
    "Dask Bags are good for reading in initial data, doing a bit of pre-processing, and then handing off to some other more efficient form like Dask Dataframes.  Dask Dataframes use Pandas internally, and so can be much faster on numeric data and also have more complex algorithms.  \n",
    "\n",
    "However, Dask Dataframes also expect data that is organized as flat columns.  It does not support nested JSON data very well (Bag is better for this).\n",
    "\n",
    "Here we make a function to flatten down our nested data structure, map that across our records, and then convert that to a Dask Dataframe."
   ]
  },
  {
   "cell_type": "code",
   "execution_count": 12,
   "metadata": {
    "execution": {
     "iopub.execute_input": "2021-01-23T03:33:39.258292Z",
     "iopub.status.busy": "2021-01-23T03:33:39.257877Z",
     "iopub.status.idle": "2021-01-23T03:33:39.278481Z",
     "shell.execute_reply": "2021-01-23T03:33:39.278137Z"
    }
   },
   "outputs": [
    {
     "data": {
      "text/plain": [
       "({'age': 22,\n",
       "  'name': ['Debbra', 'Hansen'],\n",
       "  'occupation': 'Television Producer',\n",
       "  'telephone': '(095) 526-0370',\n",
       "  'address': {'address': '207 Yorba Drive', 'city': 'Carpentersville'},\n",
       "  'credit-card': {'number': '2511 1577 1028 9865',\n",
       "   'expiration-date': '05/25'}},)"
      ]
     },
     "execution_count": 12,
     "metadata": {},
     "output_type": "execute_result"
    }
   ],
   "source": [
    "b.take(1)"
   ]
  },
  {
   "cell_type": "code",
   "execution_count": 13,
   "metadata": {
    "execution": {
     "iopub.execute_input": "2021-01-23T03:33:39.282841Z",
     "iopub.status.busy": "2021-01-23T03:33:39.282302Z",
     "iopub.status.idle": "2021-01-23T03:33:39.302758Z",
     "shell.execute_reply": "2021-01-23T03:33:39.302158Z"
    }
   },
   "outputs": [
    {
     "data": {
      "text/plain": [
       "({'age': 22,\n",
       "  'occupation': 'Television Producer',\n",
       "  'telephone': '(095) 526-0370',\n",
       "  'credit-card-number': '2511 1577 1028 9865',\n",
       "  'credit-card-expiration': '05/25',\n",
       "  'name': 'Debbra Hansen',\n",
       "  'street-address': '207 Yorba Drive',\n",
       "  'city': 'Carpentersville'},)"
      ]
     },
     "execution_count": 13,
     "metadata": {},
     "output_type": "execute_result"
    }
   ],
   "source": [
    "def flatten(record):\n",
    "    return {\n",
    "        'age': record['age'],\n",
    "        'occupation': record['occupation'],\n",
    "        'telephone': record['telephone'],\n",
    "        'credit-card-number': record['credit-card']['number'],\n",
    "        'credit-card-expiration': record['credit-card']['expiration-date'],\n",
    "        'name': ' '.join(record['name']),\n",
    "        'street-address': record['address']['address'],\n",
    "        'city': record['address']['city']   \n",
    "    }\n",
    "\n",
    "b.map(flatten).take(1)"
   ]
  },
  {
   "cell_type": "code",
   "execution_count": 14,
   "metadata": {
    "execution": {
     "iopub.execute_input": "2021-01-23T03:33:39.305715Z",
     "iopub.status.busy": "2021-01-23T03:33:39.305315Z",
     "iopub.status.idle": "2021-01-23T03:33:39.787475Z",
     "shell.execute_reply": "2021-01-23T03:33:39.787976Z"
    }
   },
   "outputs": [
    {
     "data": {
      "text/html": [
       "<div>\n",
       "<style scoped>\n",
       "    .dataframe tbody tr th:only-of-type {\n",
       "        vertical-align: middle;\n",
       "    }\n",
       "\n",
       "    .dataframe tbody tr th {\n",
       "        vertical-align: top;\n",
       "    }\n",
       "\n",
       "    .dataframe thead th {\n",
       "        text-align: right;\n",
       "    }\n",
       "</style>\n",
       "<table border=\"1\" class=\"dataframe\">\n",
       "  <thead>\n",
       "    <tr style=\"text-align: right;\">\n",
       "      <th></th>\n",
       "      <th>age</th>\n",
       "      <th>occupation</th>\n",
       "      <th>telephone</th>\n",
       "      <th>credit-card-number</th>\n",
       "      <th>credit-card-expiration</th>\n",
       "      <th>name</th>\n",
       "      <th>street-address</th>\n",
       "      <th>city</th>\n",
       "    </tr>\n",
       "  </thead>\n",
       "  <tbody>\n",
       "    <tr>\n",
       "      <th>0</th>\n",
       "      <td>22</td>\n",
       "      <td>Television Producer</td>\n",
       "      <td>(095) 526-0370</td>\n",
       "      <td>2511 1577 1028 9865</td>\n",
       "      <td>05/25</td>\n",
       "      <td>Debbra Hansen</td>\n",
       "      <td>207 Yorba Drive</td>\n",
       "      <td>Carpentersville</td>\n",
       "    </tr>\n",
       "    <tr>\n",
       "      <th>1</th>\n",
       "      <td>16</td>\n",
       "      <td>Auctioneer</td>\n",
       "      <td>1-014-828-3605</td>\n",
       "      <td>3435 702062 19097</td>\n",
       "      <td>10/25</td>\n",
       "      <td>Eldridge Bird</td>\n",
       "      <td>768 Stonecrest Spur</td>\n",
       "      <td>Calumet City</td>\n",
       "    </tr>\n",
       "    <tr>\n",
       "      <th>2</th>\n",
       "      <td>64</td>\n",
       "      <td>Store Detective</td>\n",
       "      <td>708.565.8035</td>\n",
       "      <td>3421 922734 35695</td>\n",
       "      <td>11/17</td>\n",
       "      <td>Simon Webster</td>\n",
       "      <td>18 Dunsmuir Turnpike</td>\n",
       "      <td>Parkland</td>\n",
       "    </tr>\n",
       "    <tr>\n",
       "      <th>3</th>\n",
       "      <td>23</td>\n",
       "      <td>General Practitioner</td>\n",
       "      <td>+1-(726)-197-4414</td>\n",
       "      <td>5495 8727 9193 9898</td>\n",
       "      <td>09/16</td>\n",
       "      <td>Ozell Schmidt</td>\n",
       "      <td>1044 Progress Lane</td>\n",
       "      <td>Port Angeles</td>\n",
       "    </tr>\n",
       "    <tr>\n",
       "      <th>4</th>\n",
       "      <td>57</td>\n",
       "      <td>Minicab Driver</td>\n",
       "      <td>320.488.5550</td>\n",
       "      <td>4080 9509 6116 2584</td>\n",
       "      <td>03/19</td>\n",
       "      <td>Rosann Booker</td>\n",
       "      <td>127 Fuente Path</td>\n",
       "      <td>Moorpark</td>\n",
       "    </tr>\n",
       "  </tbody>\n",
       "</table>\n",
       "</div>"
      ],
      "text/plain": [
       "   age            occupation          telephone   credit-card-number  \\\n",
       "0   22   Television Producer     (095) 526-0370  2511 1577 1028 9865   \n",
       "1   16            Auctioneer     1-014-828-3605    3435 702062 19097   \n",
       "2   64       Store Detective       708.565.8035    3421 922734 35695   \n",
       "3   23  General Practitioner  +1-(726)-197-4414  5495 8727 9193 9898   \n",
       "4   57        Minicab Driver       320.488.5550  4080 9509 6116 2584   \n",
       "\n",
       "  credit-card-expiration           name        street-address             city  \n",
       "0                  05/25  Debbra Hansen       207 Yorba Drive  Carpentersville  \n",
       "1                  10/25  Eldridge Bird   768 Stonecrest Spur     Calumet City  \n",
       "2                  11/17  Simon Webster  18 Dunsmuir Turnpike         Parkland  \n",
       "3                  09/16  Ozell Schmidt    1044 Progress Lane     Port Angeles  \n",
       "4                  03/19  Rosann Booker       127 Fuente Path         Moorpark  "
      ]
     },
     "execution_count": 14,
     "metadata": {},
     "output_type": "execute_result"
    }
   ],
   "source": [
    "df = b.map(flatten).to_dataframe()\n",
    "df.head()"
   ]
  },
  {
   "cell_type": "markdown",
   "metadata": {},
   "source": [
    "We can now perform the same computation as before, but now using Pandas and Dask dataframe."
   ]
  },
  {
   "cell_type": "code",
   "execution_count": 15,
   "metadata": {
    "execution": {
     "iopub.execute_input": "2021-01-23T03:33:39.800415Z",
     "iopub.status.busy": "2021-01-23T03:33:39.797514Z",
     "iopub.status.idle": "2021-01-23T03:33:40.461733Z",
     "shell.execute_reply": "2021-01-23T03:33:40.461205Z"
    }
   },
   "outputs": [
    {
     "data": {
      "text/plain": [
       "Airport Controller    15\n",
       "Transport Officer     14\n",
       "Airman                14\n",
       "Lecturer              14\n",
       "Panel Beater          14\n",
       "Sound Engineer        14\n",
       "Press Officer         13\n",
       "Loss Assessor         13\n",
       "Bursar                13\n",
       "Shop Keeper           13\n",
       "Name: occupation, dtype: int64"
      ]
     },
     "execution_count": 15,
     "metadata": {},
     "output_type": "execute_result"
    }
   ],
   "source": [
    "df[df.age > 30].occupation.value_counts().nlargest(10).compute()"
   ]
  },
  {
   "cell_type": "markdown",
   "metadata": {},
   "source": [
    "## Learn More\n",
    "\n",
    "You may be interested in the following links:\n",
    "\n",
    "-  [Dask Bag Documentation](https://docs.dask.org/en/latest/bag.html)\n",
    "-  [API Documentation](http://docs.dask.org/en/latest/bag-api.html)\n",
    "-  [dask tutorial](https://github.com/dask/dask-tutorial), notebook 02, for a more in-depth introduction."
   ]
  }
 ],
 "metadata": {
  "kernelspec": {
   "display_name": "Python 3",
   "language": "python",
   "name": "python3"
  },
  "language_info": {
   "codemirror_mode": {
    "name": "ipython",
    "version": 3
   },
   "file_extension": ".py",
   "mimetype": "text/x-python",
   "name": "python",
   "nbconvert_exporter": "python",
   "pygments_lexer": "ipython3",
   "version": "3.8.6"
  }
 },
 "nbformat": 4,
 "nbformat_minor": 2
}
