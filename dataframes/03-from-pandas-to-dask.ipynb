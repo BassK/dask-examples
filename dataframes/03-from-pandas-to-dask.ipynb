{
 "cells": [
  {
   "cell_type": "markdown",
   "metadata": {
    "slideshow": {
     "slide_type": "slide"
    }
   },
   "source": [
    "# Gotcha's from Pandas to Dask\n",
    "\n",
    "This notebook highlights some key differences when transfering code from `Pandas` to run in a `Dask` environment.  \n",
    "Most issues have a link to the [Dask documentation](https://docs.dask.org/en/latest/) for additional information."
   ]
  },
  {
   "cell_type": "code",
   "execution_count": 1,
   "metadata": {
    "execution": {
     "iopub.execute_input": "2021-01-02T05:59:42.073502Z",
     "iopub.status.busy": "2021-01-02T05:59:42.072968Z",
     "iopub.status.idle": "2021-01-02T05:59:42.580150Z",
     "shell.execute_reply": "2021-01-02T05:59:42.579480Z"
    },
    "slideshow": {
     "slide_type": "subslide"
    }
   },
   "outputs": [
    {
     "name": "stdout",
     "output_type": "stream",
     "text": [
      "Dask versoin: 2.20.0\n",
      "Pandas versoin: 1.0.5\n"
     ]
    }
   ],
   "source": [
    "# since Dask is activly beeing developed - the current example is running with the below version\n",
    "import dask\n",
    "import dask.dataframe as dd\n",
    "import pandas as pd\n",
    "print(f'Dask versoin: {dask.__version__}')\n",
    "print(f'Pandas versoin: {pd.__version__}')"
   ]
  },
  {
   "cell_type": "markdown",
   "metadata": {
    "slideshow": {
     "slide_type": "subslide"
    }
   },
   "source": [
    "## Start Dask Client for Dashboard\n",
    "\n",
    "Starting the Dask Client is optional.  In this example we are running on a `LocalCluster`, this  will also provide a dashboard which is useful to gain insight on the computation.  \n",
    "For additional information on [Dask Client see documentation](https://docs.dask.org/en/latest/setup.html?highlight=client#setup)  \n",
    "\n",
    "The link to the dashboard will become visible when you create a client (as shown below).  \n",
    "When running within `Jupyter Lab` an [extenstion](https://github.com/dask/dask-labextension) can be installed to view the various dashboard widgets. "
   ]
  },
  {
   "cell_type": "code",
   "execution_count": 2,
   "metadata": {
    "execution": {
     "iopub.execute_input": "2021-01-02T05:59:42.584196Z",
     "iopub.status.busy": "2021-01-02T05:59:42.583729Z",
     "iopub.status.idle": "2021-01-02T05:59:43.705804Z",
     "shell.execute_reply": "2021-01-02T05:59:43.705329Z"
    },
    "slideshow": {
     "slide_type": "subslide"
    }
   },
   "outputs": [
    {
     "data": {
      "text/html": [
       "<table style=\"border: 2px solid white;\">\n",
       "<tr>\n",
       "<td style=\"vertical-align: top; border: 0px solid white\">\n",
       "<h3 style=\"text-align: left;\">Client</h3>\n",
       "<ul style=\"text-align: left; list-style: none; margin: 0; padding: 0;\">\n",
       "  <li><b>Scheduler: </b>tcp://127.0.0.1:39809</li>\n",
       "  <li><b>Dashboard: </b><a href='http://127.0.0.1:8787/status' target='_blank'>http://127.0.0.1:8787/status</a></li>\n",
       "</ul>\n",
       "</td>\n",
       "<td style=\"vertical-align: top; border: 0px solid white\">\n",
       "<h3 style=\"text-align: left;\">Cluster</h3>\n",
       "<ul style=\"text-align: left; list-style:none; margin: 0; padding: 0;\">\n",
       "  <li><b>Workers: </b>2</li>\n",
       "  <li><b>Cores: </b>2</li>\n",
       "  <li><b>Memory: </b>7.29 GB</li>\n",
       "</ul>\n",
       "</td>\n",
       "</tr>\n",
       "</table>"
      ],
      "text/plain": [
       "<Client: 'tcp://127.0.0.1:39809' processes=2 threads=2, memory=7.29 GB>"
      ]
     },
     "execution_count": 1,
     "metadata": {},
     "output_type": "execute_result"
    }
   ],
   "source": [
    "from dask.distributed import Client\n",
    "# client = Client(n_workers=1, threads_per_worker=4, processes=False, memory_limit='2GB')\n",
    "client = Client()\n",
    "client"
   ]
  },
  {
   "cell_type": "markdown",
   "metadata": {},
   "source": [
    "See [documentation for addtional cluster configuration](http://distributed.dask.org/en/latest/local-cluster.html)"
   ]
  },
  {
   "cell_type": "markdown",
   "metadata": {
    "slideshow": {
     "slide_type": "slide"
    }
   },
   "source": [
    "# Create 2 DataFrames for comparison: \n",
    "1. for Dask \n",
    "2. for Pandas  \n",
    "Dask comes with builtin dataset samples, we will use this sample for our example. "
   ]
  },
  {
   "cell_type": "code",
   "execution_count": 3,
   "metadata": {
    "execution": {
     "iopub.execute_input": "2021-01-02T05:59:43.710792Z",
     "iopub.status.busy": "2021-01-02T05:59:43.710287Z",
     "iopub.status.idle": "2021-01-02T05:59:43.732646Z",
     "shell.execute_reply": "2021-01-02T05:59:43.732112Z"
    },
    "slideshow": {
     "slide_type": "fragment"
    }
   },
   "outputs": [
    {
     "data": {
      "text/html": [
       "<div><strong>Dask DataFrame Structure:</strong></div>\n",
       "<div>\n",
       "<style scoped>\n",
       "    .dataframe tbody tr th:only-of-type {\n",
       "        vertical-align: middle;\n",
       "    }\n",
       "\n",
       "    .dataframe tbody tr th {\n",
       "        vertical-align: top;\n",
       "    }\n",
       "\n",
       "    .dataframe thead th {\n",
       "        text-align: right;\n",
       "    }\n",
       "</style>\n",
       "<table border=\"1\" class=\"dataframe\">\n",
       "  <thead>\n",
       "    <tr style=\"text-align: right;\">\n",
       "      <th></th>\n",
       "      <th>id</th>\n",
       "      <th>name</th>\n",
       "      <th>x</th>\n",
       "      <th>y</th>\n",
       "    </tr>\n",
       "    <tr>\n",
       "      <th>npartitions=30</th>\n",
       "      <th></th>\n",
       "      <th></th>\n",
       "      <th></th>\n",
       "      <th></th>\n",
       "    </tr>\n",
       "  </thead>\n",
       "  <tbody>\n",
       "    <tr>\n",
       "      <th>2000-01-01</th>\n",
       "      <td>int64</td>\n",
       "      <td>object</td>\n",
       "      <td>float64</td>\n",
       "      <td>float64</td>\n",
       "    </tr>\n",
       "    <tr>\n",
       "      <th>2000-01-02</th>\n",
       "      <td>...</td>\n",
       "      <td>...</td>\n",
       "      <td>...</td>\n",
       "      <td>...</td>\n",
       "    </tr>\n",
       "    <tr>\n",
       "      <th>...</th>\n",
       "      <td>...</td>\n",
       "      <td>...</td>\n",
       "      <td>...</td>\n",
       "      <td>...</td>\n",
       "    </tr>\n",
       "    <tr>\n",
       "      <th>2000-01-30</th>\n",
       "      <td>...</td>\n",
       "      <td>...</td>\n",
       "      <td>...</td>\n",
       "      <td>...</td>\n",
       "    </tr>\n",
       "    <tr>\n",
       "      <th>2000-01-31</th>\n",
       "      <td>...</td>\n",
       "      <td>...</td>\n",
       "      <td>...</td>\n",
       "      <td>...</td>\n",
       "    </tr>\n",
       "  </tbody>\n",
       "</table>\n",
       "</div>\n",
       "<div>Dask Name: make-timeseries, 30 tasks</div>"
      ],
      "text/plain": [
       "Dask DataFrame Structure:\n",
       "                   id    name        x        y\n",
       "npartitions=30                                 \n",
       "2000-01-01      int64  object  float64  float64\n",
       "2000-01-02        ...     ...      ...      ...\n",
       "...               ...     ...      ...      ...\n",
       "2000-01-30        ...     ...      ...      ...\n",
       "2000-01-31        ...     ...      ...      ...\n",
       "Dask Name: make-timeseries, 30 tasks"
      ]
     },
     "execution_count": 1,
     "metadata": {},
     "output_type": "execute_result"
    }
   ],
   "source": [
    "ddf = dask.datasets.timeseries()\n",
    "ddf"
   ]
  },
  {
   "cell_type": "markdown",
   "metadata": {
    "slideshow": {
     "slide_type": "subslide"
    }
   },
   "source": [
    "* Remember `Dask framework` is **lazy** thus in order to see the result we need to run [compute()](https://docs.dask.org/en/latest/dataframe-api.html#dask.dataframe.DataFrame.compute) \n",
    " (or `head()` which runs under the hood compute()) )"
   ]
  },
  {
   "cell_type": "code",
   "execution_count": 4,
   "metadata": {
    "execution": {
     "iopub.execute_input": "2021-01-02T05:59:43.738202Z",
     "iopub.status.busy": "2021-01-02T05:59:43.736348Z",
     "iopub.status.idle": "2021-01-02T05:59:44.143490Z",
     "shell.execute_reply": "2021-01-02T05:59:44.143851Z"
    }
   },
   "outputs": [
    {
     "data": {
      "text/html": [
       "<div>\n",
       "<style scoped>\n",
       "    .dataframe tbody tr th:only-of-type {\n",
       "        vertical-align: middle;\n",
       "    }\n",
       "\n",
       "    .dataframe tbody tr th {\n",
       "        vertical-align: top;\n",
       "    }\n",
       "\n",
       "    .dataframe thead th {\n",
       "        text-align: right;\n",
       "    }\n",
       "</style>\n",
       "<table border=\"1\" class=\"dataframe\">\n",
       "  <thead>\n",
       "    <tr style=\"text-align: right;\">\n",
       "      <th></th>\n",
       "      <th>id</th>\n",
       "      <th>name</th>\n",
       "      <th>x</th>\n",
       "      <th>y</th>\n",
       "    </tr>\n",
       "    <tr>\n",
       "      <th>timestamp</th>\n",
       "      <th></th>\n",
       "      <th></th>\n",
       "      <th></th>\n",
       "      <th></th>\n",
       "    </tr>\n",
       "  </thead>\n",
       "  <tbody>\n",
       "    <tr>\n",
       "      <th>2000-01-01 00:00:00</th>\n",
       "      <td>1046</td>\n",
       "      <td>Quinn</td>\n",
       "      <td>0.789020</td>\n",
       "      <td>0.714870</td>\n",
       "    </tr>\n",
       "    <tr>\n",
       "      <th>2000-01-01 00:00:01</th>\n",
       "      <td>962</td>\n",
       "      <td>Edith</td>\n",
       "      <td>0.843949</td>\n",
       "      <td>0.020299</td>\n",
       "    </tr>\n",
       "  </tbody>\n",
       "</table>\n",
       "</div>"
      ],
      "text/plain": [
       "                       id   name         x         y\n",
       "timestamp                                           \n",
       "2000-01-01 00:00:00  1046  Quinn  0.789020  0.714870\n",
       "2000-01-01 00:00:01   962  Edith  0.843949  0.020299"
      ]
     },
     "execution_count": 1,
     "metadata": {},
     "output_type": "execute_result"
    }
   ],
   "source": [
    "ddf.head(2)"
   ]
  },
  {
   "cell_type": "markdown",
   "metadata": {
    "slideshow": {
     "slide_type": "subslide"
    }
   },
   "source": [
    "#### Pandas Dataframe\n",
    "In order to create a `Pandas` dataframe we can use the `compute()` method from a `Dask dataframe`"
   ]
  },
  {
   "cell_type": "code",
   "execution_count": 5,
   "metadata": {
    "execution": {
     "iopub.execute_input": "2021-01-02T05:59:44.147986Z",
     "iopub.status.busy": "2021-01-02T05:59:44.147522Z",
     "iopub.status.idle": "2021-01-02T05:59:45.881560Z",
     "shell.execute_reply": "2021-01-02T05:59:45.881080Z"
    },
    "slideshow": {
     "slide_type": "subslide"
    }
   },
   "outputs": [
    {
     "name": "stdout",
     "output_type": "stream",
     "text": [
      "<class 'pandas.core.frame.DataFrame'>\n"
     ]
    },
    {
     "data": {
      "text/html": [
       "<div>\n",
       "<style scoped>\n",
       "    .dataframe tbody tr th:only-of-type {\n",
       "        vertical-align: middle;\n",
       "    }\n",
       "\n",
       "    .dataframe tbody tr th {\n",
       "        vertical-align: top;\n",
       "    }\n",
       "\n",
       "    .dataframe thead th {\n",
       "        text-align: right;\n",
       "    }\n",
       "</style>\n",
       "<table border=\"1\" class=\"dataframe\">\n",
       "  <thead>\n",
       "    <tr style=\"text-align: right;\">\n",
       "      <th></th>\n",
       "      <th>id</th>\n",
       "      <th>name</th>\n",
       "      <th>x</th>\n",
       "      <th>y</th>\n",
       "    </tr>\n",
       "    <tr>\n",
       "      <th>timestamp</th>\n",
       "      <th></th>\n",
       "      <th></th>\n",
       "      <th></th>\n",
       "      <th></th>\n",
       "    </tr>\n",
       "  </thead>\n",
       "  <tbody>\n",
       "    <tr>\n",
       "      <th>2000-01-01 00:00:00</th>\n",
       "      <td>1046</td>\n",
       "      <td>Quinn</td>\n",
       "      <td>0.789020</td>\n",
       "      <td>0.714870</td>\n",
       "    </tr>\n",
       "    <tr>\n",
       "      <th>2000-01-01 00:00:01</th>\n",
       "      <td>962</td>\n",
       "      <td>Edith</td>\n",
       "      <td>0.843949</td>\n",
       "      <td>0.020299</td>\n",
       "    </tr>\n",
       "  </tbody>\n",
       "</table>\n",
       "</div>"
      ],
      "text/plain": [
       "                       id   name         x         y\n",
       "timestamp                                           \n",
       "2000-01-01 00:00:00  1046  Quinn  0.789020  0.714870\n",
       "2000-01-01 00:00:01   962  Edith  0.843949  0.020299"
      ]
     },
     "execution_count": 1,
     "metadata": {},
     "output_type": "execute_result"
    }
   ],
   "source": [
    "pdf = ddf.compute()  \n",
    "print(type(pdf))\n",
    "pdf.head(2)"
   ]
  },
  {
   "cell_type": "markdown",
   "metadata": {},
   "source": [
    "### dataframe.shape  \n",
    "We can also see *dask laziness* when using the shape attribute"
   ]
  },
  {
   "cell_type": "code",
   "execution_count": 6,
   "metadata": {
    "execution": {
     "iopub.execute_input": "2021-01-02T05:59:45.885617Z",
     "iopub.status.busy": "2021-01-02T05:59:45.884462Z",
     "iopub.status.idle": "2021-01-02T05:59:45.888861Z",
     "shell.execute_reply": "2021-01-02T05:59:45.888478Z"
    }
   },
   "outputs": [
    {
     "name": "stdout",
     "output_type": "stream",
     "text": [
      "Pandas shape: (2592000, 4)\n",
      "---------------------------\n",
      "Dask lazy shape: (Delayed('int-2a8ee707-46cd-4d58-a0cb-0b9a71d53138'), 4)\n"
     ]
    }
   ],
   "source": [
    "print(f'Pandas shape: {pdf.shape}')\n",
    "print('---------------------------')\n",
    "print(f'Dask lazy shape: {ddf.shape}')"
   ]
  },
  {
   "cell_type": "markdown",
   "metadata": {},
   "source": [
    "We cannot get the full shape before accessing all the partitions - running `len` will do so"
   ]
  },
  {
   "cell_type": "code",
   "execution_count": 7,
   "metadata": {
    "execution": {
     "iopub.execute_input": "2021-01-02T05:59:45.897705Z",
     "iopub.status.busy": "2021-01-02T05:59:45.897220Z",
     "iopub.status.idle": "2021-01-02T05:59:46.374811Z",
     "shell.execute_reply": "2021-01-02T05:59:46.374101Z"
    }
   },
   "outputs": [
    {
     "name": "stdout",
     "output_type": "stream",
     "text": [
      "Dask computed shape: 2,592,000\n"
     ]
    }
   ],
   "source": [
    "print(f'Dask computed shape: {len(ddf.index):,}')  # expensive"
   ]
  },
  {
   "cell_type": "markdown",
   "metadata": {
    "slideshow": {
     "slide_type": "slide"
    }
   },
   "source": [
    "## Creating a `Dask dataframe` from `Pandas`\n",
    "In order to utilize `Dask` capablities on an existing `Pandas dataframe` (pdf) we need to convert the `Pandas dataframe` into a `Dask dataframe` (ddf)  with the [from_pandas](https://docs.dask.org/en/latest/dataframe-api.html#dask.dataframe.from_pandas) method. \n",
    "You must supply the number of partitions or chunksize that will be used to generate the dask dataframe"
   ]
  },
  {
   "cell_type": "code",
   "execution_count": 8,
   "metadata": {
    "execution": {
     "iopub.execute_input": "2021-01-02T05:59:46.378211Z",
     "iopub.status.busy": "2021-01-02T05:59:46.377725Z",
     "iopub.status.idle": "2021-01-02T05:59:46.651658Z",
     "shell.execute_reply": "2021-01-02T05:59:46.651235Z"
    },
    "slideshow": {
     "slide_type": "subslide"
    }
   },
   "outputs": [
    {
     "data": {
      "text/html": [
       "<div><strong>Dask DataFrame Structure:</strong></div>\n",
       "<div>\n",
       "<style scoped>\n",
       "    .dataframe tbody tr th:only-of-type {\n",
       "        vertical-align: middle;\n",
       "    }\n",
       "\n",
       "    .dataframe tbody tr th {\n",
       "        vertical-align: top;\n",
       "    }\n",
       "\n",
       "    .dataframe thead th {\n",
       "        text-align: right;\n",
       "    }\n",
       "</style>\n",
       "<table border=\"1\" class=\"dataframe\">\n",
       "  <thead>\n",
       "    <tr style=\"text-align: right;\">\n",
       "      <th></th>\n",
       "      <th>id</th>\n",
       "      <th>name</th>\n",
       "      <th>x</th>\n",
       "      <th>y</th>\n",
       "    </tr>\n",
       "    <tr>\n",
       "      <th>npartitions=10</th>\n",
       "      <th></th>\n",
       "      <th></th>\n",
       "      <th></th>\n",
       "      <th></th>\n",
       "    </tr>\n",
       "  </thead>\n",
       "  <tbody>\n",
       "    <tr>\n",
       "      <th>2000-01-01 00:00:00</th>\n",
       "      <td>int64</td>\n",
       "      <td>object</td>\n",
       "      <td>float64</td>\n",
       "      <td>float64</td>\n",
       "    </tr>\n",
       "    <tr>\n",
       "      <th>2000-01-04 00:00:00</th>\n",
       "      <td>...</td>\n",
       "      <td>...</td>\n",
       "      <td>...</td>\n",
       "      <td>...</td>\n",
       "    </tr>\n",
       "    <tr>\n",
       "      <th>...</th>\n",
       "      <td>...</td>\n",
       "      <td>...</td>\n",
       "      <td>...</td>\n",
       "      <td>...</td>\n",
       "    </tr>\n",
       "    <tr>\n",
       "      <th>2000-01-28 00:00:00</th>\n",
       "      <td>...</td>\n",
       "      <td>...</td>\n",
       "      <td>...</td>\n",
       "      <td>...</td>\n",
       "    </tr>\n",
       "    <tr>\n",
       "      <th>2000-01-30 23:59:59</th>\n",
       "      <td>...</td>\n",
       "      <td>...</td>\n",
       "      <td>...</td>\n",
       "      <td>...</td>\n",
       "    </tr>\n",
       "  </tbody>\n",
       "</table>\n",
       "</div>\n",
       "<div>Dask Name: from_pandas, 10 tasks</div>"
      ],
      "text/plain": [
       "Dask DataFrame Structure:\n",
       "                        id    name        x        y\n",
       "npartitions=10                                      \n",
       "2000-01-01 00:00:00  int64  object  float64  float64\n",
       "2000-01-04 00:00:00    ...     ...      ...      ...\n",
       "...                    ...     ...      ...      ...\n",
       "2000-01-28 00:00:00    ...     ...      ...      ...\n",
       "2000-01-30 23:59:59    ...     ...      ...      ...\n",
       "Dask Name: from_pandas, 10 tasks"
      ]
     },
     "execution_count": 1,
     "metadata": {},
     "output_type": "execute_result"
    }
   ],
   "source": [
    "ddf2 = dask.dataframe.from_pandas(pdf, npartitions=10)\n",
    "ddf2"
   ]
  },
  {
   "cell_type": "markdown",
   "metadata": {
    "slideshow": {
     "slide_type": "subslide"
    }
   },
   "source": [
    "## Partitions in Dask Dataframes"
   ]
  },
  {
   "cell_type": "markdown",
   "metadata": {},
   "source": [
    "Notice that when we created a `Dask dataframe` we needed to supply an argument of `npartitions`.  \n",
    "    The number of partitions will assist `Dask` on how to breakup the  `Pandas Datafram` and parallelize the computation.  \n",
    "Each partition is a *separate* dataframe. For additional information see [partition documentation](https://docs.dask.org/en/latest/dataframe-design.html?highlight=meta%20utils#partitions)  \n",
    "\n",
    "An example for this can be seen when examing the `reset_ index()` method:"
   ]
  },
  {
   "cell_type": "code",
   "execution_count": 9,
   "metadata": {
    "execution": {
     "iopub.execute_input": "2021-01-02T05:59:46.655410Z",
     "iopub.status.busy": "2021-01-02T05:59:46.655020Z",
     "iopub.status.idle": "2021-01-02T05:59:46.724094Z",
     "shell.execute_reply": "2021-01-02T05:59:46.723262Z"
    },
    "slideshow": {
     "slide_type": "subslide"
    }
   },
   "outputs": [
    {
     "data": {
      "text/plain": [
       "timestamp    2000-01-01 00:00:00\n",
       "id                          1046\n",
       "name                       Quinn\n",
       "x                        0.78902\n",
       "y                        0.71487\n",
       "Name: 0, dtype: object"
      ]
     },
     "execution_count": 1,
     "metadata": {},
     "output_type": "execute_result"
    }
   ],
   "source": [
    "pdf2 = pdf.reset_index()\n",
    "# Only 1 row\n",
    "pdf2.loc[0]"
   ]
  },
  {
   "cell_type": "code",
   "execution_count": 10,
   "metadata": {
    "execution": {
     "iopub.execute_input": "2021-01-02T05:59:46.731683Z",
     "iopub.status.busy": "2021-01-02T05:59:46.730237Z",
     "iopub.status.idle": "2021-01-02T05:59:47.681512Z",
     "shell.execute_reply": "2021-01-02T05:59:47.681920Z"
    },
    "slideshow": {
     "slide_type": "subslide"
    }
   },
   "outputs": [
    {
     "data": {
      "text/html": [
       "<div>\n",
       "<style scoped>\n",
       "    .dataframe tbody tr th:only-of-type {\n",
       "        vertical-align: middle;\n",
       "    }\n",
       "\n",
       "    .dataframe tbody tr th {\n",
       "        vertical-align: top;\n",
       "    }\n",
       "\n",
       "    .dataframe thead th {\n",
       "        text-align: right;\n",
       "    }\n",
       "</style>\n",
       "<table border=\"1\" class=\"dataframe\">\n",
       "  <thead>\n",
       "    <tr style=\"text-align: right;\">\n",
       "      <th></th>\n",
       "      <th>timestamp</th>\n",
       "      <th>id</th>\n",
       "      <th>name</th>\n",
       "      <th>x</th>\n",
       "      <th>y</th>\n",
       "    </tr>\n",
       "  </thead>\n",
       "  <tbody>\n",
       "    <tr>\n",
       "      <th>0</th>\n",
       "      <td>2000-01-01</td>\n",
       "      <td>1046</td>\n",
       "      <td>Quinn</td>\n",
       "      <td>0.789020</td>\n",
       "      <td>0.714870</td>\n",
       "    </tr>\n",
       "    <tr>\n",
       "      <th>0</th>\n",
       "      <td>2000-01-04</td>\n",
       "      <td>977</td>\n",
       "      <td>Frank</td>\n",
       "      <td>-0.680787</td>\n",
       "      <td>-0.424354</td>\n",
       "    </tr>\n",
       "    <tr>\n",
       "      <th>0</th>\n",
       "      <td>2000-01-07</td>\n",
       "      <td>1026</td>\n",
       "      <td>George</td>\n",
       "      <td>-0.967533</td>\n",
       "      <td>0.923611</td>\n",
       "    </tr>\n",
       "    <tr>\n",
       "      <th>0</th>\n",
       "      <td>2000-01-10</td>\n",
       "      <td>1009</td>\n",
       "      <td>Jerry</td>\n",
       "      <td>-0.205267</td>\n",
       "      <td>-0.600784</td>\n",
       "    </tr>\n",
       "    <tr>\n",
       "      <th>0</th>\n",
       "      <td>2000-01-13</td>\n",
       "      <td>980</td>\n",
       "      <td>Victor</td>\n",
       "      <td>0.899863</td>\n",
       "      <td>-0.577634</td>\n",
       "    </tr>\n",
       "    <tr>\n",
       "      <th>0</th>\n",
       "      <td>2000-01-16</td>\n",
       "      <td>1049</td>\n",
       "      <td>Kevin</td>\n",
       "      <td>-0.107630</td>\n",
       "      <td>0.734102</td>\n",
       "    </tr>\n",
       "    <tr>\n",
       "      <th>0</th>\n",
       "      <td>2000-01-19</td>\n",
       "      <td>1067</td>\n",
       "      <td>Quinn</td>\n",
       "      <td>-0.873156</td>\n",
       "      <td>-0.868044</td>\n",
       "    </tr>\n",
       "    <tr>\n",
       "      <th>0</th>\n",
       "      <td>2000-01-22</td>\n",
       "      <td>1040</td>\n",
       "      <td>Alice</td>\n",
       "      <td>-0.792488</td>\n",
       "      <td>-0.516320</td>\n",
       "    </tr>\n",
       "    <tr>\n",
       "      <th>0</th>\n",
       "      <td>2000-01-25</td>\n",
       "      <td>1008</td>\n",
       "      <td>Tim</td>\n",
       "      <td>0.747427</td>\n",
       "      <td>-0.815226</td>\n",
       "    </tr>\n",
       "    <tr>\n",
       "      <th>0</th>\n",
       "      <td>2000-01-28</td>\n",
       "      <td>977</td>\n",
       "      <td>Xavier</td>\n",
       "      <td>0.614251</td>\n",
       "      <td>-0.784392</td>\n",
       "    </tr>\n",
       "  </tbody>\n",
       "</table>\n",
       "</div>"
      ],
      "text/plain": [
       "   timestamp    id    name         x         y\n",
       "0 2000-01-01  1046   Quinn  0.789020  0.714870\n",
       "0 2000-01-04   977   Frank -0.680787 -0.424354\n",
       "0 2000-01-07  1026  George -0.967533  0.923611\n",
       "0 2000-01-10  1009   Jerry -0.205267 -0.600784\n",
       "0 2000-01-13   980  Victor  0.899863 -0.577634\n",
       "0 2000-01-16  1049   Kevin -0.107630  0.734102\n",
       "0 2000-01-19  1067   Quinn -0.873156 -0.868044\n",
       "0 2000-01-22  1040   Alice -0.792488 -0.516320\n",
       "0 2000-01-25  1008     Tim  0.747427 -0.815226\n",
       "0 2000-01-28   977  Xavier  0.614251 -0.784392"
      ]
     },
     "execution_count": 1,
     "metadata": {},
     "output_type": "execute_result"
    }
   ],
   "source": [
    "ddf2 = ddf2.reset_index()\n",
    "# each partition has an index=0\n",
    "ddf2.loc[0].compute() "
   ]
  },
  {
   "cell_type": "markdown",
   "metadata": {},
   "source": [
    "# Dask Dataframe vs Pandas Dataframe\n",
    "Now that we have a `dask` (ddf) and a `pandas` (pdf) dataframe we can start to compair the interactions with them."
   ]
  },
  {
   "cell_type": "markdown",
   "metadata": {
    "slideshow": {
     "slide_type": "slide"
    }
   },
   "source": [
    "## Conceptual shift - from Update to Insert/Delete\n",
    "Dask does not update - thus there are no arguments such as `inplace=True` which exist in Pandas.  \n",
    "For more detials see [issue#653 on github](https://github.com/dask/dask/issues/653)"
   ]
  },
  {
   "cell_type": "markdown",
   "metadata": {
    "slideshow": {
     "slide_type": "subslide"
    }
   },
   "source": [
    "### Rename Columns"
   ]
  },
  {
   "cell_type": "markdown",
   "metadata": {},
   "source": [
    "* using `inplace=True` is not considerd to be *best practice*. "
   ]
  },
  {
   "cell_type": "code",
   "execution_count": 11,
   "metadata": {
    "execution": {
     "iopub.execute_input": "2021-01-02T05:59:47.686164Z",
     "iopub.status.busy": "2021-01-02T05:59:47.685583Z",
     "iopub.status.idle": "2021-01-02T05:59:47.833109Z",
     "shell.execute_reply": "2021-01-02T05:59:47.832701Z"
    }
   },
   "outputs": [
    {
     "name": "stdout",
     "output_type": "stream",
     "text": [
      "Index(['id', 'name', 'x', 'y'], dtype='object')\n"
     ]
    },
    {
     "data": {
      "text/plain": [
       "Index(['ID', 'name', 'x', 'y'], dtype='object')"
      ]
     },
     "execution_count": 1,
     "metadata": {},
     "output_type": "execute_result"
    }
   ],
   "source": [
    "# Pandas \n",
    "print(pdf.columns)\n",
    "# pdf.rename(columns={'id':'ID'}, inplace=True)\n",
    "pdf = pdf.rename(columns={'id':'ID'})\n",
    "pdf.columns"
   ]
  },
  {
   "cell_type": "raw",
   "metadata": {},
   "source": [
    "# Dask - Error\n",
    "# ddf.rename(columns={'id':'ID'}, inplace=True)\n",
    "# ddf.columns\n",
    "\n",
    "'''  python\n",
    "---------------------------------------------------------------------------  \n",
    "TypeError                                 Traceback (most recent call last)  \n",
    "<ipython-input-12-3e70ff3a549e> in <module>  \n",
    "      1 # Dask - Error  \n",
    "----> 2 ddf.rename(columns={'id':'ID'}, inplace=True)  \n",
    "      3 ddf.columns  \n",
    "TypeError: rename() got an unexpected keyword argument 'inplace'  \n",
    "'''"
   ]
  },
  {
   "cell_type": "code",
   "execution_count": 12,
   "metadata": {
    "execution": {
     "iopub.execute_input": "2021-01-02T05:59:47.840215Z",
     "iopub.status.busy": "2021-01-02T05:59:47.836848Z",
     "iopub.status.idle": "2021-01-02T05:59:47.845782Z",
     "shell.execute_reply": "2021-01-02T05:59:47.846266Z"
    },
    "slideshow": {
     "slide_type": "fragment"
    }
   },
   "outputs": [
    {
     "name": "stdout",
     "output_type": "stream",
     "text": [
      "Index(['id', 'name', 'x', 'y'], dtype='object')\n"
     ]
    },
    {
     "data": {
      "text/plain": [
       "Index(['ID', 'name', 'x', 'y'], dtype='object')"
      ]
     },
     "execution_count": 1,
     "metadata": {},
     "output_type": "execute_result"
    }
   ],
   "source": [
    "# Dask\n",
    "print(ddf.columns)\n",
    "ddf = ddf.rename(columns={'id':'ID'})\n",
    "ddf.columns"
   ]
  },
  {
   "cell_type": "markdown",
   "metadata": {
    "slideshow": {
     "slide_type": "slide"
    }
   },
   "source": [
    "## Data manipulations  \n",
    "There are several diffrences when manipulating data.  "
   ]
  },
  {
   "cell_type": "markdown",
   "metadata": {},
   "source": [
    "### loc - Pandas"
   ]
  },
  {
   "cell_type": "code",
   "execution_count": 13,
   "metadata": {
    "execution": {
     "iopub.execute_input": "2021-01-02T05:59:47.850174Z",
     "iopub.status.busy": "2021-01-02T05:59:47.849628Z",
     "iopub.status.idle": "2021-01-02T05:59:48.348600Z",
     "shell.execute_reply": "2021-01-02T05:59:48.348980Z"
    }
   },
   "outputs": [
    {
     "data": {
      "text/html": [
       "<div>\n",
       "<style scoped>\n",
       "    .dataframe tbody tr th:only-of-type {\n",
       "        vertical-align: middle;\n",
       "    }\n",
       "\n",
       "    .dataframe tbody tr th {\n",
       "        vertical-align: top;\n",
       "    }\n",
       "\n",
       "    .dataframe thead th {\n",
       "        text-align: right;\n",
       "    }\n",
       "</style>\n",
       "<table border=\"1\" class=\"dataframe\">\n",
       "  <thead>\n",
       "    <tr style=\"text-align: right;\">\n",
       "      <th></th>\n",
       "      <th>ID</th>\n",
       "      <th>name</th>\n",
       "      <th>x</th>\n",
       "      <th>y</th>\n",
       "    </tr>\n",
       "    <tr>\n",
       "      <th>timestamp</th>\n",
       "      <th></th>\n",
       "      <th></th>\n",
       "      <th></th>\n",
       "      <th></th>\n",
       "    </tr>\n",
       "  </thead>\n",
       "  <tbody>\n",
       "    <tr>\n",
       "      <th>2000-01-01 00:00:00</th>\n",
       "      <td>1046</td>\n",
       "      <td>Quinn</td>\n",
       "      <td>0.789020</td>\n",
       "      <td>71.487016</td>\n",
       "    </tr>\n",
       "    <tr>\n",
       "      <th>2000-01-01 00:00:04</th>\n",
       "      <td>999</td>\n",
       "      <td>Charlie</td>\n",
       "      <td>0.680999</td>\n",
       "      <td>32.531962</td>\n",
       "    </tr>\n",
       "  </tbody>\n",
       "</table>\n",
       "</div>"
      ],
      "text/plain": [
       "                       ID     name         x          y\n",
       "timestamp                                              \n",
       "2000-01-01 00:00:00  1046    Quinn  0.789020  71.487016\n",
       "2000-01-01 00:00:04   999  Charlie  0.680999  32.531962"
      ]
     },
     "execution_count": 1,
     "metadata": {},
     "output_type": "execute_result"
    }
   ],
   "source": [
    "cond_pdf = (pdf['x']>0.5) & (pdf['x']<0.8)\n",
    "pdf.loc[cond_pdf, ['y']] = pdf['y']* 100\n",
    "pdf[cond_pdf].head(2)"
   ]
  },
  {
   "cell_type": "raw",
   "metadata": {},
   "source": [
    "# Error\n",
    "# cond_ddf = (ddf['x']>0.5) & (ddf['x']<0.8)\n",
    "# ddf.loc[cond_ddf, ['y']] = ddf['y']* 100\n",
    "# ddf[cond_ddf].head(2)\n",
    "\n",
    "'''\n",
    "> TypeError                                 Traceback (most recent call last)  \n",
    "> <ipython-input-16-2bbb2ae570bd> in <module> \n",
    ">      1 # Daske - Error\n",
    ">      2 cond_ddf = (ddf['x']>0.5) & (ddf['x']<0.8)\n",
    ">----> 3 ddf.loc[cond_ddf, ['y']] = ddf['y']* 100\n",
    ">      4 ddf[cond_ddf].head(2)\n",
    "> TypeError: '_LocIndexer' object does not support item assignment  \n",
    "'''"
   ]
  },
  {
   "cell_type": "markdown",
   "metadata": {},
   "source": [
    "### Dask - use mask/where"
   ]
  },
  {
   "cell_type": "code",
   "execution_count": 14,
   "metadata": {
    "execution": {
     "iopub.execute_input": "2021-01-02T05:59:48.353094Z",
     "iopub.status.busy": "2021-01-02T05:59:48.352658Z",
     "iopub.status.idle": "2021-01-02T05:59:48.421417Z",
     "shell.execute_reply": "2021-01-02T05:59:48.420967Z"
    }
   },
   "outputs": [
    {
     "data": {
      "text/html": [
       "<div>\n",
       "<style scoped>\n",
       "    .dataframe tbody tr th:only-of-type {\n",
       "        vertical-align: middle;\n",
       "    }\n",
       "\n",
       "    .dataframe tbody tr th {\n",
       "        vertical-align: top;\n",
       "    }\n",
       "\n",
       "    .dataframe thead th {\n",
       "        text-align: right;\n",
       "    }\n",
       "</style>\n",
       "<table border=\"1\" class=\"dataframe\">\n",
       "  <thead>\n",
       "    <tr style=\"text-align: right;\">\n",
       "      <th></th>\n",
       "      <th>ID</th>\n",
       "      <th>name</th>\n",
       "      <th>x</th>\n",
       "      <th>y</th>\n",
       "    </tr>\n",
       "    <tr>\n",
       "      <th>timestamp</th>\n",
       "      <th></th>\n",
       "      <th></th>\n",
       "      <th></th>\n",
       "      <th></th>\n",
       "    </tr>\n",
       "  </thead>\n",
       "  <tbody>\n",
       "    <tr>\n",
       "      <th>2000-01-01 00:00:00</th>\n",
       "      <td>1046</td>\n",
       "      <td>Quinn</td>\n",
       "      <td>0.789020</td>\n",
       "      <td>7148.701589</td>\n",
       "    </tr>\n",
       "    <tr>\n",
       "      <th>2000-01-01 00:00:01</th>\n",
       "      <td>962</td>\n",
       "      <td>Edith</td>\n",
       "      <td>0.843949</td>\n",
       "      <td>0.020299</td>\n",
       "    </tr>\n",
       "  </tbody>\n",
       "</table>\n",
       "</div>"
      ],
      "text/plain": [
       "                       ID   name         x            y\n",
       "timestamp                                              \n",
       "2000-01-01 00:00:00  1046  Quinn  0.789020  7148.701589\n",
       "2000-01-01 00:00:01   962  Edith  0.843949     0.020299"
      ]
     },
     "execution_count": 1,
     "metadata": {},
     "output_type": "execute_result"
    }
   ],
   "source": [
    "# Pandas\n",
    "pdf['y'] = pdf['y'].mask(cond=cond_pdf, other=pdf['y']* 100)\n",
    "pdf.head(2)"
   ]
  },
  {
   "cell_type": "code",
   "execution_count": 15,
   "metadata": {
    "execution": {
     "iopub.execute_input": "2021-01-02T05:59:48.434500Z",
     "iopub.status.busy": "2021-01-02T05:59:48.434058Z",
     "iopub.status.idle": "2021-01-02T05:59:48.493468Z",
     "shell.execute_reply": "2021-01-02T05:59:48.492926Z"
    }
   },
   "outputs": [
    {
     "data": {
      "text/html": [
       "<div>\n",
       "<style scoped>\n",
       "    .dataframe tbody tr th:only-of-type {\n",
       "        vertical-align: middle;\n",
       "    }\n",
       "\n",
       "    .dataframe tbody tr th {\n",
       "        vertical-align: top;\n",
       "    }\n",
       "\n",
       "    .dataframe thead th {\n",
       "        text-align: right;\n",
       "    }\n",
       "</style>\n",
       "<table border=\"1\" class=\"dataframe\">\n",
       "  <thead>\n",
       "    <tr style=\"text-align: right;\">\n",
       "      <th></th>\n",
       "      <th>ID</th>\n",
       "      <th>name</th>\n",
       "      <th>x</th>\n",
       "      <th>y</th>\n",
       "    </tr>\n",
       "    <tr>\n",
       "      <th>timestamp</th>\n",
       "      <th></th>\n",
       "      <th></th>\n",
       "      <th></th>\n",
       "      <th></th>\n",
       "    </tr>\n",
       "  </thead>\n",
       "  <tbody>\n",
       "    <tr>\n",
       "      <th>2000-01-01 00:00:00</th>\n",
       "      <td>1046</td>\n",
       "      <td>Quinn</td>\n",
       "      <td>0.789020</td>\n",
       "      <td>71.487016</td>\n",
       "    </tr>\n",
       "    <tr>\n",
       "      <th>2000-01-01 00:00:01</th>\n",
       "      <td>962</td>\n",
       "      <td>Edith</td>\n",
       "      <td>0.843949</td>\n",
       "      <td>0.020299</td>\n",
       "    </tr>\n",
       "  </tbody>\n",
       "</table>\n",
       "</div>"
      ],
      "text/plain": [
       "                       ID   name         x          y\n",
       "timestamp                                            \n",
       "2000-01-01 00:00:00  1046  Quinn  0.789020  71.487016\n",
       "2000-01-01 00:00:01   962  Edith  0.843949   0.020299"
      ]
     },
     "execution_count": 1,
     "metadata": {},
     "output_type": "execute_result"
    }
   ],
   "source": [
    "#Dask\n",
    "cond_ddf = (ddf['x']>0.5) & (ddf['x']<0.8)\n",
    "ddf['y'] = ddf['y'].mask(cond=cond_ddf, other=ddf['y']* 100)\n",
    "ddf.head(2)"
   ]
  },
  {
   "cell_type": "markdown",
   "metadata": {},
   "source": [
    "For more information see [dask mask documentation](https://docs.dask.org/en/latest/dataframe-api.html#dask.dataframe.DataFrame.mask)"
   ]
  },
  {
   "cell_type": "markdown",
   "metadata": {},
   "source": [
    "## Meta argument\n",
    "One key feature in `Dask` is the introduction of `meta` arguement.  \n",
    "> `meta` is the prescription of the names/types of the output from the computation  \n",
    "from [stack overflow answer](https://stackoverflow.com/questions/44432868/dask-dataframe-apply-meta)\n",
    "\n",
    "Since `Dask` creates a DAG for the computation, it requires to understand what are the outputs of each calculation stage.  \n",
    "For additinal information see [meta documentation](https://docs.dask.org/en/latest/dataframe-design.html?highlight=meta%20utils#metadata)"
   ]
  },
  {
   "cell_type": "code",
   "execution_count": 16,
   "metadata": {
    "execution": {
     "iopub.execute_input": "2021-01-02T05:59:48.497109Z",
     "iopub.status.busy": "2021-01-02T05:59:48.496678Z",
     "iopub.status.idle": "2021-01-02T05:59:49.206876Z",
     "shell.execute_reply": "2021-01-02T05:59:49.207415Z"
    }
   },
   "outputs": [
    {
     "data": {
      "text/html": [
       "<div>\n",
       "<style scoped>\n",
       "    .dataframe tbody tr th:only-of-type {\n",
       "        vertical-align: middle;\n",
       "    }\n",
       "\n",
       "    .dataframe tbody tr th {\n",
       "        vertical-align: top;\n",
       "    }\n",
       "\n",
       "    .dataframe thead th {\n",
       "        text-align: right;\n",
       "    }\n",
       "</style>\n",
       "<table border=\"1\" class=\"dataframe\">\n",
       "  <thead>\n",
       "    <tr style=\"text-align: right;\">\n",
       "      <th></th>\n",
       "      <th>ID</th>\n",
       "      <th>name</th>\n",
       "      <th>x</th>\n",
       "      <th>y</th>\n",
       "      <th>initials</th>\n",
       "    </tr>\n",
       "    <tr>\n",
       "      <th>timestamp</th>\n",
       "      <th></th>\n",
       "      <th></th>\n",
       "      <th></th>\n",
       "      <th></th>\n",
       "      <th></th>\n",
       "    </tr>\n",
       "  </thead>\n",
       "  <tbody>\n",
       "    <tr>\n",
       "      <th>2000-01-01 00:00:00</th>\n",
       "      <td>1046</td>\n",
       "      <td>Quinn</td>\n",
       "      <td>0.789020</td>\n",
       "      <td>7148.701589</td>\n",
       "      <td>Qu</td>\n",
       "    </tr>\n",
       "    <tr>\n",
       "      <th>2000-01-01 00:00:01</th>\n",
       "      <td>962</td>\n",
       "      <td>Edith</td>\n",
       "      <td>0.843949</td>\n",
       "      <td>0.020299</td>\n",
       "      <td>Ed</td>\n",
       "    </tr>\n",
       "  </tbody>\n",
       "</table>\n",
       "</div>"
      ],
      "text/plain": [
       "                       ID   name         x            y initials\n",
       "timestamp                                                       \n",
       "2000-01-01 00:00:00  1046  Quinn  0.789020  7148.701589       Qu\n",
       "2000-01-01 00:00:01   962  Edith  0.843949     0.020299       Ed"
      ]
     },
     "execution_count": 1,
     "metadata": {},
     "output_type": "execute_result"
    }
   ],
   "source": [
    "pdf['initials'] = pdf['name'].apply(lambda x: x[0]+x[1])\n",
    "pdf.head(2)"
   ]
  },
  {
   "cell_type": "code",
   "execution_count": 17,
   "metadata": {
    "execution": {
     "iopub.execute_input": "2021-01-02T05:59:49.216848Z",
     "iopub.status.busy": "2021-01-02T05:59:49.212108Z",
     "iopub.status.idle": "2021-01-02T05:59:49.306547Z",
     "shell.execute_reply": "2021-01-02T05:59:49.307200Z"
    }
   },
   "outputs": [
    {
     "name": "stderr",
     "output_type": "stream",
     "text": [
      "/usr/share/miniconda3/envs/dask-examples/lib/python3.8/site-packages/dask/dataframe/core.py:3199: UserWarning: \n",
      "You did not provide metadata, so Dask is running your function on a small dataset to guess output types. It is possible that Dask will guess incorrectly.\n",
      "To provide an explicit output types or to silence this message, please provide the `meta=` keyword, as described in the map or apply function that you are using.\n",
      "  Before: .apply(func)\n",
      "  After:  .apply(func, meta=('name', 'object'))\n",
      "\n",
      "  warnings.warn(meta_warning(meta))\n"
     ]
    },
    {
     "data": {
      "text/html": [
       "<div>\n",
       "<style scoped>\n",
       "    .dataframe tbody tr th:only-of-type {\n",
       "        vertical-align: middle;\n",
       "    }\n",
       "\n",
       "    .dataframe tbody tr th {\n",
       "        vertical-align: top;\n",
       "    }\n",
       "\n",
       "    .dataframe thead th {\n",
       "        text-align: right;\n",
       "    }\n",
       "</style>\n",
       "<table border=\"1\" class=\"dataframe\">\n",
       "  <thead>\n",
       "    <tr style=\"text-align: right;\">\n",
       "      <th></th>\n",
       "      <th>ID</th>\n",
       "      <th>name</th>\n",
       "      <th>x</th>\n",
       "      <th>y</th>\n",
       "      <th>initials</th>\n",
       "    </tr>\n",
       "    <tr>\n",
       "      <th>timestamp</th>\n",
       "      <th></th>\n",
       "      <th></th>\n",
       "      <th></th>\n",
       "      <th></th>\n",
       "      <th></th>\n",
       "    </tr>\n",
       "  </thead>\n",
       "  <tbody>\n",
       "    <tr>\n",
       "      <th>2000-01-01 00:00:00</th>\n",
       "      <td>1046</td>\n",
       "      <td>Quinn</td>\n",
       "      <td>0.789020</td>\n",
       "      <td>71.487016</td>\n",
       "      <td>Qu</td>\n",
       "    </tr>\n",
       "    <tr>\n",
       "      <th>2000-01-01 00:00:01</th>\n",
       "      <td>962</td>\n",
       "      <td>Edith</td>\n",
       "      <td>0.843949</td>\n",
       "      <td>0.020299</td>\n",
       "      <td>Ed</td>\n",
       "    </tr>\n",
       "  </tbody>\n",
       "</table>\n",
       "</div>"
      ],
      "text/plain": [
       "                       ID   name         x          y initials\n",
       "timestamp                                                     \n",
       "2000-01-01 00:00:00  1046  Quinn  0.789020  71.487016       Qu\n",
       "2000-01-01 00:00:01   962  Edith  0.843949   0.020299       Ed"
      ]
     },
     "execution_count": 1,
     "metadata": {},
     "output_type": "execute_result"
    }
   ],
   "source": [
    "# Dask - Warning\n",
    "ddf['initials'] = ddf['name'].apply(lambda x: x[0]+x[1])\n",
    "ddf.head(2)"
   ]
  },
  {
   "cell_type": "markdown",
   "metadata": {},
   "source": [
    "#### Introducing meta argument"
   ]
  },
  {
   "cell_type": "code",
   "execution_count": 18,
   "metadata": {
    "execution": {
     "iopub.execute_input": "2021-01-02T05:59:49.311353Z",
     "iopub.status.busy": "2021-01-02T05:59:49.310488Z",
     "iopub.status.idle": "2021-01-02T05:59:49.312808Z",
     "shell.execute_reply": "2021-01-02T05:59:49.312317Z"
    }
   },
   "outputs": [],
   "source": [
    "# Describe the outcome type of the calculation\n",
    "meta_arg = pd.Series(object, name='initials')"
   ]
  },
  {
   "cell_type": "code",
   "execution_count": 19,
   "metadata": {
    "execution": {
     "iopub.execute_input": "2021-01-02T05:59:49.327411Z",
     "iopub.status.busy": "2021-01-02T05:59:49.326565Z",
     "iopub.status.idle": "2021-01-02T05:59:49.434230Z",
     "shell.execute_reply": "2021-01-02T05:59:49.434829Z"
    }
   },
   "outputs": [
    {
     "data": {
      "text/html": [
       "<div>\n",
       "<style scoped>\n",
       "    .dataframe tbody tr th:only-of-type {\n",
       "        vertical-align: middle;\n",
       "    }\n",
       "\n",
       "    .dataframe tbody tr th {\n",
       "        vertical-align: top;\n",
       "    }\n",
       "\n",
       "    .dataframe thead th {\n",
       "        text-align: right;\n",
       "    }\n",
       "</style>\n",
       "<table border=\"1\" class=\"dataframe\">\n",
       "  <thead>\n",
       "    <tr style=\"text-align: right;\">\n",
       "      <th></th>\n",
       "      <th>ID</th>\n",
       "      <th>name</th>\n",
       "      <th>x</th>\n",
       "      <th>y</th>\n",
       "      <th>initials</th>\n",
       "    </tr>\n",
       "    <tr>\n",
       "      <th>timestamp</th>\n",
       "      <th></th>\n",
       "      <th></th>\n",
       "      <th></th>\n",
       "      <th></th>\n",
       "      <th></th>\n",
       "    </tr>\n",
       "  </thead>\n",
       "  <tbody>\n",
       "    <tr>\n",
       "      <th>2000-01-01 00:00:00</th>\n",
       "      <td>1046</td>\n",
       "      <td>Quinn</td>\n",
       "      <td>0.789020</td>\n",
       "      <td>71.487016</td>\n",
       "      <td>Qu</td>\n",
       "    </tr>\n",
       "    <tr>\n",
       "      <th>2000-01-01 00:00:01</th>\n",
       "      <td>962</td>\n",
       "      <td>Edith</td>\n",
       "      <td>0.843949</td>\n",
       "      <td>0.020299</td>\n",
       "      <td>Ed</td>\n",
       "    </tr>\n",
       "  </tbody>\n",
       "</table>\n",
       "</div>"
      ],
      "text/plain": [
       "                       ID   name         x          y initials\n",
       "timestamp                                                     \n",
       "2000-01-01 00:00:00  1046  Quinn  0.789020  71.487016       Qu\n",
       "2000-01-01 00:00:01   962  Edith  0.843949   0.020299       Ed"
      ]
     },
     "execution_count": 1,
     "metadata": {},
     "output_type": "execute_result"
    }
   ],
   "source": [
    "ddf['initials'] = ddf['name'].apply(lambda x: x[0]+x[1], meta = meta_arg)\n",
    "ddf.head(2)"
   ]
  },
  {
   "cell_type": "code",
   "execution_count": 20,
   "metadata": {
    "execution": {
     "iopub.execute_input": "2021-01-02T05:59:49.438860Z",
     "iopub.status.busy": "2021-01-02T05:59:49.438387Z",
     "iopub.status.idle": "2021-01-02T05:59:49.441584Z",
     "shell.execute_reply": "2021-01-02T05:59:49.441118Z"
    }
   },
   "outputs": [],
   "source": [
    "# similar when using a function\n",
    "def func(row):\n",
    "    if (row['x']> 0):\n",
    "        return row['x'] * 1000  \n",
    "    else:\n",
    "        return row['y'] * -1"
   ]
  },
  {
   "cell_type": "code",
   "execution_count": 21,
   "metadata": {
    "execution": {
     "iopub.execute_input": "2021-01-02T05:59:49.451151Z",
     "iopub.status.busy": "2021-01-02T05:59:49.450403Z",
     "iopub.status.idle": "2021-01-02T05:59:51.664465Z",
     "shell.execute_reply": "2021-01-02T05:59:51.663905Z"
    }
   },
   "outputs": [
    {
     "data": {
      "text/html": [
       "<div>\n",
       "<style scoped>\n",
       "    .dataframe tbody tr th:only-of-type {\n",
       "        vertical-align: middle;\n",
       "    }\n",
       "\n",
       "    .dataframe tbody tr th {\n",
       "        vertical-align: top;\n",
       "    }\n",
       "\n",
       "    .dataframe thead th {\n",
       "        text-align: right;\n",
       "    }\n",
       "</style>\n",
       "<table border=\"1\" class=\"dataframe\">\n",
       "  <thead>\n",
       "    <tr style=\"text-align: right;\">\n",
       "      <th></th>\n",
       "      <th>ID</th>\n",
       "      <th>name</th>\n",
       "      <th>x</th>\n",
       "      <th>y</th>\n",
       "      <th>initials</th>\n",
       "      <th>z</th>\n",
       "    </tr>\n",
       "    <tr>\n",
       "      <th>timestamp</th>\n",
       "      <th></th>\n",
       "      <th></th>\n",
       "      <th></th>\n",
       "      <th></th>\n",
       "      <th></th>\n",
       "      <th></th>\n",
       "    </tr>\n",
       "  </thead>\n",
       "  <tbody>\n",
       "    <tr>\n",
       "      <th>2000-01-01 00:00:00</th>\n",
       "      <td>1046</td>\n",
       "      <td>Quinn</td>\n",
       "      <td>0.789020</td>\n",
       "      <td>71.487016</td>\n",
       "      <td>Qu</td>\n",
       "      <td>789.020418</td>\n",
       "    </tr>\n",
       "    <tr>\n",
       "      <th>2000-01-01 00:00:01</th>\n",
       "      <td>962</td>\n",
       "      <td>Edith</td>\n",
       "      <td>0.843949</td>\n",
       "      <td>0.020299</td>\n",
       "      <td>Ed</td>\n",
       "      <td>843.948523</td>\n",
       "    </tr>\n",
       "  </tbody>\n",
       "</table>\n",
       "</div>"
      ],
      "text/plain": [
       "                       ID   name         x          y initials           z\n",
       "timestamp                                                                 \n",
       "2000-01-01 00:00:00  1046  Quinn  0.789020  71.487016       Qu  789.020418\n",
       "2000-01-01 00:00:01   962  Edith  0.843949   0.020299       Ed  843.948523"
      ]
     },
     "execution_count": 1,
     "metadata": {},
     "output_type": "execute_result"
    }
   ],
   "source": [
    "ddf['z'] = ddf.apply(func, axis=1, meta=('z', 'float'))\n",
    "ddf.head(2)"
   ]
  },
  {
   "cell_type": "markdown",
   "metadata": {},
   "source": [
    "### Map partitions\n",
    "* We can supply an ad-hoc function to run on each partition using the [map_partitions](https://dask.readthedocs.io/en/latest/dataframe-api.html#dask.dataframe.DataFrame.map_partitions) method.   \n",
    "Mainly useful for functions that are not implemented in `Dask` or `Pandas` . \n",
    "* Finally we can return a new `dataframe` which needs to be described in the `meta` argument  \n",
    "The function could also include arguments."
   ]
  },
  {
   "cell_type": "code",
   "execution_count": 22,
   "metadata": {
    "execution": {
     "iopub.execute_input": "2021-01-02T05:59:51.673452Z",
     "iopub.status.busy": "2021-01-02T05:59:51.672512Z",
     "iopub.status.idle": "2021-01-02T05:59:53.941086Z",
     "shell.execute_reply": "2021-01-02T05:59:53.940305Z"
    }
   },
   "outputs": [
    {
     "data": {
      "text/html": [
       "<div>\n",
       "<style scoped>\n",
       "    .dataframe tbody tr th:only-of-type {\n",
       "        vertical-align: middle;\n",
       "    }\n",
       "\n",
       "    .dataframe tbody tr th {\n",
       "        vertical-align: top;\n",
       "    }\n",
       "\n",
       "    .dataframe thead th {\n",
       "        text-align: right;\n",
       "    }\n",
       "</style>\n",
       "<table border=\"1\" class=\"dataframe\">\n",
       "  <thead>\n",
       "    <tr style=\"text-align: right;\">\n",
       "      <th></th>\n",
       "      <th>ID</th>\n",
       "      <th>name</th>\n",
       "      <th>x</th>\n",
       "      <th>y</th>\n",
       "      <th>dist</th>\n",
       "    </tr>\n",
       "    <tr>\n",
       "      <th>timestamp</th>\n",
       "      <th></th>\n",
       "      <th></th>\n",
       "      <th></th>\n",
       "      <th></th>\n",
       "      <th></th>\n",
       "    </tr>\n",
       "  </thead>\n",
       "  <tbody>\n",
       "    <tr>\n",
       "      <th>2000-01-01 00:00:00</th>\n",
       "      <td>1046</td>\n",
       "      <td>Quinn</td>\n",
       "      <td>0.789020</td>\n",
       "      <td>71.487016</td>\n",
       "      <td>NaN</td>\n",
       "    </tr>\n",
       "    <tr>\n",
       "      <th>2000-01-01 00:00:01</th>\n",
       "      <td>962</td>\n",
       "      <td>Edith</td>\n",
       "      <td>0.843949</td>\n",
       "      <td>0.020299</td>\n",
       "      <td>71.466738</td>\n",
       "    </tr>\n",
       "    <tr>\n",
       "      <th>2000-01-01 00:00:02</th>\n",
       "      <td>979</td>\n",
       "      <td>Edith</td>\n",
       "      <td>-0.197599</td>\n",
       "      <td>0.789685</td>\n",
       "      <td>1.294904</td>\n",
       "    </tr>\n",
       "    <tr>\n",
       "      <th>2000-01-01 00:00:03</th>\n",
       "      <td>1036</td>\n",
       "      <td>Ray</td>\n",
       "      <td>0.461183</td>\n",
       "      <td>-0.006617</td>\n",
       "      <td>1.033484</td>\n",
       "    </tr>\n",
       "    <tr>\n",
       "      <th>2000-01-01 00:00:04</th>\n",
       "      <td>999</td>\n",
       "      <td>Charlie</td>\n",
       "      <td>0.680999</td>\n",
       "      <td>32.531962</td>\n",
       "      <td>32.539321</td>\n",
       "    </tr>\n",
       "  </tbody>\n",
       "</table>\n",
       "</div>"
      ],
      "text/plain": [
       "                       ID     name         x          y       dist\n",
       "timestamp                                                         \n",
       "2000-01-01 00:00:00  1046    Quinn  0.789020  71.487016        NaN\n",
       "2000-01-01 00:00:01   962    Edith  0.843949   0.020299  71.466738\n",
       "2000-01-01 00:00:02   979    Edith -0.197599   0.789685   1.294904\n",
       "2000-01-01 00:00:03  1036      Ray  0.461183  -0.006617   1.033484\n",
       "2000-01-01 00:00:04   999  Charlie  0.680999  32.531962  32.539321"
      ]
     },
     "execution_count": 1,
     "metadata": {},
     "output_type": "execute_result"
    }
   ],
   "source": [
    "import numpy as np\n",
    "def func2(df, coor_x, coor_y, drop_cols):\n",
    "    df['dist'] =  np.sqrt ( (df[coor_x] - df[coor_x].shift())**2  \n",
    "                           +  (df[coor_y] - df[coor_y].shift())**2 )\n",
    "    return df.drop(drop_cols, axis=1)\n",
    "\n",
    "ddf2 = ddf.map_partitions(func2\n",
    "                          , coor_x='x'\n",
    "                          , coor_y='y'\n",
    "                          , drop_cols=['initials', 'z']\n",
    "                          , meta=pd.DataFrame({'ID':'i8'\n",
    "                                              , 'name':str\n",
    "                                              , 'x':'f8'\n",
    "                                              , 'y':'f8'                                              \n",
    "                                              , 'dist':'f8'}, index=[0]))\n",
    "ddf2.head()"
   ]
  },
  {
   "cell_type": "markdown",
   "metadata": {},
   "source": [
    "### Convert index into Time column"
   ]
  },
  {
   "cell_type": "code",
   "execution_count": 23,
   "metadata": {
    "execution": {
     "iopub.execute_input": "2021-01-02T05:59:53.945606Z",
     "iopub.status.busy": "2021-01-02T05:59:53.945136Z",
     "iopub.status.idle": "2021-01-02T05:59:54.993314Z",
     "shell.execute_reply": "2021-01-02T05:59:54.993689Z"
    }
   },
   "outputs": [
    {
     "data": {
      "text/html": [
       "<div>\n",
       "<style scoped>\n",
       "    .dataframe tbody tr th:only-of-type {\n",
       "        vertical-align: middle;\n",
       "    }\n",
       "\n",
       "    .dataframe tbody tr th {\n",
       "        vertical-align: top;\n",
       "    }\n",
       "\n",
       "    .dataframe thead th {\n",
       "        text-align: right;\n",
       "    }\n",
       "</style>\n",
       "<table border=\"1\" class=\"dataframe\">\n",
       "  <thead>\n",
       "    <tr style=\"text-align: right;\">\n",
       "      <th></th>\n",
       "      <th>ID</th>\n",
       "      <th>name</th>\n",
       "      <th>x</th>\n",
       "      <th>y</th>\n",
       "      <th>initials</th>\n",
       "      <th>times</th>\n",
       "    </tr>\n",
       "    <tr>\n",
       "      <th>timestamp</th>\n",
       "      <th></th>\n",
       "      <th></th>\n",
       "      <th></th>\n",
       "      <th></th>\n",
       "      <th></th>\n",
       "      <th></th>\n",
       "    </tr>\n",
       "  </thead>\n",
       "  <tbody>\n",
       "    <tr>\n",
       "      <th>2000-01-01 00:00:00</th>\n",
       "      <td>1046</td>\n",
       "      <td>Quinn</td>\n",
       "      <td>0.789020</td>\n",
       "      <td>7148.701589</td>\n",
       "      <td>Qu</td>\n",
       "      <td>00:00:00</td>\n",
       "    </tr>\n",
       "    <tr>\n",
       "      <th>2000-01-01 00:00:01</th>\n",
       "      <td>962</td>\n",
       "      <td>Edith</td>\n",
       "      <td>0.843949</td>\n",
       "      <td>0.020299</td>\n",
       "      <td>Ed</td>\n",
       "      <td>00:00:01</td>\n",
       "    </tr>\n",
       "  </tbody>\n",
       "</table>\n",
       "</div>"
      ],
      "text/plain": [
       "                       ID   name         x            y initials     times\n",
       "timestamp                                                                 \n",
       "2000-01-01 00:00:00  1046  Quinn  0.789020  7148.701589       Qu  00:00:00\n",
       "2000-01-01 00:00:01   962  Edith  0.843949     0.020299       Ed  00:00:01"
      ]
     },
     "execution_count": 1,
     "metadata": {},
     "output_type": "execute_result"
    }
   ],
   "source": [
    "# Only Pandas\n",
    "pdf = pdf.assign(times=pd.to_datetime(pdf.index).time)\n",
    "pdf.head(2)"
   ]
  },
  {
   "cell_type": "code",
   "execution_count": 24,
   "metadata": {
    "execution": {
     "iopub.execute_input": "2021-01-02T05:59:55.036507Z",
     "iopub.status.busy": "2021-01-02T05:59:55.008022Z",
     "iopub.status.idle": "2021-01-02T06:00:01.798321Z",
     "shell.execute_reply": "2021-01-02T06:00:01.797854Z"
    }
   },
   "outputs": [
    {
     "data": {
      "text/html": [
       "<div>\n",
       "<style scoped>\n",
       "    .dataframe tbody tr th:only-of-type {\n",
       "        vertical-align: middle;\n",
       "    }\n",
       "\n",
       "    .dataframe tbody tr th {\n",
       "        vertical-align: top;\n",
       "    }\n",
       "\n",
       "    .dataframe thead th {\n",
       "        text-align: right;\n",
       "    }\n",
       "</style>\n",
       "<table border=\"1\" class=\"dataframe\">\n",
       "  <thead>\n",
       "    <tr style=\"text-align: right;\">\n",
       "      <th></th>\n",
       "      <th>ID</th>\n",
       "      <th>name</th>\n",
       "      <th>x</th>\n",
       "      <th>y</th>\n",
       "      <th>initials</th>\n",
       "      <th>z</th>\n",
       "      <th>times</th>\n",
       "    </tr>\n",
       "    <tr>\n",
       "      <th>timestamp</th>\n",
       "      <th></th>\n",
       "      <th></th>\n",
       "      <th></th>\n",
       "      <th></th>\n",
       "      <th></th>\n",
       "      <th></th>\n",
       "      <th></th>\n",
       "    </tr>\n",
       "  </thead>\n",
       "  <tbody>\n",
       "    <tr>\n",
       "      <th>2000-01-01 00:00:00</th>\n",
       "      <td>1046</td>\n",
       "      <td>Quinn</td>\n",
       "      <td>0.789020</td>\n",
       "      <td>71.487016</td>\n",
       "      <td>Qu</td>\n",
       "      <td>789.020418</td>\n",
       "      <td>00:00:00</td>\n",
       "    </tr>\n",
       "    <tr>\n",
       "      <th>2000-01-01 00:00:01</th>\n",
       "      <td>962</td>\n",
       "      <td>Edith</td>\n",
       "      <td>0.843949</td>\n",
       "      <td>0.020299</td>\n",
       "      <td>Ed</td>\n",
       "      <td>843.948523</td>\n",
       "      <td>00:00:01</td>\n",
       "    </tr>\n",
       "  </tbody>\n",
       "</table>\n",
       "</div>"
      ],
      "text/plain": [
       "                       ID   name         x          y initials           z  \\\n",
       "timestamp                                                                    \n",
       "2000-01-01 00:00:00  1046  Quinn  0.789020  71.487016       Qu  789.020418   \n",
       "2000-01-01 00:00:01   962  Edith  0.843949   0.020299       Ed  843.948523   \n",
       "\n",
       "                        times  \n",
       "timestamp                      \n",
       "2000-01-01 00:00:00  00:00:00  \n",
       "2000-01-01 00:00:01  00:00:01  "
      ]
     },
     "execution_count": 1,
     "metadata": {},
     "output_type": "execute_result"
    }
   ],
   "source": [
    "# Dask or Pandas\n",
    "ddf = ddf.assign(times=ddf.index.astype('M8[ns]'))\n",
    "# or  ddf = ddf.assign(Time= dask.dataframe.to_datetime(ddf.index, format='%Y-%m-%d'). )\n",
    "ddf['times'] = ddf['times'].dt.time\n",
    "ddf =client.persist(ddf)\n",
    "ddf.head(2)"
   ]
  },
  {
   "cell_type": "markdown",
   "metadata": {},
   "source": [
    "## Drop NA on column"
   ]
  },
  {
   "cell_type": "code",
   "execution_count": 25,
   "metadata": {
    "execution": {
     "iopub.execute_input": "2021-01-02T06:00:01.938717Z",
     "iopub.status.busy": "2021-01-02T06:00:01.938186Z",
     "iopub.status.idle": "2021-01-02T06:00:02.297700Z",
     "shell.execute_reply": "2021-01-02T06:00:02.298348Z"
    }
   },
   "outputs": [],
   "source": [
    "# no issue with regular drop columns\n",
    "pdf = pdf.drop(labels=['initials'],axis=1)\n",
    "ddf = ddf.drop(labels=['initials','z'],axis=1) "
   ]
  },
  {
   "cell_type": "code",
   "execution_count": 26,
   "metadata": {
    "execution": {
     "iopub.execute_input": "2021-01-02T06:00:02.302080Z",
     "iopub.status.busy": "2021-01-02T06:00:02.301611Z",
     "iopub.status.idle": "2021-01-02T06:00:02.516801Z",
     "shell.execute_reply": "2021-01-02T06:00:02.517530Z"
    }
   },
   "outputs": [],
   "source": [
    "# Pandas\n",
    "pdf = pdf.assign(colna = None)\n",
    "# Dask\n",
    "ddf = ddf.assign(colna = None)"
   ]
  },
  {
   "cell_type": "code",
   "execution_count": 27,
   "metadata": {
    "execution": {
     "iopub.execute_input": "2021-01-02T06:00:02.521478Z",
     "iopub.status.busy": "2021-01-02T06:00:02.521035Z",
     "iopub.status.idle": "2021-01-02T06:00:03.574613Z",
     "shell.execute_reply": "2021-01-02T06:00:03.575110Z"
    }
   },
   "outputs": [
    {
     "data": {
      "text/html": [
       "<div>\n",
       "<style scoped>\n",
       "    .dataframe tbody tr th:only-of-type {\n",
       "        vertical-align: middle;\n",
       "    }\n",
       "\n",
       "    .dataframe tbody tr th {\n",
       "        vertical-align: top;\n",
       "    }\n",
       "\n",
       "    .dataframe thead th {\n",
       "        text-align: right;\n",
       "    }\n",
       "</style>\n",
       "<table border=\"1\" class=\"dataframe\">\n",
       "  <thead>\n",
       "    <tr style=\"text-align: right;\">\n",
       "      <th></th>\n",
       "      <th>ID</th>\n",
       "      <th>name</th>\n",
       "      <th>x</th>\n",
       "      <th>y</th>\n",
       "      <th>times</th>\n",
       "    </tr>\n",
       "    <tr>\n",
       "      <th>timestamp</th>\n",
       "      <th></th>\n",
       "      <th></th>\n",
       "      <th></th>\n",
       "      <th></th>\n",
       "      <th></th>\n",
       "    </tr>\n",
       "  </thead>\n",
       "  <tbody>\n",
       "    <tr>\n",
       "      <th>2000-01-01 00:00:00</th>\n",
       "      <td>1046</td>\n",
       "      <td>Quinn</td>\n",
       "      <td>0.789020</td>\n",
       "      <td>7148.701589</td>\n",
       "      <td>00:00:00</td>\n",
       "    </tr>\n",
       "    <tr>\n",
       "      <th>2000-01-01 00:00:01</th>\n",
       "      <td>962</td>\n",
       "      <td>Edith</td>\n",
       "      <td>0.843949</td>\n",
       "      <td>0.020299</td>\n",
       "      <td>00:00:01</td>\n",
       "    </tr>\n",
       "  </tbody>\n",
       "</table>\n",
       "</div>"
      ],
      "text/plain": [
       "                       ID   name         x            y     times\n",
       "timestamp                                                        \n",
       "2000-01-01 00:00:00  1046  Quinn  0.789020  7148.701589  00:00:00\n",
       "2000-01-01 00:00:01   962  Edith  0.843949     0.020299  00:00:01"
      ]
     },
     "execution_count": 1,
     "metadata": {},
     "output_type": "execute_result"
    }
   ],
   "source": [
    "pdf = pdf.dropna(axis=1, how='all')\n",
    "pdf.head(2)"
   ]
  },
  {
   "cell_type": "markdown",
   "metadata": {},
   "source": [
    "In odrer for `Dask` to drop a column with all `na` it must check all the partitions with `compute()`"
   ]
  },
  {
   "cell_type": "code",
   "execution_count": 28,
   "metadata": {
    "execution": {
     "iopub.execute_input": "2021-01-02T06:00:03.581115Z",
     "iopub.status.busy": "2021-01-02T06:00:03.580613Z",
     "iopub.status.idle": "2021-01-02T06:00:29.591262Z",
     "shell.execute_reply": "2021-01-02T06:00:29.590823Z"
    }
   },
   "outputs": [
    {
     "data": {
      "text/html": [
       "<div>\n",
       "<style scoped>\n",
       "    .dataframe tbody tr th:only-of-type {\n",
       "        vertical-align: middle;\n",
       "    }\n",
       "\n",
       "    .dataframe tbody tr th {\n",
       "        vertical-align: top;\n",
       "    }\n",
       "\n",
       "    .dataframe thead th {\n",
       "        text-align: right;\n",
       "    }\n",
       "</style>\n",
       "<table border=\"1\" class=\"dataframe\">\n",
       "  <thead>\n",
       "    <tr style=\"text-align: right;\">\n",
       "      <th></th>\n",
       "      <th>ID</th>\n",
       "      <th>name</th>\n",
       "      <th>x</th>\n",
       "      <th>y</th>\n",
       "      <th>times</th>\n",
       "    </tr>\n",
       "    <tr>\n",
       "      <th>timestamp</th>\n",
       "      <th></th>\n",
       "      <th></th>\n",
       "      <th></th>\n",
       "      <th></th>\n",
       "      <th></th>\n",
       "    </tr>\n",
       "  </thead>\n",
       "  <tbody>\n",
       "    <tr>\n",
       "      <th>2000-01-01 00:00:00</th>\n",
       "      <td>1046</td>\n",
       "      <td>Quinn</td>\n",
       "      <td>0.789020</td>\n",
       "      <td>71.487016</td>\n",
       "      <td>00:00:00</td>\n",
       "    </tr>\n",
       "    <tr>\n",
       "      <th>2000-01-01 00:00:01</th>\n",
       "      <td>962</td>\n",
       "      <td>Edith</td>\n",
       "      <td>0.843949</td>\n",
       "      <td>0.020299</td>\n",
       "      <td>00:00:01</td>\n",
       "    </tr>\n",
       "  </tbody>\n",
       "</table>\n",
       "</div>"
      ],
      "text/plain": [
       "                       ID   name         x          y     times\n",
       "timestamp                                                      \n",
       "2000-01-01 00:00:00  1046  Quinn  0.789020  71.487016  00:00:00\n",
       "2000-01-01 00:00:01   962  Edith  0.843949   0.020299  00:00:01"
      ]
     },
     "execution_count": 1,
     "metadata": {},
     "output_type": "execute_result"
    }
   ],
   "source": [
    "if ddf.colna.isnull().all().compute() == True:   # check if all values in column are Null -  expensive\n",
    "    ddf = ddf.drop(labels=['colna'],axis=1)\n",
    "ddf.head(2)"
   ]
  },
  {
   "cell_type": "markdown",
   "metadata": {},
   "source": [
    "##  1.4 Reset Index"
   ]
  },
  {
   "cell_type": "code",
   "execution_count": 29,
   "metadata": {
    "execution": {
     "iopub.execute_input": "2021-01-02T06:00:29.595217Z",
     "iopub.status.busy": "2021-01-02T06:00:29.594748Z",
     "iopub.status.idle": "2021-01-02T06:00:29.671535Z",
     "shell.execute_reply": "2021-01-02T06:00:29.671038Z"
    }
   },
   "outputs": [
    {
     "data": {
      "text/html": [
       "<div>\n",
       "<style scoped>\n",
       "    .dataframe tbody tr th:only-of-type {\n",
       "        vertical-align: middle;\n",
       "    }\n",
       "\n",
       "    .dataframe tbody tr th {\n",
       "        vertical-align: top;\n",
       "    }\n",
       "\n",
       "    .dataframe thead th {\n",
       "        text-align: right;\n",
       "    }\n",
       "</style>\n",
       "<table border=\"1\" class=\"dataframe\">\n",
       "  <thead>\n",
       "    <tr style=\"text-align: right;\">\n",
       "      <th></th>\n",
       "      <th>ID</th>\n",
       "      <th>name</th>\n",
       "      <th>x</th>\n",
       "      <th>y</th>\n",
       "      <th>times</th>\n",
       "    </tr>\n",
       "  </thead>\n",
       "  <tbody>\n",
       "    <tr>\n",
       "      <th>0</th>\n",
       "      <td>1046</td>\n",
       "      <td>Quinn</td>\n",
       "      <td>0.789020</td>\n",
       "      <td>7148.701589</td>\n",
       "      <td>00:00:00</td>\n",
       "    </tr>\n",
       "    <tr>\n",
       "      <th>1</th>\n",
       "      <td>962</td>\n",
       "      <td>Edith</td>\n",
       "      <td>0.843949</td>\n",
       "      <td>0.020299</td>\n",
       "      <td>00:00:01</td>\n",
       "    </tr>\n",
       "  </tbody>\n",
       "</table>\n",
       "</div>"
      ],
      "text/plain": [
       "     ID   name         x            y     times\n",
       "0  1046  Quinn  0.789020  7148.701589  00:00:00\n",
       "1   962  Edith  0.843949     0.020299  00:00:01"
      ]
     },
     "execution_count": 1,
     "metadata": {},
     "output_type": "execute_result"
    }
   ],
   "source": [
    "# Pandas\n",
    "pdf =pdf.reset_index(drop=True)\n",
    "pdf.head(2)"
   ]
  },
  {
   "cell_type": "code",
   "execution_count": 30,
   "metadata": {
    "execution": {
     "iopub.execute_input": "2021-01-02T06:00:29.681954Z",
     "iopub.status.busy": "2021-01-02T06:00:29.678732Z",
     "iopub.status.idle": "2021-01-02T06:00:29.759785Z",
     "shell.execute_reply": "2021-01-02T06:00:29.758605Z"
    }
   },
   "outputs": [
    {
     "data": {
      "text/html": [
       "<div>\n",
       "<style scoped>\n",
       "    .dataframe tbody tr th:only-of-type {\n",
       "        vertical-align: middle;\n",
       "    }\n",
       "\n",
       "    .dataframe tbody tr th {\n",
       "        vertical-align: top;\n",
       "    }\n",
       "\n",
       "    .dataframe thead th {\n",
       "        text-align: right;\n",
       "    }\n",
       "</style>\n",
       "<table border=\"1\" class=\"dataframe\">\n",
       "  <thead>\n",
       "    <tr style=\"text-align: right;\">\n",
       "      <th></th>\n",
       "      <th>ID</th>\n",
       "      <th>name</th>\n",
       "      <th>x</th>\n",
       "      <th>y</th>\n",
       "      <th>times</th>\n",
       "    </tr>\n",
       "  </thead>\n",
       "  <tbody>\n",
       "    <tr>\n",
       "      <th>0</th>\n",
       "      <td>1046</td>\n",
       "      <td>Quinn</td>\n",
       "      <td>0.789020</td>\n",
       "      <td>71.487016</td>\n",
       "      <td>00:00:00</td>\n",
       "    </tr>\n",
       "    <tr>\n",
       "      <th>1</th>\n",
       "      <td>962</td>\n",
       "      <td>Edith</td>\n",
       "      <td>0.843949</td>\n",
       "      <td>0.020299</td>\n",
       "      <td>00:00:01</td>\n",
       "    </tr>\n",
       "  </tbody>\n",
       "</table>\n",
       "</div>"
      ],
      "text/plain": [
       "     ID   name         x          y     times\n",
       "0  1046  Quinn  0.789020  71.487016  00:00:00\n",
       "1   962  Edith  0.843949   0.020299  00:00:01"
      ]
     },
     "execution_count": 1,
     "metadata": {},
     "output_type": "execute_result"
    }
   ],
   "source": [
    "# Dask\n",
    "ddf = ddf.reset_index()\n",
    "ddf = ddf.drop(labels=['timestamp'], axis=1 )\n",
    "ddf.head(2)"
   ]
  },
  {
   "cell_type": "markdown",
   "metadata": {},
   "source": [
    "# Read / Save files"
   ]
  },
  {
   "cell_type": "markdown",
   "metadata": {},
   "source": [
    "* When working with `pandas` and `dask` preferable use [parquet format](https://docs.dask.org/en/latest/dataframe-best-practices.html?highlight=parquet#store-data-in-apache-parquet-format).  \n",
    "* When working with `Dask` - files can be read with multiple workers .  \n",
    "* Most `kwargs` are applicable for reading and writing files   \n",
    "e.g. \n",
    "ddf = dd.read_csv('data/pd2dd/ddf*.csv', compression='gzip', header=False).  \n",
    "* However some are not available such as  `nrows`.\n",
    "\n",
    "[see documentaion](https://docs.dask.org/en/latest/dataframe-api.html#dask.dataframe.DataFrame.to_csv) (including the option for output file naming)."
   ]
  },
  {
   "cell_type": "markdown",
   "metadata": {},
   "source": [
    "## Save files"
   ]
  },
  {
   "cell_type": "code",
   "execution_count": 31,
   "metadata": {
    "execution": {
     "iopub.execute_input": "2021-01-02T06:00:29.764435Z",
     "iopub.status.busy": "2021-01-02T06:00:29.763921Z",
     "iopub.status.idle": "2021-01-02T06:00:29.766042Z",
     "shell.execute_reply": "2021-01-02T06:00:29.765490Z"
    }
   },
   "outputs": [],
   "source": [
    "from pathlib import Path\n",
    "output_dir_file = Path('data/pdf_single_file.csv')\n",
    "output_dir_file.parent.mkdir(parents=True, exist_ok=True)"
   ]
  },
  {
   "cell_type": "code",
   "execution_count": 32,
   "metadata": {
    "execution": {
     "iopub.execute_input": "2021-01-02T06:00:29.769787Z",
     "iopub.status.busy": "2021-01-02T06:00:29.769316Z",
     "iopub.status.idle": "2021-01-02T06:00:45.886865Z",
     "shell.execute_reply": "2021-01-02T06:00:45.886399Z"
    }
   },
   "outputs": [
    {
     "name": "stdout",
     "output_type": "stream",
     "text": [
      "CPU times: user 16.1 s, sys: 235 ms, total: 16.3 s\n",
      "Wall time: 16.1 s\n"
     ]
    }
   ],
   "source": [
    "%%time\n",
    "# Pandas\n",
    "pdf.to_csv(output_dir_file)"
   ]
  },
  {
   "cell_type": "code",
   "execution_count": 33,
   "metadata": {
    "execution": {
     "iopub.execute_input": "2021-01-02T06:00:45.890294Z",
     "iopub.status.busy": "2021-01-02T06:00:45.889864Z",
     "iopub.status.idle": "2021-01-02T06:00:45.894820Z",
     "shell.execute_reply": "2021-01-02T06:00:45.894402Z"
    }
   },
   "outputs": [
    {
     "data": {
      "text/plain": [
       "[PosixPath('data/2000-01-01.csv'),\n",
       " PosixPath('data/2000-01-12.csv'),\n",
       " PosixPath('data/2000-01-02.csv'),\n",
       " PosixPath('data/2000-01-25.csv'),\n",
       " PosixPath('data/2000-01-17.csv'),\n",
       " PosixPath('data/2000-01-03.csv'),\n",
       " PosixPath('data/2000-01-16.csv'),\n",
       " PosixPath('data/2000-01-24.csv'),\n",
       " PosixPath('data/2000-01-15.csv'),\n",
       " PosixPath('data/2000-01-07.csv'),\n",
       " PosixPath('data/2000-01-10.csv'),\n",
       " PosixPath('data/2000-01-20.csv'),\n",
       " PosixPath('data/2000-01-09.csv'),\n",
       " PosixPath('data/2000-01-06.csv'),\n",
       " PosixPath('data/2000-01-26.csv'),\n",
       " PosixPath('data/2000-01-21.csv'),\n",
       " PosixPath('data/2000-01-29.csv'),\n",
       " PosixPath('data/2000-01-19.csv'),\n",
       " PosixPath('data/2000-01-04.csv'),\n",
       " PosixPath('data/2000-01-22.csv'),\n",
       " PosixPath('data/2000-01-28.csv'),\n",
       " PosixPath('data/2000-01-27.csv'),\n",
       " PosixPath('data/2000-01-05.csv'),\n",
       " PosixPath('data/2000-01-13.csv'),\n",
       " PosixPath('data/2000-01-08.csv'),\n",
       " PosixPath('data/2000-01-30.csv'),\n",
       " PosixPath('data/2000-01-18.csv'),\n",
       " PosixPath('data/2000-01-11.csv'),\n",
       " PosixPath('data/pdf_single_file.csv'),\n",
       " PosixPath('data/2000-01-23.csv'),\n",
       " PosixPath('data/2000-01-14.csv')]"
      ]
     },
     "execution_count": 1,
     "metadata": {},
     "output_type": "execute_result"
    }
   ],
   "source": [
    "list(output_dir_file.parent.glob('*.csv'))"
   ]
  },
  {
   "cell_type": "markdown",
   "metadata": {},
   "source": [
    "`Dask`\n",
    "Notice the '*' to allow for multiple file renaming. \n",
    "\n"
   ]
  },
  {
   "cell_type": "code",
   "execution_count": 34,
   "metadata": {
    "execution": {
     "iopub.execute_input": "2021-01-02T06:00:45.898776Z",
     "iopub.status.busy": "2021-01-02T06:00:45.897952Z",
     "iopub.status.idle": "2021-01-02T06:00:45.900019Z",
     "shell.execute_reply": "2021-01-02T06:00:45.899638Z"
    }
   },
   "outputs": [],
   "source": [
    "output_dask_dir = Path('data/dask_multi_files/')\n",
    "output_dask_dir.mkdir(parents=True, exist_ok=True)"
   ]
  },
  {
   "cell_type": "code",
   "execution_count": 35,
   "metadata": {
    "execution": {
     "iopub.execute_input": "2021-01-02T06:00:45.905515Z",
     "iopub.status.busy": "2021-01-02T06:00:45.905053Z",
     "iopub.status.idle": "2021-01-02T06:00:54.763076Z",
     "shell.execute_reply": "2021-01-02T06:00:54.763507Z"
    }
   },
   "outputs": [
    {
     "name": "stdout",
     "output_type": "stream",
     "text": [
      "CPU times: user 273 ms, sys: 24.2 ms, total: 297 ms\n",
      "Wall time: 8.85 s\n"
     ]
    },
    {
     "data": {
      "text/plain": [
       "['/home/runner/work/dask-examples/dask-examples/dataframes/data/dask_multi_files/ddf00.csv',\n",
       " '/home/runner/work/dask-examples/dask-examples/dataframes/data/dask_multi_files/ddf01.csv',\n",
       " '/home/runner/work/dask-examples/dask-examples/dataframes/data/dask_multi_files/ddf02.csv',\n",
       " '/home/runner/work/dask-examples/dask-examples/dataframes/data/dask_multi_files/ddf03.csv',\n",
       " '/home/runner/work/dask-examples/dask-examples/dataframes/data/dask_multi_files/ddf04.csv',\n",
       " '/home/runner/work/dask-examples/dask-examples/dataframes/data/dask_multi_files/ddf05.csv',\n",
       " '/home/runner/work/dask-examples/dask-examples/dataframes/data/dask_multi_files/ddf06.csv',\n",
       " '/home/runner/work/dask-examples/dask-examples/dataframes/data/dask_multi_files/ddf07.csv',\n",
       " '/home/runner/work/dask-examples/dask-examples/dataframes/data/dask_multi_files/ddf08.csv',\n",
       " '/home/runner/work/dask-examples/dask-examples/dataframes/data/dask_multi_files/ddf09.csv',\n",
       " '/home/runner/work/dask-examples/dask-examples/dataframes/data/dask_multi_files/ddf10.csv',\n",
       " '/home/runner/work/dask-examples/dask-examples/dataframes/data/dask_multi_files/ddf11.csv',\n",
       " '/home/runner/work/dask-examples/dask-examples/dataframes/data/dask_multi_files/ddf12.csv',\n",
       " '/home/runner/work/dask-examples/dask-examples/dataframes/data/dask_multi_files/ddf13.csv',\n",
       " '/home/runner/work/dask-examples/dask-examples/dataframes/data/dask_multi_files/ddf14.csv',\n",
       " '/home/runner/work/dask-examples/dask-examples/dataframes/data/dask_multi_files/ddf15.csv',\n",
       " '/home/runner/work/dask-examples/dask-examples/dataframes/data/dask_multi_files/ddf16.csv',\n",
       " '/home/runner/work/dask-examples/dask-examples/dataframes/data/dask_multi_files/ddf17.csv',\n",
       " '/home/runner/work/dask-examples/dask-examples/dataframes/data/dask_multi_files/ddf18.csv',\n",
       " '/home/runner/work/dask-examples/dask-examples/dataframes/data/dask_multi_files/ddf19.csv',\n",
       " '/home/runner/work/dask-examples/dask-examples/dataframes/data/dask_multi_files/ddf20.csv',\n",
       " '/home/runner/work/dask-examples/dask-examples/dataframes/data/dask_multi_files/ddf21.csv',\n",
       " '/home/runner/work/dask-examples/dask-examples/dataframes/data/dask_multi_files/ddf22.csv',\n",
       " '/home/runner/work/dask-examples/dask-examples/dataframes/data/dask_multi_files/ddf23.csv',\n",
       " '/home/runner/work/dask-examples/dask-examples/dataframes/data/dask_multi_files/ddf24.csv',\n",
       " '/home/runner/work/dask-examples/dask-examples/dataframes/data/dask_multi_files/ddf25.csv',\n",
       " '/home/runner/work/dask-examples/dask-examples/dataframes/data/dask_multi_files/ddf26.csv',\n",
       " '/home/runner/work/dask-examples/dask-examples/dataframes/data/dask_multi_files/ddf27.csv',\n",
       " '/home/runner/work/dask-examples/dask-examples/dataframes/data/dask_multi_files/ddf28.csv',\n",
       " '/home/runner/work/dask-examples/dask-examples/dataframes/data/dask_multi_files/ddf29.csv']"
      ]
     },
     "execution_count": 1,
     "metadata": {},
     "output_type": "execute_result"
    }
   ],
   "source": [
    "%%time\n",
    "# Dask\n",
    "ddf.to_csv(f'{output_dask_dir}/ddf*.csv', index = False)"
   ]
  },
  {
   "cell_type": "markdown",
   "metadata": {},
   "source": [
    "To find the number of partitions which will determine the number of output files use [dask.dataframe.npartitions](https://docs.dask.org/en/latest/dataframe-api.html#dask.dataframe.DataFrame.npartitions)  \n",
    "\n",
    "To change the number of output files use [repartition](https://docs.dask.org/en/latest/dataframe-api.html#dask.dataframe.DataFrame.repartition) which is an expensive operation."
   ]
  },
  {
   "cell_type": "code",
   "execution_count": 36,
   "metadata": {
    "execution": {
     "iopub.execute_input": "2021-01-02T06:00:54.767145Z",
     "iopub.status.busy": "2021-01-02T06:00:54.766693Z",
     "iopub.status.idle": "2021-01-02T06:00:54.771010Z",
     "shell.execute_reply": "2021-01-02T06:00:54.771360Z"
    }
   },
   "outputs": [
    {
     "data": {
      "text/plain": [
       "30"
      ]
     },
     "execution_count": 1,
     "metadata": {},
     "output_type": "execute_result"
    }
   ],
   "source": [
    "ddf.npartitions"
   ]
  },
  {
   "cell_type": "markdown",
   "metadata": {},
   "source": [
    "## Read Multiple files"
   ]
  },
  {
   "cell_type": "markdown",
   "metadata": {},
   "source": [
    "For `pandas` it is possible to iterate and concat the files [see answer from stack overflow](https://stackoverflow.com/questions/20906474/import-multiple-csv-files-into-pandas-and-concatenate-into-one-dataframe)."
   ]
  },
  {
   "cell_type": "code",
   "execution_count": 37,
   "metadata": {
    "execution": {
     "iopub.execute_input": "2021-01-02T06:00:54.774957Z",
     "iopub.status.busy": "2021-01-02T06:00:54.774473Z",
     "iopub.status.idle": "2021-01-02T06:00:57.375491Z",
     "shell.execute_reply": "2021-01-02T06:00:57.374729Z"
    }
   },
   "outputs": [
    {
     "name": "stdout",
     "output_type": "stream",
     "text": [
      "CPU times: user 2.45 s, sys: 191 ms, total: 2.64 s\n",
      "Wall time: 2.59 s\n"
     ]
    },
    {
     "data": {
      "text/plain": [
       "2592000"
      ]
     },
     "execution_count": 1,
     "metadata": {},
     "output_type": "execute_result"
    }
   ],
   "source": [
    "%%time\n",
    "# Pandas\n",
    "concat_df = pd.concat([pd.read_csv(f) \n",
    "                       for f in list(output_dask_dir.iterdir())])\n",
    "len(concat_df)"
   ]
  },
  {
   "cell_type": "code",
   "execution_count": 38,
   "metadata": {
    "execution": {
     "iopub.execute_input": "2021-01-02T06:00:57.379539Z",
     "iopub.status.busy": "2021-01-02T06:00:57.379070Z",
     "iopub.status.idle": "2021-01-02T06:00:57.407188Z",
     "shell.execute_reply": "2021-01-02T06:00:57.406788Z"
    }
   },
   "outputs": [
    {
     "name": "stdout",
     "output_type": "stream",
     "text": [
      "CPU times: user 12.5 ms, sys: 4.04 ms, total: 16.6 ms\n",
      "Wall time: 15.6 ms\n"
     ]
    },
    {
     "data": {
      "text/html": [
       "<div><strong>Dask DataFrame Structure:</strong></div>\n",
       "<div>\n",
       "<style scoped>\n",
       "    .dataframe tbody tr th:only-of-type {\n",
       "        vertical-align: middle;\n",
       "    }\n",
       "\n",
       "    .dataframe tbody tr th {\n",
       "        vertical-align: top;\n",
       "    }\n",
       "\n",
       "    .dataframe thead th {\n",
       "        text-align: right;\n",
       "    }\n",
       "</style>\n",
       "<table border=\"1\" class=\"dataframe\">\n",
       "  <thead>\n",
       "    <tr style=\"text-align: right;\">\n",
       "      <th></th>\n",
       "      <th>ID</th>\n",
       "      <th>name</th>\n",
       "      <th>x</th>\n",
       "      <th>y</th>\n",
       "      <th>times</th>\n",
       "    </tr>\n",
       "    <tr>\n",
       "      <th>npartitions=30</th>\n",
       "      <th></th>\n",
       "      <th></th>\n",
       "      <th></th>\n",
       "      <th></th>\n",
       "      <th></th>\n",
       "    </tr>\n",
       "  </thead>\n",
       "  <tbody>\n",
       "    <tr>\n",
       "      <th></th>\n",
       "      <td>int64</td>\n",
       "      <td>object</td>\n",
       "      <td>float64</td>\n",
       "      <td>float64</td>\n",
       "      <td>object</td>\n",
       "    </tr>\n",
       "    <tr>\n",
       "      <th></th>\n",
       "      <td>...</td>\n",
       "      <td>...</td>\n",
       "      <td>...</td>\n",
       "      <td>...</td>\n",
       "      <td>...</td>\n",
       "    </tr>\n",
       "    <tr>\n",
       "      <th>...</th>\n",
       "      <td>...</td>\n",
       "      <td>...</td>\n",
       "      <td>...</td>\n",
       "      <td>...</td>\n",
       "      <td>...</td>\n",
       "    </tr>\n",
       "    <tr>\n",
       "      <th></th>\n",
       "      <td>...</td>\n",
       "      <td>...</td>\n",
       "      <td>...</td>\n",
       "      <td>...</td>\n",
       "      <td>...</td>\n",
       "    </tr>\n",
       "    <tr>\n",
       "      <th></th>\n",
       "      <td>...</td>\n",
       "      <td>...</td>\n",
       "      <td>...</td>\n",
       "      <td>...</td>\n",
       "      <td>...</td>\n",
       "    </tr>\n",
       "  </tbody>\n",
       "</table>\n",
       "</div>\n",
       "<div>Dask Name: read-csv, 30 tasks</div>"
      ],
      "text/plain": [
       "Dask DataFrame Structure:\n",
       "                   ID    name        x        y   times\n",
       "npartitions=30                                         \n",
       "                int64  object  float64  float64  object\n",
       "                  ...     ...      ...      ...     ...\n",
       "...               ...     ...      ...      ...     ...\n",
       "                  ...     ...      ...      ...     ...\n",
       "                  ...     ...      ...      ...     ...\n",
       "Dask Name: read-csv, 30 tasks"
      ]
     },
     "execution_count": 1,
     "metadata": {},
     "output_type": "execute_result"
    }
   ],
   "source": [
    "%%time\n",
    "# Dask\n",
    "_ddf = dd.read_csv(output_dask_dir/'ddf*.csv')\n",
    "_ddf"
   ]
  },
  {
   "cell_type": "markdown",
   "metadata": {},
   "source": [
    "Remember that `Dask` is lazy - thus it does not *realy* read the file until it needs to..."
   ]
  },
  {
   "cell_type": "code",
   "execution_count": 39,
   "metadata": {
    "execution": {
     "iopub.execute_input": "2021-01-02T06:00:57.410886Z",
     "iopub.status.busy": "2021-01-02T06:00:57.410443Z",
     "iopub.status.idle": "2021-01-02T06:00:58.980411Z",
     "shell.execute_reply": "2021-01-02T06:00:58.979939Z"
    }
   },
   "outputs": [
    {
     "name": "stdout",
     "output_type": "stream",
     "text": [
      "CPU times: user 122 ms, sys: 10.3 ms, total: 133 ms\n",
      "Wall time: 1.56 s\n"
     ]
    },
    {
     "data": {
      "text/plain": [
       "2592000"
      ]
     },
     "execution_count": 1,
     "metadata": {},
     "output_type": "execute_result"
    }
   ],
   "source": [
    "%%time\n",
    "_ddf = dd.read_csv(output_dask_dir/'ddf*.csv')\n",
    "len(_ddf)"
   ]
  },
  {
   "cell_type": "markdown",
   "metadata": {},
   "source": [
    " ## Consider using client.persist()\n",
    " Since Dask is lazy - it may run the **entire** graph/DAG (again) even if it already run part of the calculation in a previous cell.  Thus use [persist](https://docs.dask.org/en/latest/dataframe-best-practices.html?highlight=parquet#persist-intelligently) to keep the results in memory  \n",
    "Additional information can be read in this [stackoverflow issue](https://stackoverflow.com/questions/45941528/how-to-efficiently-send-a-large-numpy-array-to-the-cluster-with-dask-array/45941529#45941529) or see an exampel in [this post](http://matthewrocklin.com/blog/work/2017/01/12/dask-dataframes)   \n",
    "This concept should also  be used when running a code within a script (rather then a jupyter notebook) which incoperates loops within the code.\n"
   ]
  },
  {
   "cell_type": "code",
   "execution_count": 40,
   "metadata": {
    "execution": {
     "iopub.execute_input": "2021-01-02T06:00:58.984739Z",
     "iopub.status.busy": "2021-01-02T06:00:58.984245Z",
     "iopub.status.idle": "2021-01-02T06:00:59.224581Z",
     "shell.execute_reply": "2021-01-02T06:00:59.225379Z"
    }
   },
   "outputs": [
    {
     "data": {
      "text/html": [
       "<div>\n",
       "<style scoped>\n",
       "    .dataframe tbody tr th:only-of-type {\n",
       "        vertical-align: middle;\n",
       "    }\n",
       "\n",
       "    .dataframe tbody tr th {\n",
       "        vertical-align: top;\n",
       "    }\n",
       "\n",
       "    .dataframe thead th {\n",
       "        text-align: right;\n",
       "    }\n",
       "</style>\n",
       "<table border=\"1\" class=\"dataframe\">\n",
       "  <thead>\n",
       "    <tr style=\"text-align: right;\">\n",
       "      <th></th>\n",
       "      <th>ID</th>\n",
       "      <th>name</th>\n",
       "      <th>x</th>\n",
       "      <th>y</th>\n",
       "      <th>times</th>\n",
       "    </tr>\n",
       "  </thead>\n",
       "  <tbody>\n",
       "    <tr>\n",
       "      <th>0</th>\n",
       "      <td>1046</td>\n",
       "      <td>Quinn</td>\n",
       "      <td>0.789020</td>\n",
       "      <td>71.487016</td>\n",
       "      <td>00:00:00</td>\n",
       "    </tr>\n",
       "    <tr>\n",
       "      <th>1</th>\n",
       "      <td>962</td>\n",
       "      <td>Edith</td>\n",
       "      <td>0.843949</td>\n",
       "      <td>0.020299</td>\n",
       "      <td>00:00:01</td>\n",
       "    </tr>\n",
       "  </tbody>\n",
       "</table>\n",
       "</div>"
      ],
      "text/plain": [
       "     ID   name         x          y     times\n",
       "0  1046  Quinn  0.789020  71.487016  00:00:00\n",
       "1   962  Edith  0.843949   0.020299  00:00:01"
      ]
     },
     "execution_count": 1,
     "metadata": {},
     "output_type": "execute_result"
    }
   ],
   "source": [
    "# e.g.\n",
    "_ddf = dd.read_csv(output_dask_dir/'ddf*.csv')\n",
    "# do some filter\n",
    "_ddf = client.persist(_ddf)\n",
    "# do some computations\n",
    "_ddf.head(2)"
   ]
  },
  {
   "cell_type": "markdown",
   "metadata": {},
   "source": [
    "# Group By - custom aggregations\n",
    "In addition to the [groupby notebook example](https://github.com/dask/dask-examples/blob/master/dataframes/02-groupby.ipynb) that is in the repository -  \n",
    "This is another example how to try to eliminate the use of `groupby.apply`.   \n",
    "In this example we are grouping columns into unique lists."
   ]
  },
  {
   "cell_type": "markdown",
   "metadata": {},
   "source": [
    "#### Pandas"
   ]
  },
  {
   "cell_type": "code",
   "execution_count": 41,
   "metadata": {
    "execution": {
     "iopub.execute_input": "2021-01-02T06:00:59.229163Z",
     "iopub.status.busy": "2021-01-02T06:00:59.228135Z",
     "iopub.status.idle": "2021-01-02T06:01:04.937568Z",
     "shell.execute_reply": "2021-01-02T06:01:04.936821Z"
    }
   },
   "outputs": [
    {
     "data": {
      "text/html": [
       "<div>\n",
       "<style scoped>\n",
       "    .dataframe tbody tr th:only-of-type {\n",
       "        vertical-align: middle;\n",
       "    }\n",
       "\n",
       "    .dataframe tbody tr th {\n",
       "        vertical-align: top;\n",
       "    }\n",
       "\n",
       "    .dataframe thead th {\n",
       "        text-align: right;\n",
       "    }\n",
       "</style>\n",
       "<table border=\"1\" class=\"dataframe\">\n",
       "  <thead>\n",
       "    <tr style=\"text-align: right;\">\n",
       "      <th></th>\n",
       "      <th>name</th>\n",
       "      <th>ID</th>\n",
       "      <th>seconds</th>\n",
       "    </tr>\n",
       "  </thead>\n",
       "  <tbody>\n",
       "    <tr>\n",
       "      <th>0</th>\n",
       "      <td>Quinn</td>\n",
       "      <td>1046</td>\n",
       "      <td>00</td>\n",
       "    </tr>\n",
       "    <tr>\n",
       "      <th>1</th>\n",
       "      <td>Edith</td>\n",
       "      <td>962</td>\n",
       "      <td>00</td>\n",
       "    </tr>\n",
       "    <tr>\n",
       "      <th>2</th>\n",
       "      <td>Edith</td>\n",
       "      <td>979</td>\n",
       "      <td>00</td>\n",
       "    </tr>\n",
       "    <tr>\n",
       "      <th>3</th>\n",
       "      <td>Ray</td>\n",
       "      <td>1036</td>\n",
       "      <td>00</td>\n",
       "    </tr>\n",
       "    <tr>\n",
       "      <th>4</th>\n",
       "      <td>Charlie</td>\n",
       "      <td>999</td>\n",
       "      <td>00</td>\n",
       "    </tr>\n",
       "  </tbody>\n",
       "</table>\n",
       "</div>"
      ],
      "text/plain": [
       "      name    ID seconds\n",
       "0    Quinn  1046      00\n",
       "1    Edith   962      00\n",
       "2    Edith   979      00\n",
       "3      Ray  1036      00\n",
       "4  Charlie   999      00"
      ]
     },
     "execution_count": 1,
     "metadata": {},
     "output_type": "execute_result"
    }
   ],
   "source": [
    "# prepare pandas dataframe\n",
    "pdf = pdf.assign(time=pd.to_datetime(pdf.index).time)\n",
    "pdf['seconds'] = pdf.time.astype(str).str[-2:]\n",
    "cols_for_demo =['name', 'ID','seconds']\n",
    "pdf[cols_for_demo].head()"
   ]
  },
  {
   "cell_type": "code",
   "execution_count": 42,
   "metadata": {
    "execution": {
     "iopub.execute_input": "2021-01-02T06:01:04.988977Z",
     "iopub.status.busy": "2021-01-02T06:01:04.988451Z",
     "iopub.status.idle": "2021-01-02T06:01:06.590695Z",
     "shell.execute_reply": "2021-01-02T06:01:06.591395Z"
    }
   },
   "outputs": [],
   "source": [
    "pdf_gb = pdf.groupby(pdf.name)\n",
    "gp_col = ['ID', 'seconds']\n",
    "list_ser_gb = [pdf_gb[att_col_gr].apply\n",
    "               (lambda x: list(set(x.to_list()))) \n",
    "               for att_col_gr in gp_col]"
   ]
  },
  {
   "cell_type": "code",
   "execution_count": 43,
   "metadata": {
    "execution": {
     "iopub.execute_input": "2021-01-02T06:01:06.595549Z",
     "iopub.status.busy": "2021-01-02T06:01:06.595067Z",
     "iopub.status.idle": "2021-01-02T06:01:06.621497Z",
     "shell.execute_reply": "2021-01-02T06:01:06.620954Z"
    }
   },
   "outputs": [
    {
     "name": "stdout",
     "output_type": "stream",
     "text": [
      "       Weight                                                 ID  \\\n",
      "name                                                               \n",
      "Alice   99640  [1024, 1025, 1026, 1027, 1028, 1029, 1030, 103...   \n",
      "Bob     99297  [1024, 1025, 1026, 1027, 1028, 1029, 1030, 103...   \n",
      "\n",
      "                                                 seconds  \n",
      "name                                                      \n",
      "Alice  [88, 94, 58, 60, 76, 44, 13, 95, 80, 08, 92, 9...  \n",
      "Bob    [88, 94, 58, 60, 76, 44, 13, 95, 80, 08, 92, 9...  \n",
      "CPU times: user 22.8 ms, sys: 0 ns, total: 22.8 ms\n",
      "Wall time: 22.1 ms\n"
     ]
    }
   ],
   "source": [
    "%%time\n",
    "df_edge_att = pdf_gb.size().to_frame(name=\"Weight\")\n",
    "for ser in list_ser_gb:\n",
    "        df_edge_att = df_edge_att.join(ser.to_frame(), how='left')      \n",
    "print(df_edge_att.head(2))"
   ]
  },
  {
   "cell_type": "markdown",
   "metadata": {},
   "source": [
    "* Remeber that in any some cases `Pandas` is more efficiante (assuming that you can load all the data into the RAM).  "
   ]
  },
  {
   "cell_type": "markdown",
   "metadata": {},
   "source": [
    "#### Dask"
   ]
  },
  {
   "cell_type": "code",
   "execution_count": 44,
   "metadata": {
    "execution": {
     "iopub.execute_input": "2021-01-02T06:01:06.637816Z",
     "iopub.status.busy": "2021-01-02T06:01:06.631117Z",
     "iopub.status.idle": "2021-01-02T06:01:07.112415Z",
     "shell.execute_reply": "2021-01-02T06:01:07.113241Z"
    }
   },
   "outputs": [
    {
     "data": {
      "text/html": [
       "<div>\n",
       "<style scoped>\n",
       "    .dataframe tbody tr th:only-of-type {\n",
       "        vertical-align: middle;\n",
       "    }\n",
       "\n",
       "    .dataframe tbody tr th {\n",
       "        vertical-align: top;\n",
       "    }\n",
       "\n",
       "    .dataframe thead th {\n",
       "        text-align: right;\n",
       "    }\n",
       "</style>\n",
       "<table border=\"1\" class=\"dataframe\">\n",
       "  <thead>\n",
       "    <tr style=\"text-align: right;\">\n",
       "      <th></th>\n",
       "      <th>name</th>\n",
       "      <th>ID</th>\n",
       "      <th>seconds</th>\n",
       "    </tr>\n",
       "  </thead>\n",
       "  <tbody>\n",
       "    <tr>\n",
       "      <th>0</th>\n",
       "      <td>Quinn</td>\n",
       "      <td>1046</td>\n",
       "      <td>00</td>\n",
       "    </tr>\n",
       "    <tr>\n",
       "      <th>1</th>\n",
       "      <td>Edith</td>\n",
       "      <td>962</td>\n",
       "      <td>01</td>\n",
       "    </tr>\n",
       "  </tbody>\n",
       "</table>\n",
       "</div>"
      ],
      "text/plain": [
       "    name    ID seconds\n",
       "0  Quinn  1046      00\n",
       "1  Edith   962      01"
      ]
     },
     "execution_count": 1,
     "metadata": {},
     "output_type": "execute_result"
    }
   ],
   "source": [
    "def set_list_att(x: dd.Series):\n",
    "        return list(set([item for item in x.values]))\n",
    "ddf['seconds'] = ddf.times.astype(str).str[-2:]\n",
    "ddf = client.persist(ddf)\n",
    "ddf[cols_for_demo].head(2)"
   ]
  },
  {
   "cell_type": "code",
   "execution_count": 45,
   "metadata": {
    "execution": {
     "iopub.execute_input": "2021-01-02T06:01:07.115787Z",
     "iopub.status.busy": "2021-01-02T06:01:07.115346Z",
     "iopub.status.idle": "2021-01-02T06:01:07.118905Z",
     "shell.execute_reply": "2021-01-02T06:01:07.119434Z"
    }
   },
   "outputs": [
    {
     "data": {
      "text/plain": [
       "Index(['ID', 'name', 'x', 'y', 'times', 'seconds'], dtype='object')"
      ]
     },
     "execution_count": 1,
     "metadata": {},
     "output_type": "execute_result"
    }
   ],
   "source": [
    "ddf.columns"
   ]
  },
  {
   "cell_type": "code",
   "execution_count": 46,
   "metadata": {
    "execution": {
     "iopub.execute_input": "2021-01-02T06:01:07.121634Z",
     "iopub.status.busy": "2021-01-02T06:01:07.121193Z",
     "iopub.status.idle": "2021-01-02T06:01:07.438477Z",
     "shell.execute_reply": "2021-01-02T06:01:07.436560Z"
    }
   },
   "outputs": [],
   "source": [
    "df_gb = ddf.groupby(ddf.name)\n",
    "gp_col = ['ID', 'seconds']\n",
    "list_ser_gb = [df_gb[att_col_gr].apply(set_list_att\n",
    "                ,meta=pd.Series(dtype='object', name=f'{att_col_gr}_att')) \n",
    "               for att_col_gr in gp_col]"
   ]
  },
  {
   "cell_type": "code",
   "execution_count": 47,
   "metadata": {
    "execution": {
     "iopub.execute_input": "2021-01-02T06:01:07.449398Z",
     "iopub.status.busy": "2021-01-02T06:01:07.448541Z",
     "iopub.status.idle": "2021-01-02T06:01:16.441791Z",
     "shell.execute_reply": "2021-01-02T06:01:16.442473Z"
    }
   },
   "outputs": [
    {
     "name": "stdout",
     "output_type": "stream",
     "text": [
      "CPU times: user 1.38 s, sys: 87.5 ms, total: 1.46 s\n",
      "Wall time: 8.92 s\n"
     ]
    },
    {
     "data": {
      "text/html": [
       "<div>\n",
       "<style scoped>\n",
       "    .dataframe tbody tr th:only-of-type {\n",
       "        vertical-align: middle;\n",
       "    }\n",
       "\n",
       "    .dataframe tbody tr th {\n",
       "        vertical-align: top;\n",
       "    }\n",
       "\n",
       "    .dataframe thead th {\n",
       "        text-align: right;\n",
       "    }\n",
       "</style>\n",
       "<table border=\"1\" class=\"dataframe\">\n",
       "  <thead>\n",
       "    <tr style=\"text-align: right;\">\n",
       "      <th></th>\n",
       "      <th>Weight</th>\n",
       "      <th>ID_att</th>\n",
       "      <th>seconds_att</th>\n",
       "    </tr>\n",
       "    <tr>\n",
       "      <th>name</th>\n",
       "      <th></th>\n",
       "      <th></th>\n",
       "      <th></th>\n",
       "    </tr>\n",
       "  </thead>\n",
       "  <tbody>\n",
       "    <tr>\n",
       "      <th>Victor</th>\n",
       "      <td>99977</td>\n",
       "      <td>[1024, 1025, 1026, 1027, 1028, 1029, 1030, 103...</td>\n",
       "      <td>[22, 58, 03, 19, 09, 40, 06, 27, 24, 48, 08, 0...</td>\n",
       "    </tr>\n",
       "  </tbody>\n",
       "</table>\n",
       "</div>"
      ],
      "text/plain": [
       "        Weight                                             ID_att  \\\n",
       "name                                                                \n",
       "Victor   99977  [1024, 1025, 1026, 1027, 1028, 1029, 1030, 103...   \n",
       "\n",
       "                                              seconds_att  \n",
       "name                                                       \n",
       "Victor  [22, 58, 03, 19, 09, 40, 06, 27, 24, 48, 08, 0...  "
      ]
     },
     "execution_count": 1,
     "metadata": {},
     "output_type": "execute_result"
    }
   ],
   "source": [
    "%%time\n",
    "df_edge_att = df_gb.size().to_frame(name=\"Weight\")\n",
    "for ser in list_ser_gb:\n",
    "    df_edge_att = df_edge_att.join(ser.to_frame(), how='left')\n",
    "df_edge_att.head(2)"
   ]
  },
  {
   "cell_type": "markdown",
   "metadata": {},
   "source": [
    "We can do better...   \n",
    "Using [dask custom aggregation](https://docs.dask.org/en/latest/dataframe-api.html?highlight=dropna#dask.dataframe.groupby.Aggregation) is consideribly better"
   ]
  },
  {
   "cell_type": "code",
   "execution_count": 48,
   "metadata": {
    "execution": {
     "iopub.execute_input": "2021-01-02T06:01:16.446891Z",
     "iopub.status.busy": "2021-01-02T06:01:16.446397Z",
     "iopub.status.idle": "2021-01-02T06:01:16.449656Z",
     "shell.execute_reply": "2021-01-02T06:01:16.449248Z"
    }
   },
   "outputs": [],
   "source": [
    "import itertools\n",
    "custom_agg = dd.Aggregation(\n",
    "    'custom_agg', \n",
    "    lambda s: s.apply(set), \n",
    "    lambda s: s.apply(lambda chunks: list(set(itertools.chain.from_iterable(chunks)))),)"
   ]
  },
  {
   "cell_type": "code",
   "execution_count": 49,
   "metadata": {
    "execution": {
     "iopub.execute_input": "2021-01-02T06:01:16.455429Z",
     "iopub.status.busy": "2021-01-02T06:01:16.454958Z",
     "iopub.status.idle": "2021-01-02T06:01:17.932806Z",
     "shell.execute_reply": "2021-01-02T06:01:17.932141Z"
    }
   },
   "outputs": [
    {
     "name": "stdout",
     "output_type": "stream",
     "text": [
      "CPU times: user 166 ms, sys: 6.21 ms, total: 172 ms\n",
      "Wall time: 1.46 s\n"
     ]
    },
    {
     "data": {
      "text/html": [
       "<div>\n",
       "<style scoped>\n",
       "    .dataframe tbody tr th:only-of-type {\n",
       "        vertical-align: middle;\n",
       "    }\n",
       "\n",
       "    .dataframe tbody tr th {\n",
       "        vertical-align: top;\n",
       "    }\n",
       "\n",
       "    .dataframe thead th {\n",
       "        text-align: right;\n",
       "    }\n",
       "</style>\n",
       "<table border=\"1\" class=\"dataframe\">\n",
       "  <thead>\n",
       "    <tr style=\"text-align: right;\">\n",
       "      <th></th>\n",
       "      <th>Weight</th>\n",
       "      <th>ID</th>\n",
       "      <th>seconds</th>\n",
       "    </tr>\n",
       "    <tr>\n",
       "      <th>name</th>\n",
       "      <th></th>\n",
       "      <th></th>\n",
       "      <th></th>\n",
       "    </tr>\n",
       "  </thead>\n",
       "  <tbody>\n",
       "    <tr>\n",
       "      <th>Alice</th>\n",
       "      <td>99640</td>\n",
       "      <td>[1024, 1025, 1026, 1027, 1028, 1029, 1030, 103...</td>\n",
       "      <td>[22, 58, 03, 19, 09, 40, 27, 06, 24, 48, 08, 0...</td>\n",
       "    </tr>\n",
       "    <tr>\n",
       "      <th>Bob</th>\n",
       "      <td>99297</td>\n",
       "      <td>[1024, 1025, 1026, 1027, 1028, 1029, 1030, 103...</td>\n",
       "      <td>[22, 58, 03, 19, 09, 40, 27, 06, 24, 48, 08, 0...</td>\n",
       "    </tr>\n",
       "  </tbody>\n",
       "</table>\n",
       "</div>"
      ],
      "text/plain": [
       "       Weight                                                 ID  \\\n",
       "name                                                               \n",
       "Alice   99640  [1024, 1025, 1026, 1027, 1028, 1029, 1030, 103...   \n",
       "Bob     99297  [1024, 1025, 1026, 1027, 1028, 1029, 1030, 103...   \n",
       "\n",
       "                                                 seconds  \n",
       "name                                                      \n",
       "Alice  [22, 58, 03, 19, 09, 40, 27, 06, 24, 48, 08, 0...  \n",
       "Bob    [22, 58, 03, 19, 09, 40, 27, 06, 24, 48, 08, 0...  "
      ]
     },
     "execution_count": 1,
     "metadata": {},
     "output_type": "execute_result"
    }
   ],
   "source": [
    "%%time\n",
    "df_gb = ddf.groupby(ddf.name)\n",
    "gp_col = ['ID', 'seconds']\n",
    "list_ser_gb = [df_gb[att_col_gr].agg(custom_agg) for att_col_gr in gp_col]\n",
    "df_edge_att = df_gb.size().to_frame(name=\"Weight\")\n",
    "for ser in list_ser_gb:\n",
    "        df_edge_att = df_edge_att.join(ser.to_frame(), how='left')\n",
    "df_edge_att.head(2)  "
   ]
  },
  {
   "cell_type": "markdown",
   "metadata": {},
   "source": [
    "## [Debugging](https://docs.dask.org/en/latest/debugging.html)\n",
    "Debugging may be challenging...\n",
    "1. Run code without client \n",
    "2. Use Dashboard profiler\n",
    "3. Verify integrity of DAG"
   ]
  },
  {
   "cell_type": "markdown",
   "metadata": {},
   "source": [
    "### Corrupted DAG  \n",
    "In this example we show that once the DAG is currupted you may need to reset the calculation"
   ]
  },
  {
   "cell_type": "code",
   "execution_count": 50,
   "metadata": {
    "execution": {
     "iopub.execute_input": "2021-01-02T06:01:17.936850Z",
     "iopub.status.busy": "2021-01-02T06:01:17.936389Z",
     "iopub.status.idle": "2021-01-02T06:01:17.985511Z",
     "shell.execute_reply": "2021-01-02T06:01:17.985062Z"
    }
   },
   "outputs": [
    {
     "data": {
      "text/html": [
       "<div>\n",
       "<style scoped>\n",
       "    .dataframe tbody tr th:only-of-type {\n",
       "        vertical-align: middle;\n",
       "    }\n",
       "\n",
       "    .dataframe tbody tr th {\n",
       "        vertical-align: top;\n",
       "    }\n",
       "\n",
       "    .dataframe thead th {\n",
       "        text-align: right;\n",
       "    }\n",
       "</style>\n",
       "<table border=\"1\" class=\"dataframe\">\n",
       "  <thead>\n",
       "    <tr style=\"text-align: right;\">\n",
       "      <th></th>\n",
       "      <th>id</th>\n",
       "      <th>name</th>\n",
       "      <th>x</th>\n",
       "      <th>y</th>\n",
       "    </tr>\n",
       "    <tr>\n",
       "      <th>timestamp</th>\n",
       "      <th></th>\n",
       "      <th></th>\n",
       "      <th></th>\n",
       "      <th></th>\n",
       "    </tr>\n",
       "  </thead>\n",
       "  <tbody>\n",
       "    <tr>\n",
       "      <th>2000-01-01</th>\n",
       "      <td>1030</td>\n",
       "      <td>Alice</td>\n",
       "      <td>-0.078391</td>\n",
       "      <td>-0.836001</td>\n",
       "    </tr>\n",
       "  </tbody>\n",
       "</table>\n",
       "</div>"
      ],
      "text/plain": [
       "              id   name         x         y\n",
       "timestamp                                  \n",
       "2000-01-01  1030  Alice -0.078391 -0.836001"
      ]
     },
     "execution_count": 1,
     "metadata": {},
     "output_type": "execute_result"
    }
   ],
   "source": [
    "# reset dataframe\n",
    "ddf = dask.datasets.timeseries()\n",
    "ddf.head(1)"
   ]
  },
  {
   "cell_type": "code",
   "execution_count": 51,
   "metadata": {
    "execution": {
     "iopub.execute_input": "2021-01-02T06:01:17.995861Z",
     "iopub.status.busy": "2021-01-02T06:01:17.993923Z",
     "iopub.status.idle": "2021-01-02T06:01:17.998919Z",
     "shell.execute_reply": "2021-01-02T06:01:17.998229Z"
    }
   },
   "outputs": [],
   "source": [
    "def func_dist2(df, coor_x, coor_y):\n",
    "    dist =  np.sqrt ( (df[coor_x] - df[coor_x].shift())^2    # `^` <-- wrong syntax\n",
    "                     +  (df[coor_y] - df[coor_y].shift())^2 )  # `^` <-- wrong syntax\n",
    "    return dist\n",
    "ddf['col'] = ddf.map_partitions(func_dist2, coor_x='x', coor_y='y'\n",
    "                                , meta=('float'))"
   ]
  },
  {
   "cell_type": "markdown",
   "metadata": {},
   "source": [
    "Is everything OK?"
   ]
  },
  {
   "cell_type": "raw",
   "metadata": {},
   "source": [
    "# Results in error\n",
    "ddf.head()\n",
    "\n",
    "---------------------------------------------------------------------------\n",
    "TypeError                                 Traceback (most recent call last)\n",
    "<ipython-input-67-837310ab3f2b> in <module>\n",
    "      1 # returns an error because of ^2 (needs to be **2)\n",
    "----> 2 ddf.head()\n",
    "\n",
    "c:\\users\\jsber\\.virtualenvs\\dask-examples-3r4mgfnb\\lib\\site-packages\\dask\\dataframe\\core.py in head(self, n, npartitions, compute)\n",
    "    898 \n",
    "    899         if compute:\n",
    "--> 900             result = result.compute()\n",
    "    901         return result\n",
    "    902 \n",
    "\n",
    "c:\\users\\jsber\\.virtualenvs\\dask-examples-3r4mgfnb\\lib\\site-packages\\dask\\base.py in compute(self, **kwargs)\n",
    "    154         dask.base.compute\n",
    "    155         \"\"\"\n",
    "--> 156         (result,) = compute(self, traverse=False, **kwargs)\n",
    "    157         return result\n",
    "    158 \n",
    "\n",
    "pandas\\_libs\\ops.pyx in pandas._libs.ops.vec_binop()\n",
    "\n",
    "pandas\\_libs\\ops.pyx in pandas._libs.ops.vec_binop()\n",
    "\n",
    "TypeError: unsupported operand type(s) for ^: 'float' and 'bool'\n"
   ]
  },
  {
   "cell_type": "markdown",
   "metadata": {},
   "source": [
    "* Even if the function is corrected the DAG is corrupted"
   ]
  },
  {
   "cell_type": "code",
   "execution_count": 52,
   "metadata": {
    "execution": {
     "iopub.execute_input": "2021-01-02T06:01:18.010603Z",
     "iopub.status.busy": "2021-01-02T06:01:18.009705Z",
     "iopub.status.idle": "2021-01-02T06:01:18.013280Z",
     "shell.execute_reply": "2021-01-02T06:01:18.012894Z"
    }
   },
   "outputs": [],
   "source": [
    "# Still results with an error\n",
    "def func_dist2(df, coor_x, coor_y):\n",
    "    dist =  np.sqrt ( (df[coor_x] - df[coor_x].shift())**2  # `**` <-- correct syntax\n",
    "                     +  (df[coor_y] - df[coor_y].shift())**2 )  # `**` <-- correct syntax\n",
    "    return dist\n",
    "ddf['col'] = ddf.map_partitions(func_dist2, coor_x='x', coor_y='y'\n",
    "                                , meta=('float'))"
   ]
  },
  {
   "cell_type": "raw",
   "metadata": {},
   "source": [
    "# Still Results in error\n",
    "ddf.head()\n",
    "\n",
    "---------------------------------------------------------------------------\n",
    "TypeError                                 Traceback (most recent call last)\n",
    "<ipython-input-67-837310ab3f2b> in <module>\n",
    "      1 # returns an error because of ^2 (needs to be **2)\n",
    "----> 2 ddf.head()\n",
    "\n",
    "c:\\users\\jsber\\.virtualenvs\\dask-examples-3r4mgfnb\\lib\\site-packages\\dask\\dataframe\\core.py in head(self, n, npartitions, compute)\n",
    "    898 \n",
    "    899         if compute:\n",
    "--> 900             result = result.compute()\n",
    "    901         return result\n",
    "    902 \n",
    "\n",
    "c:\\users\\jsber\\.virtualenvs\\dask-examples-3r4mgfnb\\lib\\site-packages\\dask\\base.py in compute(self, **kwargs)\n",
    "    154         dask.base.compute\n",
    "    155         \"\"\"\n",
    "--> 156         (result,) = compute(self, traverse=False, **kwargs)\n",
    "    157         return result\n",
    "    158 \n",
    "\n",
    "pandas\\_libs\\ops.pyx in pandas._libs.ops.vec_binop()\n",
    "\n",
    "pandas\\_libs\\ops.pyx in pandas._libs.ops.vec_binop()\n",
    "\n",
    "TypeError: unsupported operand type(s) for ^: 'float' and 'bool'"
   ]
  },
  {
   "cell_type": "markdown",
   "metadata": {},
   "source": [
    "We need to reset the dataframe"
   ]
  },
  {
   "cell_type": "code",
   "execution_count": 53,
   "metadata": {
    "execution": {
     "iopub.execute_input": "2021-01-02T06:01:18.019120Z",
     "iopub.status.busy": "2021-01-02T06:01:18.018144Z",
     "iopub.status.idle": "2021-01-02T06:01:18.083820Z",
     "shell.execute_reply": "2021-01-02T06:01:18.083076Z"
    }
   },
   "outputs": [
    {
     "data": {
      "text/html": [
       "<div>\n",
       "<style scoped>\n",
       "    .dataframe tbody tr th:only-of-type {\n",
       "        vertical-align: middle;\n",
       "    }\n",
       "\n",
       "    .dataframe tbody tr th {\n",
       "        vertical-align: top;\n",
       "    }\n",
       "\n",
       "    .dataframe thead th {\n",
       "        text-align: right;\n",
       "    }\n",
       "</style>\n",
       "<table border=\"1\" class=\"dataframe\">\n",
       "  <thead>\n",
       "    <tr style=\"text-align: right;\">\n",
       "      <th></th>\n",
       "      <th>id</th>\n",
       "      <th>name</th>\n",
       "      <th>x</th>\n",
       "      <th>y</th>\n",
       "      <th>col</th>\n",
       "    </tr>\n",
       "    <tr>\n",
       "      <th>timestamp</th>\n",
       "      <th></th>\n",
       "      <th></th>\n",
       "      <th></th>\n",
       "      <th></th>\n",
       "      <th></th>\n",
       "    </tr>\n",
       "  </thead>\n",
       "  <tbody>\n",
       "    <tr>\n",
       "      <th>2000-01-01 00:00:00</th>\n",
       "      <td>1038</td>\n",
       "      <td>Yvonne</td>\n",
       "      <td>0.793426</td>\n",
       "      <td>-0.369205</td>\n",
       "      <td>NaN</td>\n",
       "    </tr>\n",
       "    <tr>\n",
       "      <th>2000-01-01 00:00:01</th>\n",
       "      <td>975</td>\n",
       "      <td>Frank</td>\n",
       "      <td>0.525862</td>\n",
       "      <td>0.980288</td>\n",
       "      <td>1.375763</td>\n",
       "    </tr>\n",
       "  </tbody>\n",
       "</table>\n",
       "</div>"
      ],
      "text/plain": [
       "                       id    name         x         y       col\n",
       "timestamp                                                      \n",
       "2000-01-01 00:00:00  1038  Yvonne  0.793426 -0.369205       NaN\n",
       "2000-01-01 00:00:01   975   Frank  0.525862  0.980288  1.375763"
      ]
     },
     "execution_count": 1,
     "metadata": {},
     "output_type": "execute_result"
    }
   ],
   "source": [
    "ddf = dask.datasets.timeseries()\n",
    "def func_dist2(df, coor_x, coor_y):\n",
    "    dist =  np.sqrt ( (df[coor_x] - df[coor_x].shift())**2    #corrected math function\n",
    "                     +  (df[coor_y] - df[coor_y].shift())**2 )\n",
    "    return dist\n",
    "ddf['col'] = ddf.map_partitions(func_dist2, coor_x='x', coor_y='y'\n",
    "                                , meta=('float'))\n",
    "ddf.head(2)"
   ]
  },
  {
   "cell_type": "code",
   "execution_count": null,
   "metadata": {},
   "outputs": [],
   "source": []
  }
 ],
 "metadata": {
  "file_extension": ".py",
  "kernelspec": {
   "display_name": "Python 3",
   "language": "python",
   "name": "python3"
  },
  "language_info": {
   "codemirror_mode": {
    "name": "ipython",
    "version": 3
   },
   "file_extension": ".py",
   "mimetype": "text/x-python",
   "name": "python",
   "nbconvert_exporter": "python",
   "pygments_lexer": "ipython3",
   "version": "3.8.6"
  },
  "mimetype": "text/x-python",
  "name": "python",
  "npconvert_exporter": "python",
  "pygments_lexer": "ipython3",
  "version": 3
 },
 "nbformat": 4,
 "nbformat_minor": 2
}
