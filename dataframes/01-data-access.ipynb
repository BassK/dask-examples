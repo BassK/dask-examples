{
 "cells": [
  {
   "cell_type": "markdown",
   "metadata": {},
   "source": [
    "# DataFrames: Read and Write Data\n",
    "     \n",
    "Dask Dataframes can read and store data in many of the same formats as Pandas dataframes.  In this example we read and write data with the popular CSV and Parquet formats, and discuss best practices when using these formats."
   ]
  },
  {
   "cell_type": "code",
   "execution_count": 1,
   "metadata": {
    "execution": {
     "iopub.execute_input": "2020-11-05T11:13:58.288715Z",
     "iopub.status.busy": "2020-11-05T11:13:58.287900Z",
     "iopub.status.idle": "2020-11-05T11:13:58.298649Z",
     "shell.execute_reply": "2020-11-05T11:13:58.299003Z"
    }
   },
   "outputs": [
    {
     "name": "stderr",
     "output_type": "stream",
     "text": [
      "/usr/share/miniconda3/envs/dask-examples/lib/python3.8/site-packages/IPython/core/display.py:717: UserWarning: Consider using IPython.display.IFrame instead\n",
      "  warnings.warn(\"Consider using IPython.display.IFrame instead\")\n"
     ]
    },
    {
     "data": {
      "text/html": [
       "<iframe width=\"560\" height=\"315\" src=\"https://www.youtube.com/embed/0eEsIA0O1iE?rel=0&amp;controls=0&amp;showinfo=0\" frameborder=\"0\" allowfullscreen></iframe>"
      ],
      "text/plain": [
       "<IPython.core.display.HTML object>"
      ]
     },
     "execution_count": 1,
     "metadata": {},
     "output_type": "execute_result"
    }
   ],
   "source": [
    "from IPython.display import HTML\n",
    "\n",
    "HTML('<iframe width=\"560\" height=\"315\" src=\"https://www.youtube.com/embed/0eEsIA0O1iE?rel=0&amp;controls=0&amp;showinfo=0\" frameborder=\"0\" allowfullscreen></iframe>')"
   ]
  },
  {
   "cell_type": "markdown",
   "metadata": {},
   "source": [
    "## Start Dask Client for Dashboard\n",
    "\n",
    "Starting the Dask Client is optional.  It will provide a dashboard which \n",
    "is useful to gain insight on the computation.  \n",
    "\n",
    "The link to the dashboard will become visible when you create the client below.  We recommend having it open on one side of your screen while using your notebook on the other side.  This can take some effort to arrange your windows, but seeing them both at the same is very useful when learning."
   ]
  },
  {
   "cell_type": "code",
   "execution_count": 2,
   "metadata": {
    "execution": {
     "iopub.execute_input": "2020-11-05T11:13:58.302103Z",
     "iopub.status.busy": "2020-11-05T11:13:58.301761Z",
     "iopub.status.idle": "2020-11-05T11:13:59.211316Z",
     "shell.execute_reply": "2020-11-05T11:13:59.210883Z"
    }
   },
   "outputs": [
    {
     "data": {
      "text/html": [
       "<table style=\"border: 2px solid white;\">\n",
       "<tr>\n",
       "<td style=\"vertical-align: top; border: 0px solid white\">\n",
       "<h3 style=\"text-align: left;\">Client</h3>\n",
       "<ul style=\"text-align: left; list-style: none; margin: 0; padding: 0;\">\n",
       "  <li><b>Scheduler: </b>inproc://10.1.0.4/9822/1</li>\n",
       "  <li><b>Dashboard: </b><a href='http://10.1.0.4:8787/status' target='_blank'>http://10.1.0.4:8787/status</a></li>\n",
       "</ul>\n",
       "</td>\n",
       "<td style=\"vertical-align: top; border: 0px solid white\">\n",
       "<h3 style=\"text-align: left;\">Cluster</h3>\n",
       "<ul style=\"text-align: left; list-style:none; margin: 0; padding: 0;\">\n",
       "  <li><b>Workers: </b>1</li>\n",
       "  <li><b>Cores: </b>4</li>\n",
       "  <li><b>Memory: </b>2.00 GB</li>\n",
       "</ul>\n",
       "</td>\n",
       "</tr>\n",
       "</table>"
      ],
      "text/plain": [
       "<Client: 'inproc://10.1.0.4/9822/1' processes=1 threads=4, memory=2.00 GB>"
      ]
     },
     "execution_count": 1,
     "metadata": {},
     "output_type": "execute_result"
    }
   ],
   "source": [
    "from dask.distributed import Client\n",
    "client = Client(n_workers=1, threads_per_worker=4, processes=False, memory_limit='2GB')\n",
    "client"
   ]
  },
  {
   "cell_type": "markdown",
   "metadata": {},
   "source": [
    "## Create artificial dataset\n",
    "\n",
    "First we create an artificial dataset and write it to many CSV files.\n",
    "\n",
    "You don't need to understand this section, we're just creating a dataset for the rest of the notebook."
   ]
  },
  {
   "cell_type": "code",
   "execution_count": 3,
   "metadata": {
    "execution": {
     "iopub.execute_input": "2020-11-05T11:13:59.215157Z",
     "iopub.status.busy": "2020-11-05T11:13:59.214673Z",
     "iopub.status.idle": "2020-11-05T11:13:59.427871Z",
     "shell.execute_reply": "2020-11-05T11:13:59.428150Z"
    }
   },
   "outputs": [
    {
     "data": {
      "text/html": [
       "<div><strong>Dask DataFrame Structure:</strong></div>\n",
       "<div>\n",
       "<style scoped>\n",
       "    .dataframe tbody tr th:only-of-type {\n",
       "        vertical-align: middle;\n",
       "    }\n",
       "\n",
       "    .dataframe tbody tr th {\n",
       "        vertical-align: top;\n",
       "    }\n",
       "\n",
       "    .dataframe thead th {\n",
       "        text-align: right;\n",
       "    }\n",
       "</style>\n",
       "<table border=\"1\" class=\"dataframe\">\n",
       "  <thead>\n",
       "    <tr style=\"text-align: right;\">\n",
       "      <th></th>\n",
       "      <th>id</th>\n",
       "      <th>name</th>\n",
       "      <th>x</th>\n",
       "      <th>y</th>\n",
       "    </tr>\n",
       "    <tr>\n",
       "      <th>npartitions=30</th>\n",
       "      <th></th>\n",
       "      <th></th>\n",
       "      <th></th>\n",
       "      <th></th>\n",
       "    </tr>\n",
       "  </thead>\n",
       "  <tbody>\n",
       "    <tr>\n",
       "      <th>2000-01-01</th>\n",
       "      <td>int64</td>\n",
       "      <td>object</td>\n",
       "      <td>float64</td>\n",
       "      <td>float64</td>\n",
       "    </tr>\n",
       "    <tr>\n",
       "      <th>2000-01-02</th>\n",
       "      <td>...</td>\n",
       "      <td>...</td>\n",
       "      <td>...</td>\n",
       "      <td>...</td>\n",
       "    </tr>\n",
       "    <tr>\n",
       "      <th>...</th>\n",
       "      <td>...</td>\n",
       "      <td>...</td>\n",
       "      <td>...</td>\n",
       "      <td>...</td>\n",
       "    </tr>\n",
       "    <tr>\n",
       "      <th>2000-01-30</th>\n",
       "      <td>...</td>\n",
       "      <td>...</td>\n",
       "      <td>...</td>\n",
       "      <td>...</td>\n",
       "    </tr>\n",
       "    <tr>\n",
       "      <th>2000-01-31</th>\n",
       "      <td>...</td>\n",
       "      <td>...</td>\n",
       "      <td>...</td>\n",
       "      <td>...</td>\n",
       "    </tr>\n",
       "  </tbody>\n",
       "</table>\n",
       "</div>\n",
       "<div>Dask Name: make-timeseries, 30 tasks</div>"
      ],
      "text/plain": [
       "Dask DataFrame Structure:\n",
       "                   id    name        x        y\n",
       "npartitions=30                                 \n",
       "2000-01-01      int64  object  float64  float64\n",
       "2000-01-02        ...     ...      ...      ...\n",
       "...               ...     ...      ...      ...\n",
       "2000-01-30        ...     ...      ...      ...\n",
       "2000-01-31        ...     ...      ...      ...\n",
       "Dask Name: make-timeseries, 30 tasks"
      ]
     },
     "execution_count": 1,
     "metadata": {},
     "output_type": "execute_result"
    }
   ],
   "source": [
    "import dask\n",
    "df = dask.datasets.timeseries()\n",
    "df"
   ]
  },
  {
   "cell_type": "code",
   "execution_count": 4,
   "metadata": {
    "execution": {
     "iopub.execute_input": "2020-11-05T11:13:59.432340Z",
     "iopub.status.busy": "2020-11-05T11:13:59.430502Z",
     "iopub.status.idle": "2020-11-05T11:14:17.193826Z",
     "shell.execute_reply": "2020-11-05T11:14:17.195646Z"
    }
   },
   "outputs": [
    {
     "data": {
      "text/plain": [
       "['/home/runner/work/dask-examples/dask-examples/dataframes/data/2000-01-01.csv',\n",
       " '/home/runner/work/dask-examples/dask-examples/dataframes/data/2000-01-02.csv',\n",
       " '/home/runner/work/dask-examples/dask-examples/dataframes/data/2000-01-03.csv',\n",
       " '/home/runner/work/dask-examples/dask-examples/dataframes/data/2000-01-04.csv',\n",
       " '/home/runner/work/dask-examples/dask-examples/dataframes/data/2000-01-05.csv',\n",
       " '/home/runner/work/dask-examples/dask-examples/dataframes/data/2000-01-06.csv',\n",
       " '/home/runner/work/dask-examples/dask-examples/dataframes/data/2000-01-07.csv',\n",
       " '/home/runner/work/dask-examples/dask-examples/dataframes/data/2000-01-08.csv',\n",
       " '/home/runner/work/dask-examples/dask-examples/dataframes/data/2000-01-09.csv',\n",
       " '/home/runner/work/dask-examples/dask-examples/dataframes/data/2000-01-10.csv',\n",
       " '/home/runner/work/dask-examples/dask-examples/dataframes/data/2000-01-11.csv',\n",
       " '/home/runner/work/dask-examples/dask-examples/dataframes/data/2000-01-12.csv',\n",
       " '/home/runner/work/dask-examples/dask-examples/dataframes/data/2000-01-13.csv',\n",
       " '/home/runner/work/dask-examples/dask-examples/dataframes/data/2000-01-14.csv',\n",
       " '/home/runner/work/dask-examples/dask-examples/dataframes/data/2000-01-15.csv',\n",
       " '/home/runner/work/dask-examples/dask-examples/dataframes/data/2000-01-16.csv',\n",
       " '/home/runner/work/dask-examples/dask-examples/dataframes/data/2000-01-17.csv',\n",
       " '/home/runner/work/dask-examples/dask-examples/dataframes/data/2000-01-18.csv',\n",
       " '/home/runner/work/dask-examples/dask-examples/dataframes/data/2000-01-19.csv',\n",
       " '/home/runner/work/dask-examples/dask-examples/dataframes/data/2000-01-20.csv',\n",
       " '/home/runner/work/dask-examples/dask-examples/dataframes/data/2000-01-21.csv',\n",
       " '/home/runner/work/dask-examples/dask-examples/dataframes/data/2000-01-22.csv',\n",
       " '/home/runner/work/dask-examples/dask-examples/dataframes/data/2000-01-23.csv',\n",
       " '/home/runner/work/dask-examples/dask-examples/dataframes/data/2000-01-24.csv',\n",
       " '/home/runner/work/dask-examples/dask-examples/dataframes/data/2000-01-25.csv',\n",
       " '/home/runner/work/dask-examples/dask-examples/dataframes/data/2000-01-26.csv',\n",
       " '/home/runner/work/dask-examples/dask-examples/dataframes/data/2000-01-27.csv',\n",
       " '/home/runner/work/dask-examples/dask-examples/dataframes/data/2000-01-28.csv',\n",
       " '/home/runner/work/dask-examples/dask-examples/dataframes/data/2000-01-29.csv',\n",
       " '/home/runner/work/dask-examples/dask-examples/dataframes/data/2000-01-30.csv']"
      ]
     },
     "execution_count": 1,
     "metadata": {},
     "output_type": "execute_result"
    }
   ],
   "source": [
    "import os\n",
    "import datetime\n",
    "\n",
    "if not os.path.exists('data'):\n",
    "    os.mkdir('data')\n",
    "\n",
    "def name(i):\n",
    "    \"\"\" Provide date for filename given index\n",
    "    \n",
    "    Examples\n",
    "    --------\n",
    "    >>> name(0)\n",
    "    '2000-01-01'\n",
    "    >>> name(10)\n",
    "    '2000-01-11'\n",
    "    \"\"\"\n",
    "    return str(datetime.date(2000, 1, 1) + i * datetime.timedelta(days=1))\n",
    "    \n",
    "df.to_csv('data/*.csv', name_function=name);"
   ]
  },
  {
   "cell_type": "markdown",
   "metadata": {},
   "source": [
    "## Read CSV files\n",
    "\n",
    "We now have many CSV files in our data directory, one for each day in the month of January 2000.  Each CSV file holds timeseries data for that day.  We can read all of them as one logical dataframe using the `dd.read_csv` function with a glob string."
   ]
  },
  {
   "cell_type": "code",
   "execution_count": 5,
   "metadata": {
    "execution": {
     "iopub.execute_input": "2020-11-05T11:14:17.200544Z",
     "iopub.status.busy": "2020-11-05T11:14:17.199642Z",
     "iopub.status.idle": "2020-11-05T11:14:17.358834Z",
     "shell.execute_reply": "2020-11-05T11:14:17.358358Z"
    }
   },
   "outputs": [
    {
     "name": "stdout",
     "output_type": "stream",
     "text": [
      "data/2000-01-01.csv\r\n",
      "data/2000-01-02.csv\r\n",
      "data/2000-01-03.csv\r\n",
      "data/2000-01-04.csv\r\n",
      "data/2000-01-05.csv\r\n",
      "data/2000-01-06.csv\r\n",
      "data/2000-01-07.csv\r\n",
      "data/2000-01-08.csv\r\n",
      "data/2000-01-09.csv\r\n",
      "data/2000-01-10.csv\r\n"
     ]
    }
   ],
   "source": [
    "!ls data/*.csv | head"
   ]
  },
  {
   "cell_type": "code",
   "execution_count": 6,
   "metadata": {
    "execution": {
     "iopub.execute_input": "2020-11-05T11:14:17.362760Z",
     "iopub.status.busy": "2020-11-05T11:14:17.362369Z",
     "iopub.status.idle": "2020-11-05T11:14:17.515402Z",
     "shell.execute_reply": "2020-11-05T11:14:17.514461Z"
    }
   },
   "outputs": [
    {
     "name": "stdout",
     "output_type": "stream",
     "text": [
      "timestamp,id,name,x,y\r\n",
      "2000-01-01 00:00:00,951,Kevin,0.9953243568570871,-0.8881208516712078\r\n",
      "2000-01-01 00:00:01,1011,Victor,-0.358552611123355,0.2210651092784235\r\n",
      "2000-01-01 00:00:02,1033,Alice,-0.209165680258403,0.5720461968083743\r\n",
      "2000-01-01 00:00:03,1054,Yvonne,-0.9779528650887441,0.9669696123008236\r\n",
      "2000-01-01 00:00:04,1002,Laura,-0.5135838233022125,0.8978512434129124\r\n",
      "2000-01-01 00:00:05,988,Hannah,-0.7056261487791728,0.14878597295785778\r\n",
      "2000-01-01 00:00:06,974,Sarah,0.5687208830404793,0.8836602009155916\r\n",
      "2000-01-01 00:00:07,1015,Hannah,0.11915598946530048,0.8233595271986769\r\n",
      "2000-01-01 00:00:08,1004,Michael,0.01090067925240068,-0.4919575664432525\r\n"
     ]
    }
   ],
   "source": [
    "!head data/2000-01-01.csv"
   ]
  },
  {
   "cell_type": "code",
   "execution_count": 7,
   "metadata": {
    "execution": {
     "iopub.execute_input": "2020-11-05T11:14:17.530251Z",
     "iopub.status.busy": "2020-11-05T11:14:17.520840Z",
     "iopub.status.idle": "2020-11-05T11:14:17.679982Z",
     "shell.execute_reply": "2020-11-05T11:14:17.679376Z"
    }
   },
   "outputs": [
    {
     "name": "stdout",
     "output_type": "stream",
     "text": [
      "timestamp,id,name,x,y\r\n",
      "2000-01-30 00:00:00,994,Tim,0.3657926073459936,-0.6034519859273577\r\n",
      "2000-01-30 00:00:01,996,Wendy,0.24263672210997078,0.9363314554432152\r\n",
      "2000-01-30 00:00:02,949,Dan,-0.6132590576671486,0.1393221818036412\r\n",
      "2000-01-30 00:00:03,992,Xavier,-0.8901064840790973,-0.559256678005376\r\n",
      "2000-01-30 00:00:04,1024,Kevin,0.729103150227844,-0.3288414648641851\r\n",
      "2000-01-30 00:00:05,986,Jerry,0.3191966308561689,0.9204960655119467\r\n",
      "2000-01-30 00:00:06,1033,Ingrid,-0.8091094676850323,-0.4050664939185371\r\n",
      "2000-01-30 00:00:07,978,Laura,-0.19211527865274558,0.1315608375458901\r\n",
      "2000-01-30 00:00:08,1009,Laura,0.5251693438398084,-0.9987232087731601\r\n"
     ]
    }
   ],
   "source": [
    "!head data/2000-01-30.csv"
   ]
  },
  {
   "cell_type": "markdown",
   "metadata": {},
   "source": [
    "We can read one file with `pandas.read_csv` or many files with `dask.dataframe.read_csv`"
   ]
  },
  {
   "cell_type": "code",
   "execution_count": 8,
   "metadata": {
    "execution": {
     "iopub.execute_input": "2020-11-05T11:14:17.685278Z",
     "iopub.status.busy": "2020-11-05T11:14:17.684830Z",
     "iopub.status.idle": "2020-11-05T11:14:17.795080Z",
     "shell.execute_reply": "2020-11-05T11:14:17.794629Z"
    }
   },
   "outputs": [
    {
     "data": {
      "text/html": [
       "<div>\n",
       "<style scoped>\n",
       "    .dataframe tbody tr th:only-of-type {\n",
       "        vertical-align: middle;\n",
       "    }\n",
       "\n",
       "    .dataframe tbody tr th {\n",
       "        vertical-align: top;\n",
       "    }\n",
       "\n",
       "    .dataframe thead th {\n",
       "        text-align: right;\n",
       "    }\n",
       "</style>\n",
       "<table border=\"1\" class=\"dataframe\">\n",
       "  <thead>\n",
       "    <tr style=\"text-align: right;\">\n",
       "      <th></th>\n",
       "      <th>timestamp</th>\n",
       "      <th>id</th>\n",
       "      <th>name</th>\n",
       "      <th>x</th>\n",
       "      <th>y</th>\n",
       "    </tr>\n",
       "  </thead>\n",
       "  <tbody>\n",
       "    <tr>\n",
       "      <th>0</th>\n",
       "      <td>2000-01-01 00:00:00</td>\n",
       "      <td>951</td>\n",
       "      <td>Kevin</td>\n",
       "      <td>0.995324</td>\n",
       "      <td>-0.888121</td>\n",
       "    </tr>\n",
       "    <tr>\n",
       "      <th>1</th>\n",
       "      <td>2000-01-01 00:00:01</td>\n",
       "      <td>1011</td>\n",
       "      <td>Victor</td>\n",
       "      <td>-0.358553</td>\n",
       "      <td>0.221065</td>\n",
       "    </tr>\n",
       "    <tr>\n",
       "      <th>2</th>\n",
       "      <td>2000-01-01 00:00:02</td>\n",
       "      <td>1033</td>\n",
       "      <td>Alice</td>\n",
       "      <td>-0.209166</td>\n",
       "      <td>0.572046</td>\n",
       "    </tr>\n",
       "    <tr>\n",
       "      <th>3</th>\n",
       "      <td>2000-01-01 00:00:03</td>\n",
       "      <td>1054</td>\n",
       "      <td>Yvonne</td>\n",
       "      <td>-0.977953</td>\n",
       "      <td>0.966970</td>\n",
       "    </tr>\n",
       "    <tr>\n",
       "      <th>4</th>\n",
       "      <td>2000-01-01 00:00:04</td>\n",
       "      <td>1002</td>\n",
       "      <td>Laura</td>\n",
       "      <td>-0.513584</td>\n",
       "      <td>0.897851</td>\n",
       "    </tr>\n",
       "  </tbody>\n",
       "</table>\n",
       "</div>"
      ],
      "text/plain": [
       "             timestamp    id    name         x         y\n",
       "0  2000-01-01 00:00:00   951   Kevin  0.995324 -0.888121\n",
       "1  2000-01-01 00:00:01  1011  Victor -0.358553  0.221065\n",
       "2  2000-01-01 00:00:02  1033   Alice -0.209166  0.572046\n",
       "3  2000-01-01 00:00:03  1054  Yvonne -0.977953  0.966970\n",
       "4  2000-01-01 00:00:04  1002   Laura -0.513584  0.897851"
      ]
     },
     "execution_count": 1,
     "metadata": {},
     "output_type": "execute_result"
    }
   ],
   "source": [
    "import pandas as pd\n",
    "\n",
    "df = pd.read_csv('data/2000-01-01.csv')\n",
    "df.head()"
   ]
  },
  {
   "cell_type": "code",
   "execution_count": 9,
   "metadata": {
    "execution": {
     "iopub.execute_input": "2020-11-05T11:14:17.799085Z",
     "iopub.status.busy": "2020-11-05T11:14:17.798066Z",
     "iopub.status.idle": "2020-11-05T11:14:17.831969Z",
     "shell.execute_reply": "2020-11-05T11:14:17.831499Z"
    }
   },
   "outputs": [
    {
     "data": {
      "text/html": [
       "<div><strong>Dask DataFrame Structure:</strong></div>\n",
       "<div>\n",
       "<style scoped>\n",
       "    .dataframe tbody tr th:only-of-type {\n",
       "        vertical-align: middle;\n",
       "    }\n",
       "\n",
       "    .dataframe tbody tr th {\n",
       "        vertical-align: top;\n",
       "    }\n",
       "\n",
       "    .dataframe thead th {\n",
       "        text-align: right;\n",
       "    }\n",
       "</style>\n",
       "<table border=\"1\" class=\"dataframe\">\n",
       "  <thead>\n",
       "    <tr style=\"text-align: right;\">\n",
       "      <th></th>\n",
       "      <th>timestamp</th>\n",
       "      <th>id</th>\n",
       "      <th>name</th>\n",
       "      <th>x</th>\n",
       "      <th>y</th>\n",
       "    </tr>\n",
       "    <tr>\n",
       "      <th>npartitions=30</th>\n",
       "      <th></th>\n",
       "      <th></th>\n",
       "      <th></th>\n",
       "      <th></th>\n",
       "      <th></th>\n",
       "    </tr>\n",
       "  </thead>\n",
       "  <tbody>\n",
       "    <tr>\n",
       "      <th></th>\n",
       "      <td>object</td>\n",
       "      <td>int64</td>\n",
       "      <td>object</td>\n",
       "      <td>float64</td>\n",
       "      <td>float64</td>\n",
       "    </tr>\n",
       "    <tr>\n",
       "      <th></th>\n",
       "      <td>...</td>\n",
       "      <td>...</td>\n",
       "      <td>...</td>\n",
       "      <td>...</td>\n",
       "      <td>...</td>\n",
       "    </tr>\n",
       "    <tr>\n",
       "      <th>...</th>\n",
       "      <td>...</td>\n",
       "      <td>...</td>\n",
       "      <td>...</td>\n",
       "      <td>...</td>\n",
       "      <td>...</td>\n",
       "    </tr>\n",
       "    <tr>\n",
       "      <th></th>\n",
       "      <td>...</td>\n",
       "      <td>...</td>\n",
       "      <td>...</td>\n",
       "      <td>...</td>\n",
       "      <td>...</td>\n",
       "    </tr>\n",
       "    <tr>\n",
       "      <th></th>\n",
       "      <td>...</td>\n",
       "      <td>...</td>\n",
       "      <td>...</td>\n",
       "      <td>...</td>\n",
       "      <td>...</td>\n",
       "    </tr>\n",
       "  </tbody>\n",
       "</table>\n",
       "</div>\n",
       "<div>Dask Name: read-csv, 30 tasks</div>"
      ],
      "text/plain": [
       "Dask DataFrame Structure:\n",
       "               timestamp     id    name        x        y\n",
       "npartitions=30                                           \n",
       "                  object  int64  object  float64  float64\n",
       "                     ...    ...     ...      ...      ...\n",
       "...                  ...    ...     ...      ...      ...\n",
       "                     ...    ...     ...      ...      ...\n",
       "                     ...    ...     ...      ...      ...\n",
       "Dask Name: read-csv, 30 tasks"
      ]
     },
     "execution_count": 1,
     "metadata": {},
     "output_type": "execute_result"
    }
   ],
   "source": [
    "import dask.dataframe as dd\n",
    "\n",
    "df = dd.read_csv('data/2000-*-*.csv')\n",
    "df"
   ]
  },
  {
   "cell_type": "code",
   "execution_count": 10,
   "metadata": {
    "execution": {
     "iopub.execute_input": "2020-11-05T11:14:17.842201Z",
     "iopub.status.busy": "2020-11-05T11:14:17.836001Z",
     "iopub.status.idle": "2020-11-05T11:14:17.951862Z",
     "shell.execute_reply": "2020-11-05T11:14:17.952571Z"
    }
   },
   "outputs": [
    {
     "data": {
      "text/html": [
       "<div>\n",
       "<style scoped>\n",
       "    .dataframe tbody tr th:only-of-type {\n",
       "        vertical-align: middle;\n",
       "    }\n",
       "\n",
       "    .dataframe tbody tr th {\n",
       "        vertical-align: top;\n",
       "    }\n",
       "\n",
       "    .dataframe thead th {\n",
       "        text-align: right;\n",
       "    }\n",
       "</style>\n",
       "<table border=\"1\" class=\"dataframe\">\n",
       "  <thead>\n",
       "    <tr style=\"text-align: right;\">\n",
       "      <th></th>\n",
       "      <th>timestamp</th>\n",
       "      <th>id</th>\n",
       "      <th>name</th>\n",
       "      <th>x</th>\n",
       "      <th>y</th>\n",
       "    </tr>\n",
       "  </thead>\n",
       "  <tbody>\n",
       "    <tr>\n",
       "      <th>0</th>\n",
       "      <td>2000-01-01 00:00:00</td>\n",
       "      <td>951</td>\n",
       "      <td>Kevin</td>\n",
       "      <td>0.995324</td>\n",
       "      <td>-0.888121</td>\n",
       "    </tr>\n",
       "    <tr>\n",
       "      <th>1</th>\n",
       "      <td>2000-01-01 00:00:01</td>\n",
       "      <td>1011</td>\n",
       "      <td>Victor</td>\n",
       "      <td>-0.358553</td>\n",
       "      <td>0.221065</td>\n",
       "    </tr>\n",
       "    <tr>\n",
       "      <th>2</th>\n",
       "      <td>2000-01-01 00:00:02</td>\n",
       "      <td>1033</td>\n",
       "      <td>Alice</td>\n",
       "      <td>-0.209166</td>\n",
       "      <td>0.572046</td>\n",
       "    </tr>\n",
       "    <tr>\n",
       "      <th>3</th>\n",
       "      <td>2000-01-01 00:00:03</td>\n",
       "      <td>1054</td>\n",
       "      <td>Yvonne</td>\n",
       "      <td>-0.977953</td>\n",
       "      <td>0.966970</td>\n",
       "    </tr>\n",
       "    <tr>\n",
       "      <th>4</th>\n",
       "      <td>2000-01-01 00:00:04</td>\n",
       "      <td>1002</td>\n",
       "      <td>Laura</td>\n",
       "      <td>-0.513584</td>\n",
       "      <td>0.897851</td>\n",
       "    </tr>\n",
       "  </tbody>\n",
       "</table>\n",
       "</div>"
      ],
      "text/plain": [
       "             timestamp    id    name         x         y\n",
       "0  2000-01-01 00:00:00   951   Kevin  0.995324 -0.888121\n",
       "1  2000-01-01 00:00:01  1011  Victor -0.358553  0.221065\n",
       "2  2000-01-01 00:00:02  1033   Alice -0.209166  0.572046\n",
       "3  2000-01-01 00:00:03  1054  Yvonne -0.977953  0.966970\n",
       "4  2000-01-01 00:00:04  1002   Laura -0.513584  0.897851"
      ]
     },
     "execution_count": 1,
     "metadata": {},
     "output_type": "execute_result"
    }
   ],
   "source": [
    "df.head()"
   ]
  },
  {
   "cell_type": "markdown",
   "metadata": {},
   "source": [
    "## Tuning read_csv\n",
    "\n",
    "The Pandas `read_csv` function has *many* options to help you parse files.  The Dask version uses the Pandas function internally, and so supports many of the same options.  You can use the `?` operator to see the full documentation string."
   ]
  },
  {
   "cell_type": "code",
   "execution_count": 11,
   "metadata": {
    "execution": {
     "iopub.execute_input": "2020-11-05T11:14:17.957186Z",
     "iopub.status.busy": "2020-11-05T11:14:17.956713Z",
     "iopub.status.idle": "2020-11-05T11:14:18.009392Z",
     "shell.execute_reply": "2020-11-05T11:14:18.010165Z"
    }
   },
   "outputs": [],
   "source": [
    "pd.read_csv?"
   ]
  },
  {
   "cell_type": "code",
   "execution_count": 12,
   "metadata": {
    "execution": {
     "iopub.execute_input": "2020-11-05T11:14:18.015769Z",
     "iopub.status.busy": "2020-11-05T11:14:18.015324Z",
     "iopub.status.idle": "2020-11-05T11:14:18.018639Z",
     "shell.execute_reply": "2020-11-05T11:14:18.018170Z"
    }
   },
   "outputs": [],
   "source": [
    "dd.read_csv?"
   ]
  },
  {
   "cell_type": "markdown",
   "metadata": {},
   "source": [
    "In this case we use the `parse_dates` keyword to parse the timestamp column to be a datetime.  This will make things more efficient in the future.  Notice that the dtype of the timestamp column has changed from `object` to `datetime64[ns]`."
   ]
  },
  {
   "cell_type": "code",
   "execution_count": 13,
   "metadata": {
    "execution": {
     "iopub.execute_input": "2020-11-05T11:14:18.021771Z",
     "iopub.status.busy": "2020-11-05T11:14:18.021309Z",
     "iopub.status.idle": "2020-11-05T11:14:18.048301Z",
     "shell.execute_reply": "2020-11-05T11:14:18.048648Z"
    }
   },
   "outputs": [
    {
     "data": {
      "text/html": [
       "<div><strong>Dask DataFrame Structure:</strong></div>\n",
       "<div>\n",
       "<style scoped>\n",
       "    .dataframe tbody tr th:only-of-type {\n",
       "        vertical-align: middle;\n",
       "    }\n",
       "\n",
       "    .dataframe tbody tr th {\n",
       "        vertical-align: top;\n",
       "    }\n",
       "\n",
       "    .dataframe thead th {\n",
       "        text-align: right;\n",
       "    }\n",
       "</style>\n",
       "<table border=\"1\" class=\"dataframe\">\n",
       "  <thead>\n",
       "    <tr style=\"text-align: right;\">\n",
       "      <th></th>\n",
       "      <th>timestamp</th>\n",
       "      <th>id</th>\n",
       "      <th>name</th>\n",
       "      <th>x</th>\n",
       "      <th>y</th>\n",
       "    </tr>\n",
       "    <tr>\n",
       "      <th>npartitions=30</th>\n",
       "      <th></th>\n",
       "      <th></th>\n",
       "      <th></th>\n",
       "      <th></th>\n",
       "      <th></th>\n",
       "    </tr>\n",
       "  </thead>\n",
       "  <tbody>\n",
       "    <tr>\n",
       "      <th></th>\n",
       "      <td>datetime64[ns]</td>\n",
       "      <td>int64</td>\n",
       "      <td>object</td>\n",
       "      <td>float64</td>\n",
       "      <td>float64</td>\n",
       "    </tr>\n",
       "    <tr>\n",
       "      <th></th>\n",
       "      <td>...</td>\n",
       "      <td>...</td>\n",
       "      <td>...</td>\n",
       "      <td>...</td>\n",
       "      <td>...</td>\n",
       "    </tr>\n",
       "    <tr>\n",
       "      <th>...</th>\n",
       "      <td>...</td>\n",
       "      <td>...</td>\n",
       "      <td>...</td>\n",
       "      <td>...</td>\n",
       "      <td>...</td>\n",
       "    </tr>\n",
       "    <tr>\n",
       "      <th></th>\n",
       "      <td>...</td>\n",
       "      <td>...</td>\n",
       "      <td>...</td>\n",
       "      <td>...</td>\n",
       "      <td>...</td>\n",
       "    </tr>\n",
       "    <tr>\n",
       "      <th></th>\n",
       "      <td>...</td>\n",
       "      <td>...</td>\n",
       "      <td>...</td>\n",
       "      <td>...</td>\n",
       "      <td>...</td>\n",
       "    </tr>\n",
       "  </tbody>\n",
       "</table>\n",
       "</div>\n",
       "<div>Dask Name: read-csv, 30 tasks</div>"
      ],
      "text/plain": [
       "Dask DataFrame Structure:\n",
       "                     timestamp     id    name        x        y\n",
       "npartitions=30                                                 \n",
       "                datetime64[ns]  int64  object  float64  float64\n",
       "                           ...    ...     ...      ...      ...\n",
       "...                        ...    ...     ...      ...      ...\n",
       "                           ...    ...     ...      ...      ...\n",
       "                           ...    ...     ...      ...      ...\n",
       "Dask Name: read-csv, 30 tasks"
      ]
     },
     "execution_count": 1,
     "metadata": {},
     "output_type": "execute_result"
    }
   ],
   "source": [
    "df = dd.read_csv('data/2000-*-*.csv', parse_dates=['timestamp'])\n",
    "df"
   ]
  },
  {
   "cell_type": "markdown",
   "metadata": {},
   "source": [
    "## Do a simple computation\n",
    "\n",
    "Whenever we operate on our dataframe we read through all of our CSV data so that we don't fill up RAM.  This is very efficient for memory use, but reading through all of the CSV files every time can be slow."
   ]
  },
  {
   "cell_type": "code",
   "execution_count": 14,
   "metadata": {
    "execution": {
     "iopub.execute_input": "2020-11-05T11:14:18.069017Z",
     "iopub.status.busy": "2020-11-05T11:14:18.050438Z",
     "iopub.status.idle": "2020-11-05T11:14:20.823294Z",
     "shell.execute_reply": "2020-11-05T11:14:20.822843Z"
    }
   },
   "outputs": [
    {
     "name": "stdout",
     "output_type": "stream",
     "text": [
      "CPU times: user 3.5 s, sys: 479 ms, total: 3.98 s\n",
      "Wall time: 2.76 s\n"
     ]
    },
    {
     "data": {
      "text/plain": [
       "name\n",
       "Alice      -0.000647\n",
       "Bob         0.005896\n",
       "Charlie    -0.004283\n",
       "Dan        -0.000023\n",
       "Edith      -0.001054\n",
       "Frank       0.001055\n",
       "George      0.002729\n",
       "Hannah      0.000738\n",
       "Ingrid     -0.000145\n",
       "Jerry      -0.000259\n",
       "Kevin      -0.003872\n",
       "Laura      -0.000815\n",
       "Michael     0.002716\n",
       "Norbert    -0.003374\n",
       "Oliver      0.000688\n",
       "Patricia   -0.000154\n",
       "Quinn       0.001189\n",
       "Ray        -0.000154\n",
       "Sarah       0.000727\n",
       "Tim        -0.000279\n",
       "Ursula      0.000606\n",
       "Victor     -0.001836\n",
       "Wendy       0.002251\n",
       "Xavier     -0.001092\n",
       "Yvonne      0.002094\n",
       "Zelda       0.003271\n",
       "Name: x, dtype: float64"
      ]
     },
     "execution_count": 1,
     "metadata": {},
     "output_type": "execute_result"
    }
   ],
   "source": [
    "%time df.groupby('name').x.mean().compute()"
   ]
  },
  {
   "cell_type": "code",
   "execution_count": null,
   "metadata": {},
   "outputs": [],
   "source": []
  },
  {
   "cell_type": "markdown",
   "metadata": {},
   "source": [
    "## Write to Parquet\n",
    "\n",
    "Instead, we'll store our data in Parquet, a format that is more efficient for computers to read and write."
   ]
  },
  {
   "cell_type": "code",
   "execution_count": 15,
   "metadata": {
    "execution": {
     "iopub.execute_input": "2020-11-05T11:14:20.827546Z",
     "iopub.status.busy": "2020-11-05T11:14:20.827174Z",
     "iopub.status.idle": "2020-11-05T11:14:24.095437Z",
     "shell.execute_reply": "2020-11-05T11:14:24.095749Z"
    }
   },
   "outputs": [],
   "source": [
    "df.to_parquet('data/2000-01.parquet', engine='pyarrow')"
   ]
  },
  {
   "cell_type": "code",
   "execution_count": 16,
   "metadata": {
    "execution": {
     "iopub.execute_input": "2020-11-05T11:14:24.112099Z",
     "iopub.status.busy": "2020-11-05T11:14:24.099306Z",
     "iopub.status.idle": "2020-11-05T11:14:24.259767Z",
     "shell.execute_reply": "2020-11-05T11:14:24.260482Z"
    }
   },
   "outputs": [
    {
     "name": "stdout",
     "output_type": "stream",
     "text": [
      "_common_metadata  part.14.parquet  part.21.parquet  part.29.parquet\r\n",
      "_metadata\t  part.15.parquet  part.22.parquet  part.3.parquet\r\n",
      "part.0.parquet\t  part.16.parquet  part.23.parquet  part.4.parquet\r\n",
      "part.1.parquet\t  part.17.parquet  part.24.parquet  part.5.parquet\r\n",
      "part.10.parquet   part.18.parquet  part.25.parquet  part.6.parquet\r\n",
      "part.11.parquet   part.19.parquet  part.26.parquet  part.7.parquet\r\n",
      "part.12.parquet   part.2.parquet   part.27.parquet  part.8.parquet\r\n",
      "part.13.parquet   part.20.parquet  part.28.parquet  part.9.parquet\r\n"
     ]
    }
   ],
   "source": [
    "!ls data/2000-01.parquet/"
   ]
  },
  {
   "cell_type": "markdown",
   "metadata": {},
   "source": [
    "## Read from Parquet"
   ]
  },
  {
   "cell_type": "code",
   "execution_count": 17,
   "metadata": {
    "execution": {
     "iopub.execute_input": "2020-11-05T11:14:24.265425Z",
     "iopub.status.busy": "2020-11-05T11:14:24.264619Z",
     "iopub.status.idle": "2020-11-05T11:14:24.338529Z",
     "shell.execute_reply": "2020-11-05T11:14:24.339020Z"
    }
   },
   "outputs": [
    {
     "data": {
      "text/html": [
       "<div><strong>Dask DataFrame Structure:</strong></div>\n",
       "<div>\n",
       "<style scoped>\n",
       "    .dataframe tbody tr th:only-of-type {\n",
       "        vertical-align: middle;\n",
       "    }\n",
       "\n",
       "    .dataframe tbody tr th {\n",
       "        vertical-align: top;\n",
       "    }\n",
       "\n",
       "    .dataframe thead th {\n",
       "        text-align: right;\n",
       "    }\n",
       "</style>\n",
       "<table border=\"1\" class=\"dataframe\">\n",
       "  <thead>\n",
       "    <tr style=\"text-align: right;\">\n",
       "      <th></th>\n",
       "      <th>timestamp</th>\n",
       "      <th>id</th>\n",
       "      <th>name</th>\n",
       "      <th>x</th>\n",
       "      <th>y</th>\n",
       "    </tr>\n",
       "    <tr>\n",
       "      <th>npartitions=30</th>\n",
       "      <th></th>\n",
       "      <th></th>\n",
       "      <th></th>\n",
       "      <th></th>\n",
       "      <th></th>\n",
       "    </tr>\n",
       "  </thead>\n",
       "  <tbody>\n",
       "    <tr>\n",
       "      <th></th>\n",
       "      <td>datetime64[ns]</td>\n",
       "      <td>int64</td>\n",
       "      <td>object</td>\n",
       "      <td>float64</td>\n",
       "      <td>float64</td>\n",
       "    </tr>\n",
       "    <tr>\n",
       "      <th></th>\n",
       "      <td>...</td>\n",
       "      <td>...</td>\n",
       "      <td>...</td>\n",
       "      <td>...</td>\n",
       "      <td>...</td>\n",
       "    </tr>\n",
       "    <tr>\n",
       "      <th>...</th>\n",
       "      <td>...</td>\n",
       "      <td>...</td>\n",
       "      <td>...</td>\n",
       "      <td>...</td>\n",
       "      <td>...</td>\n",
       "    </tr>\n",
       "    <tr>\n",
       "      <th></th>\n",
       "      <td>...</td>\n",
       "      <td>...</td>\n",
       "      <td>...</td>\n",
       "      <td>...</td>\n",
       "      <td>...</td>\n",
       "    </tr>\n",
       "    <tr>\n",
       "      <th></th>\n",
       "      <td>...</td>\n",
       "      <td>...</td>\n",
       "      <td>...</td>\n",
       "      <td>...</td>\n",
       "      <td>...</td>\n",
       "    </tr>\n",
       "  </tbody>\n",
       "</table>\n",
       "</div>\n",
       "<div>Dask Name: read-parquet, 30 tasks</div>"
      ],
      "text/plain": [
       "Dask DataFrame Structure:\n",
       "                     timestamp     id    name        x        y\n",
       "npartitions=30                                                 \n",
       "                datetime64[ns]  int64  object  float64  float64\n",
       "                           ...    ...     ...      ...      ...\n",
       "...                        ...    ...     ...      ...      ...\n",
       "                           ...    ...     ...      ...      ...\n",
       "                           ...    ...     ...      ...      ...\n",
       "Dask Name: read-parquet, 30 tasks"
      ]
     },
     "execution_count": 1,
     "metadata": {},
     "output_type": "execute_result"
    }
   ],
   "source": [
    "df = dd.read_parquet('data/2000-01.parquet', engine='pyarrow')\n",
    "df"
   ]
  },
  {
   "cell_type": "code",
   "execution_count": 18,
   "metadata": {
    "execution": {
     "iopub.execute_input": "2020-11-05T11:14:24.358440Z",
     "iopub.status.busy": "2020-11-05T11:14:24.357991Z",
     "iopub.status.idle": "2020-11-05T11:14:25.263230Z",
     "shell.execute_reply": "2020-11-05T11:14:25.262832Z"
    }
   },
   "outputs": [
    {
     "name": "stdout",
     "output_type": "stream",
     "text": [
      "CPU times: user 1.08 s, sys: 132 ms, total: 1.22 s\n",
      "Wall time: 911 ms\n"
     ]
    },
    {
     "data": {
      "text/plain": [
       "name\n",
       "Alice      -0.000647\n",
       "Bob         0.005896\n",
       "Charlie    -0.004283\n",
       "Dan        -0.000023\n",
       "Edith      -0.001054\n",
       "Frank       0.001055\n",
       "George      0.002729\n",
       "Hannah      0.000738\n",
       "Ingrid     -0.000145\n",
       "Jerry      -0.000259\n",
       "Kevin      -0.003872\n",
       "Laura      -0.000815\n",
       "Michael     0.002716\n",
       "Norbert    -0.003374\n",
       "Oliver      0.000688\n",
       "Patricia   -0.000154\n",
       "Quinn       0.001189\n",
       "Ray        -0.000154\n",
       "Sarah       0.000727\n",
       "Tim        -0.000279\n",
       "Ursula      0.000606\n",
       "Victor     -0.001836\n",
       "Wendy       0.002251\n",
       "Xavier     -0.001092\n",
       "Yvonne      0.002094\n",
       "Zelda       0.003271\n",
       "Name: x, dtype: float64"
      ]
     },
     "execution_count": 1,
     "metadata": {},
     "output_type": "execute_result"
    }
   ],
   "source": [
    "%time df.groupby('name').x.mean().compute()"
   ]
  },
  {
   "cell_type": "markdown",
   "metadata": {},
   "source": [
    "## Select only the columns that you plan to use\n",
    "\n",
    "Parquet is a column-store, which means that it can efficiently pull out only a few columns from your dataset.  This is good because it helps to avoid unnecessary data loading."
   ]
  },
  {
   "cell_type": "code",
   "execution_count": 19,
   "metadata": {
    "execution": {
     "iopub.execute_input": "2020-11-05T11:14:25.267887Z",
     "iopub.status.busy": "2020-11-05T11:14:25.266841Z",
     "iopub.status.idle": "2020-11-05T11:14:26.186759Z",
     "shell.execute_reply": "2020-11-05T11:14:26.186406Z"
    }
   },
   "outputs": [
    {
     "name": "stdout",
     "output_type": "stream",
     "text": [
      "CPU times: user 1.05 s, sys: 86 ms, total: 1.14 s\n",
      "Wall time: 911 ms\n"
     ]
    },
    {
     "data": {
      "text/plain": [
       "name\n",
       "Alice      -0.000647\n",
       "Bob         0.005896\n",
       "Charlie    -0.004283\n",
       "Dan        -0.000023\n",
       "Edith      -0.001054\n",
       "Frank       0.001055\n",
       "George      0.002729\n",
       "Hannah      0.000738\n",
       "Ingrid     -0.000145\n",
       "Jerry      -0.000259\n",
       "Kevin      -0.003872\n",
       "Laura      -0.000815\n",
       "Michael     0.002716\n",
       "Norbert    -0.003374\n",
       "Oliver      0.000688\n",
       "Patricia   -0.000154\n",
       "Quinn       0.001189\n",
       "Ray        -0.000154\n",
       "Sarah       0.000727\n",
       "Tim        -0.000279\n",
       "Ursula      0.000606\n",
       "Victor     -0.001836\n",
       "Wendy       0.002251\n",
       "Xavier     -0.001092\n",
       "Yvonne      0.002094\n",
       "Zelda       0.003271\n",
       "Name: x, dtype: float64"
      ]
     },
     "execution_count": 1,
     "metadata": {},
     "output_type": "execute_result"
    }
   ],
   "source": [
    "%%time\n",
    "df = dd.read_parquet('data/2000-01.parquet', columns=['name', 'x'], engine='pyarrow')\n",
    "df.groupby('name').x.mean().compute()"
   ]
  },
  {
   "cell_type": "markdown",
   "metadata": {},
   "source": [
    "Here the difference is not that large, but with larger datasets this can save a great deal of time."
   ]
  },
  {
   "cell_type": "markdown",
   "metadata": {},
   "source": [
    "## Learn more\n",
    "\n",
    "http://dask.pydata.org/en/latest/dataframe-create.html"
   ]
  }
 ],
 "metadata": {
  "kernelspec": {
   "display_name": "Python 3",
   "language": "python",
   "name": "python3"
  },
  "language_info": {
   "codemirror_mode": {
    "name": "ipython",
    "version": 3
   },
   "file_extension": ".py",
   "mimetype": "text/x-python",
   "name": "python",
   "nbconvert_exporter": "python",
   "pygments_lexer": "ipython3",
   "version": "3.8.6"
  }
 },
 "nbformat": 4,
 "nbformat_minor": 2
}
