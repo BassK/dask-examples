{
 "cells": [
  {
   "cell_type": "markdown",
   "metadata": {},
   "source": [
    "Handle Evolving Workflows\n",
    "=========================\n",
    "\n",
    "For some workflows we don't know the extent of the computation at the outset.  We need to do some computation in order to figure out the rest of the computation that we need to do.  The computation grows and evolves as we do more work.\n",
    "\n",
    "As an example, consider a situation where you need to read many files and then based on the contents of those files, fire off additional work.  You would like to read the files in parallel, and then within each file expose more parallelism.\n",
    "\n",
    "This example goes through three ways to handle this situation using [Dask Futures](https://docs.dask.org/en/latest/futures.html)\n",
    "\n",
    "1.  Using `as_completed`\n",
    "2.  Using `async/await`\n",
    "3.  Launching tasks from tasks\n",
    "\n",
    "But first, lets run our code sequentially."
   ]
  },
  {
   "cell_type": "markdown",
   "metadata": {},
   "source": [
    "0: Sequential code\n",
    "------------------"
   ]
  },
  {
   "cell_type": "code",
   "execution_count": 1,
   "metadata": {},
   "outputs": [
    {
     "data": {
      "text/plain": [
       "['file.0.txt', 'file.1.txt', 'file.2.txt']"
      ]
     },
     "execution_count": 1,
     "metadata": {},
     "output_type": "execute_result"
    }
   ],
   "source": [
    "filenames = [\"file.{}.txt\".format(i) for i in range(10)]\n",
    "\n",
    "filenames[:3]"
   ]
  },
  {
   "cell_type": "code",
   "execution_count": 2,
   "metadata": {},
   "outputs": [],
   "source": [
    "import random, time\n",
    "\n",
    "\n",
    "def parse_file(fn: str) -> list:\n",
    "    \"\"\" Returns a list work items of unknown length \"\"\"\n",
    "    time.sleep(random.random())\n",
    "    return [random.random() for _ in range(random.randint(1, 10))]\n",
    "\n",
    "def process_item(x: float):\n",
    "    \"\"\" Process each work item \"\"\"\n",
    "    time.sleep(random.random() / 4)\n",
    "    return x + 1"
   ]
  },
  {
   "cell_type": "code",
   "execution_count": 3,
   "metadata": {},
   "outputs": [
    {
     "name": "stdout",
     "output_type": "stream",
     "text": [
      "CPU times: user 0 ns, sys: 5.74 ms, total: 5.74 ms\n",
      "Wall time: 12.5 s\n"
     ]
    }
   ],
   "source": [
    "%%time\n",
    "\n",
    "# This takes around 10-20s\n",
    "\n",
    "results = []\n",
    "\n",
    "for fn in filenames:\n",
    "    L = parse_file(fn)\n",
    "    for x in L:\n",
    "        out = process_item(x)\n",
    "        results.append(out)"
   ]
  },
  {
   "cell_type": "markdown",
   "metadata": {},
   "source": [
    "Start Dask Client\n",
    "-----------------\n",
    "\n",
    "We'll need a Dask client in order to manage dynamic workloads"
   ]
  },
  {
   "cell_type": "code",
   "execution_count": 4,
   "metadata": {},
   "outputs": [
    {
     "data": {
      "text/html": [
       "<table style=\"border: 2px solid white;\">\n",
       "<tr>\n",
       "<td style=\"vertical-align: top; border: 0px solid white\">\n",
       "<h3 style=\"text-align: left;\">Client</h3>\n",
       "<ul style=\"text-align: left; list-style: none; margin: 0; padding: 0;\">\n",
       "  <li><b>Scheduler: </b>inproc://10.20.0.76/8343/1</li>\n",
       "  <li><b>Dashboard: </b><a href='http://10.20.0.76:8787/status' target='_blank'>http://10.20.0.76:8787/status</a></li>\n",
       "</ul>\n",
       "</td>\n",
       "<td style=\"vertical-align: top; border: 0px solid white\">\n",
       "<h3 style=\"text-align: left;\">Cluster</h3>\n",
       "<ul style=\"text-align: left; list-style:none; margin: 0; padding: 0;\">\n",
       "  <li><b>Workers: </b>1</li>\n",
       "  <li><b>Cores: </b>6</li>\n",
       "  <li><b>Memory: </b>8.36 GB</li>\n",
       "</ul>\n",
       "</td>\n",
       "</tr>\n",
       "</table>"
      ],
      "text/plain": [
       "<Client: 'inproc://10.20.0.76/8343/1' processes=1 threads=6, memory=8.36 GB>"
      ]
     },
     "execution_count": 4,
     "metadata": {},
     "output_type": "execute_result"
    }
   ],
   "source": [
    "from dask.distributed import Client\n",
    "\n",
    "client = Client(processes=False, n_workers=1, threads_per_worker=6)\n",
    "client"
   ]
  },
  {
   "cell_type": "markdown",
   "metadata": {},
   "source": [
    "1: Use as_completed\n",
    "-------------------\n",
    "\n",
    "The [as_completed](https://docs.dask.org/en/latest/futures.html#distributed.as_completed) iterator lets us handle futures as they complete.  We can then submit more data on the fly.\n",
    "\n",
    "-   We submit a task for each of our filenames\n",
    "-   We also compute the length of each of the returned lists\n",
    "-   As those lengths return, we submit off a new task to get each item of that list.  We do this at higher priority, so that we process existing data before we collect new data.\n",
    "-   We wait on all of the returned results"
   ]
  },
  {
   "cell_type": "code",
   "execution_count": 5,
   "metadata": {},
   "outputs": [
    {
     "name": "stdout",
     "output_type": "stream",
     "text": [
      "CPU times: user 358 ms, sys: 15.2 ms, total: 373 ms\n",
      "Wall time: 2.53 s\n"
     ]
    },
    {
     "data": {
      "text/plain": [
       "[1.4780804447145015,\n",
       " 1.439185148783924,\n",
       " 1.1866767282263444,\n",
       " 1.196027064519567,\n",
       " 1.7435505426751856,\n",
       " 1.2969525677941158,\n",
       " 1.1868889123734192,\n",
       " 1.79431386637367,\n",
       " 1.1593181677716173,\n",
       " 1.692380312322187,\n",
       " 1.5057224564582041,\n",
       " 1.3523917989024636,\n",
       " 1.0156659145035407,\n",
       " 1.6721877194453274,\n",
       " 1.3362076487041687,\n",
       " 1.1140177201028147,\n",
       " 1.327415615073739,\n",
       " 1.685138606639474,\n",
       " 1.4117899559316083,\n",
       " 1.3354448502865455,\n",
       " 1.6154942862789945,\n",
       " 1.1954982851685398,\n",
       " 1.4823798243100408,\n",
       " 1.5190071310243363,\n",
       " 1.1244188059755014,\n",
       " 1.8891407867750916,\n",
       " 1.1612208051877448,\n",
       " 1.0079663182983367,\n",
       " 1.8617933305270213,\n",
       " 1.423546242372236,\n",
       " 1.6227724862107191,\n",
       " 1.1114506213219344,\n",
       " 1.8501493245981506,\n",
       " 1.1327490128047883,\n",
       " 1.241607847887677,\n",
       " 1.4930855239652514,\n",
       " 1.4355492678605675,\n",
       " 1.366487916493587,\n",
       " 1.8857216636576961,\n",
       " 1.0378758960773624,\n",
       " 1.9672818560378942,\n",
       " 1.9235672715839152,\n",
       " 1.1520995595549364,\n",
       " 1.6310617865271824,\n",
       " 1.3285950760948806,\n",
       " 1.416679523349304,\n",
       " 1.396868338690167,\n",
       " 1.936755769513185,\n",
       " 1.1479470799013947,\n",
       " 1.929645193748879,\n",
       " 1.2730402319806646,\n",
       " 1.4108649430055848,\n",
       " 1.7073935539029632,\n",
       " 1.148539223661253,\n",
       " 1.3501295005595353,\n",
       " 1.1016826163686757,\n",
       " 1.9571708554933571,\n",
       " 1.8088922113389938,\n",
       " 1.6144062780550144,\n",
       " 1.3429270462043363,\n",
       " 1.2835762594708267,\n",
       " 1.6971068811980188,\n",
       " 1.226054160171357,\n",
       " 1.7653854837224867,\n",
       " 1.5972224065262397,\n",
       " 1.4286309236371575]"
      ]
     },
     "execution_count": 5,
     "metadata": {},
     "output_type": "execute_result"
    }
   ],
   "source": [
    "%%time\n",
    "\n",
    "from dask.distributed import as_completed\n",
    "import operator\n",
    "\n",
    "lists = client.map(parse_file, filenames, pure=False)\n",
    "lengths = client.map(len, lists)\n",
    "\n",
    "mapping = dict(zip(lengths, lists))\n",
    "\n",
    "futures = []\n",
    "\n",
    "for future in as_completed(lengths):\n",
    "    n = future.result()\n",
    "    L = mapping[future]\n",
    "    for i in range(n):\n",
    "        new = client.submit(operator.getitem, L, i, priority=1)\n",
    "        new = client.submit(process_item, new, priority=1)\n",
    "        futures.append(new)\n",
    "        \n",
    "client.gather(futures)"
   ]
  },
  {
   "cell_type": "markdown",
   "metadata": {},
   "source": [
    "2: Use async/await to handle single file processing locally\n",
    "-----------------------------------------------------------\n",
    "\n",
    "We can also handle the concurrency here within our local process.  This requires you to understand async/await syntax, but is generally powerful and arguably simpler than the `as_completed` approach above."
   ]
  },
  {
   "cell_type": "code",
   "execution_count": 6,
   "metadata": {},
   "outputs": [],
   "source": [
    "import asyncio\n",
    "\n",
    "async def f(fn):\n",
    "    \"\"\" Handle the lifecycle of a single file \"\"\"\n",
    "    future = client.submit(parse_file, fn, pure=False)\n",
    "    length_future = client.submit(len, future)\n",
    "    length = await length_future\n",
    "    \n",
    "    futures = [client.submit(operator.getitem, future, i, priority=10) \n",
    "               for i in range(length)]\n",
    "    futures = client.map(process_item, futures, priority=10)\n",
    "    return futures\n",
    "\n",
    "async def run_all(filenames):\n",
    "    list_of_list_of_futures = await asyncio.gather(*[f(fn) for fn in filenames])\n",
    "    futures = sum(list_of_list_of_futures, [])\n",
    "    return await client.gather(futures)\n"
   ]
  },
  {
   "cell_type": "markdown",
   "metadata": {},
   "source": [
    "We now need to run this function in the same event loop as our client is running.  If we had started our client asynchronously, then we could have done this:\n",
    "\n",
    "```python\n",
    "client = await Client(asynchronous=True)\n",
    "\n",
    "await run_all(filenames)\n",
    "```\n",
    "\n",
    "However, because we started our client without the `asynchronous=True` flag the event loop is actually running in a separate thread, so we'll have to ask the client to run this for us."
   ]
  },
  {
   "cell_type": "code",
   "execution_count": 7,
   "metadata": {},
   "outputs": [
    {
     "data": {
      "text/plain": [
       "[1.365239379672858,\n",
       " 1.0337256640980588,\n",
       " 1.781006274338601,\n",
       " 1.0649668411305622,\n",
       " 1.4681900407802462,\n",
       " 1.3206669625712468,\n",
       " 1.4441145622702265,\n",
       " 1.1089473237054066,\n",
       " 1.2211535550596557,\n",
       " 1.855818328781283,\n",
       " 1.7737457170767381,\n",
       " 1.5380485087011464,\n",
       " 1.575970108093561,\n",
       " 1.7639660214273971,\n",
       " 1.8904985021414262,\n",
       " 1.8814041971689455,\n",
       " 1.2039116652940525,\n",
       " 1.5554315051012269,\n",
       " 1.7491551988833978,\n",
       " 1.0185595495470623,\n",
       " 1.8223724069574296,\n",
       " 1.237793919047643,\n",
       " 1.512792487455254,\n",
       " 1.7298274737953525,\n",
       " 1.819804164304835,\n",
       " 1.5870029571805053,\n",
       " 1.8971477174589686,\n",
       " 1.2117056788863154,\n",
       " 1.319614176725557,\n",
       " 1.4993588138154843,\n",
       " 1.6786381057784103,\n",
       " 1.5940549289049033,\n",
       " 1.8094556780631625,\n",
       " 1.6718024425370568,\n",
       " 1.538085838756567,\n",
       " 1.7886571831711895,\n",
       " 1.7956948469363527,\n",
       " 1.7399386709979985,\n",
       " 1.5395161794644698,\n",
       " 1.1004448184924702,\n",
       " 1.145708537553541,\n",
       " 1.1798951833014775,\n",
       " 1.522864710627999,\n",
       " 1.8732648014887099,\n",
       " 1.7148996716483391,\n",
       " 1.3459671460858629]"
      ]
     },
     "execution_count": 7,
     "metadata": {},
     "output_type": "execute_result"
    }
   ],
   "source": [
    "client.sync(run_all, filenames)"
   ]
  },
  {
   "cell_type": "markdown",
   "metadata": {},
   "source": [
    "3: Submit tasks from tasks\n",
    "--------------------------\n",
    "\n",
    "We can also submit tasks that themselves submit more tasks.  See [documentation here](https://docs.dask.org/en/latest/futures.html#submit-tasks-from-tasks)."
   ]
  },
  {
   "cell_type": "code",
   "execution_count": 8,
   "metadata": {},
   "outputs": [
    {
     "name": "stdout",
     "output_type": "stream",
     "text": [
      "CPU times: user 186 ms, sys: 10.5 ms, total: 197 ms\n",
      "Wall time: 1.47 s\n"
     ]
    }
   ],
   "source": [
    "%%time\n",
    "\n",
    "from dask.distributed import get_client, secede, rejoin\n",
    "\n",
    "def f(fn):\n",
    "    L = parse_file(fn)\n",
    "    client = get_client()\n",
    "    \n",
    "    futures = client.map(process_item, L, priority=10)\n",
    "    secede()\n",
    "    results = client.gather(futures)\n",
    "    rejoin()\n",
    "    return results\n",
    "\n",
    "futures = client.map(f, filenames, pure=False)\n",
    "results = client.gather(futures)"
   ]
  }
 ],
 "metadata": {
  "kernelspec": {
   "display_name": "Python 3",
   "language": "python",
   "name": "python3"
  },
  "language_info": {
   "codemirror_mode": {
    "name": "ipython",
    "version": 3
   },
   "file_extension": ".py",
   "mimetype": "text/x-python",
   "name": "python",
   "nbconvert_exporter": "python",
   "pygments_lexer": "ipython3",
   "version": "3.8.5"
  }
 },
 "nbformat": 4,
 "nbformat_minor": 4
}
