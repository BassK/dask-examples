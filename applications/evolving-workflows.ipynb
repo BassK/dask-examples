{
 "cells": [
  {
   "cell_type": "markdown",
   "metadata": {},
   "source": [
    "Handle Evolving Workflows\n",
    "=========================\n",
    "\n",
    "For some workflows we don't know the extent of the computation at the outset.  We need to do some computation in order to figure out the rest of the computation that we need to do.  The computation grows and evolves as we do more work.\n",
    "\n",
    "As an example, consider a situation where you need to read many files and then based on the contents of those files, fire off additional work.  You would like to read the files in parallel, and then within each file expose more parallelism.\n",
    "\n",
    "This example goes through three ways to handle this situation using [Dask Futures](https://docs.dask.org/en/latest/futures.html)\n",
    "\n",
    "1.  Using `as_completed`\n",
    "2.  Using `async/await`\n",
    "3.  Launching tasks from tasks\n",
    "\n",
    "But first, lets run our code sequentially."
   ]
  },
  {
   "cell_type": "markdown",
   "metadata": {},
   "source": [
    "0: Sequential code\n",
    "------------------"
   ]
  },
  {
   "cell_type": "code",
   "execution_count": 1,
   "metadata": {
    "execution": {
     "iopub.execute_input": "2020-11-05T11:02:25.823235Z",
     "iopub.status.busy": "2020-11-05T11:02:25.822751Z",
     "iopub.status.idle": "2020-11-05T11:02:25.833168Z",
     "shell.execute_reply": "2020-11-05T11:02:25.832682Z"
    }
   },
   "outputs": [
    {
     "data": {
      "text/plain": [
       "['file.0.txt', 'file.1.txt', 'file.2.txt']"
      ]
     },
     "execution_count": 1,
     "metadata": {},
     "output_type": "execute_result"
    }
   ],
   "source": [
    "filenames = [\"file.{}.txt\".format(i) for i in range(10)]\n",
    "\n",
    "filenames[:3]"
   ]
  },
  {
   "cell_type": "code",
   "execution_count": 2,
   "metadata": {
    "execution": {
     "iopub.execute_input": "2020-11-05T11:02:25.838389Z",
     "iopub.status.busy": "2020-11-05T11:02:25.837888Z",
     "iopub.status.idle": "2020-11-05T11:02:25.839529Z",
     "shell.execute_reply": "2020-11-05T11:02:25.839988Z"
    }
   },
   "outputs": [],
   "source": [
    "import random, time\n",
    "\n",
    "\n",
    "def parse_file(fn: str) -> list:\n",
    "    \"\"\" Returns a list work items of unknown length \"\"\"\n",
    "    time.sleep(random.random())\n",
    "    return [random.random() for _ in range(random.randint(1, 10))]\n",
    "\n",
    "def process_item(x: float):\n",
    "    \"\"\" Process each work item \"\"\"\n",
    "    time.sleep(random.random() / 4)\n",
    "    return x + 1"
   ]
  },
  {
   "cell_type": "code",
   "execution_count": 3,
   "metadata": {
    "execution": {
     "iopub.execute_input": "2020-11-05T11:02:25.843991Z",
     "iopub.status.busy": "2020-11-05T11:02:25.843535Z",
     "iopub.status.idle": "2020-11-05T11:02:42.952913Z",
     "shell.execute_reply": "2020-11-05T11:02:42.952363Z"
    }
   },
   "outputs": [
    {
     "name": "stdout",
     "output_type": "stream",
     "text": [
      "CPU times: user 4.56 ms, sys: 8.1 ms, total: 12.7 ms\n",
      "Wall time: 17.1 s\n"
     ]
    }
   ],
   "source": [
    "%%time\n",
    "\n",
    "# This takes around 10-20s\n",
    "\n",
    "results = []\n",
    "\n",
    "for fn in filenames:\n",
    "    L = parse_file(fn)\n",
    "    for x in L:\n",
    "        out = process_item(x)\n",
    "        results.append(out)"
   ]
  },
  {
   "cell_type": "markdown",
   "metadata": {},
   "source": [
    "Start Dask Client\n",
    "-----------------\n",
    "\n",
    "We'll need a Dask client in order to manage dynamic workloads"
   ]
  },
  {
   "cell_type": "code",
   "execution_count": 4,
   "metadata": {
    "execution": {
     "iopub.execute_input": "2020-11-05T11:02:42.956409Z",
     "iopub.status.busy": "2020-11-05T11:02:42.955775Z",
     "iopub.status.idle": "2020-11-05T11:02:43.819463Z",
     "shell.execute_reply": "2020-11-05T11:02:43.818535Z"
    }
   },
   "outputs": [
    {
     "data": {
      "text/html": [
       "<table style=\"border: 2px solid white;\">\n",
       "<tr>\n",
       "<td style=\"vertical-align: top; border: 0px solid white\">\n",
       "<h3 style=\"text-align: left;\">Client</h3>\n",
       "<ul style=\"text-align: left; list-style: none; margin: 0; padding: 0;\">\n",
       "  <li><b>Scheduler: </b>inproc://10.1.0.4/7109/1</li>\n",
       "  <li><b>Dashboard: </b><a href='http://10.1.0.4:8787/status' target='_blank'>http://10.1.0.4:8787/status</a></li>\n",
       "</ul>\n",
       "</td>\n",
       "<td style=\"vertical-align: top; border: 0px solid white\">\n",
       "<h3 style=\"text-align: left;\">Cluster</h3>\n",
       "<ul style=\"text-align: left; list-style:none; margin: 0; padding: 0;\">\n",
       "  <li><b>Workers: </b>1</li>\n",
       "  <li><b>Cores: </b>6</li>\n",
       "  <li><b>Memory: </b>7.29 GB</li>\n",
       "</ul>\n",
       "</td>\n",
       "</tr>\n",
       "</table>"
      ],
      "text/plain": [
       "<Client: 'inproc://10.1.0.4/7109/1' processes=1 threads=6, memory=7.29 GB>"
      ]
     },
     "execution_count": 1,
     "metadata": {},
     "output_type": "execute_result"
    }
   ],
   "source": [
    "from dask.distributed import Client\n",
    "\n",
    "client = Client(processes=False, n_workers=1, threads_per_worker=6)\n",
    "client"
   ]
  },
  {
   "cell_type": "markdown",
   "metadata": {},
   "source": [
    "1: Use as_completed\n",
    "-------------------\n",
    "\n",
    "The [as_completed](https://docs.dask.org/en/latest/futures.html#distributed.as_completed) iterator lets us handle futures as they complete.  We can then submit more data on the fly.\n",
    "\n",
    "-   We submit a task for each of our filenames\n",
    "-   We also compute the length of each of the returned lists\n",
    "-   As those lengths return, we submit off a new task to get each item of that list.  We do this at higher priority, so that we process existing data before we collect new data.\n",
    "-   We wait on all of the returned results"
   ]
  },
  {
   "cell_type": "code",
   "execution_count": 5,
   "metadata": {
    "execution": {
     "iopub.execute_input": "2020-11-05T11:02:43.825424Z",
     "iopub.status.busy": "2020-11-05T11:02:43.824831Z",
     "iopub.status.idle": "2020-11-05T11:02:46.079314Z",
     "shell.execute_reply": "2020-11-05T11:02:46.079811Z"
    }
   },
   "outputs": [
    {
     "name": "stdout",
     "output_type": "stream",
     "text": [
      "CPU times: user 352 ms, sys: 24.6 ms, total: 376 ms\n",
      "Wall time: 2.25 s\n"
     ]
    },
    {
     "data": {
      "text/plain": [
       "[1.6676902520661987,\n",
       " 1.4609210674401938,\n",
       " 1.1139566633395324,\n",
       " 1.4056423193979943,\n",
       " 1.1114363623947858,\n",
       " 1.8407051105691554,\n",
       " 1.1399825038649394,\n",
       " 1.775731806128612,\n",
       " 1.5961841687408413,\n",
       " 1.2579610697951122,\n",
       " 1.976224545815943,\n",
       " 1.6957730061682263,\n",
       " 1.8088757424832544,\n",
       " 1.2620668905647956,\n",
       " 1.118837493361735,\n",
       " 1.4900613662406927,\n",
       " 1.6683307143160637,\n",
       " 1.0754661183567706,\n",
       " 1.2558883899702726,\n",
       " 1.7912222013621704,\n",
       " 1.3278602441100595,\n",
       " 1.3781796135730764,\n",
       " 1.6375348637839304,\n",
       " 1.0026604530215104,\n",
       " 1.6862777567414304,\n",
       " 1.6311705718162783,\n",
       " 1.8901761124348972,\n",
       " 1.4237413768416651,\n",
       " 1.887564657251787,\n",
       " 1.5028374096432202,\n",
       " 1.64351817272477,\n",
       " 1.668564172693018,\n",
       " 1.0241150326799549,\n",
       " 1.8420533819924454,\n",
       " 1.7238963218189944,\n",
       " 1.9997679623220923,\n",
       " 1.5976428571907215,\n",
       " 1.104894128667354,\n",
       " 1.344481737408274,\n",
       " 1.258605863508344,\n",
       " 1.7016865009678872,\n",
       " 1.5764400878720046,\n",
       " 1.7648628657166343,\n",
       " 1.5413833029778599,\n",
       " 1.612527255582577,\n",
       " 1.3050775205188612,\n",
       " 1.396034129877693,\n",
       " 1.5659795587930976,\n",
       " 1.4147031781921058,\n",
       " 1.6281519970093168,\n",
       " 1.9336739763238202,\n",
       " 1.441105645679651,\n",
       " 1.7499298467708955,\n",
       " 1.7347821767809952,\n",
       " 1.468369746565759]"
      ]
     },
     "execution_count": 1,
     "metadata": {},
     "output_type": "execute_result"
    }
   ],
   "source": [
    "%%time\n",
    "\n",
    "from dask.distributed import as_completed\n",
    "import operator\n",
    "\n",
    "lists = client.map(parse_file, filenames, pure=False)\n",
    "lengths = client.map(len, lists)\n",
    "\n",
    "mapping = dict(zip(lengths, lists))\n",
    "\n",
    "futures = []\n",
    "\n",
    "for future in as_completed(lengths):\n",
    "    n = future.result()\n",
    "    L = mapping[future]\n",
    "    for i in range(n):\n",
    "        new = client.submit(operator.getitem, L, i, priority=1)\n",
    "        new = client.submit(process_item, new, priority=1)\n",
    "        futures.append(new)\n",
    "        \n",
    "client.gather(futures)"
   ]
  },
  {
   "cell_type": "markdown",
   "metadata": {},
   "source": [
    "2: Use async/await to handle single file processing locally\n",
    "-----------------------------------------------------------\n",
    "\n",
    "We can also handle the concurrency here within our local process.  This requires you to understand async/await syntax, but is generally powerful and arguably simpler than the `as_completed` approach above."
   ]
  },
  {
   "cell_type": "code",
   "execution_count": 6,
   "metadata": {
    "execution": {
     "iopub.execute_input": "2020-11-05T11:02:46.085587Z",
     "iopub.status.busy": "2020-11-05T11:02:46.085093Z",
     "iopub.status.idle": "2020-11-05T11:02:46.088440Z",
     "shell.execute_reply": "2020-11-05T11:02:46.087946Z"
    }
   },
   "outputs": [],
   "source": [
    "import asyncio\n",
    "\n",
    "async def f(fn):\n",
    "    \"\"\" Handle the lifecycle of a single file \"\"\"\n",
    "    future = client.submit(parse_file, fn, pure=False)\n",
    "    length_future = client.submit(len, future)\n",
    "    length = await length_future\n",
    "    \n",
    "    futures = [client.submit(operator.getitem, future, i, priority=10) \n",
    "               for i in range(length)]\n",
    "    futures = client.map(process_item, futures, priority=10)\n",
    "    return futures\n",
    "\n",
    "async def run_all(filenames):\n",
    "    list_of_list_of_futures = await asyncio.gather(*[f(fn) for fn in filenames])\n",
    "    futures = sum(list_of_list_of_futures, [])\n",
    "    return await client.gather(futures)\n"
   ]
  },
  {
   "cell_type": "markdown",
   "metadata": {},
   "source": [
    "We now need to run this function in the same event loop as our client is running.  If we had started our client asynchronously, then we could have done this:\n",
    "\n",
    "```python\n",
    "client = await Client(asynchronous=True)\n",
    "\n",
    "await run_all(filenames)\n",
    "```\n",
    "\n",
    "However, because we started our client without the `asynchronous=True` flag the event loop is actually running in a separate thread, so we'll have to ask the client to run this for us."
   ]
  },
  {
   "cell_type": "code",
   "execution_count": 7,
   "metadata": {
    "execution": {
     "iopub.execute_input": "2020-11-05T11:02:46.091830Z",
     "iopub.status.busy": "2020-11-05T11:02:46.091381Z",
     "iopub.status.idle": "2020-11-05T11:02:49.041874Z",
     "shell.execute_reply": "2020-11-05T11:02:49.041341Z"
    }
   },
   "outputs": [
    {
     "data": {
      "text/plain": [
       "[1.20907984331816,\n",
       " 1.4878290528557625,\n",
       " 1.6879795726128897,\n",
       " 1.5825401416875884,\n",
       " 1.7728426327388631,\n",
       " 1.424570440046845,\n",
       " 1.7051369655864592,\n",
       " 1.9392486548009085,\n",
       " 1.0486402446916152,\n",
       " 1.4042996527170157,\n",
       " 1.631039243895485,\n",
       " 1.542482639041597,\n",
       " 1.899089380317886,\n",
       " 1.6885773278277452,\n",
       " 1.5791821117277907,\n",
       " 1.6370418529291422,\n",
       " 1.600988803378097,\n",
       " 1.8246719848171364,\n",
       " 1.8180957092672732,\n",
       " 1.44532000014354,\n",
       " 1.3254851976837587,\n",
       " 1.1697331814349423,\n",
       " 1.157180976347961,\n",
       " 1.3893169164345172,\n",
       " 1.5239089525778482,\n",
       " 1.4702953195854371,\n",
       " 1.340550682372652,\n",
       " 1.7859787117723154,\n",
       " 1.7423684946096252,\n",
       " 1.3108195851047562,\n",
       " 1.3924674437706028,\n",
       " 1.1832816005994895,\n",
       " 1.2150790926819486,\n",
       " 1.7884058896699186,\n",
       " 1.3696953438409714,\n",
       " 1.190713442085972,\n",
       " 1.6387619385465326,\n",
       " 1.195978954903309,\n",
       " 1.5491058296974334,\n",
       " 1.7181581488097404,\n",
       " 1.571302538632879,\n",
       " 1.9326505978217323,\n",
       " 1.7439897866120027,\n",
       " 1.4026141358460449,\n",
       " 1.1809840131623668,\n",
       " 1.8283453356029846,\n",
       " 1.6120232483897308,\n",
       " 1.8861227186590985,\n",
       " 1.5734620202345926,\n",
       " 1.7427058447252626]"
      ]
     },
     "execution_count": 1,
     "metadata": {},
     "output_type": "execute_result"
    }
   ],
   "source": [
    "client.sync(run_all, filenames)"
   ]
  },
  {
   "cell_type": "markdown",
   "metadata": {},
   "source": [
    "3: Submit tasks from tasks\n",
    "--------------------------\n",
    "\n",
    "We can also submit tasks that themselves submit more tasks.  See [documentation here](https://docs.dask.org/en/latest/futures.html#submit-tasks-from-tasks)."
   ]
  },
  {
   "cell_type": "code",
   "execution_count": 8,
   "metadata": {
    "execution": {
     "iopub.execute_input": "2020-11-05T11:02:49.049824Z",
     "iopub.status.busy": "2020-11-05T11:02:49.049324Z",
     "iopub.status.idle": "2020-11-05T11:02:51.342245Z",
     "shell.execute_reply": "2020-11-05T11:02:51.343638Z"
    }
   },
   "outputs": [
    {
     "name": "stdout",
     "output_type": "stream",
     "text": [
      "CPU times: user 281 ms, sys: 42 ms, total: 323 ms\n",
      "Wall time: 2.29 s\n"
     ]
    }
   ],
   "source": [
    "%%time\n",
    "\n",
    "from dask.distributed import get_client, secede, rejoin\n",
    "\n",
    "def f(fn):\n",
    "    L = parse_file(fn)\n",
    "    client = get_client()\n",
    "    \n",
    "    futures = client.map(process_item, L, priority=10)\n",
    "    secede()\n",
    "    results = client.gather(futures)\n",
    "    rejoin()\n",
    "    return results\n",
    "\n",
    "futures = client.map(f, filenames, pure=False)\n",
    "results = client.gather(futures)"
   ]
  }
 ],
 "metadata": {
  "kernelspec": {
   "display_name": "Python 3",
   "language": "python",
   "name": "python3"
  },
  "language_info": {
   "codemirror_mode": {
    "name": "ipython",
    "version": 3
   },
   "file_extension": ".py",
   "mimetype": "text/x-python",
   "name": "python",
   "nbconvert_exporter": "python",
   "pygments_lexer": "ipython3",
   "version": "3.8.6"
  }
 },
 "nbformat": 4,
 "nbformat_minor": 4
}
