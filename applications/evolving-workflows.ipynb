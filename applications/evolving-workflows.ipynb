{
 "cells": [
  {
   "cell_type": "markdown",
   "metadata": {},
   "source": [
    "Handle Evolving Workflows\n",
    "=========================\n",
    "\n",
    "For some workflows we don't know the extent of the computation at the outset.  We need to do some computation in order to figure out the rest of the computation that we need to do.  The computation grows and evolves as we do more work.\n",
    "\n",
    "As an example, consider a situation where you need to read many files and then based on the contents of those files, fire off additional work.  You would like to read the files in parallel, and then within each file expose more parallelism.\n",
    "\n",
    "This example goes through three ways to handle this situation using [Dask Futures](https://docs.dask.org/en/latest/futures.html)\n",
    "\n",
    "1.  Using `as_completed`\n",
    "2.  Using `async/await`\n",
    "3.  Launching tasks from tasks\n",
    "\n",
    "But first, lets run our code sequentially."
   ]
  },
  {
   "cell_type": "markdown",
   "metadata": {},
   "source": [
    "0: Sequential code\n",
    "------------------"
   ]
  },
  {
   "cell_type": "code",
   "execution_count": 1,
   "metadata": {
    "execution": {
     "iopub.execute_input": "2021-01-02T05:46:46.190646Z",
     "iopub.status.busy": "2021-01-02T05:46:46.185995Z",
     "iopub.status.idle": "2021-01-02T05:46:46.192564Z",
     "shell.execute_reply": "2021-01-02T05:46:46.193022Z"
    }
   },
   "outputs": [
    {
     "data": {
      "text/plain": [
       "['file.0.txt', 'file.1.txt', 'file.2.txt']"
      ]
     },
     "execution_count": 1,
     "metadata": {},
     "output_type": "execute_result"
    }
   ],
   "source": [
    "filenames = [\"file.{}.txt\".format(i) for i in range(10)]\n",
    "\n",
    "filenames[:3]"
   ]
  },
  {
   "cell_type": "code",
   "execution_count": 2,
   "metadata": {
    "execution": {
     "iopub.execute_input": "2021-01-02T05:46:46.198204Z",
     "iopub.status.busy": "2021-01-02T05:46:46.197166Z",
     "iopub.status.idle": "2021-01-02T05:46:46.198693Z",
     "shell.execute_reply": "2021-01-02T05:46:46.199173Z"
    }
   },
   "outputs": [],
   "source": [
    "import random, time\n",
    "\n",
    "\n",
    "def parse_file(fn: str) -> list:\n",
    "    \"\"\" Returns a list work items of unknown length \"\"\"\n",
    "    time.sleep(random.random())\n",
    "    return [random.random() for _ in range(random.randint(1, 10))]\n",
    "\n",
    "def process_item(x: float):\n",
    "    \"\"\" Process each work item \"\"\"\n",
    "    time.sleep(random.random() / 4)\n",
    "    return x + 1"
   ]
  },
  {
   "cell_type": "code",
   "execution_count": 3,
   "metadata": {
    "execution": {
     "iopub.execute_input": "2021-01-02T05:46:46.202868Z",
     "iopub.status.busy": "2021-01-02T05:46:46.202427Z",
     "iopub.status.idle": "2021-01-02T05:46:57.037793Z",
     "shell.execute_reply": "2021-01-02T05:46:57.037429Z"
    }
   },
   "outputs": [
    {
     "name": "stdout",
     "output_type": "stream",
     "text": [
      "CPU times: user 6.75 ms, sys: 563 µs, total: 7.32 ms\n",
      "Wall time: 10.8 s\n"
     ]
    }
   ],
   "source": [
    "%%time\n",
    "\n",
    "# This takes around 10-20s\n",
    "\n",
    "results = []\n",
    "\n",
    "for fn in filenames:\n",
    "    L = parse_file(fn)\n",
    "    for x in L:\n",
    "        out = process_item(x)\n",
    "        results.append(out)"
   ]
  },
  {
   "cell_type": "markdown",
   "metadata": {},
   "source": [
    "Start Dask Client\n",
    "-----------------\n",
    "\n",
    "We'll need a Dask client in order to manage dynamic workloads"
   ]
  },
  {
   "cell_type": "code",
   "execution_count": 4,
   "metadata": {
    "execution": {
     "iopub.execute_input": "2021-01-02T05:46:57.049673Z",
     "iopub.status.busy": "2021-01-02T05:46:57.040530Z",
     "iopub.status.idle": "2021-01-02T05:46:57.899135Z",
     "shell.execute_reply": "2021-01-02T05:46:57.899503Z"
    }
   },
   "outputs": [
    {
     "data": {
      "text/html": [
       "<table style=\"border: 2px solid white;\">\n",
       "<tr>\n",
       "<td style=\"vertical-align: top; border: 0px solid white\">\n",
       "<h3 style=\"text-align: left;\">Client</h3>\n",
       "<ul style=\"text-align: left; list-style: none; margin: 0; padding: 0;\">\n",
       "  <li><b>Scheduler: </b>inproc://10.1.0.4/7018/1</li>\n",
       "  <li><b>Dashboard: </b><a href='http://10.1.0.4:8787/status' target='_blank'>http://10.1.0.4:8787/status</a></li>\n",
       "</ul>\n",
       "</td>\n",
       "<td style=\"vertical-align: top; border: 0px solid white\">\n",
       "<h3 style=\"text-align: left;\">Cluster</h3>\n",
       "<ul style=\"text-align: left; list-style:none; margin: 0; padding: 0;\">\n",
       "  <li><b>Workers: </b>1</li>\n",
       "  <li><b>Cores: </b>6</li>\n",
       "  <li><b>Memory: </b>7.29 GB</li>\n",
       "</ul>\n",
       "</td>\n",
       "</tr>\n",
       "</table>"
      ],
      "text/plain": [
       "<Client: 'inproc://10.1.0.4/7018/1' processes=1 threads=6, memory=7.29 GB>"
      ]
     },
     "execution_count": 1,
     "metadata": {},
     "output_type": "execute_result"
    }
   ],
   "source": [
    "from dask.distributed import Client\n",
    "\n",
    "client = Client(processes=False, n_workers=1, threads_per_worker=6)\n",
    "client"
   ]
  },
  {
   "cell_type": "markdown",
   "metadata": {},
   "source": [
    "1: Use as_completed\n",
    "-------------------\n",
    "\n",
    "The [as_completed](https://docs.dask.org/en/latest/futures.html#distributed.as_completed) iterator lets us handle futures as they complete.  We can then submit more data on the fly.\n",
    "\n",
    "-   We submit a task for each of our filenames\n",
    "-   We also compute the length of each of the returned lists\n",
    "-   As those lengths return, we submit off a new task to get each item of that list.  We do this at higher priority, so that we process existing data before we collect new data.\n",
    "-   We wait on all of the returned results"
   ]
  },
  {
   "cell_type": "code",
   "execution_count": 5,
   "metadata": {
    "execution": {
     "iopub.execute_input": "2021-01-02T05:46:57.905553Z",
     "iopub.status.busy": "2021-01-02T05:46:57.905086Z",
     "iopub.status.idle": "2021-01-02T05:46:59.920894Z",
     "shell.execute_reply": "2021-01-02T05:46:59.920459Z"
    }
   },
   "outputs": [
    {
     "name": "stdout",
     "output_type": "stream",
     "text": [
      "CPU times: user 248 ms, sys: 34.8 ms, total: 283 ms\n",
      "Wall time: 2.01 s\n"
     ]
    },
    {
     "data": {
      "text/plain": [
       "[1.8208955640915734,\n",
       " 1.2774044031921639,\n",
       " 1.1782996695004608,\n",
       " 1.9488238827285094,\n",
       " 1.3117964948675842,\n",
       " 1.785864645383052,\n",
       " 1.4168895104615196,\n",
       " 1.3724268580141823,\n",
       " 1.3316937314933157,\n",
       " 1.499129097074494,\n",
       " 1.4688076536044714,\n",
       " 1.2652528147972495,\n",
       " 1.5012648221402722,\n",
       " 1.0170792205551833,\n",
       " 1.8731860122624142,\n",
       " 1.1134749422247796,\n",
       " 1.0586093208100151,\n",
       " 1.0780676786154162,\n",
       " 1.088969420538125,\n",
       " 1.6198885510146626,\n",
       " 1.0277514838838329,\n",
       " 1.6575184216721746,\n",
       " 1.8485908749238615,\n",
       " 1.792388837770353,\n",
       " 1.2612650709298496,\n",
       " 1.5877843321177934,\n",
       " 1.3711264074184033,\n",
       " 1.2422127825240883,\n",
       " 1.6441872273105806,\n",
       " 1.7135974156892138,\n",
       " 1.0166255993056534,\n",
       " 1.6018167425620198,\n",
       " 1.9550250548041141,\n",
       " 1.774127754034728,\n",
       " 1.0371721115452899,\n",
       " 1.5195295037453618,\n",
       " 1.1575350449783939,\n",
       " 1.4305078881865034,\n",
       " 1.6188343464147745,\n",
       " 1.258143868240872,\n",
       " 1.597328831858845,\n",
       " 1.8459018026255114,\n",
       " 1.0852534664549875,\n",
       " 1.436232260825897,\n",
       " 1.8269548564981708,\n",
       " 1.2328397033243128,\n",
       " 1.1463589642472025,\n",
       " 1.7994177095023547]"
      ]
     },
     "execution_count": 1,
     "metadata": {},
     "output_type": "execute_result"
    }
   ],
   "source": [
    "%%time\n",
    "\n",
    "from dask.distributed import as_completed\n",
    "import operator\n",
    "\n",
    "lists = client.map(parse_file, filenames, pure=False)\n",
    "lengths = client.map(len, lists)\n",
    "\n",
    "mapping = dict(zip(lengths, lists))\n",
    "\n",
    "futures = []\n",
    "\n",
    "for future in as_completed(lengths):\n",
    "    n = future.result()\n",
    "    L = mapping[future]\n",
    "    for i in range(n):\n",
    "        new = client.submit(operator.getitem, L, i, priority=1)\n",
    "        new = client.submit(process_item, new, priority=1)\n",
    "        futures.append(new)\n",
    "        \n",
    "client.gather(futures)"
   ]
  },
  {
   "cell_type": "markdown",
   "metadata": {},
   "source": [
    "2: Use async/await to handle single file processing locally\n",
    "-----------------------------------------------------------\n",
    "\n",
    "We can also handle the concurrency here within our local process.  This requires you to understand async/await syntax, but is generally powerful and arguably simpler than the `as_completed` approach above."
   ]
  },
  {
   "cell_type": "code",
   "execution_count": 6,
   "metadata": {
    "execution": {
     "iopub.execute_input": "2021-01-02T05:46:59.926056Z",
     "iopub.status.busy": "2021-01-02T05:46:59.925660Z",
     "iopub.status.idle": "2021-01-02T05:46:59.928638Z",
     "shell.execute_reply": "2021-01-02T05:46:59.928203Z"
    }
   },
   "outputs": [],
   "source": [
    "import asyncio\n",
    "\n",
    "async def f(fn):\n",
    "    \"\"\" Handle the lifecycle of a single file \"\"\"\n",
    "    future = client.submit(parse_file, fn, pure=False)\n",
    "    length_future = client.submit(len, future)\n",
    "    length = await length_future\n",
    "    \n",
    "    futures = [client.submit(operator.getitem, future, i, priority=10) \n",
    "               for i in range(length)]\n",
    "    futures = client.map(process_item, futures, priority=10)\n",
    "    return futures\n",
    "\n",
    "async def run_all(filenames):\n",
    "    list_of_list_of_futures = await asyncio.gather(*[f(fn) for fn in filenames])\n",
    "    futures = sum(list_of_list_of_futures, [])\n",
    "    return await client.gather(futures)\n"
   ]
  },
  {
   "cell_type": "markdown",
   "metadata": {},
   "source": [
    "We now need to run this function in the same event loop as our client is running.  If we had started our client asynchronously, then we could have done this:\n",
    "\n",
    "```python\n",
    "client = await Client(asynchronous=True)\n",
    "\n",
    "await run_all(filenames)\n",
    "```\n",
    "\n",
    "However, because we started our client without the `asynchronous=True` flag the event loop is actually running in a separate thread, so we'll have to ask the client to run this for us."
   ]
  },
  {
   "cell_type": "code",
   "execution_count": 7,
   "metadata": {
    "execution": {
     "iopub.execute_input": "2021-01-02T05:46:59.931701Z",
     "iopub.status.busy": "2021-01-02T05:46:59.931105Z",
     "iopub.status.idle": "2021-01-02T05:47:01.923847Z",
     "shell.execute_reply": "2021-01-02T05:47:01.924274Z"
    }
   },
   "outputs": [
    {
     "data": {
      "text/plain": [
       "[1.8858395637391525,\n",
       " 1.9425523515001508,\n",
       " 1.0191632386255687,\n",
       " 1.0434375669565896,\n",
       " 1.2839357256598887,\n",
       " 1.5799858388941026,\n",
       " 1.709645748836167,\n",
       " 1.3324893811468106,\n",
       " 1.1250520706461606,\n",
       " 1.07983196013894,\n",
       " 1.4620796493377584,\n",
       " 1.7474382009136327,\n",
       " 1.1525236511094137,\n",
       " 1.4613515090119562,\n",
       " 1.9356466740883977,\n",
       " 1.612041445874815,\n",
       " 1.7412233050673378,\n",
       " 1.3631851759167644,\n",
       " 1.1461161054184084,\n",
       " 1.2184663276036622,\n",
       " 1.8537283624026748,\n",
       " 1.1068278113563181,\n",
       " 1.8860233547691592,\n",
       " 1.0595353790126394,\n",
       " 1.1690477756367215,\n",
       " 1.2701516166770428,\n",
       " 1.9280712803661835,\n",
       " 1.0118937747289283,\n",
       " 1.8815123210015376,\n",
       " 1.1946173441544288,\n",
       " 1.3212916158672119,\n",
       " 1.5043753685432675,\n",
       " 1.5837336979809593,\n",
       " 1.9116177209176444,\n",
       " 1.892641574906739,\n",
       " 1.3134814029472666,\n",
       " 1.2962967853714333,\n",
       " 1.1566627884163092,\n",
       " 1.7379559363525932,\n",
       " 1.1485829039792737,\n",
       " 1.6145663090114144,\n",
       " 1.4137033756914645,\n",
       " 1.059241960565101,\n",
       " 1.8668281456643254,\n",
       " 1.5961260665028758,\n",
       " 1.9625208740132456,\n",
       " 1.25981400229751,\n",
       " 1.9037972928832512,\n",
       " 1.5159462467829163,\n",
       " 1.5241739088335797,\n",
       " 1.577316983308081,\n",
       " 1.4247980063422312,\n",
       " 1.2031398538982734,\n",
       " 1.3786737398856457,\n",
       " 1.0467625988736067,\n",
       " 1.5577363045558732,\n",
       " 1.0494314059264203]"
      ]
     },
     "execution_count": 1,
     "metadata": {},
     "output_type": "execute_result"
    }
   ],
   "source": [
    "client.sync(run_all, filenames)"
   ]
  },
  {
   "cell_type": "markdown",
   "metadata": {},
   "source": [
    "3: Submit tasks from tasks\n",
    "--------------------------\n",
    "\n",
    "We can also submit tasks that themselves submit more tasks.  See [documentation here](https://docs.dask.org/en/latest/futures.html#submit-tasks-from-tasks)."
   ]
  },
  {
   "cell_type": "code",
   "execution_count": 8,
   "metadata": {
    "execution": {
     "iopub.execute_input": "2021-01-02T05:47:01.929112Z",
     "iopub.status.busy": "2021-01-02T05:47:01.928661Z",
     "iopub.status.idle": "2021-01-02T05:47:04.597583Z",
     "shell.execute_reply": "2021-01-02T05:47:04.596833Z"
    }
   },
   "outputs": [
    {
     "name": "stdout",
     "output_type": "stream",
     "text": [
      "CPU times: user 229 ms, sys: 31.5 ms, total: 261 ms\n",
      "Wall time: 2.66 s\n"
     ]
    }
   ],
   "source": [
    "%%time\n",
    "\n",
    "from dask.distributed import get_client, secede, rejoin\n",
    "\n",
    "def f(fn):\n",
    "    L = parse_file(fn)\n",
    "    client = get_client()\n",
    "    \n",
    "    futures = client.map(process_item, L, priority=10)\n",
    "    secede()\n",
    "    results = client.gather(futures)\n",
    "    rejoin()\n",
    "    return results\n",
    "\n",
    "futures = client.map(f, filenames, pure=False)\n",
    "results = client.gather(futures)"
   ]
  }
 ],
 "metadata": {
  "kernelspec": {
   "display_name": "Python 3",
   "language": "python",
   "name": "python3"
  },
  "language_info": {
   "codemirror_mode": {
    "name": "ipython",
    "version": 3
   },
   "file_extension": ".py",
   "mimetype": "text/x-python",
   "name": "python",
   "nbconvert_exporter": "python",
   "pygments_lexer": "ipython3",
   "version": "3.8.6"
  }
 },
 "nbformat": 4,
 "nbformat_minor": 4
}
