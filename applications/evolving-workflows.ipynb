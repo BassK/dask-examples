{
 "cells": [
  {
   "cell_type": "markdown",
   "metadata": {},
   "source": [
    "Handle Evolving Workflows\n",
    "=========================\n",
    "\n",
    "For some workflows we don't know the extent of the computation at the outset.  We need to do some computation in order to figure out the rest of the computation that we need to do.  The computation grows and evolves as we do more work.\n",
    "\n",
    "As an example, consider a situation where you need to read many files and then based on the contents of those files, fire off additional work.  You would like to read the files in parallel, and then within each file expose more parallelism.\n",
    "\n",
    "This example goes through three ways to handle this situation using [Dask Futures](https://docs.dask.org/en/latest/futures.html)\n",
    "\n",
    "1.  Using `as_completed`\n",
    "2.  Using `async/await`\n",
    "3.  Launching tasks from tasks\n",
    "\n",
    "But first, lets run our code sequentially."
   ]
  },
  {
   "cell_type": "markdown",
   "metadata": {},
   "source": [
    "0: Sequential code\n",
    "------------------"
   ]
  },
  {
   "cell_type": "code",
   "execution_count": 1,
   "metadata": {},
   "outputs": [
    {
     "data": {
      "text/plain": [
       "['file.0.txt', 'file.1.txt', 'file.2.txt']"
      ]
     },
     "execution_count": 1,
     "metadata": {},
     "output_type": "execute_result"
    }
   ],
   "source": [
    "filenames = [\"file.{}.txt\".format(i) for i in range(10)]\n",
    "\n",
    "filenames[:3]"
   ]
  },
  {
   "cell_type": "code",
   "execution_count": 2,
   "metadata": {},
   "outputs": [],
   "source": [
    "import random, time\n",
    "\n",
    "\n",
    "def parse_file(fn: str) -> list:\n",
    "    \"\"\" Returns a list work items of unknown length \"\"\"\n",
    "    time.sleep(random.random())\n",
    "    return [random.random() for _ in range(random.randint(1, 10))]\n",
    "\n",
    "def process_item(x: float):\n",
    "    \"\"\" Process each work item \"\"\"\n",
    "    time.sleep(random.random() / 4)\n",
    "    return x + 1"
   ]
  },
  {
   "cell_type": "code",
   "execution_count": 3,
   "metadata": {},
   "outputs": [
    {
     "name": "stdout",
     "output_type": "stream",
     "text": [
      "CPU times: user 4.46 ms, sys: 530 µs, total: 4.99 ms\n",
      "Wall time: 10.8 s\n"
     ]
    }
   ],
   "source": [
    "%%time\n",
    "\n",
    "# This takes around 10-20s\n",
    "\n",
    "results = []\n",
    "\n",
    "for fn in filenames:\n",
    "    L = parse_file(fn)\n",
    "    for x in L:\n",
    "        out = process_item(x)\n",
    "        results.append(out)"
   ]
  },
  {
   "cell_type": "markdown",
   "metadata": {},
   "source": [
    "Start Dask Client\n",
    "-----------------\n",
    "\n",
    "We'll need a Dask client in order to manage dynamic workloads"
   ]
  },
  {
   "cell_type": "code",
   "execution_count": 4,
   "metadata": {},
   "outputs": [
    {
     "data": {
      "text/html": [
       "<table style=\"border: 2px solid white;\">\n",
       "<tr>\n",
       "<td style=\"vertical-align: top; border: 0px solid white\">\n",
       "<h3 style=\"text-align: left;\">Client</h3>\n",
       "<ul style=\"text-align: left; list-style: none; margin: 0; padding: 0;\">\n",
       "  <li><b>Scheduler: </b>inproc://10.20.0.29/8459/1</li>\n",
       "  <li><b>Dashboard: </b><a href='http://10.20.0.29:8787/status' target='_blank'>http://10.20.0.29:8787/status</a></li>\n",
       "</ul>\n",
       "</td>\n",
       "<td style=\"vertical-align: top; border: 0px solid white\">\n",
       "<h3 style=\"text-align: left;\">Cluster</h3>\n",
       "<ul style=\"text-align: left; list-style:none; margin: 0; padding: 0;\">\n",
       "  <li><b>Workers: </b>1</li>\n",
       "  <li><b>Cores: </b>6</li>\n",
       "  <li><b>Memory: </b>8.36 GB</li>\n",
       "</ul>\n",
       "</td>\n",
       "</tr>\n",
       "</table>"
      ],
      "text/plain": [
       "<Client: 'inproc://10.20.0.29/8459/1' processes=1 threads=6, memory=8.36 GB>"
      ]
     },
     "execution_count": 4,
     "metadata": {},
     "output_type": "execute_result"
    }
   ],
   "source": [
    "from dask.distributed import Client\n",
    "\n",
    "client = Client(processes=False, n_workers=1, threads_per_worker=6)\n",
    "client"
   ]
  },
  {
   "cell_type": "markdown",
   "metadata": {},
   "source": [
    "1: Use as_completed\n",
    "-------------------\n",
    "\n",
    "The [as_completed](https://docs.dask.org/en/latest/futures.html#distributed.as_completed) iterator lets us handle futures as they complete.  We can then submit more data on the fly.\n",
    "\n",
    "-   We submit a task for each of our filenames\n",
    "-   We also compute the length of each of the returned lists\n",
    "-   As those lengths return, we submit off a new task to get each item of that list.  We do this at higher priority, so that we process existing data before we collect new data.\n",
    "-   We wait on all of the returned results"
   ]
  },
  {
   "cell_type": "code",
   "execution_count": 5,
   "metadata": {},
   "outputs": [
    {
     "name": "stdout",
     "output_type": "stream",
     "text": [
      "CPU times: user 260 ms, sys: 43.9 ms, total: 304 ms\n",
      "Wall time: 2.11 s\n"
     ]
    },
    {
     "data": {
      "text/plain": [
       "[1.5957567799127903,\n",
       " 1.1138728939370979,\n",
       " 1.3197511743106434,\n",
       " 1.9386160937919983,\n",
       " 1.862297132757028,\n",
       " 1.8676063504385934,\n",
       " 1.3222295024553676,\n",
       " 1.139046131734184,\n",
       " 1.9110127549651812,\n",
       " 1.7248877836360115,\n",
       " 1.3583129080686331,\n",
       " 1.7990775564993462,\n",
       " 1.9487157612720603,\n",
       " 1.6630374511882935,\n",
       " 1.14698917176224,\n",
       " 1.2825200079784245,\n",
       " 1.4141967876342358,\n",
       " 1.147885469254275,\n",
       " 1.2558973841961545,\n",
       " 1.6126179953504807,\n",
       " 1.0887397365910867,\n",
       " 1.2676392084067678,\n",
       " 1.4058367140008792,\n",
       " 1.788643953845072,\n",
       " 1.6273636727920369,\n",
       " 1.8818131996496084,\n",
       " 1.645805844605354,\n",
       " 1.4788395891598638,\n",
       " 1.2609243429010515,\n",
       " 1.511087619990825,\n",
       " 1.3934641804065193,\n",
       " 1.9530396316856509,\n",
       " 1.5094322833289735,\n",
       " 1.6174719684478172,\n",
       " 1.4428764432413557,\n",
       " 1.0090991463438685,\n",
       " 1.8210948164626468,\n",
       " 1.0767415995099565,\n",
       " 1.8145037060230118,\n",
       " 1.2068398407803347,\n",
       " 1.8895458255634912,\n",
       " 1.3705758732961901,\n",
       " 1.8779178341566483,\n",
       " 1.7980955350645276,\n",
       " 1.4118295964374237,\n",
       " 1.1132846026905496,\n",
       " 1.5794992816592992,\n",
       " 1.0533089235482698,\n",
       " 1.934535394364593,\n",
       " 1.7381868530907574,\n",
       " 1.3048031758412508,\n",
       " 1.4511396141436066,\n",
       " 1.8592233462272851,\n",
       " 1.4517193626159788,\n",
       " 1.073746836815224,\n",
       " 1.703034048436768,\n",
       " 1.913882889568637,\n",
       " 1.5801570481633522,\n",
       " 1.112708628635427,\n",
       " 1.4390349840614227,\n",
       " 1.7116363210810692,\n",
       " 1.344122871624003,\n",
       " 1.7895670985258572,\n",
       " 1.8284152919717411,\n",
       " 1.3919099707255904,\n",
       " 1.0473052856846474]"
      ]
     },
     "execution_count": 5,
     "metadata": {},
     "output_type": "execute_result"
    }
   ],
   "source": [
    "%%time\n",
    "\n",
    "from dask.distributed import as_completed\n",
    "import operator\n",
    "\n",
    "lists = client.map(parse_file, filenames, pure=False)\n",
    "lengths = client.map(len, lists)\n",
    "\n",
    "mapping = dict(zip(lengths, lists))\n",
    "\n",
    "futures = []\n",
    "\n",
    "for future in as_completed(lengths):\n",
    "    n = future.result()\n",
    "    L = mapping[future]\n",
    "    for i in range(n):\n",
    "        new = client.submit(operator.getitem, L, i, priority=1)\n",
    "        new = client.submit(process_item, new, priority=1)\n",
    "        futures.append(new)\n",
    "        \n",
    "client.gather(futures)"
   ]
  },
  {
   "cell_type": "markdown",
   "metadata": {},
   "source": [
    "2: Use async/await to handle single file processing locally\n",
    "-----------------------------------------------------------\n",
    "\n",
    "We can also handle the concurrency here within our local process.  This requires you to understand async/await syntax, but is generally powerful and arguably simpler than the `as_completed` approach above."
   ]
  },
  {
   "cell_type": "code",
   "execution_count": 6,
   "metadata": {},
   "outputs": [],
   "source": [
    "import asyncio\n",
    "\n",
    "async def f(fn):\n",
    "    \"\"\" Handle the lifecycle of a single file \"\"\"\n",
    "    future = client.submit(parse_file, fn, pure=False)\n",
    "    length_future = client.submit(len, future)\n",
    "    length = await length_future\n",
    "    \n",
    "    futures = [client.submit(operator.getitem, future, i, priority=10) \n",
    "               for i in range(length)]\n",
    "    futures = client.map(process_item, futures, priority=10)\n",
    "    return futures\n",
    "\n",
    "async def run_all(filenames):\n",
    "    list_of_list_of_futures = await asyncio.gather(*[f(fn) for fn in filenames])\n",
    "    futures = sum(list_of_list_of_futures, [])\n",
    "    return await client.gather(futures)\n"
   ]
  },
  {
   "cell_type": "markdown",
   "metadata": {},
   "source": [
    "We now need to run this function in the same event loop as our client is running.  If we had started our client asynchronously, then we could have done this:\n",
    "\n",
    "```python\n",
    "client = await Client(asynchronous=True)\n",
    "\n",
    "await run_all(filenames)\n",
    "```\n",
    "\n",
    "However, because we started our client without the `asynchronous=True` flag the event loop is actually running in a separate thread, so we'll have to ask the client to run this for us."
   ]
  },
  {
   "cell_type": "code",
   "execution_count": 7,
   "metadata": {},
   "outputs": [
    {
     "data": {
      "text/plain": [
       "[1.0500433097967368,\n",
       " 1.0455832815604387,\n",
       " 1.4525966386308176,\n",
       " 1.0415933908227721,\n",
       " 1.0431511144364378,\n",
       " 1.6649471052067766,\n",
       " 1.2853039575678369,\n",
       " 1.5616583297710935,\n",
       " 1.4983053731697478,\n",
       " 1.1841103777945472,\n",
       " 1.0665809073148254,\n",
       " 1.839731860110517,\n",
       " 1.5975509426413068,\n",
       " 1.8641906079088357,\n",
       " 1.6680157160153701,\n",
       " 1.8970450911165995,\n",
       " 1.5341973903073374,\n",
       " 1.8245975139775337,\n",
       " 1.3943146231663102,\n",
       " 1.2108215442421937,\n",
       " 1.5744240694182703,\n",
       " 1.4950299654101615,\n",
       " 1.5109993485525264,\n",
       " 1.658622272557293,\n",
       " 1.731027017740678,\n",
       " 1.3143986424549312,\n",
       " 1.2316253702067428,\n",
       " 1.2855287553422237,\n",
       " 1.0676290921569795,\n",
       " 1.4580243522765177,\n",
       " 1.333956776851343,\n",
       " 1.730541272013288,\n",
       " 1.8290327599211569,\n",
       " 1.4584097558697908,\n",
       " 1.7033382419664598,\n",
       " 1.749346051970304,\n",
       " 1.1683538042868056,\n",
       " 1.2870418096145775,\n",
       " 1.6395244812195946,\n",
       " 1.3940875492323643,\n",
       " 1.4642283906196614,\n",
       " 1.1155957003451544,\n",
       " 1.8303885945386997,\n",
       " 1.3704083817751025,\n",
       " 1.0229367762326926,\n",
       " 1.9197453494840242,\n",
       " 1.6734813430484994,\n",
       " 1.315941741048213,\n",
       " 1.9142285477044867,\n",
       " 1.7970843563844099]"
      ]
     },
     "execution_count": 7,
     "metadata": {},
     "output_type": "execute_result"
    }
   ],
   "source": [
    "client.sync(run_all, filenames)"
   ]
  },
  {
   "cell_type": "markdown",
   "metadata": {},
   "source": [
    "3: Submit tasks from tasks\n",
    "--------------------------\n",
    "\n",
    "We can also submit tasks that themselves submit more tasks.  See [documentation here](https://docs.dask.org/en/latest/futures.html#submit-tasks-from-tasks)."
   ]
  },
  {
   "cell_type": "code",
   "execution_count": 8,
   "metadata": {},
   "outputs": [
    {
     "name": "stdout",
     "output_type": "stream",
     "text": [
      "CPU times: user 178 ms, sys: 23.1 ms, total: 201 ms\n",
      "Wall time: 2.12 s\n"
     ]
    }
   ],
   "source": [
    "%%time\n",
    "\n",
    "from dask.distributed import get_client, secede, rejoin\n",
    "\n",
    "def f(fn):\n",
    "    L = parse_file(fn)\n",
    "    client = get_client()\n",
    "    \n",
    "    futures = client.map(process_item, L, priority=10)\n",
    "    secede()\n",
    "    results = client.gather(futures)\n",
    "    rejoin()\n",
    "    return results\n",
    "\n",
    "futures = client.map(f, filenames, pure=False)\n",
    "results = client.gather(futures)"
   ]
  }
 ],
 "metadata": {
  "kernelspec": {
   "display_name": "Python 3",
   "language": "python",
   "name": "python3"
  },
  "language_info": {
   "codemirror_mode": {
    "name": "ipython",
    "version": 3
   },
   "file_extension": ".py",
   "mimetype": "text/x-python",
   "name": "python",
   "nbconvert_exporter": "python",
   "pygments_lexer": "ipython3",
   "version": "3.8.5"
  }
 },
 "nbformat": 4,
 "nbformat_minor": 4
}
