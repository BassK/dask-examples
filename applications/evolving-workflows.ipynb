{
 "cells": [
  {
   "cell_type": "markdown",
   "metadata": {},
   "source": [
    "Handle Evolving Workflows\n",
    "=========================\n",
    "\n",
    "For some workflows we don't know the extent of the computation at the outset.  We need to do some computation in order to figure out the rest of the computation that we need to do.  The computation grows and evolves as we do more work.\n",
    "\n",
    "As an example, consider a situation where you need to read many files and then based on the contents of those files, fire off additional work.  You would like to read the files in parallel, and then within each file expose more parallelism.\n",
    "\n",
    "This example goes through three ways to handle this situation using [Dask Futures](https://docs.dask.org/en/latest/futures.html)\n",
    "\n",
    "1.  Using `as_completed`\n",
    "2.  Using `async/await`\n",
    "3.  Launching tasks from tasks\n",
    "\n",
    "But first, lets run our code sequentially."
   ]
  },
  {
   "cell_type": "markdown",
   "metadata": {},
   "source": [
    "0: Sequential code\n",
    "------------------"
   ]
  },
  {
   "cell_type": "code",
   "execution_count": 1,
   "metadata": {
    "execution": {
     "iopub.execute_input": "2021-01-23T03:35:42.775311Z",
     "iopub.status.busy": "2021-01-23T03:35:42.774772Z",
     "iopub.status.idle": "2021-01-23T03:35:42.779836Z",
     "shell.execute_reply": "2021-01-23T03:35:42.780370Z"
    }
   },
   "outputs": [
    {
     "data": {
      "text/plain": [
       "['file.0.txt', 'file.1.txt', 'file.2.txt']"
      ]
     },
     "execution_count": 1,
     "metadata": {},
     "output_type": "execute_result"
    }
   ],
   "source": [
    "filenames = [\"file.{}.txt\".format(i) for i in range(10)]\n",
    "\n",
    "filenames[:3]"
   ]
  },
  {
   "cell_type": "code",
   "execution_count": 2,
   "metadata": {
    "execution": {
     "iopub.execute_input": "2021-01-23T03:35:42.782554Z",
     "iopub.status.busy": "2021-01-23T03:35:42.782012Z",
     "iopub.status.idle": "2021-01-23T03:35:42.790016Z",
     "shell.execute_reply": "2021-01-23T03:35:42.790428Z"
    }
   },
   "outputs": [],
   "source": [
    "import random, time\n",
    "\n",
    "\n",
    "def parse_file(fn: str) -> list:\n",
    "    \"\"\" Returns a list work items of unknown length \"\"\"\n",
    "    time.sleep(random.random())\n",
    "    return [random.random() for _ in range(random.randint(1, 10))]\n",
    "\n",
    "def process_item(x: float):\n",
    "    \"\"\" Process each work item \"\"\"\n",
    "    time.sleep(random.random() / 4)\n",
    "    return x + 1"
   ]
  },
  {
   "cell_type": "code",
   "execution_count": 3,
   "metadata": {
    "execution": {
     "iopub.execute_input": "2021-01-23T03:35:42.795518Z",
     "iopub.status.busy": "2021-01-23T03:35:42.795105Z",
     "iopub.status.idle": "2021-01-23T03:35:55.418579Z",
     "shell.execute_reply": "2021-01-23T03:35:55.418186Z"
    }
   },
   "outputs": [
    {
     "name": "stdout",
     "output_type": "stream",
     "text": [
      "CPU times: user 4.9 ms, sys: 461 µs, total: 5.36 ms\n",
      "Wall time: 12.6 s\n"
     ]
    }
   ],
   "source": [
    "%%time\n",
    "\n",
    "# This takes around 10-20s\n",
    "\n",
    "results = []\n",
    "\n",
    "for fn in filenames:\n",
    "    L = parse_file(fn)\n",
    "    for x in L:\n",
    "        out = process_item(x)\n",
    "        results.append(out)"
   ]
  },
  {
   "cell_type": "markdown",
   "metadata": {},
   "source": [
    "Start Dask Client\n",
    "-----------------\n",
    "\n",
    "We'll need a Dask client in order to manage dynamic workloads"
   ]
  },
  {
   "cell_type": "code",
   "execution_count": 4,
   "metadata": {
    "execution": {
     "iopub.execute_input": "2021-01-23T03:35:55.423222Z",
     "iopub.status.busy": "2021-01-23T03:35:55.422819Z",
     "iopub.status.idle": "2021-01-23T03:35:57.668082Z",
     "shell.execute_reply": "2021-01-23T03:35:57.667695Z"
    }
   },
   "outputs": [
    {
     "data": {
      "text/html": [
       "<table style=\"border: 2px solid white;\">\n",
       "<tr>\n",
       "<td style=\"vertical-align: top; border: 0px solid white\">\n",
       "<h3 style=\"text-align: left;\">Client</h3>\n",
       "<ul style=\"text-align: left; list-style: none; margin: 0; padding: 0;\">\n",
       "  <li><b>Scheduler: </b>inproc://10.1.0.4/7666/1</li>\n",
       "  <li><b>Dashboard: </b><a href='http://10.1.0.4:8787/status' target='_blank'>http://10.1.0.4:8787/status</a></li>\n",
       "</ul>\n",
       "</td>\n",
       "<td style=\"vertical-align: top; border: 0px solid white\">\n",
       "<h3 style=\"text-align: left;\">Cluster</h3>\n",
       "<ul style=\"text-align: left; list-style:none; margin: 0; padding: 0;\">\n",
       "  <li><b>Workers: </b>1</li>\n",
       "  <li><b>Cores: </b>6</li>\n",
       "  <li><b>Memory: </b>7.29 GB</li>\n",
       "</ul>\n",
       "</td>\n",
       "</tr>\n",
       "</table>"
      ],
      "text/plain": [
       "<Client: 'inproc://10.1.0.4/7666/1' processes=1 threads=6, memory=7.29 GB>"
      ]
     },
     "execution_count": 4,
     "metadata": {},
     "output_type": "execute_result"
    }
   ],
   "source": [
    "from dask.distributed import Client\n",
    "\n",
    "client = Client(processes=False, n_workers=1, threads_per_worker=6)\n",
    "client"
   ]
  },
  {
   "cell_type": "markdown",
   "metadata": {},
   "source": [
    "1: Use as_completed\n",
    "-------------------\n",
    "\n",
    "The [as_completed](https://docs.dask.org/en/latest/futures.html#distributed.as_completed) iterator lets us handle futures as they complete.  We can then submit more data on the fly.\n",
    "\n",
    "-   We submit a task for each of our filenames\n",
    "-   We also compute the length of each of the returned lists\n",
    "-   As those lengths return, we submit off a new task to get each item of that list.  We do this at higher priority, so that we process existing data before we collect new data.\n",
    "-   We wait on all of the returned results"
   ]
  },
  {
   "cell_type": "code",
   "execution_count": 5,
   "metadata": {
    "execution": {
     "iopub.execute_input": "2021-01-23T03:35:57.670441Z",
     "iopub.status.busy": "2021-01-23T03:35:57.670031Z",
     "iopub.status.idle": "2021-01-23T03:35:59.795137Z",
     "shell.execute_reply": "2021-01-23T03:35:59.794746Z"
    }
   },
   "outputs": [
    {
     "name": "stdout",
     "output_type": "stream",
     "text": [
      "CPU times: user 198 ms, sys: 23.2 ms, total: 222 ms\n",
      "Wall time: 2.12 s\n"
     ]
    },
    {
     "data": {
      "text/plain": [
       "[1.6979271673359064,\n",
       " 1.3317870865436285,\n",
       " 1.6677055819794762,\n",
       " 1.6757303630371825,\n",
       " 1.716576812433599,\n",
       " 1.3723149428332597,\n",
       " 1.2488599004634433,\n",
       " 1.4360404794319326,\n",
       " 1.5746572716091134,\n",
       " 1.2570439414417733,\n",
       " 1.9172551218314022,\n",
       " 1.169041124854716,\n",
       " 1.6613990521961628,\n",
       " 1.2212167590639993,\n",
       " 1.1054943719818917,\n",
       " 1.4943000426362345,\n",
       " 1.202364872717716,\n",
       " 1.425727478799446,\n",
       " 1.9458718380635198,\n",
       " 1.4947994896362111,\n",
       " 1.8871483762871764,\n",
       " 1.8488089352465775,\n",
       " 1.3613345896241589,\n",
       " 1.6362056669447642,\n",
       " 1.2799743574899707,\n",
       " 1.3921313406598879,\n",
       " 1.971954843810035,\n",
       " 1.347781935331887,\n",
       " 1.5699335925505715,\n",
       " 1.1561278919460287,\n",
       " 1.418183912032289,\n",
       " 1.1806707343464917,\n",
       " 1.8693734197954948,\n",
       " 1.1714321317373226,\n",
       " 1.790238325974097,\n",
       " 1.5277921158627872,\n",
       " 1.2520455980533365,\n",
       " 1.660303351755522,\n",
       " 1.774557089342736,\n",
       " 1.9683038581687922,\n",
       " 1.1864343155568813,\n",
       " 1.0358760088675525,\n",
       " 1.9038305538854297,\n",
       " 1.9695836582232,\n",
       " 1.1679605592484306,\n",
       " 1.5705533783588836,\n",
       " 1.0179146685930314,\n",
       " 1.0851168151646062,\n",
       " 1.7479793883481471,\n",
       " 1.1062983317740045,\n",
       " 1.0234563362528686,\n",
       " 1.576594503506548,\n",
       " 1.6521405124802726,\n",
       " 1.1185496474835337,\n",
       " 1.7490277255636828,\n",
       " 1.8334457976529155]"
      ]
     },
     "execution_count": 5,
     "metadata": {},
     "output_type": "execute_result"
    }
   ],
   "source": [
    "%%time\n",
    "\n",
    "from dask.distributed import as_completed\n",
    "import operator\n",
    "\n",
    "lists = client.map(parse_file, filenames, pure=False)\n",
    "lengths = client.map(len, lists)\n",
    "\n",
    "mapping = dict(zip(lengths, lists))\n",
    "\n",
    "futures = []\n",
    "\n",
    "for future in as_completed(lengths):\n",
    "    n = future.result()\n",
    "    L = mapping[future]\n",
    "    for i in range(n):\n",
    "        new = client.submit(operator.getitem, L, i, priority=1)\n",
    "        new = client.submit(process_item, new, priority=1)\n",
    "        futures.append(new)\n",
    "        \n",
    "client.gather(futures)"
   ]
  },
  {
   "cell_type": "markdown",
   "metadata": {},
   "source": [
    "2: Use async/await to handle single file processing locally\n",
    "-----------------------------------------------------------\n",
    "\n",
    "We can also handle the concurrency here within our local process.  This requires you to understand async/await syntax, but is generally powerful and arguably simpler than the `as_completed` approach above."
   ]
  },
  {
   "cell_type": "code",
   "execution_count": 6,
   "metadata": {
    "execution": {
     "iopub.execute_input": "2021-01-23T03:35:59.799749Z",
     "iopub.status.busy": "2021-01-23T03:35:59.799339Z",
     "iopub.status.idle": "2021-01-23T03:35:59.807037Z",
     "shell.execute_reply": "2021-01-23T03:35:59.807432Z"
    }
   },
   "outputs": [],
   "source": [
    "import asyncio\n",
    "\n",
    "async def f(fn):\n",
    "    \"\"\" Handle the lifecycle of a single file \"\"\"\n",
    "    future = client.submit(parse_file, fn, pure=False)\n",
    "    length_future = client.submit(len, future)\n",
    "    length = await length_future\n",
    "    \n",
    "    futures = [client.submit(operator.getitem, future, i, priority=10) \n",
    "               for i in range(length)]\n",
    "    futures = client.map(process_item, futures, priority=10)\n",
    "    return futures\n",
    "\n",
    "async def run_all(filenames):\n",
    "    list_of_list_of_futures = await asyncio.gather(*[f(fn) for fn in filenames])\n",
    "    futures = sum(list_of_list_of_futures, [])\n",
    "    return await client.gather(futures)\n"
   ]
  },
  {
   "cell_type": "markdown",
   "metadata": {},
   "source": [
    "We now need to run this function in the same event loop as our client is running.  If we had started our client asynchronously, then we could have done this:\n",
    "\n",
    "```python\n",
    "client = await Client(asynchronous=True)\n",
    "\n",
    "await run_all(filenames)\n",
    "```\n",
    "\n",
    "However, because we started our client without the `asynchronous=True` flag the event loop is actually running in a separate thread, so we'll have to ask the client to run this for us."
   ]
  },
  {
   "cell_type": "code",
   "execution_count": 7,
   "metadata": {
    "execution": {
     "iopub.execute_input": "2021-01-23T03:35:59.809230Z",
     "iopub.status.busy": "2021-01-23T03:35:59.808838Z",
     "iopub.status.idle": "2021-01-23T03:36:01.614304Z",
     "shell.execute_reply": "2021-01-23T03:36:01.613920Z"
    }
   },
   "outputs": [
    {
     "data": {
      "text/plain": [
       "[1.5797389134960214,\n",
       " 1.572313505710278,\n",
       " 1.729529145970993,\n",
       " 1.1662837009285307,\n",
       " 1.0069174053728835,\n",
       " 1.3853689528911177,\n",
       " 1.0792440865008848,\n",
       " 1.236956221467684,\n",
       " 1.5081469267839513,\n",
       " 1.6115374323490412,\n",
       " 1.8748130698276069,\n",
       " 1.56220808370121,\n",
       " 1.5067362260521833,\n",
       " 1.5736092231527508,\n",
       " 1.3058811430042752,\n",
       " 1.0202588974028806,\n",
       " 1.6425359454961725,\n",
       " 1.8497339132961284,\n",
       " 1.7765280662136564,\n",
       " 1.4639796297165577,\n",
       " 1.7715138525019287,\n",
       " 1.6539154170382844,\n",
       " 1.5075682066456895,\n",
       " 1.2822330182861537,\n",
       " 1.8916673219871798,\n",
       " 1.7844893284364152,\n",
       " 1.5119763278435419,\n",
       " 1.2159859076295796,\n",
       " 1.7180795441122247,\n",
       " 1.8864415966651409,\n",
       " 1.7064570135339245,\n",
       " 1.0452508243060663,\n",
       " 1.2149705704377944,\n",
       " 1.9373064004635092,\n",
       " 1.9561484570698584,\n",
       " 1.754518303603903,\n",
       " 1.4175601334118149,\n",
       " 1.8709179478225997,\n",
       " 1.2999861178867829,\n",
       " 1.5752207706053603,\n",
       " 1.7078207848807803,\n",
       " 1.7005876930025876,\n",
       " 1.5872132305027749,\n",
       " 1.91573898586278,\n",
       " 1.8032767506873904,\n",
       " 1.673244224160645,\n",
       " 1.7753729653039483,\n",
       " 1.3286220547883263,\n",
       " 1.3462435813106368,\n",
       " 1.6804904540058296,\n",
       " 1.9256787424417174,\n",
       " 1.7992557727086496,\n",
       " 1.5839367442571597,\n",
       " 1.3627765080996954]"
      ]
     },
     "execution_count": 7,
     "metadata": {},
     "output_type": "execute_result"
    }
   ],
   "source": [
    "client.sync(run_all, filenames)"
   ]
  },
  {
   "cell_type": "markdown",
   "metadata": {},
   "source": [
    "3: Submit tasks from tasks\n",
    "--------------------------\n",
    "\n",
    "We can also submit tasks that themselves submit more tasks.  See [documentation here](https://docs.dask.org/en/latest/futures.html#submit-tasks-from-tasks)."
   ]
  },
  {
   "cell_type": "code",
   "execution_count": 8,
   "metadata": {
    "execution": {
     "iopub.execute_input": "2021-01-23T03:36:01.618931Z",
     "iopub.status.busy": "2021-01-23T03:36:01.618514Z",
     "iopub.status.idle": "2021-01-23T03:36:04.484110Z",
     "shell.execute_reply": "2021-01-23T03:36:04.483701Z"
    }
   },
   "outputs": [
    {
     "name": "stdout",
     "output_type": "stream",
     "text": [
      "CPU times: user 232 ms, sys: 7.38 ms, total: 239 ms\n",
      "Wall time: 2.86 s\n"
     ]
    }
   ],
   "source": [
    "%%time\n",
    "\n",
    "from dask.distributed import get_client, secede, rejoin\n",
    "\n",
    "def f(fn):\n",
    "    L = parse_file(fn)\n",
    "    client = get_client()\n",
    "    \n",
    "    futures = client.map(process_item, L, priority=10)\n",
    "    secede()\n",
    "    results = client.gather(futures)\n",
    "    rejoin()\n",
    "    return results\n",
    "\n",
    "futures = client.map(f, filenames, pure=False)\n",
    "results = client.gather(futures)"
   ]
  }
 ],
 "metadata": {
  "kernelspec": {
   "display_name": "Python 3",
   "language": "python",
   "name": "python3"
  },
  "language_info": {
   "codemirror_mode": {
    "name": "ipython",
    "version": 3
   },
   "file_extension": ".py",
   "mimetype": "text/x-python",
   "name": "python",
   "nbconvert_exporter": "python",
   "pygments_lexer": "ipython3",
   "version": "3.8.6"
  }
 },
 "nbformat": 4,
 "nbformat_minor": 4
}
