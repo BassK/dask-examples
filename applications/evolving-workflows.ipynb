{
 "cells": [
  {
   "cell_type": "markdown",
   "metadata": {},
   "source": [
    "Handle Evolving Workflows\n",
    "=========================\n",
    "\n",
    "For some workflows we don't know the extent of the computation at the outset.  We need to do some computation in order to figure out the rest of the computation that we need to do.  The computation grows and evolves as we do more work.\n",
    "\n",
    "As an example, consider a situation where you need to read many files and then based on the contents of those files, fire off additional work.  You would like to read the files in parallel, and then within each file expose more parallelism.\n",
    "\n",
    "This example goes through three ways to handle this situation using [Dask Futures](https://docs.dask.org/en/latest/futures.html)\n",
    "\n",
    "1.  Using `as_completed`\n",
    "2.  Using `async/await`\n",
    "3.  Launching tasks from tasks\n",
    "\n",
    "But first, lets run our code sequentially."
   ]
  },
  {
   "cell_type": "markdown",
   "metadata": {},
   "source": [
    "0: Sequential code\n",
    "------------------"
   ]
  },
  {
   "cell_type": "code",
   "execution_count": 1,
   "metadata": {
    "execution": {
     "iopub.execute_input": "2020-11-17T14:54:17.988431Z",
     "iopub.status.busy": "2020-11-17T14:54:17.987852Z",
     "iopub.status.idle": "2020-11-17T14:54:17.998226Z",
     "shell.execute_reply": "2020-11-17T14:54:17.998710Z"
    }
   },
   "outputs": [
    {
     "data": {
      "text/plain": [
       "['file.0.txt', 'file.1.txt', 'file.2.txt']"
      ]
     },
     "execution_count": 1,
     "metadata": {},
     "output_type": "execute_result"
    }
   ],
   "source": [
    "filenames = [\"file.{}.txt\".format(i) for i in range(10)]\n",
    "\n",
    "filenames[:3]"
   ]
  },
  {
   "cell_type": "code",
   "execution_count": 2,
   "metadata": {
    "execution": {
     "iopub.execute_input": "2020-11-17T14:54:18.005710Z",
     "iopub.status.busy": "2020-11-17T14:54:18.004202Z",
     "iopub.status.idle": "2020-11-17T14:54:18.006277Z",
     "shell.execute_reply": "2020-11-17T14:54:18.006843Z"
    }
   },
   "outputs": [],
   "source": [
    "import random, time\n",
    "\n",
    "\n",
    "def parse_file(fn: str) -> list:\n",
    "    \"\"\" Returns a list work items of unknown length \"\"\"\n",
    "    time.sleep(random.random())\n",
    "    return [random.random() for _ in range(random.randint(1, 10))]\n",
    "\n",
    "def process_item(x: float):\n",
    "    \"\"\" Process each work item \"\"\"\n",
    "    time.sleep(random.random() / 4)\n",
    "    return x + 1"
   ]
  },
  {
   "cell_type": "code",
   "execution_count": 3,
   "metadata": {
    "execution": {
     "iopub.execute_input": "2020-11-17T14:54:18.011297Z",
     "iopub.status.busy": "2020-11-17T14:54:18.010692Z",
     "iopub.status.idle": "2020-11-17T14:54:29.485520Z",
     "shell.execute_reply": "2020-11-17T14:54:29.485988Z"
    }
   },
   "outputs": [
    {
     "name": "stdout",
     "output_type": "stream",
     "text": [
      "CPU times: user 6.95 ms, sys: 344 µs, total: 7.29 ms\n",
      "Wall time: 11.5 s\n"
     ]
    }
   ],
   "source": [
    "%%time\n",
    "\n",
    "# This takes around 10-20s\n",
    "\n",
    "results = []\n",
    "\n",
    "for fn in filenames:\n",
    "    L = parse_file(fn)\n",
    "    for x in L:\n",
    "        out = process_item(x)\n",
    "        results.append(out)"
   ]
  },
  {
   "cell_type": "markdown",
   "metadata": {},
   "source": [
    "Start Dask Client\n",
    "-----------------\n",
    "\n",
    "We'll need a Dask client in order to manage dynamic workloads"
   ]
  },
  {
   "cell_type": "code",
   "execution_count": 4,
   "metadata": {
    "execution": {
     "iopub.execute_input": "2020-11-17T14:54:29.490352Z",
     "iopub.status.busy": "2020-11-17T14:54:29.488665Z",
     "iopub.status.idle": "2020-11-17T14:54:30.522719Z",
     "shell.execute_reply": "2020-11-17T14:54:30.523555Z"
    }
   },
   "outputs": [
    {
     "data": {
      "text/html": [
       "<table style=\"border: 2px solid white;\">\n",
       "<tr>\n",
       "<td style=\"vertical-align: top; border: 0px solid white\">\n",
       "<h3 style=\"text-align: left;\">Client</h3>\n",
       "<ul style=\"text-align: left; list-style: none; margin: 0; padding: 0;\">\n",
       "  <li><b>Scheduler: </b>inproc://10.1.0.4/6938/1</li>\n",
       "  <li><b>Dashboard: </b><a href='http://10.1.0.4:8787/status' target='_blank'>http://10.1.0.4:8787/status</a></li>\n",
       "</ul>\n",
       "</td>\n",
       "<td style=\"vertical-align: top; border: 0px solid white\">\n",
       "<h3 style=\"text-align: left;\">Cluster</h3>\n",
       "<ul style=\"text-align: left; list-style:none; margin: 0; padding: 0;\">\n",
       "  <li><b>Workers: </b>1</li>\n",
       "  <li><b>Cores: </b>6</li>\n",
       "  <li><b>Memory: </b>7.29 GB</li>\n",
       "</ul>\n",
       "</td>\n",
       "</tr>\n",
       "</table>"
      ],
      "text/plain": [
       "<Client: 'inproc://10.1.0.4/6938/1' processes=1 threads=6, memory=7.29 GB>"
      ]
     },
     "execution_count": 1,
     "metadata": {},
     "output_type": "execute_result"
    }
   ],
   "source": [
    "from dask.distributed import Client\n",
    "\n",
    "client = Client(processes=False, n_workers=1, threads_per_worker=6)\n",
    "client"
   ]
  },
  {
   "cell_type": "markdown",
   "metadata": {},
   "source": [
    "1: Use as_completed\n",
    "-------------------\n",
    "\n",
    "The [as_completed](https://docs.dask.org/en/latest/futures.html#distributed.as_completed) iterator lets us handle futures as they complete.  We can then submit more data on the fly.\n",
    "\n",
    "-   We submit a task for each of our filenames\n",
    "-   We also compute the length of each of the returned lists\n",
    "-   As those lengths return, we submit off a new task to get each item of that list.  We do this at higher priority, so that we process existing data before we collect new data.\n",
    "-   We wait on all of the returned results"
   ]
  },
  {
   "cell_type": "code",
   "execution_count": 5,
   "metadata": {
    "execution": {
     "iopub.execute_input": "2020-11-17T14:54:30.532352Z",
     "iopub.status.busy": "2020-11-17T14:54:30.531570Z",
     "iopub.status.idle": "2020-11-17T14:54:32.770526Z",
     "shell.execute_reply": "2020-11-17T14:54:32.769563Z"
    }
   },
   "outputs": [
    {
     "name": "stdout",
     "output_type": "stream",
     "text": [
      "CPU times: user 261 ms, sys: 34.8 ms, total: 296 ms\n",
      "Wall time: 2.23 s\n"
     ]
    },
    {
     "data": {
      "text/plain": [
       "[1.372607780797988,\n",
       " 1.030681105966792,\n",
       " 1.6540620215695712,\n",
       " 1.2175141599316892,\n",
       " 1.9942287817171152,\n",
       " 1.6836515444987232,\n",
       " 1.9791573938184435,\n",
       " 1.0050377827807642,\n",
       " 1.0617325696060782,\n",
       " 1.6068733235916421,\n",
       " 1.4964064363694964,\n",
       " 1.2804550571983753,\n",
       " 1.3485774712477179,\n",
       " 1.533843793948546,\n",
       " 1.1294485122820435,\n",
       " 1.5359639908709881,\n",
       " 1.742854668375849,\n",
       " 1.6319723325386306,\n",
       " 1.9384224065674063,\n",
       " 1.4299092043033008,\n",
       " 1.125053456777521,\n",
       " 1.9410548915213082,\n",
       " 1.6277306496164987,\n",
       " 1.5992637289214144,\n",
       " 1.2817784432339843,\n",
       " 1.6494006606957117,\n",
       " 1.4219802586583878,\n",
       " 1.6250279738342246,\n",
       " 1.6352358869945776,\n",
       " 1.5191281974379218,\n",
       " 1.4033624173522345,\n",
       " 1.3854736314827494,\n",
       " 1.1473575766209794,\n",
       " 1.7684906462363865,\n",
       " 1.4852997040144014,\n",
       " 1.7881834440931255,\n",
       " 1.555495861494375,\n",
       " 1.1261319567306236,\n",
       " 1.1393461690319606,\n",
       " 1.3761336925778633,\n",
       " 1.6217377703076759,\n",
       " 1.729938614731991,\n",
       " 1.0838848451879213,\n",
       " 1.737956550022896,\n",
       " 1.4502705893400964,\n",
       " 1.2995124651458916]"
      ]
     },
     "execution_count": 1,
     "metadata": {},
     "output_type": "execute_result"
    }
   ],
   "source": [
    "%%time\n",
    "\n",
    "from dask.distributed import as_completed\n",
    "import operator\n",
    "\n",
    "lists = client.map(parse_file, filenames, pure=False)\n",
    "lengths = client.map(len, lists)\n",
    "\n",
    "mapping = dict(zip(lengths, lists))\n",
    "\n",
    "futures = []\n",
    "\n",
    "for future in as_completed(lengths):\n",
    "    n = future.result()\n",
    "    L = mapping[future]\n",
    "    for i in range(n):\n",
    "        new = client.submit(operator.getitem, L, i, priority=1)\n",
    "        new = client.submit(process_item, new, priority=1)\n",
    "        futures.append(new)\n",
    "        \n",
    "client.gather(futures)"
   ]
  },
  {
   "cell_type": "markdown",
   "metadata": {},
   "source": [
    "2: Use async/await to handle single file processing locally\n",
    "-----------------------------------------------------------\n",
    "\n",
    "We can also handle the concurrency here within our local process.  This requires you to understand async/await syntax, but is generally powerful and arguably simpler than the `as_completed` approach above."
   ]
  },
  {
   "cell_type": "code",
   "execution_count": 6,
   "metadata": {
    "execution": {
     "iopub.execute_input": "2020-11-17T14:54:32.776752Z",
     "iopub.status.busy": "2020-11-17T14:54:32.776183Z",
     "iopub.status.idle": "2020-11-17T14:54:32.779953Z",
     "shell.execute_reply": "2020-11-17T14:54:32.780560Z"
    }
   },
   "outputs": [],
   "source": [
    "import asyncio\n",
    "\n",
    "async def f(fn):\n",
    "    \"\"\" Handle the lifecycle of a single file \"\"\"\n",
    "    future = client.submit(parse_file, fn, pure=False)\n",
    "    length_future = client.submit(len, future)\n",
    "    length = await length_future\n",
    "    \n",
    "    futures = [client.submit(operator.getitem, future, i, priority=10) \n",
    "               for i in range(length)]\n",
    "    futures = client.map(process_item, futures, priority=10)\n",
    "    return futures\n",
    "\n",
    "async def run_all(filenames):\n",
    "    list_of_list_of_futures = await asyncio.gather(*[f(fn) for fn in filenames])\n",
    "    futures = sum(list_of_list_of_futures, [])\n",
    "    return await client.gather(futures)\n"
   ]
  },
  {
   "cell_type": "markdown",
   "metadata": {},
   "source": [
    "We now need to run this function in the same event loop as our client is running.  If we had started our client asynchronously, then we could have done this:\n",
    "\n",
    "```python\n",
    "client = await Client(asynchronous=True)\n",
    "\n",
    "await run_all(filenames)\n",
    "```\n",
    "\n",
    "However, because we started our client without the `asynchronous=True` flag the event loop is actually running in a separate thread, so we'll have to ask the client to run this for us."
   ]
  },
  {
   "cell_type": "code",
   "execution_count": 7,
   "metadata": {
    "execution": {
     "iopub.execute_input": "2020-11-17T14:54:32.786862Z",
     "iopub.status.busy": "2020-11-17T14:54:32.786135Z",
     "iopub.status.idle": "2020-11-17T14:54:35.298227Z",
     "shell.execute_reply": "2020-11-17T14:54:35.297689Z"
    }
   },
   "outputs": [
    {
     "data": {
      "text/plain": [
       "[1.6475583669778846,\n",
       " 1.769770970617118,\n",
       " 1.1340021246808991,\n",
       " 1.1864395210828929,\n",
       " 1.6444528709731046,\n",
       " 1.528857600018179,\n",
       " 1.2576590217209853,\n",
       " 1.2817515535530972,\n",
       " 1.189286186314415,\n",
       " 1.2711641710547603,\n",
       " 1.4546061554732441,\n",
       " 1.6895611039602687,\n",
       " 1.4595488941171912,\n",
       " 1.9006835446860642,\n",
       " 1.3453222541239849,\n",
       " 1.270363297143236,\n",
       " 1.173978759499455,\n",
       " 1.127732862468152,\n",
       " 1.4575150555573075,\n",
       " 1.9997471535117932,\n",
       " 1.1381318308249777,\n",
       " 1.3706227141160197,\n",
       " 1.3304374299301567,\n",
       " 1.2423784532034907,\n",
       " 1.3727362397591147,\n",
       " 1.6302808113819593,\n",
       " 1.0687188435270525,\n",
       " 1.6818473679349888,\n",
       " 1.506925021095038,\n",
       " 1.609691325110815,\n",
       " 1.0021484011306625,\n",
       " 1.5439762629778633,\n",
       " 1.745564407314593,\n",
       " 1.2431062712391936,\n",
       " 1.4252858947466438,\n",
       " 1.6551558583379116,\n",
       " 1.8286177437562117,\n",
       " 1.8452707105228299,\n",
       " 1.200137409781724,\n",
       " 1.4763525039943406,\n",
       " 1.0813668205205698,\n",
       " 1.7275268599576041,\n",
       " 1.1222479789234143,\n",
       " 1.9139982094538865,\n",
       " 1.9227377943614794,\n",
       " 1.1956206291410507,\n",
       " 1.9401696248895468,\n",
       " 1.074884832190405,\n",
       " 1.9779346077018283,\n",
       " 1.5156233760149682,\n",
       " 1.7455772730819046,\n",
       " 1.4306562594662975]"
      ]
     },
     "execution_count": 1,
     "metadata": {},
     "output_type": "execute_result"
    }
   ],
   "source": [
    "client.sync(run_all, filenames)"
   ]
  },
  {
   "cell_type": "markdown",
   "metadata": {},
   "source": [
    "3: Submit tasks from tasks\n",
    "--------------------------\n",
    "\n",
    "We can also submit tasks that themselves submit more tasks.  See [documentation here](https://docs.dask.org/en/latest/futures.html#submit-tasks-from-tasks)."
   ]
  },
  {
   "cell_type": "code",
   "execution_count": 8,
   "metadata": {
    "execution": {
     "iopub.execute_input": "2020-11-17T14:54:35.307876Z",
     "iopub.status.busy": "2020-11-17T14:54:35.300682Z",
     "iopub.status.idle": "2020-11-17T14:54:37.609939Z",
     "shell.execute_reply": "2020-11-17T14:54:37.609417Z"
    }
   },
   "outputs": [
    {
     "name": "stdout",
     "output_type": "stream",
     "text": [
      "CPU times: user 202 ms, sys: 33.2 ms, total: 235 ms\n",
      "Wall time: 2.3 s\n"
     ]
    }
   ],
   "source": [
    "%%time\n",
    "\n",
    "from dask.distributed import get_client, secede, rejoin\n",
    "\n",
    "def f(fn):\n",
    "    L = parse_file(fn)\n",
    "    client = get_client()\n",
    "    \n",
    "    futures = client.map(process_item, L, priority=10)\n",
    "    secede()\n",
    "    results = client.gather(futures)\n",
    "    rejoin()\n",
    "    return results\n",
    "\n",
    "futures = client.map(f, filenames, pure=False)\n",
    "results = client.gather(futures)"
   ]
  }
 ],
 "metadata": {
  "kernelspec": {
   "display_name": "Python 3",
   "language": "python",
   "name": "python3"
  },
  "language_info": {
   "codemirror_mode": {
    "name": "ipython",
    "version": 3
   },
   "file_extension": ".py",
   "mimetype": "text/x-python",
   "name": "python",
   "nbconvert_exporter": "python",
   "pygments_lexer": "ipython3",
   "version": "3.8.6"
  }
 },
 "nbformat": 4,
 "nbformat_minor": 4
}
