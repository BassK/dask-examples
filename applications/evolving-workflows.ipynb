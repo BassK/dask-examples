{
 "cells": [
  {
   "cell_type": "markdown",
   "metadata": {},
   "source": [
    "Handle Evolving Workflows\n",
    "=========================\n",
    "\n",
    "For some workflows we don't know the extent of the computation at the outset.  We need to do some computation in order to figure out the rest of the computation that we need to do.  The computation grows and evolves as we do more work.\n",
    "\n",
    "As an example, consider a situation where you need to read many files and then based on the contents of those files, fire off additional work.  You would like to read the files in parallel, and then within each file expose more parallelism.\n",
    "\n",
    "This example goes through three ways to handle this situation using [Dask Futures](https://docs.dask.org/en/latest/futures.html)\n",
    "\n",
    "1.  Using `as_completed`\n",
    "2.  Using `async/await`\n",
    "3.  Launching tasks from tasks\n",
    "\n",
    "But first, lets run our code sequentially."
   ]
  },
  {
   "cell_type": "markdown",
   "metadata": {},
   "source": [
    "0: Sequential code\n",
    "------------------"
   ]
  },
  {
   "cell_type": "code",
   "execution_count": 1,
   "metadata": {
    "execution": {
     "iopub.execute_input": "2021-01-29T22:06:24.556979Z",
     "iopub.status.busy": "2021-01-29T22:06:24.556354Z",
     "iopub.status.idle": "2021-01-29T22:06:24.573930Z",
     "shell.execute_reply": "2021-01-29T22:06:24.574326Z"
    }
   },
   "outputs": [
    {
     "data": {
      "text/plain": [
       "['file.0.txt', 'file.1.txt', 'file.2.txt']"
      ]
     },
     "execution_count": 1,
     "metadata": {},
     "output_type": "execute_result"
    }
   ],
   "source": [
    "filenames = [\"file.{}.txt\".format(i) for i in range(10)]\n",
    "\n",
    "filenames[:3]"
   ]
  },
  {
   "cell_type": "code",
   "execution_count": 2,
   "metadata": {
    "execution": {
     "iopub.execute_input": "2021-01-29T22:06:24.576916Z",
     "iopub.status.busy": "2021-01-29T22:06:24.576303Z",
     "iopub.status.idle": "2021-01-29T22:06:24.583915Z",
     "shell.execute_reply": "2021-01-29T22:06:24.584484Z"
    }
   },
   "outputs": [],
   "source": [
    "import random, time\n",
    "\n",
    "\n",
    "def parse_file(fn: str) -> list:\n",
    "    \"\"\" Returns a list work items of unknown length \"\"\"\n",
    "    time.sleep(random.random())\n",
    "    return [random.random() for _ in range(random.randint(1, 10))]\n",
    "\n",
    "def process_item(x: float):\n",
    "    \"\"\" Process each work item \"\"\"\n",
    "    time.sleep(random.random() / 4)\n",
    "    return x + 1"
   ]
  },
  {
   "cell_type": "code",
   "execution_count": 3,
   "metadata": {
    "execution": {
     "iopub.execute_input": "2021-01-29T22:06:24.587877Z",
     "iopub.status.busy": "2021-01-29T22:06:24.587193Z",
     "iopub.status.idle": "2021-01-29T22:06:37.535262Z",
     "shell.execute_reply": "2021-01-29T22:06:37.534587Z"
    }
   },
   "outputs": [
    {
     "name": "stdout",
     "output_type": "stream",
     "text": [
      "CPU times: user 3.86 ms, sys: 563 µs, total: 4.42 ms\n",
      "Wall time: 12.9 s\n"
     ]
    }
   ],
   "source": [
    "%%time\n",
    "\n",
    "# This takes around 10-20s\n",
    "\n",
    "results = []\n",
    "\n",
    "for fn in filenames:\n",
    "    L = parse_file(fn)\n",
    "    for x in L:\n",
    "        out = process_item(x)\n",
    "        results.append(out)"
   ]
  },
  {
   "cell_type": "markdown",
   "metadata": {},
   "source": [
    "Start Dask Client\n",
    "-----------------\n",
    "\n",
    "We'll need a Dask client in order to manage dynamic workloads"
   ]
  },
  {
   "cell_type": "code",
   "execution_count": 4,
   "metadata": {
    "execution": {
     "iopub.execute_input": "2021-01-29T22:06:37.539754Z",
     "iopub.status.busy": "2021-01-29T22:06:37.539253Z",
     "iopub.status.idle": "2021-01-29T22:06:40.080370Z",
     "shell.execute_reply": "2021-01-29T22:06:40.079892Z"
    }
   },
   "outputs": [
    {
     "data": {
      "text/html": [
       "<table style=\"border: 2px solid white;\">\n",
       "<tr>\n",
       "<td style=\"vertical-align: top; border: 0px solid white\">\n",
       "<h3 style=\"text-align: left;\">Client</h3>\n",
       "<ul style=\"text-align: left; list-style: none; margin: 0; padding: 0;\">\n",
       "  <li><b>Scheduler: </b>inproc://10.1.0.4/7455/1</li>\n",
       "  <li><b>Dashboard: </b><a href='http://10.1.0.4:8787/status' target='_blank'>http://10.1.0.4:8787/status</a></li>\n",
       "</ul>\n",
       "</td>\n",
       "<td style=\"vertical-align: top; border: 0px solid white\">\n",
       "<h3 style=\"text-align: left;\">Cluster</h3>\n",
       "<ul style=\"text-align: left; list-style:none; margin: 0; padding: 0;\">\n",
       "  <li><b>Workers: </b>1</li>\n",
       "  <li><b>Cores: </b>6</li>\n",
       "  <li><b>Memory: </b>7.29 GB</li>\n",
       "</ul>\n",
       "</td>\n",
       "</tr>\n",
       "</table>"
      ],
      "text/plain": [
       "<Client: 'inproc://10.1.0.4/7455/1' processes=1 threads=6, memory=7.29 GB>"
      ]
     },
     "execution_count": 4,
     "metadata": {},
     "output_type": "execute_result"
    }
   ],
   "source": [
    "from dask.distributed import Client\n",
    "\n",
    "client = Client(processes=False, n_workers=1, threads_per_worker=6)\n",
    "client"
   ]
  },
  {
   "cell_type": "markdown",
   "metadata": {},
   "source": [
    "1: Use as_completed\n",
    "-------------------\n",
    "\n",
    "The [as_completed](https://docs.dask.org/en/latest/futures.html#distributed.as_completed) iterator lets us handle futures as they complete.  We can then submit more data on the fly.\n",
    "\n",
    "-   We submit a task for each of our filenames\n",
    "-   We also compute the length of each of the returned lists\n",
    "-   As those lengths return, we submit off a new task to get each item of that list.  We do this at higher priority, so that we process existing data before we collect new data.\n",
    "-   We wait on all of the returned results"
   ]
  },
  {
   "cell_type": "code",
   "execution_count": 5,
   "metadata": {
    "execution": {
     "iopub.execute_input": "2021-01-29T22:06:40.085422Z",
     "iopub.status.busy": "2021-01-29T22:06:40.084935Z",
     "iopub.status.idle": "2021-01-29T22:06:41.918682Z",
     "shell.execute_reply": "2021-01-29T22:06:41.918087Z"
    }
   },
   "outputs": [
    {
     "name": "stdout",
     "output_type": "stream",
     "text": [
      "CPU times: user 211 ms, sys: 2.11 ms, total: 213 ms\n",
      "Wall time: 1.83 s\n"
     ]
    },
    {
     "data": {
      "text/plain": [
       "[1.7933077020435082,\n",
       " 1.8089798136803643,\n",
       " 1.848088017108008,\n",
       " 1.2239674097087225,\n",
       " 1.0868082270427575,\n",
       " 1.6412189836147357,\n",
       " 1.2901174632481,\n",
       " 1.0278335045391547,\n",
       " 1.3082981931341273,\n",
       " 1.934408159375384,\n",
       " 1.6831074661594898,\n",
       " 1.4585931720659442,\n",
       " 1.2031503171698819,\n",
       " 1.2434295014765797,\n",
       " 1.5123729496447083,\n",
       " 1.8002337591563888,\n",
       " 1.7020215007751989,\n",
       " 1.9965960924693973,\n",
       " 1.4128252313592375,\n",
       " 1.5807415198551973,\n",
       " 1.5631942524401214,\n",
       " 1.5362980571044722,\n",
       " 1.565354602519641,\n",
       " 1.4678080085608693,\n",
       " 1.926311560564486,\n",
       " 1.1120157857887225,\n",
       " 1.8860811531995478,\n",
       " 1.2942735581774916,\n",
       " 1.1152113679457547,\n",
       " 1.6431322466646665,\n",
       " 1.0786460214267555,\n",
       " 1.9320397571277748,\n",
       " 1.3216208145772756,\n",
       " 1.0912227905211211,\n",
       " 1.3893335420279478,\n",
       " 1.8548868430141483,\n",
       " 1.656940713045493,\n",
       " 1.5120580026460946,\n",
       " 1.3690620143580137,\n",
       " 1.0591747917545686,\n",
       " 1.7419159346203248,\n",
       " 1.2037063819856608]"
      ]
     },
     "execution_count": 5,
     "metadata": {},
     "output_type": "execute_result"
    }
   ],
   "source": [
    "%%time\n",
    "\n",
    "from dask.distributed import as_completed\n",
    "import operator\n",
    "\n",
    "lists = client.map(parse_file, filenames, pure=False)\n",
    "lengths = client.map(len, lists)\n",
    "\n",
    "mapping = dict(zip(lengths, lists))\n",
    "\n",
    "futures = []\n",
    "\n",
    "for future in as_completed(lengths):\n",
    "    n = future.result()\n",
    "    L = mapping[future]\n",
    "    for i in range(n):\n",
    "        new = client.submit(operator.getitem, L, i, priority=1)\n",
    "        new = client.submit(process_item, new, priority=1)\n",
    "        futures.append(new)\n",
    "        \n",
    "client.gather(futures)"
   ]
  },
  {
   "cell_type": "markdown",
   "metadata": {},
   "source": [
    "2: Use async/await to handle single file processing locally\n",
    "-----------------------------------------------------------\n",
    "\n",
    "We can also handle the concurrency here within our local process.  This requires you to understand async/await syntax, but is generally powerful and arguably simpler than the `as_completed` approach above."
   ]
  },
  {
   "cell_type": "code",
   "execution_count": 6,
   "metadata": {
    "execution": {
     "iopub.execute_input": "2021-01-29T22:06:41.924302Z",
     "iopub.status.busy": "2021-01-29T22:06:41.923817Z",
     "iopub.status.idle": "2021-01-29T22:06:41.926957Z",
     "shell.execute_reply": "2021-01-29T22:06:41.927434Z"
    }
   },
   "outputs": [],
   "source": [
    "import asyncio\n",
    "\n",
    "async def f(fn):\n",
    "    \"\"\" Handle the lifecycle of a single file \"\"\"\n",
    "    future = client.submit(parse_file, fn, pure=False)\n",
    "    length_future = client.submit(len, future)\n",
    "    length = await length_future\n",
    "    \n",
    "    futures = [client.submit(operator.getitem, future, i, priority=10) \n",
    "               for i in range(length)]\n",
    "    futures = client.map(process_item, futures, priority=10)\n",
    "    return futures\n",
    "\n",
    "async def run_all(filenames):\n",
    "    list_of_list_of_futures = await asyncio.gather(*[f(fn) for fn in filenames])\n",
    "    futures = sum(list_of_list_of_futures, [])\n",
    "    return await client.gather(futures)\n"
   ]
  },
  {
   "cell_type": "markdown",
   "metadata": {},
   "source": [
    "We now need to run this function in the same event loop as our client is running.  If we had started our client asynchronously, then we could have done this:\n",
    "\n",
    "```python\n",
    "client = await Client(asynchronous=True)\n",
    "\n",
    "await run_all(filenames)\n",
    "```\n",
    "\n",
    "However, because we started our client without the `asynchronous=True` flag the event loop is actually running in a separate thread, so we'll have to ask the client to run this for us."
   ]
  },
  {
   "cell_type": "code",
   "execution_count": 7,
   "metadata": {
    "execution": {
     "iopub.execute_input": "2021-01-29T22:06:41.929508Z",
     "iopub.status.busy": "2021-01-29T22:06:41.929051Z",
     "iopub.status.idle": "2021-01-29T22:06:44.126846Z",
     "shell.execute_reply": "2021-01-29T22:06:44.126413Z"
    }
   },
   "outputs": [
    {
     "data": {
      "text/plain": [
       "[1.5619205697581018,\n",
       " 1.6238706568683139,\n",
       " 1.76674575055971,\n",
       " 1.7850484891082403,\n",
       " 1.8885212544055472,\n",
       " 1.9380935073899481,\n",
       " 1.3996858259259755,\n",
       " 1.0878280991450553,\n",
       " 1.439174333437816,\n",
       " 1.8708863815446444,\n",
       " 1.2510840644531702,\n",
       " 1.490719410996884,\n",
       " 1.8077315148702247,\n",
       " 1.3674478268577768,\n",
       " 1.9187517421249032,\n",
       " 1.3386315627601073,\n",
       " 1.9672705781700472,\n",
       " 1.2689445605166252,\n",
       " 1.8335780900300294,\n",
       " 1.8392097996752925,\n",
       " 1.3047312100907296,\n",
       " 1.2154993395714624,\n",
       " 1.7671425125956781,\n",
       " 1.147144316285813,\n",
       " 1.6530944885280414,\n",
       " 1.9240616225995306,\n",
       " 1.826079964527184,\n",
       " 1.9603630547319881,\n",
       " 1.3691211483841612,\n",
       " 1.6308404418820093,\n",
       " 1.894506093675203,\n",
       " 1.1544183389251204,\n",
       " 1.2394099918144934,\n",
       " 1.461758233844785,\n",
       " 1.810542075356682,\n",
       " 1.001920266675211,\n",
       " 1.1893667293121237,\n",
       " 1.0365895017584168,\n",
       " 1.9624380934040708,\n",
       " 1.7990312982700198,\n",
       " 1.7976483864399664,\n",
       " 1.6710831081084359,\n",
       " 1.732064162852522,\n",
       " 1.708744622971671,\n",
       " 1.6300732385771948,\n",
       " 1.736436925758387,\n",
       " 1.5638065750237096,\n",
       " 1.3346540969228138,\n",
       " 1.8045560643662522,\n",
       " 1.755680902159075,\n",
       " 1.7542506334293415,\n",
       " 1.1922772081558275,\n",
       " 1.0265097339859017,\n",
       " 1.0020245426301275,\n",
       " 1.1269149968146677,\n",
       " 1.4331740462861022,\n",
       " 1.2922828235798587,\n",
       " 1.5743712285986686,\n",
       " 1.4071720743311085,\n",
       " 1.1724962714886074,\n",
       " 1.9050559385245682,\n",
       " 1.6969669477247984,\n",
       " 1.6985613213591,\n",
       " 1.7035618459179172,\n",
       " 1.3493087966565032,\n",
       " 1.446263447420462]"
      ]
     },
     "execution_count": 7,
     "metadata": {},
     "output_type": "execute_result"
    }
   ],
   "source": [
    "client.sync(run_all, filenames)"
   ]
  },
  {
   "cell_type": "markdown",
   "metadata": {},
   "source": [
    "3: Submit tasks from tasks\n",
    "--------------------------\n",
    "\n",
    "We can also submit tasks that themselves submit more tasks.  See [documentation here](https://docs.dask.org/en/latest/futures.html#submit-tasks-from-tasks)."
   ]
  },
  {
   "cell_type": "code",
   "execution_count": 8,
   "metadata": {
    "execution": {
     "iopub.execute_input": "2021-01-29T22:06:44.132456Z",
     "iopub.status.busy": "2021-01-29T22:06:44.128814Z",
     "iopub.status.idle": "2021-01-29T22:06:46.305784Z",
     "shell.execute_reply": "2021-01-29T22:06:46.305365Z"
    }
   },
   "outputs": [
    {
     "name": "stdout",
     "output_type": "stream",
     "text": [
      "CPU times: user 194 ms, sys: 23.6 ms, total: 218 ms\n",
      "Wall time: 2.17 s\n"
     ]
    }
   ],
   "source": [
    "%%time\n",
    "\n",
    "from dask.distributed import get_client, secede, rejoin\n",
    "\n",
    "def f(fn):\n",
    "    L = parse_file(fn)\n",
    "    client = get_client()\n",
    "    \n",
    "    futures = client.map(process_item, L, priority=10)\n",
    "    secede()\n",
    "    results = client.gather(futures)\n",
    "    rejoin()\n",
    "    return results\n",
    "\n",
    "futures = client.map(f, filenames, pure=False)\n",
    "results = client.gather(futures)"
   ]
  }
 ],
 "metadata": {
  "kernelspec": {
   "display_name": "Python 3",
   "language": "python",
   "name": "python3"
  },
  "language_info": {
   "codemirror_mode": {
    "name": "ipython",
    "version": 3
   },
   "file_extension": ".py",
   "mimetype": "text/x-python",
   "name": "python",
   "nbconvert_exporter": "python",
   "pygments_lexer": "ipython3",
   "version": "3.8.6"
  }
 },
 "nbformat": 4,
 "nbformat_minor": 4
}
