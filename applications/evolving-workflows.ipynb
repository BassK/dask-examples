{
 "cells": [
  {
   "cell_type": "markdown",
   "metadata": {},
   "source": [
    "Handle Evolving Workflows\n",
    "=========================\n",
    "\n",
    "For some workflows we don't know the extent of the computation at the outset.  We need to do some computation in order to figure out the rest of the computation that we need to do.  The computation grows and evolves as we do more work.\n",
    "\n",
    "As an example, consider a situation where you need to read many files and then based on the contents of those files, fire off additional work.  You would like to read the files in parallel, and then within each file expose more parallelism.\n",
    "\n",
    "This example goes through three ways to handle this situation using [Dask Futures](https://docs.dask.org/en/latest/futures.html)\n",
    "\n",
    "1.  Using `as_completed`\n",
    "2.  Using `async/await`\n",
    "3.  Launching tasks from tasks\n",
    "\n",
    "But first, lets run our code sequentially."
   ]
  },
  {
   "cell_type": "markdown",
   "metadata": {},
   "source": [
    "0: Sequential code\n",
    "------------------"
   ]
  },
  {
   "cell_type": "code",
   "execution_count": 1,
   "metadata": {},
   "outputs": [
    {
     "data": {
      "text/plain": [
       "['file.0.txt', 'file.1.txt', 'file.2.txt']"
      ]
     },
     "execution_count": 1,
     "metadata": {},
     "output_type": "execute_result"
    }
   ],
   "source": [
    "filenames = [\"file.{}.txt\".format(i) for i in range(10)]\n",
    "\n",
    "filenames[:3]"
   ]
  },
  {
   "cell_type": "code",
   "execution_count": 2,
   "metadata": {},
   "outputs": [],
   "source": [
    "import random, time\n",
    "\n",
    "\n",
    "def parse_file(fn: str) -> list:\n",
    "    \"\"\" Returns a list work items of unknown length \"\"\"\n",
    "    time.sleep(random.random())\n",
    "    return [random.random() for _ in range(random.randint(1, 10))]\n",
    "\n",
    "def process_item(x: float):\n",
    "    \"\"\" Process each work item \"\"\"\n",
    "    time.sleep(random.random() / 4)\n",
    "    return x + 1"
   ]
  },
  {
   "cell_type": "code",
   "execution_count": 3,
   "metadata": {},
   "outputs": [
    {
     "name": "stdout",
     "output_type": "stream",
     "text": [
      "CPU times: user 1.69 ms, sys: 3.72 ms, total: 5.42 ms\n",
      "Wall time: 11.5 s\n"
     ]
    }
   ],
   "source": [
    "%%time\n",
    "\n",
    "# This takes around 10-20s\n",
    "\n",
    "results = []\n",
    "\n",
    "for fn in filenames:\n",
    "    L = parse_file(fn)\n",
    "    for x in L:\n",
    "        out = process_item(x)\n",
    "        results.append(out)"
   ]
  },
  {
   "cell_type": "markdown",
   "metadata": {},
   "source": [
    "Start Dask Client\n",
    "-----------------\n",
    "\n",
    "We'll need a Dask client in order to manage dynamic workloads"
   ]
  },
  {
   "cell_type": "code",
   "execution_count": 4,
   "metadata": {},
   "outputs": [
    {
     "data": {
      "text/html": [
       "<table style=\"border: 2px solid white;\">\n",
       "<tr>\n",
       "<td style=\"vertical-align: top; border: 0px solid white\">\n",
       "<h3 style=\"text-align: left;\">Client</h3>\n",
       "<ul style=\"text-align: left; list-style: none; margin: 0; padding: 0;\">\n",
       "  <li><b>Scheduler: </b>inproc://10.20.1.11/10375/1</li>\n",
       "  <li><b>Dashboard: </b><a href='http://10.20.1.11:8787/status' target='_blank'>http://10.20.1.11:8787/status</a></li>\n",
       "</ul>\n",
       "</td>\n",
       "<td style=\"vertical-align: top; border: 0px solid white\">\n",
       "<h3 style=\"text-align: left;\">Cluster</h3>\n",
       "<ul style=\"text-align: left; list-style:none; margin: 0; padding: 0;\">\n",
       "  <li><b>Workers: </b>1</li>\n",
       "  <li><b>Cores: </b>6</li>\n",
       "  <li><b>Memory: </b>8.36 GB</li>\n",
       "</ul>\n",
       "</td>\n",
       "</tr>\n",
       "</table>"
      ],
      "text/plain": [
       "<Client: 'inproc://10.20.1.11/10375/1' processes=1 threads=6, memory=8.36 GB>"
      ]
     },
     "execution_count": 4,
     "metadata": {},
     "output_type": "execute_result"
    }
   ],
   "source": [
    "from dask.distributed import Client\n",
    "\n",
    "client = Client(processes=False, n_workers=1, threads_per_worker=6)\n",
    "client"
   ]
  },
  {
   "cell_type": "markdown",
   "metadata": {},
   "source": [
    "1: Use as_completed\n",
    "-------------------\n",
    "\n",
    "The [as_completed](https://docs.dask.org/en/latest/futures.html#distributed.as_completed) iterator lets us handle futures as they complete.  We can then submit more data on the fly.\n",
    "\n",
    "-   We submit a task for each of our filenames\n",
    "-   We also compute the length of each of the returned lists\n",
    "-   As those lengths return, we submit off a new task to get each item of that list.  We do this at higher priority, so that we process existing data before we collect new data.\n",
    "-   We wait on all of the returned results"
   ]
  },
  {
   "cell_type": "code",
   "execution_count": 5,
   "metadata": {},
   "outputs": [
    {
     "name": "stdout",
     "output_type": "stream",
     "text": [
      "CPU times: user 375 ms, sys: 48.1 ms, total: 423 ms\n",
      "Wall time: 2.25 s\n"
     ]
    },
    {
     "data": {
      "text/plain": [
       "[1.8895608430915793,\n",
       " 1.8718964930591095,\n",
       " 1.2513834585680021,\n",
       " 1.0986928964697869,\n",
       " 1.3356704959236771,\n",
       " 1.9847062857006674,\n",
       " 1.9982877193839825,\n",
       " 1.724792745499932,\n",
       " 1.7300893506458976,\n",
       " 1.2522497012980298,\n",
       " 1.5124646890076563,\n",
       " 1.9175521867544263,\n",
       " 1.6617999681784306,\n",
       " 1.8619568622843512,\n",
       " 1.6394913246097584,\n",
       " 1.1616159560043464,\n",
       " 1.7266266639819356,\n",
       " 1.211288738866802,\n",
       " 1.6545743879044765,\n",
       " 1.562768833290203,\n",
       " 1.3064048009528568,\n",
       " 1.714736845340097,\n",
       " 1.597916865727565,\n",
       " 1.3684865649808562,\n",
       " 1.6881809255040894,\n",
       " 1.668917964221046,\n",
       " 1.7941051328279138,\n",
       " 1.8346007049843176,\n",
       " 1.4302759847677606,\n",
       " 1.7651787013198552,\n",
       " 1.8731135247302713,\n",
       " 1.7577118768586575,\n",
       " 1.7563994404944936,\n",
       " 1.7689301071139194,\n",
       " 1.422650622441037,\n",
       " 1.9046521138584562,\n",
       " 1.524307177353505,\n",
       " 1.5444295562558625,\n",
       " 1.469783211756034,\n",
       " 1.1993238161151776,\n",
       " 1.229286433522797,\n",
       " 1.8797939812818916,\n",
       " 1.1470502155678992,\n",
       " 1.5522155102007016,\n",
       " 1.8903059189354374,\n",
       " 1.4938439244330854,\n",
       " 1.960851002779081,\n",
       " 1.4738400400901486,\n",
       " 1.8573184411288421,\n",
       " 1.1929592996770177,\n",
       " 1.4057334830310602,\n",
       " 1.4077236582140855,\n",
       " 1.3284951081802938,\n",
       " 1.5820243383483006,\n",
       " 1.7046804528024784,\n",
       " 1.6502421892154508,\n",
       " 1.215875953581918,\n",
       " 1.2727219082121115,\n",
       " 1.3361498654158095,\n",
       " 1.2463932819315824,\n",
       " 1.263499376347355]"
      ]
     },
     "execution_count": 5,
     "metadata": {},
     "output_type": "execute_result"
    }
   ],
   "source": [
    "%%time\n",
    "\n",
    "from dask.distributed import as_completed\n",
    "import operator\n",
    "\n",
    "lists = client.map(parse_file, filenames, pure=False)\n",
    "lengths = client.map(len, lists)\n",
    "\n",
    "mapping = dict(zip(lengths, lists))\n",
    "\n",
    "futures = []\n",
    "\n",
    "for future in as_completed(lengths):\n",
    "    n = future.result()\n",
    "    L = mapping[future]\n",
    "    for i in range(n):\n",
    "        new = client.submit(operator.getitem, L, i, priority=1)\n",
    "        new = client.submit(process_item, new, priority=1)\n",
    "        futures.append(new)\n",
    "        \n",
    "client.gather(futures)"
   ]
  },
  {
   "cell_type": "markdown",
   "metadata": {},
   "source": [
    "2: Use async/await to handle single file processing locally\n",
    "-----------------------------------------------------------\n",
    "\n",
    "We can also handle the concurrency here within our local process.  This requires you to understand async/await syntax, but is generally powerful and arguably simpler than the `as_completed` approach above."
   ]
  },
  {
   "cell_type": "code",
   "execution_count": 6,
   "metadata": {},
   "outputs": [],
   "source": [
    "import asyncio\n",
    "\n",
    "async def f(fn):\n",
    "    \"\"\" Handle the lifecycle of a single file \"\"\"\n",
    "    future = client.submit(parse_file, fn, pure=False)\n",
    "    length_future = client.submit(len, future)\n",
    "    length = await length_future\n",
    "    \n",
    "    futures = [client.submit(operator.getitem, future, i, priority=10) \n",
    "               for i in range(length)]\n",
    "    futures = client.map(process_item, futures, priority=10)\n",
    "    return futures\n",
    "\n",
    "async def run_all(filenames):\n",
    "    list_of_list_of_futures = await asyncio.gather(*[f(fn) for fn in filenames])\n",
    "    futures = sum(list_of_list_of_futures, [])\n",
    "    return await client.gather(futures)\n"
   ]
  },
  {
   "cell_type": "markdown",
   "metadata": {},
   "source": [
    "We now need to run this function in the same event loop as our client is running.  If we had started our client asynchronously, then we could have done this:\n",
    "\n",
    "```python\n",
    "client = await Client(asynchronous=True)\n",
    "\n",
    "await run_all(filenames)\n",
    "```\n",
    "\n",
    "However, because we started our client without the `asynchronous=True` flag the event loop is actually running in a separate thread, so we'll have to ask the client to run this for us."
   ]
  },
  {
   "cell_type": "code",
   "execution_count": 7,
   "metadata": {},
   "outputs": [
    {
     "data": {
      "text/plain": [
       "[1.5591021379039738,\n",
       " 1.6665199766015313,\n",
       " 1.5970921054509915,\n",
       " 1.2495703451819982,\n",
       " 1.5465696137629314,\n",
       " 1.2358801423689387,\n",
       " 1.05641013853539,\n",
       " 1.5623502560653932,\n",
       " 1.583479204397293,\n",
       " 1.0305677111218912,\n",
       " 1.9015820207364427,\n",
       " 1.8726268811678932,\n",
       " 1.2559606115124202,\n",
       " 1.7258727244055247,\n",
       " 1.1841800154627111,\n",
       " 1.352719454078227,\n",
       " 1.9336013718123473,\n",
       " 1.273390708507515,\n",
       " 1.112650731372271,\n",
       " 1.6042264627511478,\n",
       " 1.713924708288122,\n",
       " 1.3037786001511082,\n",
       " 1.0177959204702285,\n",
       " 1.6881452071102094,\n",
       " 1.2358322999876838,\n",
       " 1.0576618198905718,\n",
       " 1.391229063050717,\n",
       " 1.507919484837919,\n",
       " 1.4235425803002708,\n",
       " 1.8367504658134857,\n",
       " 1.2550041342138556,\n",
       " 1.6620981904415815,\n",
       " 1.3567782319347725,\n",
       " 1.5086186675043893,\n",
       " 1.5352162224025518,\n",
       " 1.1442035170885294,\n",
       " 1.9850851964421519,\n",
       " 1.6447192364037038,\n",
       " 1.0933914565794276,\n",
       " 1.7962001503858105,\n",
       " 1.783985257411862,\n",
       " 1.6319152827157761,\n",
       " 1.7600222731306527,\n",
       " 1.0236957703499527,\n",
       " 1.5302165035145765,\n",
       " 1.9692941021320989,\n",
       " 1.6405969912366933,\n",
       " 1.876948746806817,\n",
       " 1.9158243285794228,\n",
       " 1.1788844641219918,\n",
       " 1.653242533061688,\n",
       " 1.50576171246456,\n",
       " 1.8600830206565495,\n",
       " 1.6745517344649699]"
      ]
     },
     "execution_count": 7,
     "metadata": {},
     "output_type": "execute_result"
    }
   ],
   "source": [
    "client.sync(run_all, filenames)"
   ]
  },
  {
   "cell_type": "markdown",
   "metadata": {},
   "source": [
    "3: Submit tasks from tasks\n",
    "--------------------------\n",
    "\n",
    "We can also submit tasks that themselves submit more tasks.  See [documentation here](https://docs.dask.org/en/latest/futures.html#submit-tasks-from-tasks)."
   ]
  },
  {
   "cell_type": "code",
   "execution_count": 8,
   "metadata": {},
   "outputs": [
    {
     "name": "stdout",
     "output_type": "stream",
     "text": [
      "CPU times: user 259 ms, sys: 3.83 ms, total: 263 ms\n",
      "Wall time: 2 s\n"
     ]
    }
   ],
   "source": [
    "%%time\n",
    "\n",
    "from dask.distributed import get_client, secede, rejoin\n",
    "\n",
    "def f(fn):\n",
    "    L = parse_file(fn)\n",
    "    client = get_client()\n",
    "    \n",
    "    futures = client.map(process_item, L, priority=10)\n",
    "    secede()\n",
    "    results = client.gather(futures)\n",
    "    rejoin()\n",
    "    return results\n",
    "\n",
    "futures = client.map(f, filenames, pure=False)\n",
    "results = client.gather(futures)"
   ]
  }
 ],
 "metadata": {
  "kernelspec": {
   "display_name": "Python 3",
   "language": "python",
   "name": "python3"
  },
  "language_info": {
   "codemirror_mode": {
    "name": "ipython",
    "version": 3
   },
   "file_extension": ".py",
   "mimetype": "text/x-python",
   "name": "python",
   "nbconvert_exporter": "python",
   "pygments_lexer": "ipython3",
   "version": "3.8.3"
  }
 },
 "nbformat": 4,
 "nbformat_minor": 4
}
