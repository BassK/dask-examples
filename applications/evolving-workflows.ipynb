{
 "cells": [
  {
   "cell_type": "markdown",
   "metadata": {},
   "source": [
    "Handle Evolving Workflows\n",
    "=========================\n",
    "\n",
    "For some workflows we don't know the extent of the computation at the outset.  We need to do some computation in order to figure out the rest of the computation that we need to do.  The computation grows and evolves as we do more work.\n",
    "\n",
    "As an example, consider a situation where you need to read many files and then based on the contents of those files, fire off additional work.  You would like to read the files in parallel, and then within each file expose more parallelism.\n",
    "\n",
    "This example goes through three ways to handle this situation using [Dask Futures](https://docs.dask.org/en/latest/futures.html)\n",
    "\n",
    "1.  Using `as_completed`\n",
    "2.  Using `async/await`\n",
    "3.  Launching tasks from tasks\n",
    "\n",
    "But first, lets run our code sequentially."
   ]
  },
  {
   "cell_type": "markdown",
   "metadata": {},
   "source": [
    "0: Sequential code\n",
    "------------------"
   ]
  },
  {
   "cell_type": "code",
   "execution_count": 1,
   "metadata": {
    "execution": {
     "iopub.execute_input": "2020-11-05T10:29:26.582687Z",
     "iopub.status.busy": "2020-11-05T10:29:26.581467Z",
     "iopub.status.idle": "2020-11-05T10:29:26.584175Z",
     "shell.execute_reply": "2020-11-05T10:29:26.584681Z"
    }
   },
   "outputs": [
    {
     "data": {
      "text/plain": [
       "['file.0.txt', 'file.1.txt', 'file.2.txt']"
      ]
     },
     "execution_count": 1,
     "metadata": {},
     "output_type": "execute_result"
    }
   ],
   "source": [
    "filenames = [\"file.{}.txt\".format(i) for i in range(10)]\n",
    "\n",
    "filenames[:3]"
   ]
  },
  {
   "cell_type": "code",
   "execution_count": 2,
   "metadata": {
    "execution": {
     "iopub.execute_input": "2020-11-05T10:29:26.590836Z",
     "iopub.status.busy": "2020-11-05T10:29:26.589785Z",
     "iopub.status.idle": "2020-11-05T10:29:26.591351Z",
     "shell.execute_reply": "2020-11-05T10:29:26.591873Z"
    }
   },
   "outputs": [],
   "source": [
    "import random, time\n",
    "\n",
    "\n",
    "def parse_file(fn: str) -> list:\n",
    "    \"\"\" Returns a list work items of unknown length \"\"\"\n",
    "    time.sleep(random.random())\n",
    "    return [random.random() for _ in range(random.randint(1, 10))]\n",
    "\n",
    "def process_item(x: float):\n",
    "    \"\"\" Process each work item \"\"\"\n",
    "    time.sleep(random.random() / 4)\n",
    "    return x + 1"
   ]
  },
  {
   "cell_type": "code",
   "execution_count": 3,
   "metadata": {
    "execution": {
     "iopub.execute_input": "2020-11-05T10:29:26.595995Z",
     "iopub.status.busy": "2020-11-05T10:29:26.595494Z",
     "iopub.status.idle": "2020-11-05T10:29:37.046100Z",
     "shell.execute_reply": "2020-11-05T10:29:37.045458Z"
    }
   },
   "outputs": [
    {
     "name": "stdout",
     "output_type": "stream",
     "text": [
      "CPU times: user 2.71 ms, sys: 3.96 ms, total: 6.68 ms\n",
      "Wall time: 10.4 s\n"
     ]
    }
   ],
   "source": [
    "%%time\n",
    "\n",
    "# This takes around 10-20s\n",
    "\n",
    "results = []\n",
    "\n",
    "for fn in filenames:\n",
    "    L = parse_file(fn)\n",
    "    for x in L:\n",
    "        out = process_item(x)\n",
    "        results.append(out)"
   ]
  },
  {
   "cell_type": "markdown",
   "metadata": {},
   "source": [
    "Start Dask Client\n",
    "-----------------\n",
    "\n",
    "We'll need a Dask client in order to manage dynamic workloads"
   ]
  },
  {
   "cell_type": "code",
   "execution_count": 4,
   "metadata": {
    "execution": {
     "iopub.execute_input": "2020-11-05T10:29:37.051517Z",
     "iopub.status.busy": "2020-11-05T10:29:37.050996Z",
     "iopub.status.idle": "2020-11-05T10:29:38.032075Z",
     "shell.execute_reply": "2020-11-05T10:29:38.032502Z"
    }
   },
   "outputs": [
    {
     "data": {
      "text/html": [
       "<table style=\"border: 2px solid white;\">\n",
       "<tr>\n",
       "<td style=\"vertical-align: top; border: 0px solid white\">\n",
       "<h3 style=\"text-align: left;\">Client</h3>\n",
       "<ul style=\"text-align: left; list-style: none; margin: 0; padding: 0;\">\n",
       "  <li><b>Scheduler: </b>inproc://10.1.0.4/7082/1</li>\n",
       "  <li><b>Dashboard: </b><a href='http://10.1.0.4:8787/status' target='_blank'>http://10.1.0.4:8787/status</a></li>\n",
       "</ul>\n",
       "</td>\n",
       "<td style=\"vertical-align: top; border: 0px solid white\">\n",
       "<h3 style=\"text-align: left;\">Cluster</h3>\n",
       "<ul style=\"text-align: left; list-style:none; margin: 0; padding: 0;\">\n",
       "  <li><b>Workers: </b>1</li>\n",
       "  <li><b>Cores: </b>6</li>\n",
       "  <li><b>Memory: </b>7.29 GB</li>\n",
       "</ul>\n",
       "</td>\n",
       "</tr>\n",
       "</table>"
      ],
      "text/plain": [
       "<Client: 'inproc://10.1.0.4/7082/1' processes=1 threads=6, memory=7.29 GB>"
      ]
     },
     "execution_count": 1,
     "metadata": {},
     "output_type": "execute_result"
    }
   ],
   "source": [
    "from dask.distributed import Client\n",
    "\n",
    "client = Client(processes=False, n_workers=1, threads_per_worker=6)\n",
    "client"
   ]
  },
  {
   "cell_type": "markdown",
   "metadata": {},
   "source": [
    "1: Use as_completed\n",
    "-------------------\n",
    "\n",
    "The [as_completed](https://docs.dask.org/en/latest/futures.html#distributed.as_completed) iterator lets us handle futures as they complete.  We can then submit more data on the fly.\n",
    "\n",
    "-   We submit a task for each of our filenames\n",
    "-   We also compute the length of each of the returned lists\n",
    "-   As those lengths return, we submit off a new task to get each item of that list.  We do this at higher priority, so that we process existing data before we collect new data.\n",
    "-   We wait on all of the returned results"
   ]
  },
  {
   "cell_type": "code",
   "execution_count": 5,
   "metadata": {
    "execution": {
     "iopub.execute_input": "2020-11-05T10:29:38.042078Z",
     "iopub.status.busy": "2020-11-05T10:29:38.039151Z",
     "iopub.status.idle": "2020-11-05T10:29:40.120663Z",
     "shell.execute_reply": "2020-11-05T10:29:40.120084Z"
    }
   },
   "outputs": [
    {
     "name": "stdout",
     "output_type": "stream",
     "text": [
      "CPU times: user 288 ms, sys: 33.9 ms, total: 322 ms\n",
      "Wall time: 2.08 s\n"
     ]
    },
    {
     "data": {
      "text/plain": [
       "[1.1864448072334564,\n",
       " 1.0941295575150698,\n",
       " 1.3370202098286268,\n",
       " 1.2689508659599413,\n",
       " 1.9788939691922738,\n",
       " 1.9641607286784961,\n",
       " 1.6962248017108323,\n",
       " 1.0772462163987553,\n",
       " 1.9443861154107551,\n",
       " 1.3475727603947651,\n",
       " 1.1052040540018744,\n",
       " 1.891695481764902,\n",
       " 1.4688311093249402,\n",
       " 1.2830830213829976,\n",
       " 1.754913903244228,\n",
       " 1.0076771515876195,\n",
       " 1.859331276396296,\n",
       " 1.5170010432019962,\n",
       " 1.4052709178962672,\n",
       " 1.27684172641569,\n",
       " 1.8156512516209995,\n",
       " 1.1982357766394216,\n",
       " 1.8609761549611017,\n",
       " 1.2822477848429574,\n",
       " 1.2446655881437316,\n",
       " 1.1697736572593422,\n",
       " 1.4140610588072844,\n",
       " 1.48286109159896,\n",
       " 1.3013809708565303,\n",
       " 1.0055213345564915,\n",
       " 1.0039728351071489,\n",
       " 1.7005453732494082,\n",
       " 1.5425806747052833,\n",
       " 1.4982953782276358,\n",
       " 1.6627463735729533,\n",
       " 1.2122661190676187,\n",
       " 1.8289877896656868,\n",
       " 1.5371571071076948,\n",
       " 1.2698383312716375,\n",
       " 1.9787766438445789,\n",
       " 1.1496674664316693,\n",
       " 1.0159956999174045,\n",
       " 1.0604927943467608,\n",
       " 1.3688166207834689,\n",
       " 1.3020524288445703,\n",
       " 1.5529851732036222,\n",
       " 1.2480059974386624,\n",
       " 1.9756544687866544,\n",
       " 1.023848468426009,\n",
       " 1.9417152574742116,\n",
       " 1.7792607443548114,\n",
       " 1.883832713622816,\n",
       " 1.7640761860470784,\n",
       " 1.4340233768998858,\n",
       " 1.206765864920932]"
      ]
     },
     "execution_count": 1,
     "metadata": {},
     "output_type": "execute_result"
    }
   ],
   "source": [
    "%%time\n",
    "\n",
    "from dask.distributed import as_completed\n",
    "import operator\n",
    "\n",
    "lists = client.map(parse_file, filenames, pure=False)\n",
    "lengths = client.map(len, lists)\n",
    "\n",
    "mapping = dict(zip(lengths, lists))\n",
    "\n",
    "futures = []\n",
    "\n",
    "for future in as_completed(lengths):\n",
    "    n = future.result()\n",
    "    L = mapping[future]\n",
    "    for i in range(n):\n",
    "        new = client.submit(operator.getitem, L, i, priority=1)\n",
    "        new = client.submit(process_item, new, priority=1)\n",
    "        futures.append(new)\n",
    "        \n",
    "client.gather(futures)"
   ]
  },
  {
   "cell_type": "markdown",
   "metadata": {},
   "source": [
    "2: Use async/await to handle single file processing locally\n",
    "-----------------------------------------------------------\n",
    "\n",
    "We can also handle the concurrency here within our local process.  This requires you to understand async/await syntax, but is generally powerful and arguably simpler than the `as_completed` approach above."
   ]
  },
  {
   "cell_type": "code",
   "execution_count": 6,
   "metadata": {
    "execution": {
     "iopub.execute_input": "2020-11-05T10:29:40.127527Z",
     "iopub.status.busy": "2020-11-05T10:29:40.126968Z",
     "iopub.status.idle": "2020-11-05T10:29:40.128011Z",
     "shell.execute_reply": "2020-11-05T10:29:40.128514Z"
    }
   },
   "outputs": [],
   "source": [
    "import asyncio\n",
    "\n",
    "async def f(fn):\n",
    "    \"\"\" Handle the lifecycle of a single file \"\"\"\n",
    "    future = client.submit(parse_file, fn, pure=False)\n",
    "    length_future = client.submit(len, future)\n",
    "    length = await length_future\n",
    "    \n",
    "    futures = [client.submit(operator.getitem, future, i, priority=10) \n",
    "               for i in range(length)]\n",
    "    futures = client.map(process_item, futures, priority=10)\n",
    "    return futures\n",
    "\n",
    "async def run_all(filenames):\n",
    "    list_of_list_of_futures = await asyncio.gather(*[f(fn) for fn in filenames])\n",
    "    futures = sum(list_of_list_of_futures, [])\n",
    "    return await client.gather(futures)\n"
   ]
  },
  {
   "cell_type": "markdown",
   "metadata": {},
   "source": [
    "We now need to run this function in the same event loop as our client is running.  If we had started our client asynchronously, then we could have done this:\n",
    "\n",
    "```python\n",
    "client = await Client(asynchronous=True)\n",
    "\n",
    "await run_all(filenames)\n",
    "```\n",
    "\n",
    "However, because we started our client without the `asynchronous=True` flag the event loop is actually running in a separate thread, so we'll have to ask the client to run this for us."
   ]
  },
  {
   "cell_type": "code",
   "execution_count": 7,
   "metadata": {
    "execution": {
     "iopub.execute_input": "2020-11-05T10:29:40.132216Z",
     "iopub.status.busy": "2020-11-05T10:29:40.131716Z",
     "iopub.status.idle": "2020-11-05T10:29:42.461282Z",
     "shell.execute_reply": "2020-11-05T10:29:42.461788Z"
    }
   },
   "outputs": [
    {
     "data": {
      "text/plain": [
       "[1.550716446839449,\n",
       " 1.3606043508072934,\n",
       " 1.9628612496666216,\n",
       " 1.0149009615175397,\n",
       " 1.8543114852488192,\n",
       " 1.9737167794321753,\n",
       " 1.2198679059100224,\n",
       " 1.7220963439209243,\n",
       " 1.0900455860385434,\n",
       " 1.1002601194011015,\n",
       " 1.219015257343086,\n",
       " 1.351494317637837,\n",
       " 1.2439271403100678,\n",
       " 1.0042673064959504,\n",
       " 1.1794876427343606,\n",
       " 1.9311401889406696,\n",
       " 1.0760723289760619,\n",
       " 1.5748017719320047,\n",
       " 1.0559100392894327,\n",
       " 1.314685095334184,\n",
       " 1.2723356817855624,\n",
       " 1.8789140180181427,\n",
       " 1.9526233371634663,\n",
       " 1.9251241147479634,\n",
       " 1.8203844514820662,\n",
       " 1.1523458925512213,\n",
       " 1.1640980065220994,\n",
       " 1.0418301663721863,\n",
       " 1.2040461936216822,\n",
       " 1.9041583713054677,\n",
       " 1.8609823439110458,\n",
       " 1.4244408873110308,\n",
       " 1.5637425424969906,\n",
       " 1.3233191590296753,\n",
       " 1.1870795148492759,\n",
       " 1.481262465448973,\n",
       " 1.635861648884306,\n",
       " 1.9816217902430995,\n",
       " 1.449098914163371,\n",
       " 1.1477953300495374,\n",
       " 1.2343315179540717,\n",
       " 1.7586133767215755,\n",
       " 1.8327811520349009,\n",
       " 1.8619427021186186,\n",
       " 1.2393222874732892,\n",
       " 1.7327083365078293,\n",
       " 1.8643111552030183,\n",
       " 1.7335678841562787,\n",
       " 1.3408729580392174,\n",
       " 1.4276435508928653,\n",
       " 1.380493502586555,\n",
       " 1.8884126926823832,\n",
       " 1.7643447488746937,\n",
       " 1.4193884466841444,\n",
       " 1.0289286556129045,\n",
       " 1.1551868754346932,\n",
       " 1.0467715590547235,\n",
       " 1.6579108374533045,\n",
       " 1.1069985545121896,\n",
       " 1.6192009567451981,\n",
       " 1.8670094173922491,\n",
       " 1.1464375498081116,\n",
       " 1.9209781573018132,\n",
       " 1.0143724563561267,\n",
       " 1.7059900497635212]"
      ]
     },
     "execution_count": 1,
     "metadata": {},
     "output_type": "execute_result"
    }
   ],
   "source": [
    "client.sync(run_all, filenames)"
   ]
  },
  {
   "cell_type": "markdown",
   "metadata": {},
   "source": [
    "3: Submit tasks from tasks\n",
    "--------------------------\n",
    "\n",
    "We can also submit tasks that themselves submit more tasks.  See [documentation here](https://docs.dask.org/en/latest/futures.html#submit-tasks-from-tasks)."
   ]
  },
  {
   "cell_type": "code",
   "execution_count": 8,
   "metadata": {
    "execution": {
     "iopub.execute_input": "2020-11-05T10:29:42.470761Z",
     "iopub.status.busy": "2020-11-05T10:29:42.469621Z",
     "iopub.status.idle": "2020-11-05T10:29:45.077991Z",
     "shell.execute_reply": "2020-11-05T10:29:45.077502Z"
    }
   },
   "outputs": [
    {
     "name": "stdout",
     "output_type": "stream",
     "text": [
      "CPU times: user 288 ms, sys: 15.4 ms, total: 303 ms\n",
      "Wall time: 2.61 s\n"
     ]
    }
   ],
   "source": [
    "%%time\n",
    "\n",
    "from dask.distributed import get_client, secede, rejoin\n",
    "\n",
    "def f(fn):\n",
    "    L = parse_file(fn)\n",
    "    client = get_client()\n",
    "    \n",
    "    futures = client.map(process_item, L, priority=10)\n",
    "    secede()\n",
    "    results = client.gather(futures)\n",
    "    rejoin()\n",
    "    return results\n",
    "\n",
    "futures = client.map(f, filenames, pure=False)\n",
    "results = client.gather(futures)"
   ]
  }
 ],
 "metadata": {
  "kernelspec": {
   "display_name": "Python 3",
   "language": "python",
   "name": "python3"
  },
  "language_info": {
   "codemirror_mode": {
    "name": "ipython",
    "version": 3
   },
   "file_extension": ".py",
   "mimetype": "text/x-python",
   "name": "python",
   "nbconvert_exporter": "python",
   "pygments_lexer": "ipython3",
   "version": "3.8.6"
  }
 },
 "nbformat": 4,
 "nbformat_minor": 4
}
