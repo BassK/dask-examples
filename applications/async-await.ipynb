{
 "cells": [
  {
   "cell_type": "markdown",
   "metadata": {},
   "source": [
    "Async/Await and Non-Blocking Execution\n",
    "=======================================\n",
    "\n",
    "Dask integrates natively with concurrent applications using the [Tornado](https://www.tornadoweb.org/en/stable/) or [Asyncio](https://docs.python.org/3/library/asyncio.html) frameworks, and can make use of Python's `async` and `await` keywords.\n",
    "\n",
    "This example shows a small example how how to start up a Dask Client in asynchronous mode."
   ]
  },
  {
   "cell_type": "markdown",
   "metadata": {},
   "source": [
    "The `asynchronous=True` parameter\n",
    "---------------------------------\n",
    "\n",
    "Dask LocalCluster and Client objects can operate in async-await mode if you pass the `asynchronous=True` parameter."
   ]
  },
  {
   "cell_type": "code",
   "execution_count": 1,
   "metadata": {
    "execution": {
     "iopub.execute_input": "2021-01-27T15:04:18.923955Z",
     "iopub.status.busy": "2021-01-27T15:04:18.923192Z",
     "iopub.status.idle": "2021-01-27T15:04:21.314877Z",
     "shell.execute_reply": "2021-01-27T15:04:21.313970Z"
    }
   },
   "outputs": [
    {
     "name": "stderr",
     "output_type": "stream",
     "text": [
      "/usr/share/miniconda3/envs/dask-examples/lib/python3.8/site-packages/distributed/node.py:151: UserWarning: Port 8787 is already in use.\n",
      "Perhaps you already have a cluster running?\n",
      "Hosting the HTTP server on port 37703 instead\n",
      "  warnings.warn(\n"
     ]
    }
   ],
   "source": [
    "from dask.distributed import Client\n",
    "client = await Client(asynchronous=True)"
   ]
  },
  {
   "cell_type": "code",
   "execution_count": 2,
   "metadata": {
    "execution": {
     "iopub.execute_input": "2021-01-27T15:04:21.319538Z",
     "iopub.status.busy": "2021-01-27T15:04:21.317636Z",
     "iopub.status.idle": "2021-01-27T15:04:21.340006Z",
     "shell.execute_reply": "2021-01-27T15:04:21.340555Z"
    }
   },
   "outputs": [
    {
     "data": {
      "text/html": [
       "<b>Future: inc</b> <font color=\"gray\">status: </font><font color=\"black\">pending</font>, <font color=\"gray\">key: </font>inc-5bfc82c09dc4b28d284ae023ec968234"
      ],
      "text/plain": [
       "<Future: pending, key: inc-5bfc82c09dc4b28d284ae023ec968234>"
      ]
     },
     "execution_count": 2,
     "metadata": {},
     "output_type": "execute_result"
    }
   ],
   "source": [
    "def inc(x: int) -> int:\n",
    "    return x + 1\n",
    "\n",
    "future = client.submit(inc, 10)\n",
    "future"
   ]
  },
  {
   "cell_type": "code",
   "execution_count": 3,
   "metadata": {
    "execution": {
     "iopub.execute_input": "2021-01-27T15:04:21.344553Z",
     "iopub.status.busy": "2021-01-27T15:04:21.344003Z",
     "iopub.status.idle": "2021-01-27T15:04:21.356949Z",
     "shell.execute_reply": "2021-01-27T15:04:21.356299Z"
    }
   },
   "outputs": [
    {
     "data": {
      "text/plain": [
       "11"
      ]
     },
     "execution_count": 3,
     "metadata": {},
     "output_type": "execute_result"
    }
   ],
   "source": [
    "await future"
   ]
  },
  {
   "cell_type": "markdown",
   "metadata": {},
   "source": [
    "Collections\n",
    "-----------\n",
    "\n",
    "Note that blocking operations like the `.compute()` method aren't ok to use in asynchronous mode.  Instead you'll have to use the `Client.compute` method."
   ]
  },
  {
   "cell_type": "code",
   "execution_count": 4,
   "metadata": {
    "execution": {
     "iopub.execute_input": "2021-01-27T15:04:21.361950Z",
     "iopub.status.busy": "2021-01-27T15:04:21.361394Z",
     "iopub.status.idle": "2021-01-27T15:04:21.650575Z",
     "shell.execute_reply": "2021-01-27T15:04:21.651118Z"
    }
   },
   "outputs": [
    {
     "data": {
      "text/html": [
       "<div><strong>Dask DataFrame Structure:</strong></div>\n",
       "<div>\n",
       "<style scoped>\n",
       "    .dataframe tbody tr th:only-of-type {\n",
       "        vertical-align: middle;\n",
       "    }\n",
       "\n",
       "    .dataframe tbody tr th {\n",
       "        vertical-align: top;\n",
       "    }\n",
       "\n",
       "    .dataframe thead th {\n",
       "        text-align: right;\n",
       "    }\n",
       "</style>\n",
       "<table border=\"1\" class=\"dataframe\">\n",
       "  <thead>\n",
       "    <tr style=\"text-align: right;\">\n",
       "      <th></th>\n",
       "      <th>id</th>\n",
       "      <th>name</th>\n",
       "      <th>x</th>\n",
       "      <th>y</th>\n",
       "    </tr>\n",
       "    <tr>\n",
       "      <th>npartitions=30</th>\n",
       "      <th></th>\n",
       "      <th></th>\n",
       "      <th></th>\n",
       "      <th></th>\n",
       "    </tr>\n",
       "  </thead>\n",
       "  <tbody>\n",
       "    <tr>\n",
       "      <th>2000-01-01</th>\n",
       "      <td>int64</td>\n",
       "      <td>object</td>\n",
       "      <td>float64</td>\n",
       "      <td>float64</td>\n",
       "    </tr>\n",
       "    <tr>\n",
       "      <th>2000-01-02</th>\n",
       "      <td>...</td>\n",
       "      <td>...</td>\n",
       "      <td>...</td>\n",
       "      <td>...</td>\n",
       "    </tr>\n",
       "    <tr>\n",
       "      <th>...</th>\n",
       "      <td>...</td>\n",
       "      <td>...</td>\n",
       "      <td>...</td>\n",
       "      <td>...</td>\n",
       "    </tr>\n",
       "    <tr>\n",
       "      <th>2000-01-30</th>\n",
       "      <td>...</td>\n",
       "      <td>...</td>\n",
       "      <td>...</td>\n",
       "      <td>...</td>\n",
       "    </tr>\n",
       "    <tr>\n",
       "      <th>2000-01-31</th>\n",
       "      <td>...</td>\n",
       "      <td>...</td>\n",
       "      <td>...</td>\n",
       "      <td>...</td>\n",
       "    </tr>\n",
       "  </tbody>\n",
       "</table>\n",
       "</div>\n",
       "<div>Dask Name: make-timeseries, 30 tasks</div>"
      ],
      "text/plain": [
       "Dask DataFrame Structure:\n",
       "                   id    name        x        y\n",
       "npartitions=30                                 \n",
       "2000-01-01      int64  object  float64  float64\n",
       "2000-01-02        ...     ...      ...      ...\n",
       "...               ...     ...      ...      ...\n",
       "2000-01-30        ...     ...      ...      ...\n",
       "2000-01-31        ...     ...      ...      ...\n",
       "Dask Name: make-timeseries, 30 tasks"
      ]
     },
     "execution_count": 4,
     "metadata": {},
     "output_type": "execute_result"
    }
   ],
   "source": [
    "import dask\n",
    "df = dask.datasets.timeseries()\n",
    "df"
   ]
  },
  {
   "cell_type": "code",
   "execution_count": 5,
   "metadata": {
    "execution": {
     "iopub.execute_input": "2021-01-27T15:04:21.662378Z",
     "iopub.status.busy": "2021-01-27T15:04:21.661788Z",
     "iopub.status.idle": "2021-01-27T15:04:21.666953Z",
     "shell.execute_reply": "2021-01-27T15:04:21.667938Z"
    }
   },
   "outputs": [],
   "source": [
    "df = df.persist()             # persist is non-blocking, so it's ok"
   ]
  },
  {
   "cell_type": "code",
   "execution_count": 6,
   "metadata": {
    "execution": {
     "iopub.execute_input": "2021-01-27T15:04:21.686634Z",
     "iopub.status.busy": "2021-01-27T15:04:21.686029Z",
     "iopub.status.idle": "2021-01-27T15:04:21.706909Z",
     "shell.execute_reply": "2021-01-27T15:04:21.707383Z"
    }
   },
   "outputs": [],
   "source": [
    "total = df[['x', 'y']].sum()  # lazy computations are also ok"
   ]
  },
  {
   "cell_type": "code",
   "execution_count": 7,
   "metadata": {
    "execution": {
     "iopub.execute_input": "2021-01-27T15:04:21.711779Z",
     "iopub.status.busy": "2021-01-27T15:04:21.711217Z",
     "iopub.status.idle": "2021-01-27T15:04:21.716144Z",
     "shell.execute_reply": "2021-01-27T15:04:21.716830Z"
    }
   },
   "outputs": [],
   "source": [
    "# total.compute()             # but compute is bad, because compute blocks until done"
   ]
  },
  {
   "cell_type": "code",
   "execution_count": 8,
   "metadata": {
    "execution": {
     "iopub.execute_input": "2021-01-27T15:04:21.731753Z",
     "iopub.status.busy": "2021-01-27T15:04:21.731135Z",
     "iopub.status.idle": "2021-01-27T15:04:21.737629Z",
     "shell.execute_reply": "2021-01-27T15:04:21.738082Z"
    }
   },
   "outputs": [
    {
     "data": {
      "text/html": [
       "<b>Future: finalize</b> <font color=\"gray\">status: </font><font color=\"black\">pending</font>, <font color=\"gray\">key: </font>finalize-a162acc64c6e27fcdd6e0ed1ff4a1afb"
      ],
      "text/plain": [
       "<Future: pending, key: finalize-a162acc64c6e27fcdd6e0ed1ff4a1afb>"
      ]
     },
     "execution_count": 8,
     "metadata": {},
     "output_type": "execute_result"
    }
   ],
   "source": [
    "future = client.compute(total)\n",
    "future"
   ]
  },
  {
   "cell_type": "code",
   "execution_count": 9,
   "metadata": {
    "execution": {
     "iopub.execute_input": "2021-01-27T15:04:21.749984Z",
     "iopub.status.busy": "2021-01-27T15:04:21.749418Z",
     "iopub.status.idle": "2021-01-27T15:04:23.866388Z",
     "shell.execute_reply": "2021-01-27T15:04:23.864341Z"
    }
   },
   "outputs": [
    {
     "data": {
      "text/plain": [
       "x   -140.652217\n",
       "y     60.280711\n",
       "dtype: float64"
      ]
     },
     "execution_count": 9,
     "metadata": {},
     "output_type": "execute_result"
    }
   ],
   "source": [
    "await future"
   ]
  },
  {
   "cell_type": "markdown",
   "metadata": {},
   "source": [
    "Within a script\n",
    "---------------\n",
    "\n",
    "Running async/await code in Jupyter is a bit atypical.  Jupyter already has an event loop running, so it's easy to use async/await syntax directly within it.  In a normal Python script this won't be the case.  Here is an example script that should run within a normal Python interpreter or as a script.\n",
    "\n",
    "```python\n",
    "import asyncio\n",
    "from dask.distributed import Client\n",
    "\n",
    "\n",
    "def inc(x: int) -> int:\n",
    "    return x + 1\n",
    "\n",
    "\n",
    "async def f():\n",
    "    async with Client(asynchronous=True) as client:\n",
    "        future = client.submit(inc, 10)\n",
    "        result = await future\n",
    "        print(result)\n",
    "\n",
    "\n",
    "if __name__ == '__main__':\n",
    "    asyncio.get_event_loop().run_until_complete(f())\n",
    "```"
   ]
  },
  {
   "cell_type": "code",
   "execution_count": null,
   "metadata": {},
   "outputs": [],
   "source": []
  }
 ],
 "metadata": {
  "kernelspec": {
   "display_name": "Python 3",
   "language": "python",
   "name": "python3"
  },
  "language_info": {
   "codemirror_mode": {
    "name": "ipython",
    "version": 3
   },
   "file_extension": ".py",
   "mimetype": "text/x-python",
   "name": "python",
   "nbconvert_exporter": "python",
   "pygments_lexer": "ipython3",
   "version": "3.8.6"
  }
 },
 "nbformat": 4,
 "nbformat_minor": 4
}
