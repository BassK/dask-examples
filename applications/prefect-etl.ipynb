{
 "cells": [
  {
   "cell_type": "markdown",
   "metadata": {},
   "source": [
    "ETL Pipelines with Prefect\n",
    "==========================\n",
    "\n",
    "[Prefect](https://github.com/PrefectHQ/prefect) is a platform for automating data workflows.  Data engineers and data scientists can build, test and deploy production pipelines without worrying about all of the [\"negative engineering\" aspects](https://medium.com/the-prefect-blog/positive-and-negative-data-engineering-a02cb497583d) of production.  For example, Prefect makes it easy to deploy a workflow that runs on a complicated schedule, requires task retries in the event of failures, and sends notifications when certain tasks are complete.  Prefect was built on top of Dask, and [relies on Dask](http://stories.dask.org/en/latest/prefect-workflows.html#how-dask-helps) to schedule and manage the execution of a Prefect workflow in a distributed environment.\n",
    "\n",
    "This example demonstrates running a Prefect ETL Flow on Dask which ultimately creates a GIF.  While this is a somewhat unconventional use case of Prefect, we're no strangers to [unconventional use cases](https://medium.com/the-prefect-blog/prefect-runs-on-prefect-3e6df553c3a4).\n",
    "\n",
    "In the world of workflow engines, Prefect supports many unique features; in this particular example we will see:\n",
    "\n",
    "- parametrization of workflows\n",
    "- dynamic runtime \"mapping\" of workflow tasks\n",
    "- customizable execution logic\n",
    "\n",
    "You wouldn't get this from any other engine.\n",
    "\n",
    "**Contents**\n",
    "\n",
    "0. [Description of goal](#goal)\n",
    "1. [Setting up our environment](#environment)\n",
    "2. Building our Flow\n",
    "    1. [Extract](#extract)\n",
    "    1. [Transform](#transform)\n",
    "    1. [Load](#load)\n",
    "    1. [Putting the pieces together](#build)\n",
    "3. [Running our Flow on Dask](#dask)\n",
    "4. [Watching our GIF](#play)"
   ]
  },
  {
   "cell_type": "markdown",
   "metadata": {},
   "source": [
    "<a id=\"goal\"></a>\n",
    "\n",
    "Goal\n",
    "----\n",
    "\n",
    "To demonstrate how Prefect and Dask work together, we are going to build and execute a standard \"Extract / Transform / Load\" (ETL) workflow for processing some basic image data.  Most ETL workflows involve a scheduled migration of data from one database to another.  In our case, we will be moving data from a file located at a known URL to our local hard disk, converting the individual file into a series of frames, and compiling those frames into a GIF.  The URL references a file containing raw bytes such as:\n",
    "\n",
    "```python\n",
    "b\"\"\"aÙ\u0001w\u0001˜\u0000\u0000≠•∆≠≠ﬁ#!\b\u0015\u0016\u0003≠≠÷≠•Ω≠úΩ••µú•µîúµ•úΩ••Ω3&\u0015µ•Ω\u0018!\u000b",
    "µ≠∆≠•¥4(%µú∑≠≠Œ≠î≠≠≠∆≠îµúî≠úîµE5.≠ú≠≠•Œµµﬁ••∆•≠ŒµµŒúúΩ62&)1&623µ•∆Ωµ÷úî•ßjxΩΩÁú•Ωµ≠Œ••≠ú•≠Ω≠∆≠µÁâUV≠µ‹ΩµŒîî•NC5µ≠Ÿôãô•î•µ•µîú≠#\u0017\bVHCuhl≠≠ΩôchâRIoc]™≠Á≠î•™ú»öis•ú•f7,íYfL9?îî≠≠•÷∑ò™gWVxGEΩ≠–))1qB5µ≠Ω81\u0018R,\u0015´tÜñWV\u001e",
    "!\u001e",
    "HCDBB5;5?\n",
    "\"\"\"\n",
    "```\n",
    "\n",
    "The steps of our workflow will be as follows:\n",
    "- Extract: pull the data file from a URL (speicified by a `Parameter`) to disk\n",
    "- Transform: split the file into multiple files, each corresponding to a single frame\n",
    "- Load: Store each frame individually, and compile the frames together into a GIF\n",
    "\n",
    "Once we have built our Flow, we can execute it with different values for the `Parameter` or even run it on a nightly schedule.\n",
    "\n",
    "**NOTE:** If we planned on executing this Flow in a truly distributed environment, writing the images to the local filesystem would _not_ be appropriate.  We would instead use an external datastore such as Google Cloud Storage, or a proper database."
   ]
  },
  {
   "cell_type": "markdown",
   "metadata": {},
   "source": [
    "<a id=\"environment\"></a>\n",
    "\n",
    "Setting up our environment\n",
    "--------------------------\n",
    "\n",
    "Before proceeding, we need to install both the [`prefect`](https://pypi.org/project/prefect/) and [`imageio`](https://pypi.org/project/imageio/) packages."
   ]
  },
  {
   "cell_type": "code",
   "execution_count": 1,
   "metadata": {},
   "outputs": [
    {
     "name": "stdout",
     "output_type": "stream",
     "text": [
      "Requirement already satisfied: imageio in /home/travis/miniconda/envs/test/lib/python3.7/site-packages (2.9.0)\r\n"
     ]
    },
    {
     "name": "stdout",
     "output_type": "stream",
     "text": [
      "Collecting prefect[viz]\r\n"
     ]
    },
    {
     "name": "stdout",
     "output_type": "stream",
     "text": [
      "  Downloading prefect-0.12.3-py3-none-any.whl (392 kB)\r\n",
      "\u001b[?25l"
     ]
    },
    {
     "name": "stdout",
     "output_type": "stream",
     "text": [
      "\r\n"
     ]
    },
    {
     "name": "stdout",
     "output_type": "stream",
     "text": [
      "\u001b[?25hRequirement already satisfied: pillow in /home/travis/miniconda/envs/test/lib/python3.7/site-packages (from imageio) (7.2.0)\r\n",
      "Requirement already satisfied: numpy in /home/travis/miniconda/envs/test/lib/python3.7/site-packages (from imageio) (1.17.5)\r\n",
      "Requirement already satisfied: dask<3.0,>=2.8.0 in /home/travis/miniconda/envs/test/lib/python3.7/site-packages (from prefect[viz]) (2.9.1)\r\n",
      "Requirement already satisfied: click<8.0,>=7.0 in /home/travis/miniconda/envs/test/lib/python3.7/site-packages (from prefect[viz]) (7.1.2)\r\n",
      "Requirement already satisfied: pyyaml<5.4,>=3.13 in /home/travis/miniconda/envs/test/lib/python3.7/site-packages (from prefect[viz]) (5.3.1)\r\n",
      "Requirement already satisfied: distributed<3.0,>=2.8.0 in /home/travis/miniconda/envs/test/lib/python3.7/site-packages (from prefect[viz]) (2.20.0)\r\n"
     ]
    },
    {
     "name": "stdout",
     "output_type": "stream",
     "text": [
      "Collecting toml<1.0,>=0.9.4\r\n",
      "  Downloading toml-0.10.1-py2.py3-none-any.whl (19 kB)\r\n"
     ]
    },
    {
     "name": "stdout",
     "output_type": "stream",
     "text": [
      "Requirement already satisfied: pytz>=2018.7 in /home/travis/miniconda/envs/test/lib/python3.7/site-packages (from prefect[viz]) (2020.1)\r\n",
      "Requirement already satisfied: requests<3.0,>=2.20 in /home/travis/miniconda/envs/test/lib/python3.7/site-packages (from prefect[viz]) (2.24.0)\r\n"
     ]
    },
    {
     "name": "stdout",
     "output_type": "stream",
     "text": [
      "Collecting marshmallow<3.6.2,>=3.0.0b19\r\n",
      "  Downloading marshmallow-3.6.1-py2.py3-none-any.whl (45 kB)\r\n",
      "\u001b[?25l\r\n"
     ]
    },
    {
     "name": "stdout",
     "output_type": "stream",
     "text": [
      "\u001b[?25hCollecting marshmallow-oneofschema<3.0,>=2.0.0b2\r\n",
      "  Downloading marshmallow_oneofschema-2.0.1-py2.py3-none-any.whl (5.7 kB)\r\n"
     ]
    },
    {
     "name": "stdout",
     "output_type": "stream",
     "text": [
      "Requirement already satisfied: urllib3>=1.24.3 in /home/travis/miniconda/envs/test/lib/python3.7/site-packages (from prefect[viz]) (1.25.9)\r\n"
     ]
    },
    {
     "name": "stdout",
     "output_type": "stream",
     "text": [
      "Collecting python-box<5.0,>=3.4.4\r\n",
      "  Downloading python_box-4.2.3-py3-none-any.whl (23 kB)\r\n"
     ]
    },
    {
     "name": "stdout",
     "output_type": "stream",
     "text": [
      "Collecting croniter<1.0,>=0.3.24\r\n",
      "  Downloading croniter-0.3.34-py2.py3-none-any.whl (19 kB)\r\n"
     ]
    },
    {
     "name": "stdout",
     "output_type": "stream",
     "text": [
      "Collecting tabulate<1.0,>=0.8.0\r\n",
      "  Downloading tabulate-0.8.7-py3-none-any.whl (24 kB)\r\n",
      "Requirement already satisfied: python-dateutil~=2.7 in /home/travis/miniconda/envs/test/lib/python3.7/site-packages (from prefect[viz]) (2.8.1)\r\n"
     ]
    },
    {
     "name": "stdout",
     "output_type": "stream",
     "text": [
      "Collecting python-slugify<5.0,>=1.2.6\r\n"
     ]
    },
    {
     "name": "stdout",
     "output_type": "stream",
     "text": [
      "  Downloading python-slugify-4.0.1.tar.gz (11 kB)\r\n"
     ]
    },
    {
     "name": "stdout",
     "output_type": "stream",
     "text": [
      "Collecting docker<5.0,>=3.4.1\r\n"
     ]
    },
    {
     "name": "stdout",
     "output_type": "stream",
     "text": [
      "  Downloading docker-4.2.2-py2.py3-none-any.whl (144 kB)\r\n",
      "\u001b[?25l\r\n"
     ]
    },
    {
     "name": "stdout",
     "output_type": "stream",
     "text": [
      "\u001b[?25hCollecting pendulum<3.0,>=2.0.4\r\n",
      "  Downloading pendulum-2.1.0-cp37-cp37m-manylinux1_x86_64.whl (152 kB)\r\n",
      "\u001b[?25l"
     ]
    },
    {
     "name": "stdout",
     "output_type": "stream",
     "text": [
      "\r\n"
     ]
    },
    {
     "name": "stdout",
     "output_type": "stream",
     "text": [
      "\u001b[?25hCollecting mypy-extensions<1.0,>=0.4.0\r\n"
     ]
    },
    {
     "name": "stdout",
     "output_type": "stream",
     "text": [
      "  Downloading mypy_extensions-0.4.3-py2.py3-none-any.whl (4.5 kB)\r\n",
      "Requirement already satisfied: cloudpickle<2.0,>=0.6.0 in /home/travis/miniconda/envs/test/lib/python3.7/site-packages (from prefect[viz]) (1.5.0)\r\n",
      "Requirement already satisfied: graphviz>=0.8.3; extra == \"viz\" in /home/travis/miniconda/envs/test/lib/python3.7/site-packages (from prefect[viz]) (0.14)\r\n",
      "Requirement already satisfied: psutil>=5.0 in /home/travis/miniconda/envs/test/lib/python3.7/site-packages (from distributed<3.0,>=2.8.0->prefect[viz]) (5.7.0)\r\n",
      "Requirement already satisfied: zict>=0.1.3 in /home/travis/miniconda/envs/test/lib/python3.7/site-packages (from distributed<3.0,>=2.8.0->prefect[viz]) (2.0.0)\r\n",
      "Requirement already satisfied: sortedcontainers!=2.0.0,!=2.0.1 in /home/travis/miniconda/envs/test/lib/python3.7/site-packages (from distributed<3.0,>=2.8.0->prefect[viz]) (2.2.2)\r\n",
      "Requirement already satisfied: toolz>=0.8.2 in /home/travis/miniconda/envs/test/lib/python3.7/site-packages (from distributed<3.0,>=2.8.0->prefect[viz]) (0.10.0)\r\n",
      "Requirement already satisfied: msgpack>=0.6.0 in /home/travis/miniconda/envs/test/lib/python3.7/site-packages (from distributed<3.0,>=2.8.0->prefect[viz]) (1.0.0)\r\n",
      "Requirement already satisfied: tblib>=1.6.0 in /home/travis/miniconda/envs/test/lib/python3.7/site-packages (from distributed<3.0,>=2.8.0->prefect[viz]) (1.6.0)\r\n",
      "Requirement already satisfied: setuptools in /home/travis/miniconda/envs/test/lib/python3.7/site-packages (from distributed<3.0,>=2.8.0->prefect[viz]) (49.1.2.post20200711)\r\n"
     ]
    },
    {
     "name": "stdout",
     "output_type": "stream",
     "text": [
      "Requirement already satisfied: tornado>=5; python_version < \"3.8\" in /home/travis/miniconda/envs/test/lib/python3.7/site-packages (from distributed<3.0,>=2.8.0->prefect[viz]) (5.1.1)\r\n",
      "Requirement already satisfied: idna<3,>=2.5 in /home/travis/miniconda/envs/test/lib/python3.7/site-packages (from requests<3.0,>=2.20->prefect[viz]) (2.10)\r\n",
      "Requirement already satisfied: chardet<4,>=3.0.2 in /home/travis/miniconda/envs/test/lib/python3.7/site-packages (from requests<3.0,>=2.20->prefect[viz]) (3.0.4)\r\n",
      "Requirement already satisfied: certifi>=2017.4.17 in /home/travis/miniconda/envs/test/lib/python3.7/site-packages (from requests<3.0,>=2.20->prefect[viz]) (2020.6.20)\r\n"
     ]
    },
    {
     "name": "stdout",
     "output_type": "stream",
     "text": [
      "Collecting ruamel.yaml\r\n"
     ]
    },
    {
     "name": "stdout",
     "output_type": "stream",
     "text": [
      "  Downloading ruamel.yaml-0.16.10-py2.py3-none-any.whl (111 kB)\r\n",
      "\u001b[?25l\r\n"
     ]
    },
    {
     "name": "stdout",
     "output_type": "stream",
     "text": [
      "\u001b[?25hCollecting natsort\r\n",
      "  Downloading natsort-7.0.1-py3-none-any.whl (33 kB)\r\n"
     ]
    },
    {
     "name": "stdout",
     "output_type": "stream",
     "text": [
      "Requirement already satisfied: six>=1.5 in /home/travis/miniconda/envs/test/lib/python3.7/site-packages (from python-dateutil~=2.7->prefect[viz]) (1.15.0)\r\n",
      "Collecting text-unidecode>=1.3\r\n"
     ]
    },
    {
     "name": "stdout",
     "output_type": "stream",
     "text": [
      "  Downloading text_unidecode-1.3-py2.py3-none-any.whl (78 kB)\r\n",
      "\u001b[?25l\r\n"
     ]
    },
    {
     "name": "stdout",
     "output_type": "stream",
     "text": [
      "\u001b[?25hCollecting websocket-client>=0.32.0\r\n",
      "  Downloading websocket_client-0.57.0-py2.py3-none-any.whl (200 kB)\r\n",
      "\u001b[?25l"
     ]
    },
    {
     "name": "stdout",
     "output_type": "stream",
     "text": [
      "\r\n"
     ]
    },
    {
     "name": "stdout",
     "output_type": "stream",
     "text": [
      "\u001b[?25hCollecting pytzdata>=2018.3\r\n"
     ]
    },
    {
     "name": "stdout",
     "output_type": "stream",
     "text": [
      "  Downloading pytzdata-2019.3-py2.py3-none-any.whl (489 kB)\r\n",
      "\u001b[?25l"
     ]
    },
    {
     "name": "stdout",
     "output_type": "stream",
     "text": [
      "\r\n"
     ]
    },
    {
     "name": "stdout",
     "output_type": "stream",
     "text": [
      "\u001b[?25hRequirement already satisfied: heapdict in /home/travis/miniconda/envs/test/lib/python3.7/site-packages (from zict>=0.1.3->distributed<3.0,>=2.8.0->prefect[viz]) (1.0.1)\r\n"
     ]
    },
    {
     "name": "stdout",
     "output_type": "stream",
     "text": [
      "Collecting ruamel.yaml.clib>=0.1.2; platform_python_implementation == \"CPython\" and python_version < \"3.9\"\r\n"
     ]
    },
    {
     "name": "stdout",
     "output_type": "stream",
     "text": [
      "  Downloading ruamel.yaml.clib-0.2.0-cp37-cp37m-manylinux1_x86_64.whl (547 kB)\r\n",
      "\u001b[?25l"
     ]
    },
    {
     "name": "stdout",
     "output_type": "stream",
     "text": [
      "\r\n",
      "\u001b[?25hBuilding wheels for collected packages: python-slugify\r\n"
     ]
    },
    {
     "name": "stdout",
     "output_type": "stream",
     "text": [
      "  Building wheel for python-slugify (setup.py) ... \u001b[?25l-"
     ]
    },
    {
     "name": "stdout",
     "output_type": "stream",
     "text": [
      "\b \bdone\r\n",
      "\u001b[?25h  Created wheel for python-slugify: filename=python_slugify-4.0.1-py2.py3-none-any.whl size=6767 sha256=d345ba47d3bf683716117b20e7fa81c242a23c7028c93a327973b25f71cf9af6\r\n",
      "  Stored in directory: /home/travis/.cache/pip/wheels/48/1b/6f/5c1cfab22eacbe0095fc619786da6571b55253653c71324b5c\r\n",
      "Successfully built python-slugify\r\n"
     ]
    },
    {
     "name": "stdout",
     "output_type": "stream",
     "text": [
      "Installing collected packages: toml, marshmallow, marshmallow-oneofschema, ruamel.yaml.clib, ruamel.yaml, python-box, natsort, croniter, tabulate, text-unidecode, python-slugify, websocket-client, docker, pytzdata, pendulum, mypy-extensions, prefect\r\n"
     ]
    },
    {
     "name": "stdout",
     "output_type": "stream",
     "text": [
      "Successfully installed croniter-0.3.34 docker-4.2.2 marshmallow-3.6.1 marshmallow-oneofschema-2.0.1 mypy-extensions-0.4.3 natsort-7.0.1 pendulum-2.1.0 prefect-0.12.3 python-box-4.2.3 python-slugify-4.0.1 pytzdata-2019.3 ruamel.yaml-0.16.10 ruamel.yaml.clib-0.2.0 tabulate-0.8.7 text-unidecode-1.3 toml-0.10.1 websocket-client-0.57.0\r\n"
     ]
    }
   ],
   "source": [
    "!pip install imageio prefect[viz]"
   ]
  },
  {
   "cell_type": "markdown",
   "metadata": {},
   "source": [
    "<a id=\"extract\"></a>\n",
    "\n",
    "### Extract\n",
    "\n",
    "First, we will define our tasks for _extracting_ the image data file from a given URL and saving it to a given file location.  To do so, we will utilize two methods for creating Prefect Tasks:\n",
    "- the `task` decorator for converting any Python function into a task\n",
    "- a pre-written, configurable Task from the [Prefect \"Task Library\"](https://docs.prefect.io/guide/task_library/) which helps us abstract some standard boilerplate\n",
    "\n",
    "Additionally, we will utilize the following Prefect concepts:\n",
    "- a [Prefect signal](https://docs.prefect.io/guide/core_concepts/execution.html#state-signals) for marking this task and its downstream depedencies as successfully \"Skipped\" if the file is already present in our local filesystem\n",
    "- retry semantics: if, for whatever reason, our `curl` command fails to connect, we want it to retry up to 2 times with a 10 second delay.  This way, if we run this workflow on a schedule we won't need to concern ourselves with temporary intermittent connection issues.\n",
    "\n",
    "Right now we are simply defining our individual tasks - we won't actually set up our dependency structure until we create the full Flow."
   ]
  },
  {
   "cell_type": "code",
   "execution_count": 2,
   "metadata": {},
   "outputs": [],
   "source": [
    "import datetime\n",
    "import os\n",
    "\n",
    "import prefect\n",
    "from prefect import task\n",
    "from prefect.engine.signals import SKIP\n",
    "from prefect.tasks.shell import ShellTask\n",
    "\n",
    "\n",
    "@task\n",
    "def curl_cmd(url: str, fname: str) -> str:\n",
    "    \"\"\"\n",
    "    The curl command we wish to execute.\n",
    "    \"\"\"\n",
    "    if os.path.exists(fname):\n",
    "        raise SKIP(\"Image data file already exists.\")\n",
    "    return \"curl -fL -o {fname} {url}\".format(fname=fname, url=url)\n",
    "\n",
    "\n",
    "# ShellTask is a task from the Task library which will execute a given command in a subprocess\n",
    "# and fail if the command returns a non-zero exit code\n",
    "\n",
    "download = ShellTask(name=\"curl_task\", max_retries=2, retry_delay=datetime.timedelta(seconds=10))"
   ]
  },
  {
   "cell_type": "markdown",
   "metadata": {},
   "source": [
    "<a id=\"transform\"></a>\n",
    "\n",
    "### Transform\n",
    "\n",
    "Next up, we need to define our task which loads the image data file and splits it into multiple frames.  In this case, each frame is delimited by 4 newlines.  Note that, in the event the previous two tasks are \"Skipped\", the default behavior in Prefect is to skip downstream dependencies as well.  However, as with most things in Prefect, this behavior is customizable.  In this case, we want this task to run regardless of whether the upstreams skipped or not, so we set the `skip_on_upstream_skip` flag to `False`."
   ]
  },
  {
   "cell_type": "code",
   "execution_count": 3,
   "metadata": {},
   "outputs": [],
   "source": [
    "@task(skip_on_upstream_skip=False)\n",
    "def load_and_split(fname: str) -> list:\n",
    "    \"\"\"\n",
    "    Loads image data file at `fname` and splits it into\n",
    "    multiple frames.  Returns a list of bytes, one element\n",
    "    for each frame.\n",
    "    \"\"\"\n",
    "    with open(fname, \"rb\") as f:\n",
    "        images = f.read()\n",
    "        \n",
    "    return [img for img in images.split(b\"\\n\" * 4) if img]"
   ]
  },
  {
   "cell_type": "markdown",
   "metadata": {},
   "source": [
    "<a id=\"load\"></a>\n",
    "\n",
    "### Load\n",
    "\n",
    "Finally, we want to write our frames to disk as well as combine the frames into a single GIF.  In order to achieve this goal, we are going to utilize [Prefect's task \"mapping\" feature](https://docs.prefect.io/guide/core_concepts/mapping.html) which conveniently spawns new tasks in response to upstream outputs.  In this case, we will write a single task for writing an image to disk, and \"map\" this task over all the image frames returned by `load_and_split` above!  To infer which frame we are on, we look in [`prefect.context`](https://docs.prefect.io/guide/core_concepts/execution.html#context).\n",
    "\n",
    "Additionally, we can \"reduce\" over a mapped task - in this case, we will take the collection of mapped tasks and pass them into our `combine_to_gif` task for creating and saving our GIF."
   ]
  },
  {
   "cell_type": "code",
   "execution_count": 4,
   "metadata": {},
   "outputs": [],
   "source": [
    "@task\n",
    "def write_to_disk(image: bytes) -> bytes:\n",
    "    \"\"\"\n",
    "    Given a single image represented as bytes, writes the image\n",
    "    to the present working directory with a filename determined\n",
    "    by `map_index`.  Returns the image bytes.\n",
    "    \"\"\"\n",
    "    frame_no = prefect.context.get(\"map_index\")\n",
    "    with open(\"frame_{0:0=2d}.gif\".format(frame_no), \"wb\") as f:\n",
    "        f.write(image)\n",
    "    return image"
   ]
  },
  {
   "cell_type": "code",
   "execution_count": 5,
   "metadata": {},
   "outputs": [],
   "source": [
    "import imageio\n",
    "from io import BytesIO\n",
    "\n",
    "\n",
    "@task\n",
    "def combine_to_gif(image_bytes: list) -> None:\n",
    "    \"\"\"\n",
    "    Given a list of ordered images represented as bytes,\n",
    "    combines them into a single GIF stored in the present working directory.\n",
    "    \"\"\"\n",
    "    images = [imageio.imread(BytesIO(image)) for image in image_bytes]\n",
    "    imageio.mimsave('./clip.gif', images)"
   ]
  },
  {
   "cell_type": "markdown",
   "metadata": {},
   "source": [
    "<a id=\"build\"></a>\n",
    "\n",
    "Build the Flow\n",
    "---------------\n",
    "\n",
    "Finally, we need to put our tasks together into a Prefect \"Flow\".  Similar to Dask's `delayed` interface, all computation is deferred and no Task code will be executed in this step.  Because Prefect maintains a stricter contract between tasks and additionally needs the ability to run in non-Dask execution environments, the mechanism for deferring execution is independent of Dask.\n",
    "\n",
    "In addition to the tasks we have already defined, we introduce two \"Parameters\" for specifying the URL and local file location of our data.  At runtime, we can optionally override these tasks to return different values."
   ]
  },
  {
   "cell_type": "code",
   "execution_count": 6,
   "metadata": {},
   "outputs": [
    {
     "data": {
      "image/svg+xml": [
       "<?xml version=\"1.0\" encoding=\"UTF-8\" standalone=\"no\"?>\n",
       "<!DOCTYPE svg PUBLIC \"-//W3C//DTD SVG 1.1//EN\"\n",
       " \"http://www.w3.org/Graphics/SVG/1.1/DTD/svg11.dtd\">\n",
       "<!-- Generated by graphviz version 2.42.3 (20191010.1750)\n",
       " -->\n",
       "<!-- Title: %3 Pages: 1 -->\n",
       "<svg width=\"293pt\" height=\"465pt\"\n",
       " viewBox=\"0.00 0.00 292.54 465.00\" xmlns=\"http://www.w3.org/2000/svg\" xmlns:xlink=\"http://www.w3.org/1999/xlink\">\n",
       "<g id=\"graph0\" class=\"graph\" transform=\"scale(1 1) rotate(0) translate(4 461)\">\n",
       "<title>%3</title>\n",
       "<polygon fill=\"white\" stroke=\"transparent\" points=\"-4,4 -4,-461 288.54,-461 288.54,4 -4,4\"/>\n",
       "<!-- 140500216629200 -->\n",
       "<g id=\"node1\" class=\"node\">\n",
       "<title>140500216629200</title>\n",
       "<ellipse fill=\"none\" stroke=\"black\" cx=\"156.5\" cy=\"-352\" rx=\"53.89\" ry=\"18\"/>\n",
       "<text text-anchor=\"middle\" x=\"156.5\" y=\"-348.3\" font-family=\"Times,serif\" font-size=\"14.00\">curl_cmd</text>\n",
       "</g>\n",
       "<!-- 140499664959888 -->\n",
       "<g id=\"node4\" class=\"node\">\n",
       "<title>140499664959888</title>\n",
       "<ellipse fill=\"none\" stroke=\"black\" cx=\"156.5\" cy=\"-265\" rx=\"53.89\" ry=\"18\"/>\n",
       "<text text-anchor=\"middle\" x=\"156.5\" y=\"-261.3\" font-family=\"Times,serif\" font-size=\"14.00\">curl_task</text>\n",
       "</g>\n",
       "<!-- 140500216629200&#45;&gt;140499664959888 -->\n",
       "<g id=\"edge3\" class=\"edge\">\n",
       "<title>140500216629200&#45;&gt;140499664959888</title>\n",
       "<path fill=\"none\" stroke=\"black\" d=\"M156.5,-333.8C156.5,-322.16 156.5,-306.55 156.5,-293.24\"/>\n",
       "<polygon fill=\"black\" stroke=\"black\" points=\"160,-293.18 156.5,-283.18 153,-293.18 160,-293.18\"/>\n",
       "<text text-anchor=\"middle\" x=\"191.5\" y=\"-304.8\" font-family=\"Times,serif\" font-size=\"14.00\">command</text>\n",
       "</g>\n",
       "<!-- 140500216565328 -->\n",
       "<g id=\"node2\" class=\"node\">\n",
       "<title>140500216565328</title>\n",
       "<ellipse fill=\"none\" stroke=\"black\" cx=\"221.5\" cy=\"-439\" rx=\"63.09\" ry=\"18\"/>\n",
       "<text text-anchor=\"middle\" x=\"221.5\" y=\"-435.3\" font-family=\"Times,serif\" font-size=\"14.00\">DATA_URL</text>\n",
       "</g>\n",
       "<!-- 140500216565328&#45;&gt;140500216629200 -->\n",
       "<g id=\"edge2\" class=\"edge\">\n",
       "<title>140500216565328&#45;&gt;140500216629200</title>\n",
       "<path fill=\"none\" stroke=\"black\" d=\"M208.66,-421.21C199.22,-408.87 186.24,-391.89 175.59,-377.97\"/>\n",
       "<polygon fill=\"black\" stroke=\"black\" points=\"178.17,-375.58 169.32,-369.76 172.61,-379.83 178.17,-375.58\"/>\n",
       "<text text-anchor=\"middle\" x=\"204\" y=\"-391.8\" font-family=\"Times,serif\" font-size=\"14.00\">url</text>\n",
       "</g>\n",
       "<!-- 140500216565392 -->\n",
       "<g id=\"node3\" class=\"node\">\n",
       "<title>140500216565392</title>\n",
       "<ellipse fill=\"none\" stroke=\"black\" cx=\"74.5\" cy=\"-439\" rx=\"65.79\" ry=\"18\"/>\n",
       "<text text-anchor=\"middle\" x=\"74.5\" y=\"-435.3\" font-family=\"Times,serif\" font-size=\"14.00\">DATA_FILE</text>\n",
       "</g>\n",
       "<!-- 140500216565392&#45;&gt;140500216629200 -->\n",
       "<g id=\"edge5\" class=\"edge\">\n",
       "<title>140500216565392&#45;&gt;140500216629200</title>\n",
       "<path fill=\"none\" stroke=\"black\" d=\"M90.7,-421.21C102.91,-408.55 119.82,-391.03 133.44,-376.91\"/>\n",
       "<polygon fill=\"black\" stroke=\"black\" points=\"136.19,-379.1 140.61,-369.47 131.15,-374.24 136.19,-379.1\"/>\n",
       "<text text-anchor=\"middle\" x=\"143\" y=\"-391.8\" font-family=\"Times,serif\" font-size=\"14.00\">fname</text>\n",
       "</g>\n",
       "<!-- 140500153736400 -->\n",
       "<g id=\"node5\" class=\"node\">\n",
       "<title>140500153736400</title>\n",
       "<ellipse fill=\"none\" stroke=\"black\" cx=\"86.5\" cy=\"-192\" rx=\"77.19\" ry=\"18\"/>\n",
       "<text text-anchor=\"middle\" x=\"86.5\" y=\"-188.3\" font-family=\"Times,serif\" font-size=\"14.00\">load_and_split</text>\n",
       "</g>\n",
       "<!-- 140500216565392&#45;&gt;140500153736400 -->\n",
       "<g id=\"edge4\" class=\"edge\">\n",
       "<title>140500216565392&#45;&gt;140500153736400</title>\n",
       "<path fill=\"none\" stroke=\"black\" d=\"M75.34,-420.77C77.4,-378.86 82.66,-271.31 85.16,-220.44\"/>\n",
       "<polygon fill=\"black\" stroke=\"black\" points=\"88.66,-220.37 85.66,-210.21 81.67,-220.03 88.66,-220.37\"/>\n",
       "<text text-anchor=\"middle\" x=\"104\" y=\"-304.8\" font-family=\"Times,serif\" font-size=\"14.00\">fname</text>\n",
       "</g>\n",
       "<!-- 140499664959888&#45;&gt;140500153736400 -->\n",
       "<g id=\"edge1\" class=\"edge\">\n",
       "<title>140499664959888&#45;&gt;140500153736400</title>\n",
       "<path fill=\"none\" stroke=\"black\" d=\"M140.26,-247.53C131.38,-238.52 120.21,-227.19 110.35,-217.19\"/>\n",
       "<polygon fill=\"black\" stroke=\"black\" points=\"112.65,-214.53 103.13,-209.87 107.66,-219.45 112.65,-214.53\"/>\n",
       "</g>\n",
       "<!-- 140500212415056 -->\n",
       "<g id=\"node6\" class=\"node\">\n",
       "<title>140500212415056</title>\n",
       "<polygon fill=\"none\" stroke=\"black\" points=\"173,-123 0,-123 0,-87 173,-87 173,-123\"/>\n",
       "<text text-anchor=\"middle\" x=\"86.5\" y=\"-101.3\" font-family=\"Times,serif\" font-size=\"14.00\">write_to_disk &lt;map&gt;</text>\n",
       "</g>\n",
       "<!-- 140500153736400&#45;&gt;140500212415056 -->\n",
       "<g id=\"edge6\" class=\"edge\">\n",
       "<title>140500153736400&#45;&gt;140500212415056</title>\n",
       "<path fill=\"none\" stroke=\"black\" stroke-dasharray=\"5,2\" d=\"M86.5,-173.8C86.5,-162.16 86.5,-146.55 86.5,-133.24\"/>\n",
       "<polygon fill=\"black\" stroke=\"black\" points=\"90,-133.18 86.5,-123.18 83,-133.18 90,-133.18\"/>\n",
       "<text text-anchor=\"middle\" x=\"108.5\" y=\"-144.8\" font-family=\"Times,serif\" font-size=\"14.00\">image</text>\n",
       "</g>\n",
       "<!-- 140500216628496 -->\n",
       "<g id=\"node7\" class=\"node\">\n",
       "<title>140500216628496</title>\n",
       "<ellipse fill=\"none\" stroke=\"black\" cx=\"86.5\" cy=\"-18\" rx=\"81.49\" ry=\"18\"/>\n",
       "<text text-anchor=\"middle\" x=\"86.5\" y=\"-14.3\" font-family=\"Times,serif\" font-size=\"14.00\">combine_to_gif</text>\n",
       "</g>\n",
       "<!-- 140500212415056&#45;&gt;140500216628496 -->\n",
       "<g id=\"edge7\" class=\"edge\">\n",
       "<title>140500212415056&#45;&gt;140500216628496</title>\n",
       "<path fill=\"none\" stroke=\"black\" d=\"M86.5,-86.8C86.5,-75.16 86.5,-59.55 86.5,-46.24\"/>\n",
       "<polygon fill=\"black\" stroke=\"black\" points=\"90,-46.18 86.5,-36.18 83,-46.18 90,-46.18\"/>\n",
       "<text text-anchor=\"middle\" x=\"132\" y=\"-57.8\" font-family=\"Times,serif\" font-size=\"14.00\">image_bytes</text>\n",
       "</g>\n",
       "</g>\n",
       "</svg>\n"
      ],
      "text/plain": [
       "<graphviz.dot.Digraph at 0x7fc8c180c2d0>"
      ]
     },
     "execution_count": 6,
     "metadata": {},
     "output_type": "execute_result"
    }
   ],
   "source": [
    "from prefect import Parameter, Flow\n",
    "\n",
    "\n",
    "DATA_URL = Parameter(\"DATA_URL\", \n",
    "                     default=\"https://github.com/cicdw/image-data/blob/master/all-images.img?raw=true\")\n",
    "\n",
    "DATA_FILE = Parameter(\"DATA_FILE\", default=\"image-data.img\")\n",
    "\n",
    "\n",
    "with Flow(\"Image ETL\") as flow:\n",
    "    \n",
    "    # Extract\n",
    "    command = curl_cmd(DATA_URL, DATA_FILE)\n",
    "    curl = download(command=command)\n",
    "    \n",
    "    # Transform\n",
    "    # we use the `upstream_tasks` keyword to specify non-data dependencies\n",
    "    images = load_and_split(fname=DATA_FILE, upstream_tasks=[curl])\n",
    "    \n",
    "    # Load  \n",
    "    frames = write_to_disk.map(images)\n",
    "    result = combine_to_gif(frames)\n",
    "    \n",
    "\n",
    "flow.visualize()"
   ]
  },
  {
   "cell_type": "markdown",
   "metadata": {},
   "source": [
    "<a id=\"dask\"></a>\n",
    "\n",
    "### Running the Flow on Dask\n",
    "\n",
    "Now we have built our Flow, independently of Dask.  We could execute this Flow sequentially, Task after Task, but there is inherent parallelism in our mapping of the images to files that we want to exploit.  Luckily, Dask makes this easy to achieve.\n",
    "\n",
    "First, we will start a local Dask cluster.  Then, we will run our Flow against Prefect's `DaskExecutor`, which will submit each Task to our Dask cluster and use Dask's distributed scheduler for determining when and where each Task should run.  Essentially, we built a Directed Acylic Graph (DAG) and are simply \"submitting\" that DAG to Dask for handling its execution in a distributed way."
   ]
  },
  {
   "cell_type": "code",
   "execution_count": 7,
   "metadata": {
    "scrolled": true
   },
   "outputs": [
    {
     "name": "stdout",
     "output_type": "stream",
     "text": [
      "[2020-07-11 20:25:52] INFO - prefect.FlowRunner | Beginning Flow run for 'Image ETL'\n"
     ]
    },
    {
     "name": "stdout",
     "output_type": "stream",
     "text": [
      "[2020-07-11 20:25:52] INFO - prefect.FlowRunner | Starting flow run.\n"
     ]
    },
    {
     "name": "stderr",
     "output_type": "stream",
     "text": [
      "/home/travis/miniconda/envs/test/lib/python3.7/site-packages/distributed/worker.py:3385: UserWarning: Large object of size 2.03 MB detected in task graph: \n",
      "  {'task': <Task: write_to_disk>, 'state': None, 'up ... _parent': True}\n",
      "Consider scattering large objects ahead of time\n",
      "with client.scatter to reduce scheduler burden and \n",
      "keep data on workers\n",
      "\n",
      "    future = client.submit(func, big_data)    # bad\n",
      "\n",
      "    big_future = client.scatter(big_data)     # good\n",
      "    future = client.submit(func, big_future)  # good\n",
      "  % (format_bytes(len(b)), s)\n"
     ]
    },
    {
     "name": "stdout",
     "output_type": "stream",
     "text": [
      "[2020-07-11 20:25:56] INFO - prefect.FlowRunner | Flow run SUCCESS: all reference tasks succeeded\n"
     ]
    },
    {
     "data": {
      "text/plain": [
       "<Success: \"All reference tasks succeeded.\">"
      ]
     },
     "execution_count": 7,
     "metadata": {},
     "output_type": "execute_result"
    }
   ],
   "source": [
    "# start our Dask cluster\n",
    "from dask.distributed import Client\n",
    "\n",
    "\n",
    "client = Client(n_workers=4, threads_per_worker=1)\n",
    "\n",
    "# point Prefect's DaskExecutor to our Dask cluster\n",
    "\n",
    "from prefect.engine.executors import DaskExecutor\n",
    "\n",
    "executor = DaskExecutor(address=client.scheduler.address)\n",
    "flow.run(executor=executor)"
   ]
  },
  {
   "cell_type": "markdown",
   "metadata": {},
   "source": [
    "Next Steps\n",
    "----------\n",
    "\n",
    "Now that we've built our workflow, what next?  The interested reader should try to:\n",
    "\n",
    "- run the Flow again to see how the `SKIP` signal behaves\n",
    "- use different parameters for both the URL and the file location (Parameter values can be overriden by simply passing their names as keyword arguments to `flow.run()`)\n",
    "- introduce a new Parameter for the filename of the final GIF\n",
    "- use Prefect's [scheduler interface](https://docs.prefect.io/guide/core_concepts/schedules.html) to run our workflow on a schedule"
   ]
  },
  {
   "cell_type": "markdown",
   "metadata": {},
   "source": [
    "<a id=\"play\"></a>\n",
    "\n",
    "Play\n",
    "----\n",
    "\n",
    "Finally, let's watch our creation!"
   ]
  },
  {
   "cell_type": "code",
   "execution_count": 8,
   "metadata": {},
   "outputs": [
    {
     "data": {
      "text/html": [
       "<img src=\"./clip.gif\" alt=\"Rick Daskley\">"
      ],
      "text/plain": [
       "<IPython.core.display.HTML object>"
      ]
     },
     "execution_count": 8,
     "metadata": {},
     "output_type": "execute_result"
    }
   ],
   "source": [
    "from IPython.display import HTML\n",
    "\n",
    "HTML('<img src=\"./clip.gif\" alt=\"Rick Daskley\">')"
   ]
  }
 ],
 "metadata": {
  "kernelspec": {
   "display_name": "Python 3",
   "language": "python",
   "name": "python3"
  },
  "language_info": {
   "codemirror_mode": {
    "name": "ipython",
    "version": 3
   },
   "file_extension": ".py",
   "mimetype": "text/x-python",
   "name": "python",
   "nbconvert_exporter": "python",
   "pygments_lexer": "ipython3",
   "version": "3.7.6"
  }
 },
 "nbformat": 4,
 "nbformat_minor": 4
}
